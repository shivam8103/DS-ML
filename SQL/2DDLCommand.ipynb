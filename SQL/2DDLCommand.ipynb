{
 "cells": [
  {
   "cell_type": "markdown",
   "id": "fc84ac9c",
   "metadata": {},
   "source": [
    "## Relational Database Model\n",
    "\n",
    "<img src=\"img/Database4.png\" width=\"500\">"
   ]
  },
  {
   "cell_type": "markdown",
   "id": "5de69f1c",
   "metadata": {},
   "source": []
  }
 ],
 "metadata": {
  "kernelspec": {
   "display_name": "Python 3",
   "language": "python",
   "name": "python3"
  },
  "language_info": {
   "codemirror_mode": {
    "name": "ipython",
    "version": 3
   },
   "file_extension": ".py",
   "mimetype": "text/x-python",
   "name": "python",
   "nbconvert_exporter": "python",
   "pygments_lexer": "ipython3",
   "version": "3.13.5"
  }
 },
 "nbformat": 4,
 "nbformat_minor": 5
}
