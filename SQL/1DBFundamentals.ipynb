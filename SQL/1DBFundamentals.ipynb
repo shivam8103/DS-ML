{
 "cells": [
  {
   "cell_type": "markdown",
   "id": "d021c731",
   "metadata": {},
   "source": [
    "# Databases\n",
    "A database is a shared collection of logically related data and discription of these data, designed to meet the information needs of an organization. \n",
    "\n",
    "> Data is oil & today all business are **data driven**. \n",
    "\n",
    "\n",
    "## Uses of database\n",
    "1. **Data Storage:** Used to store a large amounts of structured data, making it easily accessibl, searchable and retrievable,\n",
    "\n",
    "2. **Data Analaysis:** A database can be used to perform complext data analysis, generate reports and provide insights into the data.\n",
    "\n",
    "3. **Record Keeping:** A database is often used to keep track of important records, such as financial transactions, customer information, and inventory levels. \n",
    "\n",
    "4. **Web Applications:** Databases are an essential component of many web applications, providing dynamic content and user management. \n",
    "\n",
    "### CRUD Operation\n",
    "- Create\n",
    "- Retrieve\n",
    "- Update\n",
    "- Delete\n",
    "\n",
    "## Properties of Ideal Database\n",
    "1. **Integrity** = Accuracy + Consistency. Data should remain correct and unchanged unless intentionally updated through valid processes.\n",
    "\n",
    "2. **Availablity:** Should have zero downtime; data must be accessible 24×7.\n",
    "\n",
    "3. **Security**: Protects data from unauthorized access, breaches, or corruption.\n",
    "\n",
    "4. **Application Independence**: A single database should be usable by multiple applications (e.g., web, Android, macOS) without dependency on any one of them.\n",
    "\n",
    "5. **Concurrency:**  Supports simultaneous access by multiple users without conflicts or performance degradation.\n"
   ]
  },
  {
   "cell_type": "markdown",
   "id": "a15259e4",
   "metadata": {},
   "source": [
    "## Types of Databases\n",
    "\n",
    "1. **Relational Databases:** \n",
    "Also known as SQL databases, these databases uses a relational model to organize data into tables with rows and columns.\n",
    "\n",
    "2. **NoSQL Databases:** \n",
    "These databases are designed to handle large amounts of unstructured or semi-structured data, such as documents, images or videos (MongoDB)\n",
    "\n",
    "3. **Column Databases:**\n",
    "These databases stored in columns rather than rows, making them well-suited for data warehousing and analytical applications. (Amazon Redshift, Google BigQuery)\n",
    "\n",
    "4. **Graph Databases:** These databases are used to store and query graph-structured data, such as social network connections or recommendation system (Neo4, Amazon Neptune)\n",
    "\n",
    "5. **Key-Value Databases:** \n",
    "These databases are store data as a collection of keys and values, making them well-suited for caching and simple data storage needs (Redis and Amazon DynamoDB)\n",
    "\n",
    "> **Note:** A complex application can have multiple databases running together and powering the application. \n",
    "\n",
    "> Each database has its own use case.\n"
   ]
  },
  {
   "cell_type": "markdown",
   "id": "7f61dc81",
   "metadata": {},
   "source": [
    "---"
   ]
  },
  {
   "cell_type": "markdown",
   "id": "0d3136d9",
   "metadata": {},
   "source": [
    "# Relational Databases\n",
    "Also known as SQL databases, these databases use a relational model to organize data into tables with rows and columns. \n",
    "\n",
    "$Employee$\n",
    "|ID|ENAME|SALARY|BONUS|DEPT|\n",
    "|-|-|-|-|-|\n",
    "|1|James Potter|7500|1000|ICP|\n",
    "|2|Ethan McCarthy|9000|2000|ETA|\n",
    "|3|Emily Reynar|25000||ETA|\n",
    "|4|Jack Abraham|3000|1000|ETA|\n",
    "\n",
    "\n",
    "\n",
    "<img src = \"../img/Database2.png\" height=\"400\" alt=\"Database Diagram\">\n",
    "\n"
   ]
  },
  {
   "cell_type": "markdown",
   "id": "731fce8f",
   "metadata": {},
   "source": [
    "## DBMS\n",
    "A database management system(DBMS) is a software system that provides the interfaces and tools needed to store, organize, and manage data in a database. A DBMS acts as an intermediary betweeen the database and the applications or users that access the data stored in the database. \n",
    "\n",
    "<img src = \"../img/Database1.png\" height=\"400\" alt=\"Database Diagram\">\n",
    "\n",
    "#### Why Operating System layer in DBMS.\n",
    "- Data is stored in the database at a logical level.\n",
    "- However, the actual data are stored physically on hardware(e.g., hard drives, SSDs, or RAM)\n",
    "- The database itself cannot directly interact with hardware; it must communicate through the operating system, which provides system calls and drivers to manage file storage, memory, and I/O operations.\n"
   ]
  },
  {
   "cell_type": "markdown",
   "id": "58319e85",
   "metadata": {},
   "source": [
    "## Function of DBMS\n",
    "\n",
    "1. **Data Management:** Store, Retrive, and Modify data\n",
    "\n",
    "2. **Integrity:** Maintain accuracy of data\n",
    "\n",
    "3. **Concurrency:** Simultaneous data access for multiple users.\n",
    "\n",
    "4. **Transaction:** Modification to database must either be successful or must not happen at all.\n",
    "\n",
    "5. **Security:** Access to authorized users only\n",
    "\n",
    "6. **Utilities:** Data import/export, user management, backup, logging\n",
    "\n",
    "> We can use MySQL Workbench or Apache XAMPP as DBMS"
   ]
  },
  {
   "cell_type": "code",
   "execution_count": null,
   "id": "2dd072cc",
   "metadata": {},
   "outputs": [],
   "source": []
  },
  {
   "cell_type": "code",
   "execution_count": null,
   "id": "5dbbd80c",
   "metadata": {},
   "outputs": [],
   "source": []
  },
  {
   "cell_type": "markdown",
   "id": "dd2a75a1",
   "metadata": {},
   "source": []
  }
 ],
 "metadata": {
  "language_info": {
   "name": "python"
  }
 },
 "nbformat": 4,
 "nbformat_minor": 5
}
