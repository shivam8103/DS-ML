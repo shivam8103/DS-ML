{
  "cells": [
    {
      "cell_type": "markdown",
      "metadata": {},
      "source": [
        "# Panda Dataframe\n",
        "- 2D Structure of Data consisting of Rows and Cols\n",
        "- In SQL we call them tables. \n",
        "- In Python Panda, we call them DataFrame\n",
        "\n",
        "> Note -\n",
        "\n",
        "- 1 single Row in panda is called as Series\n",
        "- 1 single Col in panda is called as Series"
      ]
    },
    {
      "cell_type": "code",
      "execution_count": 1,
      "metadata": {
        "id": "2F2xS5YbuND2"
      },
      "outputs": [],
      "source": [
        "import numpy as np\n",
        "import pandas as pd"
      ]
    },
    {
      "cell_type": "markdown",
      "metadata": {
        "id": "sdRBNhTluaKV"
      },
      "source": [
        "# Creating DataFrame\n",
        "1. Using Lists\n",
        "2. Using Dictionary\n",
        "3. Import using `pd.read_csv()`"
      ]
    },
    {
      "cell_type": "code",
      "execution_count": 2,
      "metadata": {
        "colab": {
          "base_uri": "https://localhost:8080/",
          "height": 175
        },
        "id": "FAC5HfAaub7q",
        "outputId": "aaedf44b-1208-4039-d971-89ddd59dd66b"
      },
      "outputs": [
        {
          "data": {
            "text/html": [
              "<div>\n",
              "<style scoped>\n",
              "    .dataframe tbody tr th:only-of-type {\n",
              "        vertical-align: middle;\n",
              "    }\n",
              "\n",
              "    .dataframe tbody tr th {\n",
              "        vertical-align: top;\n",
              "    }\n",
              "\n",
              "    .dataframe thead th {\n",
              "        text-align: right;\n",
              "    }\n",
              "</style>\n",
              "<table border=\"1\" class=\"dataframe\">\n",
              "  <thead>\n",
              "    <tr style=\"text-align: right;\">\n",
              "      <th></th>\n",
              "      <th>iq</th>\n",
              "      <th>marks</th>\n",
              "      <th>package</th>\n",
              "    </tr>\n",
              "  </thead>\n",
              "  <tbody>\n",
              "    <tr>\n",
              "      <th>0</th>\n",
              "      <td>100</td>\n",
              "      <td>80</td>\n",
              "      <td>10</td>\n",
              "    </tr>\n",
              "    <tr>\n",
              "      <th>1</th>\n",
              "      <td>90</td>\n",
              "      <td>70</td>\n",
              "      <td>7</td>\n",
              "    </tr>\n",
              "    <tr>\n",
              "      <th>2</th>\n",
              "      <td>120</td>\n",
              "      <td>100</td>\n",
              "      <td>14</td>\n",
              "    </tr>\n",
              "    <tr>\n",
              "      <th>3</th>\n",
              "      <td>80</td>\n",
              "      <td>50</td>\n",
              "      <td>2</td>\n",
              "    </tr>\n",
              "  </tbody>\n",
              "</table>\n",
              "</div>"
            ],
            "text/plain": [
              "    iq  marks  package\n",
              "0  100     80       10\n",
              "1   90     70        7\n",
              "2  120    100       14\n",
              "3   80     50        2"
            ]
          },
          "execution_count": 2,
          "metadata": {},
          "output_type": "execute_result"
        }
      ],
      "source": [
        "# using lists\n",
        "student_data = [\n",
        "    [100,80,10],\n",
        "    [90,70,7],\n",
        "    [120,100,14],\n",
        "    [80,50,2]\n",
        "]\n",
        "\n",
        "pd.DataFrame(student_data,columns=['iq','marks','package'])"
      ]
    },
    {
      "cell_type": "code",
      "execution_count": 3,
      "metadata": {},
      "outputs": [
        {
          "data": {
            "text/html": [
              "<div>\n",
              "<style scoped>\n",
              "    .dataframe tbody tr th:only-of-type {\n",
              "        vertical-align: middle;\n",
              "    }\n",
              "\n",
              "    .dataframe tbody tr th {\n",
              "        vertical-align: top;\n",
              "    }\n",
              "\n",
              "    .dataframe thead th {\n",
              "        text-align: right;\n",
              "    }\n",
              "</style>\n",
              "<table border=\"1\" class=\"dataframe\">\n",
              "  <thead>\n",
              "    <tr style=\"text-align: right;\">\n",
              "      <th></th>\n",
              "      <th>name</th>\n",
              "      <th>iq</th>\n",
              "      <th>marks</th>\n",
              "      <th>package</th>\n",
              "    </tr>\n",
              "  </thead>\n",
              "  <tbody>\n",
              "    <tr>\n",
              "      <th>0</th>\n",
              "      <td>nitish</td>\n",
              "      <td>100</td>\n",
              "      <td>80</td>\n",
              "      <td>10</td>\n",
              "    </tr>\n",
              "    <tr>\n",
              "      <th>1</th>\n",
              "      <td>ankit</td>\n",
              "      <td>90</td>\n",
              "      <td>70</td>\n",
              "      <td>7</td>\n",
              "    </tr>\n",
              "    <tr>\n",
              "      <th>2</th>\n",
              "      <td>rupesh</td>\n",
              "      <td>120</td>\n",
              "      <td>100</td>\n",
              "      <td>14</td>\n",
              "    </tr>\n",
              "    <tr>\n",
              "      <th>3</th>\n",
              "      <td>rishabh</td>\n",
              "      <td>80</td>\n",
              "      <td>50</td>\n",
              "      <td>2</td>\n",
              "    </tr>\n",
              "    <tr>\n",
              "      <th>4</th>\n",
              "      <td>rishabh</td>\n",
              "      <td>80</td>\n",
              "      <td>50</td>\n",
              "      <td>2</td>\n",
              "    </tr>\n",
              "  </tbody>\n",
              "</table>\n",
              "</div>"
            ],
            "text/plain": [
              "      name   iq  marks  package\n",
              "0   nitish  100     80       10\n",
              "1    ankit   90     70        7\n",
              "2   rupesh  120    100       14\n",
              "3  rishabh   80     50        2\n",
              "4  rishabh   80     50        2"
            ]
          },
          "execution_count": 3,
          "metadata": {},
          "output_type": "execute_result"
        }
      ],
      "source": [
        "# using dicts\n",
        "\n",
        "student_dict = {\n",
        "    'name':['nitish','ankit','rupesh','rishabh','rishabh'],\n",
        "    'iq':[100,90,120,80,80],\n",
        "    'marks':[80,70,100,50,50],\n",
        "    'package':[10,7,14,2,2]\n",
        "}\n",
        "\n",
        "students = pd.DataFrame(student_dict)\n",
        "students"
      ]
    },
    {
      "cell_type": "code",
      "execution_count": 5,
      "metadata": {
        "colab": {
          "base_uri": "https://localhost:8080/",
          "height": 1000
        },
        "id": "EF_2ly2HuePm",
        "outputId": "019279d7-a1b2-4cb9-db18-277614c3c6f0"
      },
      "outputs": [
        {
          "data": {
            "text/html": [
              "<div>\n",
              "<style scoped>\n",
              "    .dataframe tbody tr th:only-of-type {\n",
              "        vertical-align: middle;\n",
              "    }\n",
              "\n",
              "    .dataframe tbody tr th {\n",
              "        vertical-align: top;\n",
              "    }\n",
              "\n",
              "    .dataframe thead th {\n",
              "        text-align: right;\n",
              "    }\n",
              "</style>\n",
              "<table border=\"1\" class=\"dataframe\">\n",
              "  <thead>\n",
              "    <tr style=\"text-align: right;\">\n",
              "      <th></th>\n",
              "      <th>title_x</th>\n",
              "      <th>imdb_id</th>\n",
              "      <th>poster_path</th>\n",
              "      <th>wiki_link</th>\n",
              "      <th>title_y</th>\n",
              "      <th>original_title</th>\n",
              "      <th>is_adult</th>\n",
              "      <th>year_of_release</th>\n",
              "      <th>runtime</th>\n",
              "      <th>genres</th>\n",
              "      <th>imdb_rating</th>\n",
              "      <th>imdb_votes</th>\n",
              "      <th>story</th>\n",
              "      <th>summary</th>\n",
              "      <th>tagline</th>\n",
              "      <th>actors</th>\n",
              "      <th>wins_nominations</th>\n",
              "      <th>release_date</th>\n",
              "    </tr>\n",
              "  </thead>\n",
              "  <tbody>\n",
              "    <tr>\n",
              "      <th>0</th>\n",
              "      <td>Uri: The Surgical Strike</td>\n",
              "      <td>tt8291224</td>\n",
              "      <td>https://upload.wikimedia.org/wikipedia/en/thum...</td>\n",
              "      <td>https://en.wikipedia.org/wiki/Uri:_The_Surgica...</td>\n",
              "      <td>Uri: The Surgical Strike</td>\n",
              "      <td>Uri: The Surgical Strike</td>\n",
              "      <td>0</td>\n",
              "      <td>2019</td>\n",
              "      <td>138</td>\n",
              "      <td>Action|Drama|War</td>\n",
              "      <td>8.4</td>\n",
              "      <td>35112</td>\n",
              "      <td>Divided over five chapters  the film chronicle...</td>\n",
              "      <td>Indian army special forces execute a covert op...</td>\n",
              "      <td>NaN</td>\n",
              "      <td>Vicky Kaushal|Paresh Rawal|Mohit Raina|Yami Ga...</td>\n",
              "      <td>4 wins</td>\n",
              "      <td>11 January 2019 (USA)</td>\n",
              "    </tr>\n",
              "  </tbody>\n",
              "</table>\n",
              "</div>"
            ],
            "text/plain": [
              "                    title_x    imdb_id  \\\n",
              "0  Uri: The Surgical Strike  tt8291224   \n",
              "\n",
              "                                         poster_path  \\\n",
              "0  https://upload.wikimedia.org/wikipedia/en/thum...   \n",
              "\n",
              "                                           wiki_link  \\\n",
              "0  https://en.wikipedia.org/wiki/Uri:_The_Surgica...   \n",
              "\n",
              "                    title_y            original_title  is_adult  \\\n",
              "0  Uri: The Surgical Strike  Uri: The Surgical Strike         0   \n",
              "\n",
              "   year_of_release runtime            genres  imdb_rating  imdb_votes  \\\n",
              "0             2019     138  Action|Drama|War          8.4       35112   \n",
              "\n",
              "                                               story  \\\n",
              "0  Divided over five chapters  the film chronicle...   \n",
              "\n",
              "                                             summary tagline  \\\n",
              "0  Indian army special forces execute a covert op...     NaN   \n",
              "\n",
              "                                              actors wins_nominations  \\\n",
              "0  Vicky Kaushal|Paresh Rawal|Mohit Raina|Yami Ga...           4 wins   \n",
              "\n",
              "            release_date  \n",
              "0  11 January 2019 (USA)  "
            ]
          },
          "execution_count": 5,
          "metadata": {},
          "output_type": "execute_result"
        }
      ],
      "source": [
        "# using read_csv\n",
        "movies = pd.read_csv('../0Resources/DataSets/movies.csv')\n",
        "movies.head(1)"
      ]
    },
    {
      "cell_type": "code",
      "execution_count": 6,
      "metadata": {
        "colab": {
          "base_uri": "https://localhost:8080/",
          "height": 1000
        },
        "id": "_yZQ1Z8eFYA6",
        "outputId": "ac6c2153-94f0-4acf-8e20-cffe373e1ace"
      },
      "outputs": [
        {
          "data": {
            "text/html": [
              "<div>\n",
              "<style scoped>\n",
              "    .dataframe tbody tr th:only-of-type {\n",
              "        vertical-align: middle;\n",
              "    }\n",
              "\n",
              "    .dataframe tbody tr th {\n",
              "        vertical-align: top;\n",
              "    }\n",
              "\n",
              "    .dataframe thead th {\n",
              "        text-align: right;\n",
              "    }\n",
              "</style>\n",
              "<table border=\"1\" class=\"dataframe\">\n",
              "  <thead>\n",
              "    <tr style=\"text-align: right;\">\n",
              "      <th></th>\n",
              "      <th>ID</th>\n",
              "      <th>City</th>\n",
              "      <th>Date</th>\n",
              "      <th>Season</th>\n",
              "      <th>MatchNumber</th>\n",
              "      <th>Team1</th>\n",
              "      <th>Team2</th>\n",
              "      <th>Venue</th>\n",
              "      <th>TossWinner</th>\n",
              "      <th>TossDecision</th>\n",
              "      <th>SuperOver</th>\n",
              "      <th>WinningTeam</th>\n",
              "      <th>WonBy</th>\n",
              "      <th>Margin</th>\n",
              "      <th>method</th>\n",
              "      <th>Player_of_Match</th>\n",
              "      <th>Team1Players</th>\n",
              "      <th>Team2Players</th>\n",
              "      <th>Umpire1</th>\n",
              "      <th>Umpire2</th>\n",
              "    </tr>\n",
              "  </thead>\n",
              "  <tbody>\n",
              "    <tr>\n",
              "      <th>0</th>\n",
              "      <td>1312200</td>\n",
              "      <td>Ahmedabad</td>\n",
              "      <td>2022-05-29</td>\n",
              "      <td>2022</td>\n",
              "      <td>Final</td>\n",
              "      <td>Rajasthan Royals</td>\n",
              "      <td>Gujarat Titans</td>\n",
              "      <td>Narendra Modi Stadium, Ahmedabad</td>\n",
              "      <td>Rajasthan Royals</td>\n",
              "      <td>bat</td>\n",
              "      <td>N</td>\n",
              "      <td>Gujarat Titans</td>\n",
              "      <td>Wickets</td>\n",
              "      <td>7.0</td>\n",
              "      <td>NaN</td>\n",
              "      <td>HH Pandya</td>\n",
              "      <td>['YBK Jaiswal', 'JC Buttler', 'SV Samson', 'D ...</td>\n",
              "      <td>['WP Saha', 'Shubman Gill', 'MS Wade', 'HH Pan...</td>\n",
              "      <td>CB Gaffaney</td>\n",
              "      <td>Nitin Menon</td>\n",
              "    </tr>\n",
              "  </tbody>\n",
              "</table>\n",
              "</div>"
            ],
            "text/plain": [
              "        ID       City        Date Season MatchNumber             Team1  \\\n",
              "0  1312200  Ahmedabad  2022-05-29   2022       Final  Rajasthan Royals   \n",
              "\n",
              "            Team2                             Venue        TossWinner  \\\n",
              "0  Gujarat Titans  Narendra Modi Stadium, Ahmedabad  Rajasthan Royals   \n",
              "\n",
              "  TossDecision SuperOver     WinningTeam    WonBy  Margin method  \\\n",
              "0          bat         N  Gujarat Titans  Wickets     7.0    NaN   \n",
              "\n",
              "  Player_of_Match                                       Team1Players  \\\n",
              "0       HH Pandya  ['YBK Jaiswal', 'JC Buttler', 'SV Samson', 'D ...   \n",
              "\n",
              "                                        Team2Players      Umpire1      Umpire2  \n",
              "0  ['WP Saha', 'Shubman Gill', 'MS Wade', 'HH Pan...  CB Gaffaney  Nitin Menon  "
            ]
          },
          "execution_count": 6,
          "metadata": {},
          "output_type": "execute_result"
        }
      ],
      "source": [
        "ipl = pd.read_csv('../0Resources/DataSets/ipl-matches.csv')\n",
        "ipl.head(1)"
      ]
    },
    {
      "cell_type": "markdown",
      "metadata": {},
      "source": [
        "---"
      ]
    },
    {
      "cell_type": "markdown",
      "metadata": {
        "id": "WpiZf0HmvGkY"
      },
      "source": [
        "# DataFrame Attributes and Methods"
      ]
    },
    {
      "cell_type": "markdown",
      "metadata": {},
      "source": [
        "### 1. `shape`"
      ]
    },
    {
      "cell_type": "code",
      "execution_count": 7,
      "metadata": {},
      "outputs": [
        {
          "data": {
            "text/plain": [
              "(1629, 18)"
            ]
          },
          "execution_count": 7,
          "metadata": {},
          "output_type": "execute_result"
        }
      ],
      "source": [
        "movies.shape"
      ]
    },
    {
      "cell_type": "code",
      "execution_count": 8,
      "metadata": {
        "colab": {
          "base_uri": "https://localhost:8080/"
        },
        "id": "IWTFNOmavKGd",
        "outputId": "2b26c1df-27e6-4623-e2bc-7a6797f35fa5"
      },
      "outputs": [
        {
          "data": {
            "text/plain": [
              "(950, 20)"
            ]
          },
          "execution_count": 8,
          "metadata": {},
          "output_type": "execute_result"
        }
      ],
      "source": [
        "ipl.shape"
      ]
    },
    {
      "cell_type": "markdown",
      "metadata": {},
      "source": [
        "### 2. `dtype`"
      ]
    },
    {
      "cell_type": "code",
      "execution_count": 9,
      "metadata": {},
      "outputs": [
        {
          "data": {
            "text/plain": [
              "title_x              object\n",
              "imdb_id              object\n",
              "poster_path          object\n",
              "wiki_link            object\n",
              "title_y              object\n",
              "original_title       object\n",
              "is_adult              int64\n",
              "year_of_release       int64\n",
              "runtime              object\n",
              "genres               object\n",
              "imdb_rating         float64\n",
              "imdb_votes            int64\n",
              "story                object\n",
              "summary              object\n",
              "tagline              object\n",
              "actors               object\n",
              "wins_nominations     object\n",
              "release_date         object\n",
              "dtype: object"
            ]
          },
          "execution_count": 9,
          "metadata": {},
          "output_type": "execute_result"
        }
      ],
      "source": [
        "movies.dtypes"
      ]
    },
    {
      "cell_type": "code",
      "execution_count": 10,
      "metadata": {
        "colab": {
          "base_uri": "https://localhost:8080/"
        },
        "id": "G6eWCQUlvLBk",
        "outputId": "d6f5c1ea-1e1a-4e48-a1b7-cbcef5d4d634"
      },
      "outputs": [
        {
          "data": {
            "text/plain": [
              "ID                   int64\n",
              "City                object\n",
              "Date                object\n",
              "Season              object\n",
              "MatchNumber         object\n",
              "Team1               object\n",
              "Team2               object\n",
              "Venue               object\n",
              "TossWinner          object\n",
              "TossDecision        object\n",
              "SuperOver           object\n",
              "WinningTeam         object\n",
              "WonBy               object\n",
              "Margin             float64\n",
              "method              object\n",
              "Player_of_Match     object\n",
              "Team1Players        object\n",
              "Team2Players        object\n",
              "Umpire1             object\n",
              "Umpire2             object\n",
              "dtype: object"
            ]
          },
          "execution_count": 10,
          "metadata": {},
          "output_type": "execute_result"
        }
      ],
      "source": [
        "ipl.dtypes"
      ]
    },
    {
      "cell_type": "markdown",
      "metadata": {},
      "source": [
        "### 3. `index`"
      ]
    },
    {
      "cell_type": "code",
      "execution_count": 11,
      "metadata": {},
      "outputs": [
        {
          "data": {
            "text/plain": [
              "RangeIndex(start=0, stop=1629, step=1)"
            ]
          },
          "execution_count": 11,
          "metadata": {},
          "output_type": "execute_result"
        }
      ],
      "source": [
        "movies.index"
      ]
    },
    {
      "cell_type": "code",
      "execution_count": 12,
      "metadata": {
        "colab": {
          "base_uri": "https://localhost:8080/"
        },
        "id": "WEQltw3hvrwj",
        "outputId": "6b6c3d7d-a376-4072-dabf-488a0d5e5133"
      },
      "outputs": [
        {
          "data": {
            "text/plain": [
              "RangeIndex(start=0, stop=950, step=1)"
            ]
          },
          "execution_count": 12,
          "metadata": {},
          "output_type": "execute_result"
        }
      ],
      "source": [
        "ipl.index"
      ]
    },
    {
      "cell_type": "markdown",
      "metadata": {},
      "source": [
        "### 4. `columns`"
      ]
    },
    {
      "cell_type": "code",
      "execution_count": 13,
      "metadata": {},
      "outputs": [
        {
          "data": {
            "text/plain": [
              "Index(['title_x', 'imdb_id', 'poster_path', 'wiki_link', 'title_y',\n",
              "       'original_title', 'is_adult', 'year_of_release', 'runtime', 'genres',\n",
              "       'imdb_rating', 'imdb_votes', 'story', 'summary', 'tagline', 'actors',\n",
              "       'wins_nominations', 'release_date'],\n",
              "      dtype='object')"
            ]
          },
          "execution_count": 13,
          "metadata": {},
          "output_type": "execute_result"
        }
      ],
      "source": [
        "movies.columns"
      ]
    },
    {
      "cell_type": "code",
      "execution_count": 14,
      "metadata": {},
      "outputs": [
        {
          "data": {
            "text/plain": [
              "Index(['ID', 'City', 'Date', 'Season', 'MatchNumber', 'Team1', 'Team2',\n",
              "       'Venue', 'TossWinner', 'TossDecision', 'SuperOver', 'WinningTeam',\n",
              "       'WonBy', 'Margin', 'method', 'Player_of_Match', 'Team1Players',\n",
              "       'Team2Players', 'Umpire1', 'Umpire2'],\n",
              "      dtype='object')"
            ]
          },
          "execution_count": 14,
          "metadata": {},
          "output_type": "execute_result"
        }
      ],
      "source": [
        "ipl.columns"
      ]
    },
    {
      "cell_type": "code",
      "execution_count": 15,
      "metadata": {
        "colab": {
          "base_uri": "https://localhost:8080/"
        },
        "id": "yfzmkEZCvNNU",
        "outputId": "0e8acc8e-98d3-4053-e828-d30341e52f44"
      },
      "outputs": [
        {
          "data": {
            "text/plain": [
              "Index(['name', 'iq', 'marks', 'package'], dtype='object')"
            ]
          },
          "execution_count": 15,
          "metadata": {},
          "output_type": "execute_result"
        }
      ],
      "source": [
        "students.columns"
      ]
    },
    {
      "cell_type": "markdown",
      "metadata": {},
      "source": [
        "### 5. `values`"
      ]
    },
    {
      "cell_type": "code",
      "execution_count": 16,
      "metadata": {},
      "outputs": [
        {
          "data": {
            "text/plain": [
              "array([['nitish', 100, 80, 10],\n",
              "       ['ankit', 90, 70, 7],\n",
              "       ['rupesh', 120, 100, 14],\n",
              "       ['rishabh', 80, 50, 2],\n",
              "       ['rishabh', 80, 50, 2]], dtype=object)"
            ]
          },
          "execution_count": 16,
          "metadata": {},
          "output_type": "execute_result"
        }
      ],
      "source": [
        "students.values"
      ]
    },
    {
      "cell_type": "code",
      "execution_count": 18,
      "metadata": {
        "colab": {
          "base_uri": "https://localhost:8080/"
        },
        "id": "uVzQeTwfvO8h",
        "outputId": "de070a5f-4061-4613-cfdc-363c40f88819"
      },
      "outputs": [
        {
          "data": {
            "text/plain": [
              "array([[1312200, 'Ahmedabad', '2022-05-29', ...,\n",
              "        \"['WP Saha', 'Shubman Gill', 'MS Wade', 'HH Pandya', 'DA Miller', 'R Tewatia', 'Rashid Khan', 'R Sai Kishore', 'LH Ferguson', 'Yash Dayal', 'Mohammed Shami']\",\n",
              "        'CB Gaffaney', 'Nitin Menon'],\n",
              "       [1312199, 'Ahmedabad', '2022-05-27', ...,\n",
              "        \"['YBK Jaiswal', 'JC Buttler', 'SV Samson', 'D Padikkal', 'SO Hetmyer', 'R Parag', 'R Ashwin', 'TA Boult', 'YS Chahal', 'M Prasidh Krishna', 'OC McCoy']\",\n",
              "        'CB Gaffaney', 'Nitin Menon'],\n",
              "       [1312198, 'Kolkata', '2022-05-25', ...,\n",
              "        \"['Q de Kock', 'KL Rahul', 'M Vohra', 'DJ Hooda', 'MP Stoinis', 'E Lewis', 'KH Pandya', 'PVD Chameera', 'Mohsin Khan', 'Avesh Khan', 'Ravi Bishnoi']\",\n",
              "        'J Madanagopal', 'MA Gough'],\n",
              "       ...,\n",
              "       [335984, 'Delhi', '2008-04-19', ...,\n",
              "        \"['T Kohli', 'YK Pathan', 'SR Watson', 'M Kaif', 'DS Lehmann', 'RA Jadeja', 'M Rawat', 'D Salunkhe', 'SK Warne', 'SK Trivedi', 'MM Patel']\",\n",
              "        'Aleem Dar', 'GA Pratapkumar'],\n",
              "       [335983, 'Chandigarh', '2008-04-19', ...,\n",
              "        \"['PA Patel', 'ML Hayden', 'MEK Hussey', 'MS Dhoni', 'SK Raina', 'JDP Oram', 'S Badrinath', 'Joginder Sharma', 'P Amarnath', 'MS Gony', 'M Muralitharan']\",\n",
              "        'MR Benson', 'SL Shastri'],\n",
              "       [335982, 'Bangalore', '2008-04-18', ...,\n",
              "        \"['SC Ganguly', 'BB McCullum', 'RT Ponting', 'DJ Hussey', 'Mohammad Hafeez', 'LR Shukla', 'WP Saha', 'AB Agarkar', 'AB Dinda', 'M Kartik', 'I Sharma']\",\n",
              "        'Asad Rauf', 'RE Koertzen']], dtype=object)"
            ]
          },
          "execution_count": 18,
          "metadata": {},
          "output_type": "execute_result"
        }
      ],
      "source": [
        "ipl.values"
      ]
    },
    {
      "cell_type": "markdown",
      "metadata": {},
      "source": [
        "### 6. head and tail"
      ]
    },
    {
      "cell_type": "code",
      "execution_count": 20,
      "metadata": {
        "colab": {
          "base_uri": "https://localhost:8080/",
          "height": 384
        },
        "id": "g6v9O1JuvPxO",
        "outputId": "81bb0f71-1ba0-4cfa-f34a-93f30bef2e6b"
      },
      "outputs": [
        {
          "data": {
            "text/html": [
              "<div>\n",
              "<style scoped>\n",
              "    .dataframe tbody tr th:only-of-type {\n",
              "        vertical-align: middle;\n",
              "    }\n",
              "\n",
              "    .dataframe tbody tr th {\n",
              "        vertical-align: top;\n",
              "    }\n",
              "\n",
              "    .dataframe thead th {\n",
              "        text-align: right;\n",
              "    }\n",
              "</style>\n",
              "<table border=\"1\" class=\"dataframe\">\n",
              "  <thead>\n",
              "    <tr style=\"text-align: right;\">\n",
              "      <th></th>\n",
              "      <th>title_x</th>\n",
              "      <th>imdb_id</th>\n",
              "      <th>poster_path</th>\n",
              "      <th>wiki_link</th>\n",
              "      <th>title_y</th>\n",
              "      <th>original_title</th>\n",
              "      <th>is_adult</th>\n",
              "      <th>year_of_release</th>\n",
              "      <th>runtime</th>\n",
              "      <th>genres</th>\n",
              "      <th>imdb_rating</th>\n",
              "      <th>imdb_votes</th>\n",
              "      <th>story</th>\n",
              "      <th>summary</th>\n",
              "      <th>tagline</th>\n",
              "      <th>actors</th>\n",
              "      <th>wins_nominations</th>\n",
              "      <th>release_date</th>\n",
              "    </tr>\n",
              "  </thead>\n",
              "  <tbody>\n",
              "    <tr>\n",
              "      <th>0</th>\n",
              "      <td>Uri: The Surgical Strike</td>\n",
              "      <td>tt8291224</td>\n",
              "      <td>https://upload.wikimedia.org/wikipedia/en/thum...</td>\n",
              "      <td>https://en.wikipedia.org/wiki/Uri:_The_Surgica...</td>\n",
              "      <td>Uri: The Surgical Strike</td>\n",
              "      <td>Uri: The Surgical Strike</td>\n",
              "      <td>0</td>\n",
              "      <td>2019</td>\n",
              "      <td>138</td>\n",
              "      <td>Action|Drama|War</td>\n",
              "      <td>8.4</td>\n",
              "      <td>35112</td>\n",
              "      <td>Divided over five chapters  the film chronicle...</td>\n",
              "      <td>Indian army special forces execute a covert op...</td>\n",
              "      <td>NaN</td>\n",
              "      <td>Vicky Kaushal|Paresh Rawal|Mohit Raina|Yami Ga...</td>\n",
              "      <td>4 wins</td>\n",
              "      <td>11 January 2019 (USA)</td>\n",
              "    </tr>\n",
              "  </tbody>\n",
              "</table>\n",
              "</div>"
            ],
            "text/plain": [
              "                    title_x    imdb_id  \\\n",
              "0  Uri: The Surgical Strike  tt8291224   \n",
              "\n",
              "                                         poster_path  \\\n",
              "0  https://upload.wikimedia.org/wikipedia/en/thum...   \n",
              "\n",
              "                                           wiki_link  \\\n",
              "0  https://en.wikipedia.org/wiki/Uri:_The_Surgica...   \n",
              "\n",
              "                    title_y            original_title  is_adult  \\\n",
              "0  Uri: The Surgical Strike  Uri: The Surgical Strike         0   \n",
              "\n",
              "   year_of_release runtime            genres  imdb_rating  imdb_votes  \\\n",
              "0             2019     138  Action|Drama|War          8.4       35112   \n",
              "\n",
              "                                               story  \\\n",
              "0  Divided over five chapters  the film chronicle...   \n",
              "\n",
              "                                             summary tagline  \\\n",
              "0  Indian army special forces execute a covert op...     NaN   \n",
              "\n",
              "                                              actors wins_nominations  \\\n",
              "0  Vicky Kaushal|Paresh Rawal|Mohit Raina|Yami Ga...           4 wins   \n",
              "\n",
              "            release_date  \n",
              "0  11 January 2019 (USA)  "
            ]
          },
          "execution_count": 20,
          "metadata": {},
          "output_type": "execute_result"
        }
      ],
      "source": [
        "movies.head(1)"
      ]
    },
    {
      "cell_type": "code",
      "execution_count": 21,
      "metadata": {
        "colab": {
          "base_uri": "https://localhost:8080/",
          "height": 315
        },
        "id": "t0d_xl44Hbzt",
        "outputId": "897f7bb3-93b6-4cd4-9168-e6a0ff083601"
      },
      "outputs": [
        {
          "data": {
            "text/html": [
              "<div>\n",
              "<style scoped>\n",
              "    .dataframe tbody tr th:only-of-type {\n",
              "        vertical-align: middle;\n",
              "    }\n",
              "\n",
              "    .dataframe tbody tr th {\n",
              "        vertical-align: top;\n",
              "    }\n",
              "\n",
              "    .dataframe thead th {\n",
              "        text-align: right;\n",
              "    }\n",
              "</style>\n",
              "<table border=\"1\" class=\"dataframe\">\n",
              "  <thead>\n",
              "    <tr style=\"text-align: right;\">\n",
              "      <th></th>\n",
              "      <th>ID</th>\n",
              "      <th>City</th>\n",
              "      <th>Date</th>\n",
              "      <th>Season</th>\n",
              "      <th>MatchNumber</th>\n",
              "      <th>Team1</th>\n",
              "      <th>Team2</th>\n",
              "      <th>Venue</th>\n",
              "      <th>TossWinner</th>\n",
              "      <th>TossDecision</th>\n",
              "      <th>SuperOver</th>\n",
              "      <th>WinningTeam</th>\n",
              "      <th>WonBy</th>\n",
              "      <th>Margin</th>\n",
              "      <th>method</th>\n",
              "      <th>Player_of_Match</th>\n",
              "      <th>Team1Players</th>\n",
              "      <th>Team2Players</th>\n",
              "      <th>Umpire1</th>\n",
              "      <th>Umpire2</th>\n",
              "    </tr>\n",
              "  </thead>\n",
              "  <tbody>\n",
              "    <tr>\n",
              "      <th>949</th>\n",
              "      <td>335982</td>\n",
              "      <td>Bangalore</td>\n",
              "      <td>2008-04-18</td>\n",
              "      <td>2007/08</td>\n",
              "      <td>1</td>\n",
              "      <td>Royal Challengers Bangalore</td>\n",
              "      <td>Kolkata Knight Riders</td>\n",
              "      <td>M Chinnaswamy Stadium</td>\n",
              "      <td>Royal Challengers Bangalore</td>\n",
              "      <td>field</td>\n",
              "      <td>N</td>\n",
              "      <td>Kolkata Knight Riders</td>\n",
              "      <td>Runs</td>\n",
              "      <td>140.0</td>\n",
              "      <td>NaN</td>\n",
              "      <td>BB McCullum</td>\n",
              "      <td>['R Dravid', 'W Jaffer', 'V Kohli', 'JH Kallis...</td>\n",
              "      <td>['SC Ganguly', 'BB McCullum', 'RT Ponting', 'D...</td>\n",
              "      <td>Asad Rauf</td>\n",
              "      <td>RE Koertzen</td>\n",
              "    </tr>\n",
              "  </tbody>\n",
              "</table>\n",
              "</div>"
            ],
            "text/plain": [
              "         ID       City        Date   Season MatchNumber  \\\n",
              "949  335982  Bangalore  2008-04-18  2007/08           1   \n",
              "\n",
              "                           Team1                  Team2  \\\n",
              "949  Royal Challengers Bangalore  Kolkata Knight Riders   \n",
              "\n",
              "                     Venue                   TossWinner TossDecision  \\\n",
              "949  M Chinnaswamy Stadium  Royal Challengers Bangalore        field   \n",
              "\n",
              "    SuperOver            WinningTeam WonBy  Margin method Player_of_Match  \\\n",
              "949         N  Kolkata Knight Riders  Runs   140.0    NaN     BB McCullum   \n",
              "\n",
              "                                          Team1Players  \\\n",
              "949  ['R Dravid', 'W Jaffer', 'V Kohli', 'JH Kallis...   \n",
              "\n",
              "                                          Team2Players    Umpire1      Umpire2  \n",
              "949  ['SC Ganguly', 'BB McCullum', 'RT Ponting', 'D...  Asad Rauf  RE Koertzen  "
            ]
          },
          "execution_count": 21,
          "metadata": {},
          "output_type": "execute_result"
        }
      ],
      "source": [
        "ipl.tail(1)"
      ]
    },
    {
      "cell_type": "markdown",
      "metadata": {},
      "source": [
        "### 7. `sample`"
      ]
    },
    {
      "cell_type": "code",
      "execution_count": 23,
      "metadata": {},
      "outputs": [
        {
          "data": {
            "text/html": [
              "<div>\n",
              "<style scoped>\n",
              "    .dataframe tbody tr th:only-of-type {\n",
              "        vertical-align: middle;\n",
              "    }\n",
              "\n",
              "    .dataframe tbody tr th {\n",
              "        vertical-align: top;\n",
              "    }\n",
              "\n",
              "    .dataframe thead th {\n",
              "        text-align: right;\n",
              "    }\n",
              "</style>\n",
              "<table border=\"1\" class=\"dataframe\">\n",
              "  <thead>\n",
              "    <tr style=\"text-align: right;\">\n",
              "      <th></th>\n",
              "      <th>name</th>\n",
              "      <th>iq</th>\n",
              "      <th>marks</th>\n",
              "      <th>package</th>\n",
              "    </tr>\n",
              "  </thead>\n",
              "  <tbody>\n",
              "    <tr>\n",
              "      <th>1</th>\n",
              "      <td>ankit</td>\n",
              "      <td>90</td>\n",
              "      <td>70</td>\n",
              "      <td>7</td>\n",
              "    </tr>\n",
              "    <tr>\n",
              "      <th>3</th>\n",
              "      <td>rishabh</td>\n",
              "      <td>80</td>\n",
              "      <td>50</td>\n",
              "      <td>2</td>\n",
              "    </tr>\n",
              "  </tbody>\n",
              "</table>\n",
              "</div>"
            ],
            "text/plain": [
              "      name  iq  marks  package\n",
              "1    ankit  90     70        7\n",
              "3  rishabh  80     50        2"
            ]
          },
          "execution_count": 23,
          "metadata": {},
          "output_type": "execute_result"
        }
      ],
      "source": [
        "students.sample(2)"
      ]
    },
    {
      "cell_type": "markdown",
      "metadata": {},
      "source": [
        "### 8. `info`\n",
        "- all about table\n",
        "    - Total No of columns\n",
        "    - Column Name\n",
        "    - Column Non-Null Count\n",
        "    - Column Datatype\n",
        "    - Memory Usage"
      ]
    },
    {
      "cell_type": "code",
      "execution_count": 24,
      "metadata": {
        "colab": {
          "base_uri": "https://localhost:8080/"
        },
        "id": "rKJeok4Qvaig",
        "outputId": "2afd9b94-65e0-42eb-fa4d-07ff6eecb8e2"
      },
      "outputs": [
        {
          "name": "stdout",
          "output_type": "stream",
          "text": [
            "<class 'pandas.core.frame.DataFrame'>\n",
            "RangeIndex: 1629 entries, 0 to 1628\n",
            "Data columns (total 18 columns):\n",
            " #   Column            Non-Null Count  Dtype  \n",
            "---  ------            --------------  -----  \n",
            " 0   title_x           1629 non-null   object \n",
            " 1   imdb_id           1629 non-null   object \n",
            " 2   poster_path       1526 non-null   object \n",
            " 3   wiki_link         1629 non-null   object \n",
            " 4   title_y           1629 non-null   object \n",
            " 5   original_title    1629 non-null   object \n",
            " 6   is_adult          1629 non-null   int64  \n",
            " 7   year_of_release   1629 non-null   int64  \n",
            " 8   runtime           1629 non-null   object \n",
            " 9   genres            1629 non-null   object \n",
            " 10  imdb_rating       1629 non-null   float64\n",
            " 11  imdb_votes        1629 non-null   int64  \n",
            " 12  story             1609 non-null   object \n",
            " 13  summary           1629 non-null   object \n",
            " 14  tagline           557 non-null    object \n",
            " 15  actors            1624 non-null   object \n",
            " 16  wins_nominations  707 non-null    object \n",
            " 17  release_date      1522 non-null   object \n",
            "dtypes: float64(1), int64(3), object(14)\n",
            "memory usage: 229.2+ KB\n"
          ]
        }
      ],
      "source": [
        "movies.info()"
      ]
    },
    {
      "cell_type": "markdown",
      "metadata": {},
      "source": [
        "### 9. `describe`\n",
        "- mathematical information"
      ]
    },
    {
      "cell_type": "code",
      "execution_count": 25,
      "metadata": {
        "colab": {
          "base_uri": "https://localhost:8080/",
          "height": 300
        },
        "id": "OikkCRPevgK5",
        "outputId": "619a60a9-1ea8-4744-bf0f-d9db2161d233"
      },
      "outputs": [
        {
          "data": {
            "text/html": [
              "<div>\n",
              "<style scoped>\n",
              "    .dataframe tbody tr th:only-of-type {\n",
              "        vertical-align: middle;\n",
              "    }\n",
              "\n",
              "    .dataframe tbody tr th {\n",
              "        vertical-align: top;\n",
              "    }\n",
              "\n",
              "    .dataframe thead th {\n",
              "        text-align: right;\n",
              "    }\n",
              "</style>\n",
              "<table border=\"1\" class=\"dataframe\">\n",
              "  <thead>\n",
              "    <tr style=\"text-align: right;\">\n",
              "      <th></th>\n",
              "      <th>is_adult</th>\n",
              "      <th>year_of_release</th>\n",
              "      <th>imdb_rating</th>\n",
              "      <th>imdb_votes</th>\n",
              "    </tr>\n",
              "  </thead>\n",
              "  <tbody>\n",
              "    <tr>\n",
              "      <th>count</th>\n",
              "      <td>1629.0</td>\n",
              "      <td>1629.000000</td>\n",
              "      <td>1629.000000</td>\n",
              "      <td>1629.000000</td>\n",
              "    </tr>\n",
              "    <tr>\n",
              "      <th>mean</th>\n",
              "      <td>0.0</td>\n",
              "      <td>2010.263966</td>\n",
              "      <td>5.557459</td>\n",
              "      <td>5384.263352</td>\n",
              "    </tr>\n",
              "    <tr>\n",
              "      <th>std</th>\n",
              "      <td>0.0</td>\n",
              "      <td>5.381542</td>\n",
              "      <td>1.567609</td>\n",
              "      <td>14552.103231</td>\n",
              "    </tr>\n",
              "    <tr>\n",
              "      <th>min</th>\n",
              "      <td>0.0</td>\n",
              "      <td>2001.000000</td>\n",
              "      <td>0.000000</td>\n",
              "      <td>0.000000</td>\n",
              "    </tr>\n",
              "    <tr>\n",
              "      <th>25%</th>\n",
              "      <td>0.0</td>\n",
              "      <td>2005.000000</td>\n",
              "      <td>4.400000</td>\n",
              "      <td>233.000000</td>\n",
              "    </tr>\n",
              "    <tr>\n",
              "      <th>50%</th>\n",
              "      <td>0.0</td>\n",
              "      <td>2011.000000</td>\n",
              "      <td>5.600000</td>\n",
              "      <td>1000.000000</td>\n",
              "    </tr>\n",
              "    <tr>\n",
              "      <th>75%</th>\n",
              "      <td>0.0</td>\n",
              "      <td>2015.000000</td>\n",
              "      <td>6.800000</td>\n",
              "      <td>4287.000000</td>\n",
              "    </tr>\n",
              "    <tr>\n",
              "      <th>max</th>\n",
              "      <td>0.0</td>\n",
              "      <td>2019.000000</td>\n",
              "      <td>9.400000</td>\n",
              "      <td>310481.000000</td>\n",
              "    </tr>\n",
              "  </tbody>\n",
              "</table>\n",
              "</div>"
            ],
            "text/plain": [
              "       is_adult  year_of_release  imdb_rating     imdb_votes\n",
              "count    1629.0      1629.000000  1629.000000    1629.000000\n",
              "mean        0.0      2010.263966     5.557459    5384.263352\n",
              "std         0.0         5.381542     1.567609   14552.103231\n",
              "min         0.0      2001.000000     0.000000       0.000000\n",
              "25%         0.0      2005.000000     4.400000     233.000000\n",
              "50%         0.0      2011.000000     5.600000    1000.000000\n",
              "75%         0.0      2015.000000     6.800000    4287.000000\n",
              "max         0.0      2019.000000     9.400000  310481.000000"
            ]
          },
          "execution_count": 25,
          "metadata": {},
          "output_type": "execute_result"
        }
      ],
      "source": [
        "movies.describe()"
      ]
    },
    {
      "cell_type": "markdown",
      "metadata": {},
      "source": [
        "### 10. `isnull`"
      ]
    },
    {
      "cell_type": "code",
      "execution_count": 26,
      "metadata": {
        "colab": {
          "base_uri": "https://localhost:8080/"
        },
        "id": "cffM8jnww3GV",
        "outputId": "c8ebd656-b4e8-4b2b-9416-368564a940ef"
      },
      "outputs": [
        {
          "data": {
            "text/plain": [
              "title_x                0\n",
              "imdb_id                0\n",
              "poster_path          103\n",
              "wiki_link              0\n",
              "title_y                0\n",
              "original_title         0\n",
              "is_adult               0\n",
              "year_of_release        0\n",
              "runtime                0\n",
              "genres                 0\n",
              "imdb_rating            0\n",
              "imdb_votes             0\n",
              "story                 20\n",
              "summary                0\n",
              "tagline             1072\n",
              "actors                 5\n",
              "wins_nominations     922\n",
              "release_date         107\n",
              "dtype: int64"
            ]
          },
          "execution_count": 26,
          "metadata": {},
          "output_type": "execute_result"
        }
      ],
      "source": [
        "movies.isnull().sum()"
      ]
    },
    {
      "cell_type": "markdown",
      "metadata": {},
      "source": [
        "### 11. `duplicated`"
      ]
    },
    {
      "cell_type": "code",
      "execution_count": 27,
      "metadata": {
        "colab": {
          "base_uri": "https://localhost:8080/"
        },
        "id": "vGdYd3F8w4Kl",
        "outputId": "196e32c0-636b-401a-e91c-86494a833403"
      },
      "outputs": [
        {
          "data": {
            "text/plain": [
              "np.int64(0)"
            ]
          },
          "execution_count": 27,
          "metadata": {},
          "output_type": "execute_result"
        }
      ],
      "source": [
        "movies.duplicated().sum()"
      ]
    },
    {
      "cell_type": "code",
      "execution_count": 28,
      "metadata": {
        "colab": {
          "base_uri": "https://localhost:8080/"
        },
        "id": "gabFmEQaJ9Ns",
        "outputId": "9ad8cf45-f24d-4e89-b522-7a562cdc6052"
      },
      "outputs": [
        {
          "data": {
            "text/plain": [
              "np.int64(1)"
            ]
          },
          "execution_count": 28,
          "metadata": {},
          "output_type": "execute_result"
        }
      ],
      "source": [
        "students.duplicated().sum()"
      ]
    },
    {
      "cell_type": "markdown",
      "metadata": {},
      "source": [
        "### 12. `rename`"
      ]
    },
    {
      "cell_type": "code",
      "execution_count": 29,
      "metadata": {
        "id": "uEnGueRIKOLh"
      },
      "outputs": [],
      "source": [
        "students.rename(columns={'marks':'percent','package':'lpa'},inplace=True)"
      ]
    },
    {
      "cell_type": "code",
      "execution_count": 30,
      "metadata": {},
      "outputs": [
        {
          "data": {
            "text/html": [
              "<div>\n",
              "<style scoped>\n",
              "    .dataframe tbody tr th:only-of-type {\n",
              "        vertical-align: middle;\n",
              "    }\n",
              "\n",
              "    .dataframe tbody tr th {\n",
              "        vertical-align: top;\n",
              "    }\n",
              "\n",
              "    .dataframe thead th {\n",
              "        text-align: right;\n",
              "    }\n",
              "</style>\n",
              "<table border=\"1\" class=\"dataframe\">\n",
              "  <thead>\n",
              "    <tr style=\"text-align: right;\">\n",
              "      <th></th>\n",
              "      <th>name</th>\n",
              "      <th>iq</th>\n",
              "      <th>percent</th>\n",
              "      <th>lpa</th>\n",
              "    </tr>\n",
              "  </thead>\n",
              "  <tbody>\n",
              "    <tr>\n",
              "      <th>0</th>\n",
              "      <td>nitish</td>\n",
              "      <td>100</td>\n",
              "      <td>80</td>\n",
              "      <td>10</td>\n",
              "    </tr>\n",
              "    <tr>\n",
              "      <th>1</th>\n",
              "      <td>ankit</td>\n",
              "      <td>90</td>\n",
              "      <td>70</td>\n",
              "      <td>7</td>\n",
              "    </tr>\n",
              "    <tr>\n",
              "      <th>2</th>\n",
              "      <td>rupesh</td>\n",
              "      <td>120</td>\n",
              "      <td>100</td>\n",
              "      <td>14</td>\n",
              "    </tr>\n",
              "    <tr>\n",
              "      <th>3</th>\n",
              "      <td>rishabh</td>\n",
              "      <td>80</td>\n",
              "      <td>50</td>\n",
              "      <td>2</td>\n",
              "    </tr>\n",
              "    <tr>\n",
              "      <th>4</th>\n",
              "      <td>rishabh</td>\n",
              "      <td>80</td>\n",
              "      <td>50</td>\n",
              "      <td>2</td>\n",
              "    </tr>\n",
              "  </tbody>\n",
              "</table>\n",
              "</div>"
            ],
            "text/plain": [
              "      name   iq  percent  lpa\n",
              "0   nitish  100       80   10\n",
              "1    ankit   90       70    7\n",
              "2   rupesh  120      100   14\n",
              "3  rishabh   80       50    2\n",
              "4  rishabh   80       50    2"
            ]
          },
          "execution_count": 30,
          "metadata": {},
          "output_type": "execute_result"
        }
      ],
      "source": [
        "students"
      ]
    },
    {
      "cell_type": "markdown",
      "metadata": {
        "id": "OQ-A3XU-06KG"
      },
      "source": [
        "# Mathematical Methods\n",
        "- `sum`\n",
        "- `mean`\n",
        "- `var`\n",
        "- `std`"
      ]
    },
    {
      "cell_type": "code",
      "execution_count": 48,
      "metadata": {},
      "outputs": [],
      "source": [
        "# but lets convert, the string values to integer values\n",
        "students = students[['iq', 'percent', 'lpa']].astype('int64')"
      ]
    },
    {
      "cell_type": "code",
      "execution_count": 49,
      "metadata": {},
      "outputs": [
        {
          "data": {
            "text/plain": [
              "iq         470\n",
              "percent    350\n",
              "lpa         35\n",
              "dtype: int64"
            ]
          },
          "execution_count": 49,
          "metadata": {},
          "output_type": "execute_result"
        }
      ],
      "source": [
        "students.sum()"
      ]
    },
    {
      "cell_type": "code",
      "execution_count": 50,
      "metadata": {
        "colab": {
          "base_uri": "https://localhost:8080/"
        },
        "id": "9agZIP-z0lc9",
        "outputId": "6f4ca547-c59f-437e-d6c3-7d523df4a2a0"
      },
      "outputs": [
        {
          "data": {
            "text/plain": [
              "iq         470\n",
              "percent    350\n",
              "lpa         35\n",
              "dtype: int64"
            ]
          },
          "execution_count": 50,
          "metadata": {},
          "output_type": "execute_result"
        }
      ],
      "source": [
        "# sum -> axis argument\n",
        "students.sum(axis=0)"
      ]
    },
    {
      "cell_type": "code",
      "execution_count": 51,
      "metadata": {},
      "outputs": [
        {
          "data": {
            "text/plain": [
              "0    190\n",
              "1    167\n",
              "2    234\n",
              "3    132\n",
              "4    132\n",
              "dtype: int64"
            ]
          },
          "execution_count": 51,
          "metadata": {},
          "output_type": "execute_result"
        }
      ],
      "source": [
        "# sum -> axis argument\n",
        "students.sum(axis=1)"
      ]
    },
    {
      "cell_type": "code",
      "execution_count": 52,
      "metadata": {
        "colab": {
          "base_uri": "https://localhost:8080/"
        },
        "id": "bPN2x2-xLitU",
        "outputId": "f6dab3eb-ac81-47fd-8ad2-fd35c4cc6b42"
      },
      "outputs": [
        {
          "data": {
            "text/plain": [
              "iq         94.0\n",
              "percent    70.0\n",
              "lpa         7.0\n",
              "dtype: float64"
            ]
          },
          "execution_count": 52,
          "metadata": {},
          "output_type": "execute_result"
        }
      ],
      "source": [
        "students.mean(axis=0)"
      ]
    },
    {
      "cell_type": "code",
      "execution_count": 53,
      "metadata": {
        "colab": {
          "base_uri": "https://localhost:8080/"
        },
        "id": "AEWWvGRCLi8-",
        "outputId": "3e6ceb29-4e5d-4674-d331-0592ec83105c"
      },
      "outputs": [
        {
          "data": {
            "text/plain": [
              "iq         280.0\n",
              "percent    450.0\n",
              "lpa         27.0\n",
              "dtype: float64"
            ]
          },
          "execution_count": 53,
          "metadata": {},
          "output_type": "execute_result"
        }
      ],
      "source": [
        "students.var()"
      ]
    },
    {
      "cell_type": "markdown",
      "metadata": {},
      "source": [
        "---"
      ]
    },
    {
      "cell_type": "markdown",
      "metadata": {
        "id": "PaOsDoR01EVm"
      },
      "source": [
        "# Selecting cols from a DataFrame"
      ]
    },
    {
      "cell_type": "markdown",
      "metadata": {},
      "source": [
        "### 1. Single Cols"
      ]
    },
    {
      "cell_type": "code",
      "execution_count": 54,
      "metadata": {
        "colab": {
          "base_uri": "https://localhost:8080/"
        },
        "id": "GFYaWcxk1H3H",
        "outputId": "d049cd3e-9cc0-4952-88fb-009598f8bd5f"
      },
      "outputs": [
        {
          "data": {
            "text/plain": [
              "0                   Uri: The Surgical Strike\n",
              "1                              Battalion 609\n",
              "2       The Accidental Prime Minister (film)\n",
              "3                            Why Cheat India\n",
              "4                            Evening Shadows\n",
              "                        ...                 \n",
              "1624                   Tera Mera Saath Rahen\n",
              "1625                    Yeh Zindagi Ka Safar\n",
              "1626                         Sabse Bada Sukh\n",
              "1627                                   Daaka\n",
              "1628                                Humsafar\n",
              "Name: title_x, Length: 1629, dtype: object"
            ]
          },
          "execution_count": 54,
          "metadata": {},
          "output_type": "execute_result"
        }
      ],
      "source": [
        "movies['title_x']"
      ]
    },
    {
      "cell_type": "code",
      "execution_count": 55,
      "metadata": {},
      "outputs": [
        {
          "data": {
            "text/plain": [
              "pandas.core.series.Series"
            ]
          },
          "execution_count": 55,
          "metadata": {},
          "output_type": "execute_result"
        }
      ],
      "source": [
        "type(movies['title_x'])"
      ]
    },
    {
      "cell_type": "markdown",
      "metadata": {},
      "source": [
        "### 2. Multiple Cols"
      ]
    },
    {
      "cell_type": "code",
      "execution_count": 56,
      "metadata": {
        "colab": {
          "base_uri": "https://localhost:8080/",
          "height": 424
        },
        "id": "fBmf-wef1KsY",
        "outputId": "f2fd08f5-6265-40ff-95cb-d565acafa802"
      },
      "outputs": [
        {
          "data": {
            "text/html": [
              "<div>\n",
              "<style scoped>\n",
              "    .dataframe tbody tr th:only-of-type {\n",
              "        vertical-align: middle;\n",
              "    }\n",
              "\n",
              "    .dataframe tbody tr th {\n",
              "        vertical-align: top;\n",
              "    }\n",
              "\n",
              "    .dataframe thead th {\n",
              "        text-align: right;\n",
              "    }\n",
              "</style>\n",
              "<table border=\"1\" class=\"dataframe\">\n",
              "  <thead>\n",
              "    <tr style=\"text-align: right;\">\n",
              "      <th></th>\n",
              "      <th>year_of_release</th>\n",
              "      <th>actors</th>\n",
              "      <th>title_x</th>\n",
              "    </tr>\n",
              "  </thead>\n",
              "  <tbody>\n",
              "    <tr>\n",
              "      <th>0</th>\n",
              "      <td>2019</td>\n",
              "      <td>Vicky Kaushal|Paresh Rawal|Mohit Raina|Yami Ga...</td>\n",
              "      <td>Uri: The Surgical Strike</td>\n",
              "    </tr>\n",
              "    <tr>\n",
              "      <th>1</th>\n",
              "      <td>2019</td>\n",
              "      <td>Vicky Ahuja|Shoaib Ibrahim|Shrikant Kamat|Elen...</td>\n",
              "      <td>Battalion 609</td>\n",
              "    </tr>\n",
              "    <tr>\n",
              "      <th>2</th>\n",
              "      <td>2019</td>\n",
              "      <td>Anupam Kher|Akshaye Khanna|Aahana Kumra|Atul S...</td>\n",
              "      <td>The Accidental Prime Minister (film)</td>\n",
              "    </tr>\n",
              "    <tr>\n",
              "      <th>3</th>\n",
              "      <td>2019</td>\n",
              "      <td>Emraan Hashmi|Shreya Dhanwanthary|Snighdadeep ...</td>\n",
              "      <td>Why Cheat India</td>\n",
              "    </tr>\n",
              "    <tr>\n",
              "      <th>4</th>\n",
              "      <td>2018</td>\n",
              "      <td>Mona Ambegaonkar|Ananth Narayan Mahadevan|Deva...</td>\n",
              "      <td>Evening Shadows</td>\n",
              "    </tr>\n",
              "    <tr>\n",
              "      <th>...</th>\n",
              "      <td>...</td>\n",
              "      <td>...</td>\n",
              "      <td>...</td>\n",
              "    </tr>\n",
              "    <tr>\n",
              "      <th>1624</th>\n",
              "      <td>2001</td>\n",
              "      <td>Ajay Devgn|Sonali Bendre|Namrata Shirodkar|Pre...</td>\n",
              "      <td>Tera Mera Saath Rahen</td>\n",
              "    </tr>\n",
              "    <tr>\n",
              "      <th>1625</th>\n",
              "      <td>2001</td>\n",
              "      <td>Ameesha Patel|Jimmy Sheirgill|Nafisa Ali|Gulsh...</td>\n",
              "      <td>Yeh Zindagi Ka Safar</td>\n",
              "    </tr>\n",
              "    <tr>\n",
              "      <th>1626</th>\n",
              "      <td>2018</td>\n",
              "      <td>Vijay Arora|Asrani|Rajni Bala|Kumud Damle|Utpa...</td>\n",
              "      <td>Sabse Bada Sukh</td>\n",
              "    </tr>\n",
              "    <tr>\n",
              "      <th>1627</th>\n",
              "      <td>2019</td>\n",
              "      <td>Gippy Grewal|Zareen Khan|</td>\n",
              "      <td>Daaka</td>\n",
              "    </tr>\n",
              "    <tr>\n",
              "      <th>1628</th>\n",
              "      <td>2011</td>\n",
              "      <td>Fawad Khan|</td>\n",
              "      <td>Humsafar</td>\n",
              "    </tr>\n",
              "  </tbody>\n",
              "</table>\n",
              "<p>1629 rows × 3 columns</p>\n",
              "</div>"
            ],
            "text/plain": [
              "      year_of_release                                             actors  \\\n",
              "0                2019  Vicky Kaushal|Paresh Rawal|Mohit Raina|Yami Ga...   \n",
              "1                2019  Vicky Ahuja|Shoaib Ibrahim|Shrikant Kamat|Elen...   \n",
              "2                2019  Anupam Kher|Akshaye Khanna|Aahana Kumra|Atul S...   \n",
              "3                2019  Emraan Hashmi|Shreya Dhanwanthary|Snighdadeep ...   \n",
              "4                2018  Mona Ambegaonkar|Ananth Narayan Mahadevan|Deva...   \n",
              "...               ...                                                ...   \n",
              "1624             2001  Ajay Devgn|Sonali Bendre|Namrata Shirodkar|Pre...   \n",
              "1625             2001  Ameesha Patel|Jimmy Sheirgill|Nafisa Ali|Gulsh...   \n",
              "1626             2018  Vijay Arora|Asrani|Rajni Bala|Kumud Damle|Utpa...   \n",
              "1627             2019                          Gippy Grewal|Zareen Khan|   \n",
              "1628             2011                                        Fawad Khan|   \n",
              "\n",
              "                                   title_x  \n",
              "0                 Uri: The Surgical Strike  \n",
              "1                            Battalion 609  \n",
              "2     The Accidental Prime Minister (film)  \n",
              "3                          Why Cheat India  \n",
              "4                          Evening Shadows  \n",
              "...                                    ...  \n",
              "1624                 Tera Mera Saath Rahen  \n",
              "1625                  Yeh Zindagi Ka Safar  \n",
              "1626                       Sabse Bada Sukh  \n",
              "1627                                 Daaka  \n",
              "1628                              Humsafar  \n",
              "\n",
              "[1629 rows x 3 columns]"
            ]
          },
          "execution_count": 56,
          "metadata": {},
          "output_type": "execute_result"
        }
      ],
      "source": [
        "movies[['year_of_release','actors','title_x']]"
      ]
    },
    {
      "cell_type": "code",
      "execution_count": 57,
      "metadata": {
        "colab": {
          "base_uri": "https://localhost:8080/",
          "height": 424
        },
        "id": "s3mf9nuYN-J6",
        "outputId": "630ec525-28a1-434c-cb99-784f82980bd3"
      },
      "outputs": [
        {
          "data": {
            "text/html": [
              "<div>\n",
              "<style scoped>\n",
              "    .dataframe tbody tr th:only-of-type {\n",
              "        vertical-align: middle;\n",
              "    }\n",
              "\n",
              "    .dataframe tbody tr th {\n",
              "        vertical-align: top;\n",
              "    }\n",
              "\n",
              "    .dataframe thead th {\n",
              "        text-align: right;\n",
              "    }\n",
              "</style>\n",
              "<table border=\"1\" class=\"dataframe\">\n",
              "  <thead>\n",
              "    <tr style=\"text-align: right;\">\n",
              "      <th></th>\n",
              "      <th>Team1</th>\n",
              "      <th>Team2</th>\n",
              "      <th>WinningTeam</th>\n",
              "    </tr>\n",
              "  </thead>\n",
              "  <tbody>\n",
              "    <tr>\n",
              "      <th>0</th>\n",
              "      <td>Rajasthan Royals</td>\n",
              "      <td>Gujarat Titans</td>\n",
              "      <td>Gujarat Titans</td>\n",
              "    </tr>\n",
              "    <tr>\n",
              "      <th>1</th>\n",
              "      <td>Royal Challengers Bangalore</td>\n",
              "      <td>Rajasthan Royals</td>\n",
              "      <td>Rajasthan Royals</td>\n",
              "    </tr>\n",
              "    <tr>\n",
              "      <th>2</th>\n",
              "      <td>Royal Challengers Bangalore</td>\n",
              "      <td>Lucknow Super Giants</td>\n",
              "      <td>Royal Challengers Bangalore</td>\n",
              "    </tr>\n",
              "    <tr>\n",
              "      <th>3</th>\n",
              "      <td>Rajasthan Royals</td>\n",
              "      <td>Gujarat Titans</td>\n",
              "      <td>Gujarat Titans</td>\n",
              "    </tr>\n",
              "    <tr>\n",
              "      <th>4</th>\n",
              "      <td>Sunrisers Hyderabad</td>\n",
              "      <td>Punjab Kings</td>\n",
              "      <td>Punjab Kings</td>\n",
              "    </tr>\n",
              "    <tr>\n",
              "      <th>...</th>\n",
              "      <td>...</td>\n",
              "      <td>...</td>\n",
              "      <td>...</td>\n",
              "    </tr>\n",
              "    <tr>\n",
              "      <th>945</th>\n",
              "      <td>Kolkata Knight Riders</td>\n",
              "      <td>Deccan Chargers</td>\n",
              "      <td>Kolkata Knight Riders</td>\n",
              "    </tr>\n",
              "    <tr>\n",
              "      <th>946</th>\n",
              "      <td>Mumbai Indians</td>\n",
              "      <td>Royal Challengers Bangalore</td>\n",
              "      <td>Royal Challengers Bangalore</td>\n",
              "    </tr>\n",
              "    <tr>\n",
              "      <th>947</th>\n",
              "      <td>Delhi Daredevils</td>\n",
              "      <td>Rajasthan Royals</td>\n",
              "      <td>Delhi Daredevils</td>\n",
              "    </tr>\n",
              "    <tr>\n",
              "      <th>948</th>\n",
              "      <td>Kings XI Punjab</td>\n",
              "      <td>Chennai Super Kings</td>\n",
              "      <td>Chennai Super Kings</td>\n",
              "    </tr>\n",
              "    <tr>\n",
              "      <th>949</th>\n",
              "      <td>Royal Challengers Bangalore</td>\n",
              "      <td>Kolkata Knight Riders</td>\n",
              "      <td>Kolkata Knight Riders</td>\n",
              "    </tr>\n",
              "  </tbody>\n",
              "</table>\n",
              "<p>950 rows × 3 columns</p>\n",
              "</div>"
            ],
            "text/plain": [
              "                           Team1                        Team2  \\\n",
              "0               Rajasthan Royals               Gujarat Titans   \n",
              "1    Royal Challengers Bangalore             Rajasthan Royals   \n",
              "2    Royal Challengers Bangalore         Lucknow Super Giants   \n",
              "3               Rajasthan Royals               Gujarat Titans   \n",
              "4            Sunrisers Hyderabad                 Punjab Kings   \n",
              "..                           ...                          ...   \n",
              "945        Kolkata Knight Riders              Deccan Chargers   \n",
              "946               Mumbai Indians  Royal Challengers Bangalore   \n",
              "947             Delhi Daredevils             Rajasthan Royals   \n",
              "948              Kings XI Punjab          Chennai Super Kings   \n",
              "949  Royal Challengers Bangalore        Kolkata Knight Riders   \n",
              "\n",
              "                     WinningTeam  \n",
              "0                 Gujarat Titans  \n",
              "1               Rajasthan Royals  \n",
              "2    Royal Challengers Bangalore  \n",
              "3                 Gujarat Titans  \n",
              "4                   Punjab Kings  \n",
              "..                           ...  \n",
              "945        Kolkata Knight Riders  \n",
              "946  Royal Challengers Bangalore  \n",
              "947             Delhi Daredevils  \n",
              "948          Chennai Super Kings  \n",
              "949        Kolkata Knight Riders  \n",
              "\n",
              "[950 rows x 3 columns]"
            ]
          },
          "execution_count": 57,
          "metadata": {},
          "output_type": "execute_result"
        }
      ],
      "source": [
        "ipl[['Team1','Team2','WinningTeam']]"
      ]
    },
    {
      "cell_type": "markdown",
      "metadata": {},
      "source": [
        "---"
      ]
    },
    {
      "cell_type": "code",
      "execution_count": 58,
      "metadata": {},
      "outputs": [
        {
          "data": {
            "text/html": [
              "<div>\n",
              "<style scoped>\n",
              "    .dataframe tbody tr th:only-of-type {\n",
              "        vertical-align: middle;\n",
              "    }\n",
              "\n",
              "    .dataframe tbody tr th {\n",
              "        vertical-align: top;\n",
              "    }\n",
              "\n",
              "    .dataframe thead th {\n",
              "        text-align: right;\n",
              "    }\n",
              "</style>\n",
              "<table border=\"1\" class=\"dataframe\">\n",
              "  <thead>\n",
              "    <tr style=\"text-align: right;\">\n",
              "      <th></th>\n",
              "      <th>iq</th>\n",
              "      <th>marks</th>\n",
              "      <th>package</th>\n",
              "    </tr>\n",
              "    <tr>\n",
              "      <th>name</th>\n",
              "      <th></th>\n",
              "      <th></th>\n",
              "      <th></th>\n",
              "    </tr>\n",
              "  </thead>\n",
              "  <tbody>\n",
              "    <tr>\n",
              "      <th>nitish</th>\n",
              "      <td>100</td>\n",
              "      <td>80</td>\n",
              "      <td>10</td>\n",
              "    </tr>\n",
              "    <tr>\n",
              "      <th>ankit</th>\n",
              "      <td>90</td>\n",
              "      <td>70</td>\n",
              "      <td>7</td>\n",
              "    </tr>\n",
              "    <tr>\n",
              "      <th>rupesh</th>\n",
              "      <td>120</td>\n",
              "      <td>100</td>\n",
              "      <td>14</td>\n",
              "    </tr>\n",
              "    <tr>\n",
              "      <th>rishabh</th>\n",
              "      <td>80</td>\n",
              "      <td>50</td>\n",
              "      <td>2</td>\n",
              "    </tr>\n",
              "    <tr>\n",
              "      <th>abhishek</th>\n",
              "      <td>80</td>\n",
              "      <td>50</td>\n",
              "      <td>2</td>\n",
              "    </tr>\n",
              "    <tr>\n",
              "      <th>ankita</th>\n",
              "      <td>0</td>\n",
              "      <td>0</td>\n",
              "      <td>0</td>\n",
              "    </tr>\n",
              "  </tbody>\n",
              "</table>\n",
              "</div>"
            ],
            "text/plain": [
              "           iq  marks  package\n",
              "name                         \n",
              "nitish    100     80       10\n",
              "ankit      90     70        7\n",
              "rupesh    120    100       14\n",
              "rishabh    80     50        2\n",
              "abhishek   80     50        2\n",
              "ankita      0      0        0"
            ]
          },
          "execution_count": 58,
          "metadata": {},
          "output_type": "execute_result"
        }
      ],
      "source": [
        "student_dict = {\n",
        "    'name':['nitish','ankit','rupesh','rishabh','abhishek','ankita'],\n",
        "    'iq':[100,90,120,80,80,0],\n",
        "    'marks':[80,70,100,50,50,0],\n",
        "    'package':[10,7,14,2,2,0]\n",
        "}\n",
        "\n",
        "students = pd.DataFrame(student_dict)\n",
        "students.set_index('name',inplace=True)\n",
        "students"
      ]
    },
    {
      "cell_type": "markdown",
      "metadata": {
        "id": "Xfe-uRHn2fnK"
      },
      "source": [
        "# Selecting rows from a DataFrame\n",
        "\n",
        "- **iloc** - searches using index positions\n",
        "- **loc** - searches using index labels\n",
        "\n",
        "\n",
        "> **Note:** When a DataFrame is created, pandas automatically assigns a numeric index (0, 1, 2, …). If we define a custom label-based index, the numeric positions still exist internally. Use **`iloc`** to access rows by their numeric positions, and **`loc`** to access rows by their label-based indexes.\n",
        "\n",
        "\n",
        "> **Note:** In `loc` and `iloc` the one extract from index no other from index name. In iloc range the upper range is not included. eg(0:5) will extract 0 to 4. But in loc the last range will also be included. \n"
      ]
    },
    {
      "cell_type": "markdown",
      "metadata": {},
      "source": [
        "## `iloc`"
      ]
    },
    {
      "cell_type": "markdown",
      "metadata": {},
      "source": [
        "### 1. Single Row"
      ]
    },
    {
      "cell_type": "code",
      "execution_count": 59,
      "metadata": {
        "colab": {
          "base_uri": "https://localhost:8080/"
        },
        "id": "jEpLIQ8o1Lqe",
        "outputId": "5af38c28-7870-4251-f39b-c700931ee2bb"
      },
      "outputs": [
        {
          "data": {
            "text/plain": [
              "title_x                                                   Soni (film)\n",
              "imdb_id                                                     tt6078866\n",
              "poster_path         https://upload.wikimedia.org/wikipedia/en/thum...\n",
              "wiki_link                   https://en.wikipedia.org/wiki/Soni_(film)\n",
              "title_y                                                          Soni\n",
              "original_title                                                   Soni\n",
              "is_adult                                                            0\n",
              "year_of_release                                                  2018\n",
              "runtime                                                            97\n",
              "genres                                                          Drama\n",
              "imdb_rating                                                       7.2\n",
              "imdb_votes                                                       1595\n",
              "story               Soni  a young policewoman in Delhi  and her su...\n",
              "summary             While fighting crimes against women in Delhi  ...\n",
              "tagline                                                           NaN\n",
              "actors              Geetika Vidya Ohlyan|Saloni Batra|Vikas Shukla...\n",
              "wins_nominations                               3 wins & 5 nominations\n",
              "release_date                                    18 January 2019 (USA)\n",
              "Name: 5, dtype: object"
            ]
          },
          "execution_count": 59,
          "metadata": {},
          "output_type": "execute_result"
        }
      ],
      "source": [
        "movies.iloc[5]"
      ]
    },
    {
      "cell_type": "code",
      "execution_count": 60,
      "metadata": {},
      "outputs": [
        {
          "data": {
            "text/plain": [
              "pandas.core.series.Series"
            ]
          },
          "execution_count": 60,
          "metadata": {},
          "output_type": "execute_result"
        }
      ],
      "source": [
        "type(movies.iloc[5])"
      ]
    },
    {
      "cell_type": "markdown",
      "metadata": {},
      "source": [
        "### 2. Multiple Row"
      ]
    },
    {
      "cell_type": "code",
      "execution_count": 65,
      "metadata": {},
      "outputs": [
        {
          "data": {
            "text/html": [
              "<div>\n",
              "<style scoped>\n",
              "    .dataframe tbody tr th:only-of-type {\n",
              "        vertical-align: middle;\n",
              "    }\n",
              "\n",
              "    .dataframe tbody tr th {\n",
              "        vertical-align: top;\n",
              "    }\n",
              "\n",
              "    .dataframe thead th {\n",
              "        text-align: right;\n",
              "    }\n",
              "</style>\n",
              "<table border=\"1\" class=\"dataframe\">\n",
              "  <thead>\n",
              "    <tr style=\"text-align: right;\">\n",
              "      <th></th>\n",
              "      <th>iq</th>\n",
              "      <th>marks</th>\n",
              "      <th>package</th>\n",
              "    </tr>\n",
              "    <tr>\n",
              "      <th>name</th>\n",
              "      <th></th>\n",
              "      <th></th>\n",
              "      <th></th>\n",
              "    </tr>\n",
              "  </thead>\n",
              "  <tbody>\n",
              "    <tr>\n",
              "      <th>nitish</th>\n",
              "      <td>100</td>\n",
              "      <td>80</td>\n",
              "      <td>10</td>\n",
              "    </tr>\n",
              "    <tr>\n",
              "      <th>ankit</th>\n",
              "      <td>90</td>\n",
              "      <td>70</td>\n",
              "      <td>7</td>\n",
              "    </tr>\n",
              "    <tr>\n",
              "      <th>rupesh</th>\n",
              "      <td>120</td>\n",
              "      <td>100</td>\n",
              "      <td>14</td>\n",
              "    </tr>\n",
              "    <tr>\n",
              "      <th>rishabh</th>\n",
              "      <td>80</td>\n",
              "      <td>50</td>\n",
              "      <td>2</td>\n",
              "    </tr>\n",
              "    <tr>\n",
              "      <th>abhishek</th>\n",
              "      <td>80</td>\n",
              "      <td>50</td>\n",
              "      <td>2</td>\n",
              "    </tr>\n",
              "    <tr>\n",
              "      <th>ankita</th>\n",
              "      <td>0</td>\n",
              "      <td>0</td>\n",
              "      <td>0</td>\n",
              "    </tr>\n",
              "  </tbody>\n",
              "</table>\n",
              "</div>"
            ],
            "text/plain": [
              "           iq  marks  package\n",
              "name                         \n",
              "nitish    100     80       10\n",
              "ankit      90     70        7\n",
              "rupesh    120    100       14\n",
              "rishabh    80     50        2\n",
              "abhishek   80     50        2\n",
              "ankita      0      0        0"
            ]
          },
          "execution_count": 65,
          "metadata": {},
          "output_type": "execute_result"
        }
      ],
      "source": [
        "students.iloc[:]"
      ]
    },
    {
      "cell_type": "code",
      "execution_count": 66,
      "metadata": {},
      "outputs": [
        {
          "data": {
            "text/html": [
              "<div>\n",
              "<style scoped>\n",
              "    .dataframe tbody tr th:only-of-type {\n",
              "        vertical-align: middle;\n",
              "    }\n",
              "\n",
              "    .dataframe tbody tr th {\n",
              "        vertical-align: top;\n",
              "    }\n",
              "\n",
              "    .dataframe thead th {\n",
              "        text-align: right;\n",
              "    }\n",
              "</style>\n",
              "<table border=\"1\" class=\"dataframe\">\n",
              "  <thead>\n",
              "    <tr style=\"text-align: right;\">\n",
              "      <th></th>\n",
              "      <th>iq</th>\n",
              "      <th>marks</th>\n",
              "      <th>package</th>\n",
              "    </tr>\n",
              "    <tr>\n",
              "      <th>name</th>\n",
              "      <th></th>\n",
              "      <th></th>\n",
              "      <th></th>\n",
              "    </tr>\n",
              "  </thead>\n",
              "  <tbody>\n",
              "    <tr>\n",
              "      <th>nitish</th>\n",
              "      <td>100</td>\n",
              "      <td>80</td>\n",
              "      <td>10</td>\n",
              "    </tr>\n",
              "    <tr>\n",
              "      <th>ankit</th>\n",
              "      <td>90</td>\n",
              "      <td>70</td>\n",
              "      <td>7</td>\n",
              "    </tr>\n",
              "    <tr>\n",
              "      <th>rupesh</th>\n",
              "      <td>120</td>\n",
              "      <td>100</td>\n",
              "      <td>14</td>\n",
              "    </tr>\n",
              "  </tbody>\n",
              "</table>\n",
              "</div>"
            ],
            "text/plain": [
              "         iq  marks  package\n",
              "name                       \n",
              "nitish  100     80       10\n",
              "ankit    90     70        7\n",
              "rupesh  120    100       14"
            ]
          },
          "execution_count": 66,
          "metadata": {},
          "output_type": "execute_result"
        }
      ],
      "source": [
        "students.iloc[0:3]"
      ]
    },
    {
      "cell_type": "code",
      "execution_count": 68,
      "metadata": {},
      "outputs": [
        {
          "data": {
            "text/html": [
              "<div>\n",
              "<style scoped>\n",
              "    .dataframe tbody tr th:only-of-type {\n",
              "        vertical-align: middle;\n",
              "    }\n",
              "\n",
              "    .dataframe tbody tr th {\n",
              "        vertical-align: top;\n",
              "    }\n",
              "\n",
              "    .dataframe thead th {\n",
              "        text-align: right;\n",
              "    }\n",
              "</style>\n",
              "<table border=\"1\" class=\"dataframe\">\n",
              "  <thead>\n",
              "    <tr style=\"text-align: right;\">\n",
              "      <th></th>\n",
              "      <th>iq</th>\n",
              "      <th>marks</th>\n",
              "      <th>package</th>\n",
              "    </tr>\n",
              "    <tr>\n",
              "      <th>name</th>\n",
              "      <th></th>\n",
              "      <th></th>\n",
              "      <th></th>\n",
              "    </tr>\n",
              "  </thead>\n",
              "  <tbody>\n",
              "    <tr>\n",
              "      <th>nitish</th>\n",
              "      <td>100</td>\n",
              "      <td>80</td>\n",
              "      <td>10</td>\n",
              "    </tr>\n",
              "    <tr>\n",
              "      <th>rupesh</th>\n",
              "      <td>120</td>\n",
              "      <td>100</td>\n",
              "      <td>14</td>\n",
              "    </tr>\n",
              "    <tr>\n",
              "      <th>abhishek</th>\n",
              "      <td>80</td>\n",
              "      <td>50</td>\n",
              "      <td>2</td>\n",
              "    </tr>\n",
              "  </tbody>\n",
              "</table>\n",
              "</div>"
            ],
            "text/plain": [
              "           iq  marks  package\n",
              "name                         \n",
              "nitish    100     80       10\n",
              "rupesh    120    100       14\n",
              "abhishek   80     50        2"
            ]
          },
          "execution_count": 68,
          "metadata": {},
          "output_type": "execute_result"
        }
      ],
      "source": [
        "students.iloc[::2]"
      ]
    },
    {
      "cell_type": "markdown",
      "metadata": {},
      "source": [
        "### 3. Fancy Indexing"
      ]
    },
    {
      "cell_type": "code",
      "execution_count": 69,
      "metadata": {
        "colab": {
          "base_uri": "https://localhost:8080/",
          "height": 635
        },
        "id": "sZ-9vwck2kWx",
        "outputId": "fca0ca53-62e9-486e-c544-e324463ffb62"
      },
      "outputs": [
        {
          "data": {
            "text/html": [
              "<div>\n",
              "<style scoped>\n",
              "    .dataframe tbody tr th:only-of-type {\n",
              "        vertical-align: middle;\n",
              "    }\n",
              "\n",
              "    .dataframe tbody tr th {\n",
              "        vertical-align: top;\n",
              "    }\n",
              "\n",
              "    .dataframe thead th {\n",
              "        text-align: right;\n",
              "    }\n",
              "</style>\n",
              "<table border=\"1\" class=\"dataframe\">\n",
              "  <thead>\n",
              "    <tr style=\"text-align: right;\">\n",
              "      <th></th>\n",
              "      <th>iq</th>\n",
              "      <th>marks</th>\n",
              "      <th>package</th>\n",
              "    </tr>\n",
              "    <tr>\n",
              "      <th>name</th>\n",
              "      <th></th>\n",
              "      <th></th>\n",
              "      <th></th>\n",
              "    </tr>\n",
              "  </thead>\n",
              "  <tbody>\n",
              "    <tr>\n",
              "      <th>nitish</th>\n",
              "      <td>100</td>\n",
              "      <td>80</td>\n",
              "      <td>10</td>\n",
              "    </tr>\n",
              "    <tr>\n",
              "      <th>abhishek</th>\n",
              "      <td>80</td>\n",
              "      <td>50</td>\n",
              "      <td>2</td>\n",
              "    </tr>\n",
              "    <tr>\n",
              "      <th>ankita</th>\n",
              "      <td>0</td>\n",
              "      <td>0</td>\n",
              "      <td>0</td>\n",
              "    </tr>\n",
              "  </tbody>\n",
              "</table>\n",
              "</div>"
            ],
            "text/plain": [
              "           iq  marks  package\n",
              "name                         \n",
              "nitish    100     80       10\n",
              "abhishek   80     50        2\n",
              "ankita      0      0        0"
            ]
          },
          "execution_count": 69,
          "metadata": {},
          "output_type": "execute_result"
        }
      ],
      "source": [
        "students.iloc[[0,4,5]]"
      ]
    },
    {
      "cell_type": "markdown",
      "metadata": {},
      "source": [
        "## `loc`"
      ]
    },
    {
      "cell_type": "code",
      "execution_count": 70,
      "metadata": {
        "colab": {
          "base_uri": "https://localhost:8080/"
        },
        "id": "hyOae7adjh2d",
        "outputId": "e1a31fc3-f7d9-4238-cf9a-fdf0143a1087"
      },
      "outputs": [
        {
          "data": {
            "text/plain": [
              "iq         100\n",
              "marks       80\n",
              "package     10\n",
              "Name: nitish, dtype: int64"
            ]
          },
          "execution_count": 70,
          "metadata": {},
          "output_type": "execute_result"
        }
      ],
      "source": [
        "students.loc['nitish']"
      ]
    },
    {
      "cell_type": "code",
      "execution_count": 71,
      "metadata": {},
      "outputs": [
        {
          "data": {
            "text/html": [
              "<div>\n",
              "<style scoped>\n",
              "    .dataframe tbody tr th:only-of-type {\n",
              "        vertical-align: middle;\n",
              "    }\n",
              "\n",
              "    .dataframe tbody tr th {\n",
              "        vertical-align: top;\n",
              "    }\n",
              "\n",
              "    .dataframe thead th {\n",
              "        text-align: right;\n",
              "    }\n",
              "</style>\n",
              "<table border=\"1\" class=\"dataframe\">\n",
              "  <thead>\n",
              "    <tr style=\"text-align: right;\">\n",
              "      <th></th>\n",
              "      <th>iq</th>\n",
              "      <th>marks</th>\n",
              "      <th>package</th>\n",
              "    </tr>\n",
              "    <tr>\n",
              "      <th>name</th>\n",
              "      <th></th>\n",
              "      <th></th>\n",
              "      <th></th>\n",
              "    </tr>\n",
              "  </thead>\n",
              "  <tbody>\n",
              "    <tr>\n",
              "      <th>nitish</th>\n",
              "      <td>100</td>\n",
              "      <td>80</td>\n",
              "      <td>10</td>\n",
              "    </tr>\n",
              "    <tr>\n",
              "      <th>ankit</th>\n",
              "      <td>90</td>\n",
              "      <td>70</td>\n",
              "      <td>7</td>\n",
              "    </tr>\n",
              "    <tr>\n",
              "      <th>rupesh</th>\n",
              "      <td>120</td>\n",
              "      <td>100</td>\n",
              "      <td>14</td>\n",
              "    </tr>\n",
              "    <tr>\n",
              "      <th>rishabh</th>\n",
              "      <td>80</td>\n",
              "      <td>50</td>\n",
              "      <td>2</td>\n",
              "    </tr>\n",
              "  </tbody>\n",
              "</table>\n",
              "</div>"
            ],
            "text/plain": [
              "          iq  marks  package\n",
              "name                        \n",
              "nitish   100     80       10\n",
              "ankit     90     70        7\n",
              "rupesh   120    100       14\n",
              "rishabh   80     50        2"
            ]
          },
          "execution_count": 71,
          "metadata": {},
          "output_type": "execute_result"
        }
      ],
      "source": [
        "students.loc['nitish':'rishabh']"
      ]
    },
    {
      "cell_type": "code",
      "execution_count": 72,
      "metadata": {
        "colab": {
          "base_uri": "https://localhost:8080/",
          "height": 143
        },
        "id": "tboUtK1djiGQ",
        "outputId": "bf9ecde4-a5bd-425e-eeb9-9509be7e7b79"
      },
      "outputs": [
        {
          "data": {
            "text/html": [
              "<div>\n",
              "<style scoped>\n",
              "    .dataframe tbody tr th:only-of-type {\n",
              "        vertical-align: middle;\n",
              "    }\n",
              "\n",
              "    .dataframe tbody tr th {\n",
              "        vertical-align: top;\n",
              "    }\n",
              "\n",
              "    .dataframe thead th {\n",
              "        text-align: right;\n",
              "    }\n",
              "</style>\n",
              "<table border=\"1\" class=\"dataframe\">\n",
              "  <thead>\n",
              "    <tr style=\"text-align: right;\">\n",
              "      <th></th>\n",
              "      <th>iq</th>\n",
              "      <th>marks</th>\n",
              "      <th>package</th>\n",
              "    </tr>\n",
              "    <tr>\n",
              "      <th>name</th>\n",
              "      <th></th>\n",
              "      <th></th>\n",
              "      <th></th>\n",
              "    </tr>\n",
              "  </thead>\n",
              "  <tbody>\n",
              "    <tr>\n",
              "      <th>nitish</th>\n",
              "      <td>100</td>\n",
              "      <td>80</td>\n",
              "      <td>10</td>\n",
              "    </tr>\n",
              "    <tr>\n",
              "      <th>rupesh</th>\n",
              "      <td>120</td>\n",
              "      <td>100</td>\n",
              "      <td>14</td>\n",
              "    </tr>\n",
              "  </tbody>\n",
              "</table>\n",
              "</div>"
            ],
            "text/plain": [
              "         iq  marks  package\n",
              "name                       \n",
              "nitish  100     80       10\n",
              "rupesh  120    100       14"
            ]
          },
          "execution_count": 72,
          "metadata": {},
          "output_type": "execute_result"
        }
      ],
      "source": [
        "students.loc['nitish':'rishabh':2]"
      ]
    },
    {
      "cell_type": "code",
      "execution_count": 73,
      "metadata": {
        "colab": {
          "base_uri": "https://localhost:8080/",
          "height": 175
        },
        "id": "WOWnPNp6jiUK",
        "outputId": "b603b597-9bf1-40dc-c51b-c990cc7dc0d1"
      },
      "outputs": [
        {
          "data": {
            "text/html": [
              "<div>\n",
              "<style scoped>\n",
              "    .dataframe tbody tr th:only-of-type {\n",
              "        vertical-align: middle;\n",
              "    }\n",
              "\n",
              "    .dataframe tbody tr th {\n",
              "        vertical-align: top;\n",
              "    }\n",
              "\n",
              "    .dataframe thead th {\n",
              "        text-align: right;\n",
              "    }\n",
              "</style>\n",
              "<table border=\"1\" class=\"dataframe\">\n",
              "  <thead>\n",
              "    <tr style=\"text-align: right;\">\n",
              "      <th></th>\n",
              "      <th>iq</th>\n",
              "      <th>marks</th>\n",
              "      <th>package</th>\n",
              "    </tr>\n",
              "    <tr>\n",
              "      <th>name</th>\n",
              "      <th></th>\n",
              "      <th></th>\n",
              "      <th></th>\n",
              "    </tr>\n",
              "  </thead>\n",
              "  <tbody>\n",
              "    <tr>\n",
              "      <th>nitish</th>\n",
              "      <td>100</td>\n",
              "      <td>80</td>\n",
              "      <td>10</td>\n",
              "    </tr>\n",
              "    <tr>\n",
              "      <th>ankita</th>\n",
              "      <td>0</td>\n",
              "      <td>0</td>\n",
              "      <td>0</td>\n",
              "    </tr>\n",
              "    <tr>\n",
              "      <th>rupesh</th>\n",
              "      <td>120</td>\n",
              "      <td>100</td>\n",
              "      <td>14</td>\n",
              "    </tr>\n",
              "  </tbody>\n",
              "</table>\n",
              "</div>"
            ],
            "text/plain": [
              "         iq  marks  package\n",
              "name                       \n",
              "nitish  100     80       10\n",
              "ankita    0      0        0\n",
              "rupesh  120    100       14"
            ]
          },
          "execution_count": 73,
          "metadata": {},
          "output_type": "execute_result"
        }
      ],
      "source": [
        "students.loc[['nitish','ankita','rupesh']]"
      ]
    },
    {
      "cell_type": "code",
      "execution_count": 74,
      "metadata": {
        "colab": {
          "base_uri": "https://localhost:8080/",
          "height": 175
        },
        "id": "bEvsiB5wQoqC",
        "outputId": "0d6945ef-d7b0-4f84-cf9d-50e47fb7912e"
      },
      "outputs": [
        {
          "data": {
            "text/html": [
              "<div>\n",
              "<style scoped>\n",
              "    .dataframe tbody tr th:only-of-type {\n",
              "        vertical-align: middle;\n",
              "    }\n",
              "\n",
              "    .dataframe tbody tr th {\n",
              "        vertical-align: top;\n",
              "    }\n",
              "\n",
              "    .dataframe thead th {\n",
              "        text-align: right;\n",
              "    }\n",
              "</style>\n",
              "<table border=\"1\" class=\"dataframe\">\n",
              "  <thead>\n",
              "    <tr style=\"text-align: right;\">\n",
              "      <th></th>\n",
              "      <th>iq</th>\n",
              "      <th>marks</th>\n",
              "      <th>package</th>\n",
              "    </tr>\n",
              "    <tr>\n",
              "      <th>name</th>\n",
              "      <th></th>\n",
              "      <th></th>\n",
              "      <th></th>\n",
              "    </tr>\n",
              "  </thead>\n",
              "  <tbody>\n",
              "    <tr>\n",
              "      <th>nitish</th>\n",
              "      <td>100</td>\n",
              "      <td>80</td>\n",
              "      <td>10</td>\n",
              "    </tr>\n",
              "    <tr>\n",
              "      <th>rishabh</th>\n",
              "      <td>80</td>\n",
              "      <td>50</td>\n",
              "      <td>2</td>\n",
              "    </tr>\n",
              "    <tr>\n",
              "      <th>abhishek</th>\n",
              "      <td>80</td>\n",
              "      <td>50</td>\n",
              "      <td>2</td>\n",
              "    </tr>\n",
              "  </tbody>\n",
              "</table>\n",
              "</div>"
            ],
            "text/plain": [
              "           iq  marks  package\n",
              "name                         \n",
              "nitish    100     80       10\n",
              "rishabh    80     50        2\n",
              "abhishek   80     50        2"
            ]
          },
          "execution_count": 74,
          "metadata": {},
          "output_type": "execute_result"
        }
      ],
      "source": [
        "students.iloc[[0,3,4]]"
      ]
    },
    {
      "cell_type": "markdown",
      "metadata": {
        "id": "OP8KFcBiaZt-"
      },
      "source": [
        "### 4. Selecting both rows and cols"
      ]
    },
    {
      "cell_type": "code",
      "execution_count": 75,
      "metadata": {
        "colab": {
          "base_uri": "https://localhost:8080/",
          "height": 143
        },
        "id": "6QUgIi7kad1X",
        "outputId": "c29e9437-37a0-4258-e706-2d6f19aaa80f"
      },
      "outputs": [
        {
          "data": {
            "text/html": [
              "<div>\n",
              "<style scoped>\n",
              "    .dataframe tbody tr th:only-of-type {\n",
              "        vertical-align: middle;\n",
              "    }\n",
              "\n",
              "    .dataframe tbody tr th {\n",
              "        vertical-align: top;\n",
              "    }\n",
              "\n",
              "    .dataframe thead th {\n",
              "        text-align: right;\n",
              "    }\n",
              "</style>\n",
              "<table border=\"1\" class=\"dataframe\">\n",
              "  <thead>\n",
              "    <tr style=\"text-align: right;\">\n",
              "      <th></th>\n",
              "      <th>title_x</th>\n",
              "      <th>imdb_id</th>\n",
              "      <th>poster_path</th>\n",
              "    </tr>\n",
              "  </thead>\n",
              "  <tbody>\n",
              "    <tr>\n",
              "      <th>0</th>\n",
              "      <td>Uri: The Surgical Strike</td>\n",
              "      <td>tt8291224</td>\n",
              "      <td>https://upload.wikimedia.org/wikipedia/en/thum...</td>\n",
              "    </tr>\n",
              "    <tr>\n",
              "      <th>1</th>\n",
              "      <td>Battalion 609</td>\n",
              "      <td>tt9472208</td>\n",
              "      <td>NaN</td>\n",
              "    </tr>\n",
              "    <tr>\n",
              "      <th>2</th>\n",
              "      <td>The Accidental Prime Minister (film)</td>\n",
              "      <td>tt6986710</td>\n",
              "      <td>https://upload.wikimedia.org/wikipedia/en/thum...</td>\n",
              "    </tr>\n",
              "  </tbody>\n",
              "</table>\n",
              "</div>"
            ],
            "text/plain": [
              "                                title_x    imdb_id  \\\n",
              "0              Uri: The Surgical Strike  tt8291224   \n",
              "1                         Battalion 609  tt9472208   \n",
              "2  The Accidental Prime Minister (film)  tt6986710   \n",
              "\n",
              "                                         poster_path  \n",
              "0  https://upload.wikimedia.org/wikipedia/en/thum...  \n",
              "1                                                NaN  \n",
              "2  https://upload.wikimedia.org/wikipedia/en/thum...  "
            ]
          },
          "execution_count": 75,
          "metadata": {},
          "output_type": "execute_result"
        }
      ],
      "source": [
        "movies.iloc[0:3,0:3]"
      ]
    },
    {
      "cell_type": "code",
      "execution_count": 76,
      "metadata": {
        "colab": {
          "base_uri": "https://localhost:8080/",
          "height": 143
        },
        "id": "LGrzybQ6ad_d",
        "outputId": "75901163-a67b-4a6e-9ec8-88312a35a65e"
      },
      "outputs": [
        {
          "data": {
            "text/html": [
              "<div>\n",
              "<style scoped>\n",
              "    .dataframe tbody tr th:only-of-type {\n",
              "        vertical-align: middle;\n",
              "    }\n",
              "\n",
              "    .dataframe tbody tr th {\n",
              "        vertical-align: top;\n",
              "    }\n",
              "\n",
              "    .dataframe thead th {\n",
              "        text-align: right;\n",
              "    }\n",
              "</style>\n",
              "<table border=\"1\" class=\"dataframe\">\n",
              "  <thead>\n",
              "    <tr style=\"text-align: right;\">\n",
              "      <th></th>\n",
              "      <th>title_x</th>\n",
              "      <th>imdb_id</th>\n",
              "      <th>poster_path</th>\n",
              "    </tr>\n",
              "  </thead>\n",
              "  <tbody>\n",
              "    <tr>\n",
              "      <th>0</th>\n",
              "      <td>Uri: The Surgical Strike</td>\n",
              "      <td>tt8291224</td>\n",
              "      <td>https://upload.wikimedia.org/wikipedia/en/thum...</td>\n",
              "    </tr>\n",
              "    <tr>\n",
              "      <th>1</th>\n",
              "      <td>Battalion 609</td>\n",
              "      <td>tt9472208</td>\n",
              "      <td>NaN</td>\n",
              "    </tr>\n",
              "    <tr>\n",
              "      <th>2</th>\n",
              "      <td>The Accidental Prime Minister (film)</td>\n",
              "      <td>tt6986710</td>\n",
              "      <td>https://upload.wikimedia.org/wikipedia/en/thum...</td>\n",
              "    </tr>\n",
              "  </tbody>\n",
              "</table>\n",
              "</div>"
            ],
            "text/plain": [
              "                                title_x    imdb_id  \\\n",
              "0              Uri: The Surgical Strike  tt8291224   \n",
              "1                         Battalion 609  tt9472208   \n",
              "2  The Accidental Prime Minister (film)  tt6986710   \n",
              "\n",
              "                                         poster_path  \n",
              "0  https://upload.wikimedia.org/wikipedia/en/thum...  \n",
              "1                                                NaN  \n",
              "2  https://upload.wikimedia.org/wikipedia/en/thum...  "
            ]
          },
          "execution_count": 76,
          "metadata": {},
          "output_type": "execute_result"
        }
      ],
      "source": [
        "movies.loc[0:2,'title_x':'poster_path']"
      ]
    },
    {
      "cell_type": "markdown",
      "metadata": {},
      "source": [
        "> **Note:** When a DataFrame is created, pandas automatically assigns a numeric index (0, 1, 2, …). If we define a custom label-based index, the numeric positions still exist internally. Use **`iloc`** to access rows by their numeric positions, and **`loc`** to access rows by their label-based indexes.\n"
      ]
    },
    {
      "cell_type": "markdown",
      "metadata": {},
      "source": [
        "---"
      ]
    },
    {
      "cell_type": "markdown",
      "metadata": {
        "id": "VRAEYkfSNf9Z"
      },
      "source": [
        "# Filtering a DataFrame"
      ]
    },
    {
      "cell_type": "code",
      "execution_count": 78,
      "metadata": {
        "colab": {
          "base_uri": "https://localhost:8080/",
          "height": 298
        },
        "id": "xLlq8bktvi63",
        "outputId": "e0eb75d4-56ca-4a26-88bd-c111beb56f56"
      },
      "outputs": [
        {
          "data": {
            "text/plain": [
              "Index(['ID', 'City', 'Date', 'Season', 'MatchNumber', 'Team1', 'Team2',\n",
              "       'Venue', 'TossWinner', 'TossDecision', 'SuperOver', 'WinningTeam',\n",
              "       'WonBy', 'Margin', 'method', 'Player_of_Match', 'Team1Players',\n",
              "       'Team2Players', 'Umpire1', 'Umpire2'],\n",
              "      dtype='object')"
            ]
          },
          "execution_count": 78,
          "metadata": {},
          "output_type": "execute_result"
        }
      ],
      "source": [
        "ipl.columns"
      ]
    },
    {
      "cell_type": "markdown",
      "metadata": {},
      "source": [
        "## 1. Find all the Final Winners"
      ]
    },
    {
      "cell_type": "code",
      "execution_count": 79,
      "metadata": {},
      "outputs": [
        {
          "data": {
            "text/plain": [
              "0       True\n",
              "1      False\n",
              "2      False\n",
              "3      False\n",
              "4      False\n",
              "       ...  \n",
              "945    False\n",
              "946    False\n",
              "947    False\n",
              "948    False\n",
              "949    False\n",
              "Name: MatchNumber, Length: 950, dtype: bool"
            ]
          },
          "execution_count": 79,
          "metadata": {},
          "output_type": "execute_result"
        }
      ],
      "source": [
        "ipl['MatchNumber'] == 'Final'"
      ]
    },
    {
      "cell_type": "code",
      "execution_count": 80,
      "metadata": {},
      "outputs": [],
      "source": [
        "mask = ipl['MatchNumber'] == 'Final'\n",
        "new_df = ipl[mask]"
      ]
    },
    {
      "cell_type": "code",
      "execution_count": 81,
      "metadata": {},
      "outputs": [
        {
          "data": {
            "text/html": [
              "<div>\n",
              "<style scoped>\n",
              "    .dataframe tbody tr th:only-of-type {\n",
              "        vertical-align: middle;\n",
              "    }\n",
              "\n",
              "    .dataframe tbody tr th {\n",
              "        vertical-align: top;\n",
              "    }\n",
              "\n",
              "    .dataframe thead th {\n",
              "        text-align: right;\n",
              "    }\n",
              "</style>\n",
              "<table border=\"1\" class=\"dataframe\">\n",
              "  <thead>\n",
              "    <tr style=\"text-align: right;\">\n",
              "      <th></th>\n",
              "      <th>Season</th>\n",
              "      <th>WinningTeam</th>\n",
              "    </tr>\n",
              "  </thead>\n",
              "  <tbody>\n",
              "    <tr>\n",
              "      <th>0</th>\n",
              "      <td>2022</td>\n",
              "      <td>Gujarat Titans</td>\n",
              "    </tr>\n",
              "    <tr>\n",
              "      <th>74</th>\n",
              "      <td>2021</td>\n",
              "      <td>Chennai Super Kings</td>\n",
              "    </tr>\n",
              "    <tr>\n",
              "      <th>134</th>\n",
              "      <td>2020/21</td>\n",
              "      <td>Mumbai Indians</td>\n",
              "    </tr>\n",
              "    <tr>\n",
              "      <th>194</th>\n",
              "      <td>2019</td>\n",
              "      <td>Mumbai Indians</td>\n",
              "    </tr>\n",
              "    <tr>\n",
              "      <th>254</th>\n",
              "      <td>2018</td>\n",
              "      <td>Chennai Super Kings</td>\n",
              "    </tr>\n",
              "    <tr>\n",
              "      <th>314</th>\n",
              "      <td>2017</td>\n",
              "      <td>Mumbai Indians</td>\n",
              "    </tr>\n",
              "    <tr>\n",
              "      <th>373</th>\n",
              "      <td>2016</td>\n",
              "      <td>Sunrisers Hyderabad</td>\n",
              "    </tr>\n",
              "    <tr>\n",
              "      <th>433</th>\n",
              "      <td>2015</td>\n",
              "      <td>Mumbai Indians</td>\n",
              "    </tr>\n",
              "    <tr>\n",
              "      <th>492</th>\n",
              "      <td>2014</td>\n",
              "      <td>Kolkata Knight Riders</td>\n",
              "    </tr>\n",
              "    <tr>\n",
              "      <th>552</th>\n",
              "      <td>2013</td>\n",
              "      <td>Mumbai Indians</td>\n",
              "    </tr>\n",
              "    <tr>\n",
              "      <th>628</th>\n",
              "      <td>2012</td>\n",
              "      <td>Kolkata Knight Riders</td>\n",
              "    </tr>\n",
              "    <tr>\n",
              "      <th>702</th>\n",
              "      <td>2011</td>\n",
              "      <td>Chennai Super Kings</td>\n",
              "    </tr>\n",
              "    <tr>\n",
              "      <th>775</th>\n",
              "      <td>2009/10</td>\n",
              "      <td>Chennai Super Kings</td>\n",
              "    </tr>\n",
              "    <tr>\n",
              "      <th>835</th>\n",
              "      <td>2009</td>\n",
              "      <td>Deccan Chargers</td>\n",
              "    </tr>\n",
              "    <tr>\n",
              "      <th>892</th>\n",
              "      <td>2007/08</td>\n",
              "      <td>Rajasthan Royals</td>\n",
              "    </tr>\n",
              "  </tbody>\n",
              "</table>\n",
              "</div>"
            ],
            "text/plain": [
              "      Season            WinningTeam\n",
              "0       2022         Gujarat Titans\n",
              "74      2021    Chennai Super Kings\n",
              "134  2020/21         Mumbai Indians\n",
              "194     2019         Mumbai Indians\n",
              "254     2018    Chennai Super Kings\n",
              "314     2017         Mumbai Indians\n",
              "373     2016    Sunrisers Hyderabad\n",
              "433     2015         Mumbai Indians\n",
              "492     2014  Kolkata Knight Riders\n",
              "552     2013         Mumbai Indians\n",
              "628     2012  Kolkata Knight Riders\n",
              "702     2011    Chennai Super Kings\n",
              "775  2009/10    Chennai Super Kings\n",
              "835     2009        Deccan Chargers\n",
              "892  2007/08       Rajasthan Royals"
            ]
          },
          "execution_count": 81,
          "metadata": {},
          "output_type": "execute_result"
        }
      ],
      "source": [
        "new_df[['Season', 'WinningTeam']]"
      ]
    },
    {
      "cell_type": "markdown",
      "metadata": {},
      "source": [
        "$$OR$$"
      ]
    },
    {
      "cell_type": "code",
      "execution_count": 82,
      "metadata": {
        "colab": {
          "base_uri": "https://localhost:8080/",
          "height": 520
        },
        "id": "zVjGjyx7NjSR",
        "outputId": "19879233-7fff-4c69-e89f-63e984095a18"
      },
      "outputs": [
        {
          "data": {
            "text/html": [
              "<div>\n",
              "<style scoped>\n",
              "    .dataframe tbody tr th:only-of-type {\n",
              "        vertical-align: middle;\n",
              "    }\n",
              "\n",
              "    .dataframe tbody tr th {\n",
              "        vertical-align: top;\n",
              "    }\n",
              "\n",
              "    .dataframe thead th {\n",
              "        text-align: right;\n",
              "    }\n",
              "</style>\n",
              "<table border=\"1\" class=\"dataframe\">\n",
              "  <thead>\n",
              "    <tr style=\"text-align: right;\">\n",
              "      <th></th>\n",
              "      <th>Season</th>\n",
              "      <th>WinningTeam</th>\n",
              "    </tr>\n",
              "  </thead>\n",
              "  <tbody>\n",
              "    <tr>\n",
              "      <th>0</th>\n",
              "      <td>2022</td>\n",
              "      <td>Gujarat Titans</td>\n",
              "    </tr>\n",
              "    <tr>\n",
              "      <th>74</th>\n",
              "      <td>2021</td>\n",
              "      <td>Chennai Super Kings</td>\n",
              "    </tr>\n",
              "    <tr>\n",
              "      <th>134</th>\n",
              "      <td>2020/21</td>\n",
              "      <td>Mumbai Indians</td>\n",
              "    </tr>\n",
              "    <tr>\n",
              "      <th>194</th>\n",
              "      <td>2019</td>\n",
              "      <td>Mumbai Indians</td>\n",
              "    </tr>\n",
              "    <tr>\n",
              "      <th>254</th>\n",
              "      <td>2018</td>\n",
              "      <td>Chennai Super Kings</td>\n",
              "    </tr>\n",
              "    <tr>\n",
              "      <th>314</th>\n",
              "      <td>2017</td>\n",
              "      <td>Mumbai Indians</td>\n",
              "    </tr>\n",
              "    <tr>\n",
              "      <th>373</th>\n",
              "      <td>2016</td>\n",
              "      <td>Sunrisers Hyderabad</td>\n",
              "    </tr>\n",
              "    <tr>\n",
              "      <th>433</th>\n",
              "      <td>2015</td>\n",
              "      <td>Mumbai Indians</td>\n",
              "    </tr>\n",
              "    <tr>\n",
              "      <th>492</th>\n",
              "      <td>2014</td>\n",
              "      <td>Kolkata Knight Riders</td>\n",
              "    </tr>\n",
              "    <tr>\n",
              "      <th>552</th>\n",
              "      <td>2013</td>\n",
              "      <td>Mumbai Indians</td>\n",
              "    </tr>\n",
              "    <tr>\n",
              "      <th>628</th>\n",
              "      <td>2012</td>\n",
              "      <td>Kolkata Knight Riders</td>\n",
              "    </tr>\n",
              "    <tr>\n",
              "      <th>702</th>\n",
              "      <td>2011</td>\n",
              "      <td>Chennai Super Kings</td>\n",
              "    </tr>\n",
              "    <tr>\n",
              "      <th>775</th>\n",
              "      <td>2009/10</td>\n",
              "      <td>Chennai Super Kings</td>\n",
              "    </tr>\n",
              "    <tr>\n",
              "      <th>835</th>\n",
              "      <td>2009</td>\n",
              "      <td>Deccan Chargers</td>\n",
              "    </tr>\n",
              "    <tr>\n",
              "      <th>892</th>\n",
              "      <td>2007/08</td>\n",
              "      <td>Rajasthan Royals</td>\n",
              "    </tr>\n",
              "  </tbody>\n",
              "</table>\n",
              "</div>"
            ],
            "text/plain": [
              "      Season            WinningTeam\n",
              "0       2022         Gujarat Titans\n",
              "74      2021    Chennai Super Kings\n",
              "134  2020/21         Mumbai Indians\n",
              "194     2019         Mumbai Indians\n",
              "254     2018    Chennai Super Kings\n",
              "314     2017         Mumbai Indians\n",
              "373     2016    Sunrisers Hyderabad\n",
              "433     2015         Mumbai Indians\n",
              "492     2014  Kolkata Knight Riders\n",
              "552     2013         Mumbai Indians\n",
              "628     2012  Kolkata Knight Riders\n",
              "702     2011    Chennai Super Kings\n",
              "775  2009/10    Chennai Super Kings\n",
              "835     2009        Deccan Chargers\n",
              "892  2007/08       Rajasthan Royals"
            ]
          },
          "execution_count": 82,
          "metadata": {},
          "output_type": "execute_result"
        }
      ],
      "source": [
        "ipl[ipl['MatchNumber'] == 'Final'][['Season','WinningTeam']]"
      ]
    },
    {
      "cell_type": "markdown",
      "metadata": {},
      "source": [
        "## 2. How many matches CSK won in Kolkata"
      ]
    },
    {
      "cell_type": "code",
      "execution_count": 83,
      "metadata": {},
      "outputs": [
        {
          "data": {
            "text/html": [
              "<div>\n",
              "<style scoped>\n",
              "    .dataframe tbody tr th:only-of-type {\n",
              "        vertical-align: middle;\n",
              "    }\n",
              "\n",
              "    .dataframe tbody tr th {\n",
              "        vertical-align: top;\n",
              "    }\n",
              "\n",
              "    .dataframe thead th {\n",
              "        text-align: right;\n",
              "    }\n",
              "</style>\n",
              "<table border=\"1\" class=\"dataframe\">\n",
              "  <thead>\n",
              "    <tr style=\"text-align: right;\">\n",
              "      <th></th>\n",
              "      <th>ID</th>\n",
              "      <th>City</th>\n",
              "      <th>Date</th>\n",
              "      <th>Season</th>\n",
              "      <th>MatchNumber</th>\n",
              "      <th>Team1</th>\n",
              "      <th>Team2</th>\n",
              "      <th>Venue</th>\n",
              "      <th>TossWinner</th>\n",
              "      <th>TossDecision</th>\n",
              "      <th>SuperOver</th>\n",
              "      <th>WinningTeam</th>\n",
              "      <th>WonBy</th>\n",
              "      <th>Margin</th>\n",
              "      <th>method</th>\n",
              "      <th>Player_of_Match</th>\n",
              "      <th>Team1Players</th>\n",
              "      <th>Team2Players</th>\n",
              "      <th>Umpire1</th>\n",
              "      <th>Umpire2</th>\n",
              "    </tr>\n",
              "  </thead>\n",
              "  <tbody>\n",
              "    <tr>\n",
              "      <th>224</th>\n",
              "      <td>1178404</td>\n",
              "      <td>Kolkata</td>\n",
              "      <td>2019-04-14</td>\n",
              "      <td>2019</td>\n",
              "      <td>29</td>\n",
              "      <td>Kolkata Knight Riders</td>\n",
              "      <td>Chennai Super Kings</td>\n",
              "      <td>Eden Gardens</td>\n",
              "      <td>Chennai Super Kings</td>\n",
              "      <td>field</td>\n",
              "      <td>N</td>\n",
              "      <td>Chennai Super Kings</td>\n",
              "      <td>Wickets</td>\n",
              "      <td>5.0</td>\n",
              "      <td>NaN</td>\n",
              "      <td>Imran Tahir</td>\n",
              "      <td>['CA Lynn', 'SP Narine', 'N Rana', 'RV Uthappa...</td>\n",
              "      <td>['SR Watson', 'F du Plessis', 'SK Raina', 'AT ...</td>\n",
              "      <td>CK Nandan</td>\n",
              "      <td>RJ Tucker</td>\n",
              "    </tr>\n",
              "    <tr>\n",
              "      <th>602</th>\n",
              "      <td>598022</td>\n",
              "      <td>Kolkata</td>\n",
              "      <td>2013-04-20</td>\n",
              "      <td>2013</td>\n",
              "      <td>26</td>\n",
              "      <td>Kolkata Knight Riders</td>\n",
              "      <td>Chennai Super Kings</td>\n",
              "      <td>Eden Gardens</td>\n",
              "      <td>Kolkata Knight Riders</td>\n",
              "      <td>bat</td>\n",
              "      <td>N</td>\n",
              "      <td>Chennai Super Kings</td>\n",
              "      <td>Wickets</td>\n",
              "      <td>4.0</td>\n",
              "      <td>NaN</td>\n",
              "      <td>RA Jadeja</td>\n",
              "      <td>['G Gambhir', 'YK Pathan', 'JH Kallis', 'EJG M...</td>\n",
              "      <td>['MEK Hussey', 'R Ashwin', 'M Vijay', 'SK Rain...</td>\n",
              "      <td>Asad Rauf</td>\n",
              "      <td>AK Chaudhary</td>\n",
              "    </tr>\n",
              "    <tr>\n",
              "      <th>641</th>\n",
              "      <td>548368</td>\n",
              "      <td>Kolkata</td>\n",
              "      <td>2012-05-14</td>\n",
              "      <td>2012</td>\n",
              "      <td>63</td>\n",
              "      <td>Kolkata Knight Riders</td>\n",
              "      <td>Chennai Super Kings</td>\n",
              "      <td>Eden Gardens</td>\n",
              "      <td>Chennai Super Kings</td>\n",
              "      <td>field</td>\n",
              "      <td>N</td>\n",
              "      <td>Chennai Super Kings</td>\n",
              "      <td>Wickets</td>\n",
              "      <td>5.0</td>\n",
              "      <td>NaN</td>\n",
              "      <td>MEK Hussey</td>\n",
              "      <td>['G Gambhir', 'BB McCullum', 'JH Kallis', 'MK ...</td>\n",
              "      <td>['MEK Hussey', 'M Vijay', 'SK Raina', 'F du Pl...</td>\n",
              "      <td>JD Cloete</td>\n",
              "      <td>SJA Taufel</td>\n",
              "    </tr>\n",
              "    <tr>\n",
              "      <th>827</th>\n",
              "      <td>419113</td>\n",
              "      <td>Kolkata</td>\n",
              "      <td>2010-03-16</td>\n",
              "      <td>2009/10</td>\n",
              "      <td>8</td>\n",
              "      <td>Kolkata Knight Riders</td>\n",
              "      <td>Chennai Super Kings</td>\n",
              "      <td>Eden Gardens</td>\n",
              "      <td>Chennai Super Kings</td>\n",
              "      <td>bat</td>\n",
              "      <td>N</td>\n",
              "      <td>Chennai Super Kings</td>\n",
              "      <td>Runs</td>\n",
              "      <td>55.0</td>\n",
              "      <td>NaN</td>\n",
              "      <td>MS Dhoni</td>\n",
              "      <td>['BJ Hodge', 'MK Tiwary', 'SC Ganguly', 'WP Sa...</td>\n",
              "      <td>['M Vijay', 'ML Hayden', 'SK Raina', 'S Badrin...</td>\n",
              "      <td>HDPK Dharmasena</td>\n",
              "      <td>AM Saheba</td>\n",
              "    </tr>\n",
              "    <tr>\n",
              "      <th>908</th>\n",
              "      <td>336025</td>\n",
              "      <td>Kolkata</td>\n",
              "      <td>2008-05-18</td>\n",
              "      <td>2007/08</td>\n",
              "      <td>41</td>\n",
              "      <td>Kolkata Knight Riders</td>\n",
              "      <td>Chennai Super Kings</td>\n",
              "      <td>Eden Gardens</td>\n",
              "      <td>Kolkata Knight Riders</td>\n",
              "      <td>bat</td>\n",
              "      <td>N</td>\n",
              "      <td>Chennai Super Kings</td>\n",
              "      <td>Runs</td>\n",
              "      <td>3.0</td>\n",
              "      <td>D/L</td>\n",
              "      <td>M Ntini</td>\n",
              "      <td>['Salman Butt', 'Mohammad Hafeez', 'SC Ganguly...</td>\n",
              "      <td>['PA Patel', 'SP Fleming', 'S Vidyut', 'SK Rai...</td>\n",
              "      <td>Asad Rauf</td>\n",
              "      <td>K Hariharan</td>\n",
              "    </tr>\n",
              "  </tbody>\n",
              "</table>\n",
              "</div>"
            ],
            "text/plain": [
              "          ID     City        Date   Season MatchNumber                  Team1  \\\n",
              "224  1178404  Kolkata  2019-04-14     2019          29  Kolkata Knight Riders   \n",
              "602   598022  Kolkata  2013-04-20     2013          26  Kolkata Knight Riders   \n",
              "641   548368  Kolkata  2012-05-14     2012          63  Kolkata Knight Riders   \n",
              "827   419113  Kolkata  2010-03-16  2009/10           8  Kolkata Knight Riders   \n",
              "908   336025  Kolkata  2008-05-18  2007/08          41  Kolkata Knight Riders   \n",
              "\n",
              "                   Team2         Venue             TossWinner TossDecision  \\\n",
              "224  Chennai Super Kings  Eden Gardens    Chennai Super Kings        field   \n",
              "602  Chennai Super Kings  Eden Gardens  Kolkata Knight Riders          bat   \n",
              "641  Chennai Super Kings  Eden Gardens    Chennai Super Kings        field   \n",
              "827  Chennai Super Kings  Eden Gardens    Chennai Super Kings          bat   \n",
              "908  Chennai Super Kings  Eden Gardens  Kolkata Knight Riders          bat   \n",
              "\n",
              "    SuperOver          WinningTeam    WonBy  Margin method Player_of_Match  \\\n",
              "224         N  Chennai Super Kings  Wickets     5.0    NaN     Imran Tahir   \n",
              "602         N  Chennai Super Kings  Wickets     4.0    NaN       RA Jadeja   \n",
              "641         N  Chennai Super Kings  Wickets     5.0    NaN      MEK Hussey   \n",
              "827         N  Chennai Super Kings     Runs    55.0    NaN        MS Dhoni   \n",
              "908         N  Chennai Super Kings     Runs     3.0    D/L         M Ntini   \n",
              "\n",
              "                                          Team1Players  \\\n",
              "224  ['CA Lynn', 'SP Narine', 'N Rana', 'RV Uthappa...   \n",
              "602  ['G Gambhir', 'YK Pathan', 'JH Kallis', 'EJG M...   \n",
              "641  ['G Gambhir', 'BB McCullum', 'JH Kallis', 'MK ...   \n",
              "827  ['BJ Hodge', 'MK Tiwary', 'SC Ganguly', 'WP Sa...   \n",
              "908  ['Salman Butt', 'Mohammad Hafeez', 'SC Ganguly...   \n",
              "\n",
              "                                          Team2Players          Umpire1  \\\n",
              "224  ['SR Watson', 'F du Plessis', 'SK Raina', 'AT ...        CK Nandan   \n",
              "602  ['MEK Hussey', 'R Ashwin', 'M Vijay', 'SK Rain...        Asad Rauf   \n",
              "641  ['MEK Hussey', 'M Vijay', 'SK Raina', 'F du Pl...        JD Cloete   \n",
              "827  ['M Vijay', 'ML Hayden', 'SK Raina', 'S Badrin...  HDPK Dharmasena   \n",
              "908  ['PA Patel', 'SP Fleming', 'S Vidyut', 'SK Rai...        Asad Rauf   \n",
              "\n",
              "          Umpire2  \n",
              "224     RJ Tucker  \n",
              "602  AK Chaudhary  \n",
              "641    SJA Taufel  \n",
              "827     AM Saheba  \n",
              "908   K Hariharan  "
            ]
          },
          "execution_count": 83,
          "metadata": {},
          "output_type": "execute_result"
        }
      ],
      "source": [
        "ipl[(ipl['City'] == 'Kolkata') & (ipl['WinningTeam'] == 'Chennai Super Kings')]"
      ]
    },
    {
      "cell_type": "code",
      "execution_count": 84,
      "metadata": {},
      "outputs": [
        {
          "data": {
            "text/plain": [
              "5"
            ]
          },
          "execution_count": 84,
          "metadata": {},
          "output_type": "execute_result"
        }
      ],
      "source": [
        "ipl[(ipl['City'] == 'Kolkata') & (ipl['WinningTeam'] == 'Chennai Super Kings')].shape[0]"
      ]
    },
    {
      "cell_type": "markdown",
      "metadata": {},
      "source": [
        "## 3. How many super over finishes have occured"
      ]
    },
    {
      "cell_type": "code",
      "execution_count": 85,
      "metadata": {
        "colab": {
          "base_uri": "https://localhost:8080/"
        },
        "id": "BxGq-wpGNjho",
        "outputId": "ffc63ff9-af69-4f93-d4a7-49df211cf8c5"
      },
      "outputs": [
        {
          "data": {
            "text/plain": [
              "14"
            ]
          },
          "execution_count": 85,
          "metadata": {},
          "output_type": "execute_result"
        }
      ],
      "source": [
        "ipl[ipl['SuperOver']=='Y'].shape[0]"
      ]
    },
    {
      "cell_type": "markdown",
      "metadata": {},
      "source": [
        "## 4. Toss winner is match winner in percentage"
      ]
    },
    {
      "cell_type": "code",
      "execution_count": 86,
      "metadata": {},
      "outputs": [
        {
          "data": {
            "text/plain": [
              "51.473684210526315"
            ]
          },
          "execution_count": 86,
          "metadata": {},
          "output_type": "execute_result"
        }
      ],
      "source": [
        "n = ipl[ipl['TossWinner'] == ipl['WinningTeam']].shape[0]\n",
        "\n",
        "d = ipl.shape[0]\n",
        "\n",
        "percentage = (n/d)*100\n",
        "percentage"
      ]
    },
    {
      "cell_type": "markdown",
      "metadata": {},
      "source": [
        "## 5. Movies with rating higher than 8 and votes>10000"
      ]
    },
    {
      "cell_type": "code",
      "execution_count": 87,
      "metadata": {},
      "outputs": [
        {
          "data": {
            "text/plain": [
              "43"
            ]
          },
          "execution_count": 87,
          "metadata": {},
          "output_type": "execute_result"
        }
      ],
      "source": [
        "movies[(movies['imdb_rating'] > 8) & (movies['imdb_votes'] > 10000)].shape[0]"
      ]
    },
    {
      "cell_type": "markdown",
      "metadata": {},
      "source": [
        "## 6. Action movies with rating higher than 7.5"
      ]
    },
    {
      "cell_type": "code",
      "execution_count": 88,
      "metadata": {},
      "outputs": [
        {
          "data": {
            "text/plain": [
              "33"
            ]
          },
          "execution_count": 88,
          "metadata": {},
          "output_type": "execute_result"
        }
      ],
      "source": [
        "mask1 = movies['imdb_rating'] > 7.5\n",
        "mask2 = movies['genres'].str.contains('Action')\n",
        "movies[mask1 & mask2].shape[0]"
      ]
    },
    {
      "cell_type": "markdown",
      "metadata": {},
      "source": [
        "$$OR$$"
      ]
    },
    {
      "cell_type": "code",
      "execution_count": 89,
      "metadata": {},
      "outputs": [
        {
          "data": {
            "text/plain": [
              "Index(['ID', 'City', 'Date', 'Season', 'MatchNumber', 'Team1', 'Team2',\n",
              "       'Venue', 'TossWinner', 'TossDecision', 'SuperOver', 'WinningTeam',\n",
              "       'WonBy', 'Margin', 'method', 'Player_of_Match', 'Team1Players',\n",
              "       'Team2Players', 'Umpire1', 'Umpire2'],\n",
              "      dtype='object')"
            ]
          },
          "execution_count": 89,
          "metadata": {},
          "output_type": "execute_result"
        }
      ],
      "source": [
        "ipl.columns"
      ]
    },
    {
      "cell_type": "code",
      "execution_count": 90,
      "metadata": {},
      "outputs": [
        {
          "data": {
            "text/plain": [
              "33"
            ]
          },
          "execution_count": 90,
          "metadata": {},
          "output_type": "execute_result"
        }
      ],
      "source": [
        "mask1 = movies['imdb_rating'] > 7.5\n",
        "mask2 = movies['genres'].str.split('|').apply(lambda x:'Action' in x)\n",
        "movies[mask1 & mask2].shape[0]"
      ]
    },
    {
      "cell_type": "markdown",
      "metadata": {},
      "source": [
        "## 7. Write a function that can return the track record of 2 teams against each other"
      ]
    },
    {
      "cell_type": "code",
      "execution_count": 91,
      "metadata": {},
      "outputs": [],
      "source": [
        "import pandas as pd\n",
        "\n",
        "def head_to_head(team1, team2):\n",
        "    mask1 = (ipl['Team1'] == team1) & (ipl['Team2'] == team2)\n",
        "    mask2 = (ipl['Team1'] == team2) & (ipl['Team2'] == team1)\n",
        "    result = ipl[mask1 | mask2]\n",
        "    \n",
        "    return result\n"
      ]
    },
    {
      "cell_type": "code",
      "execution_count": 92,
      "metadata": {},
      "outputs": [
        {
          "data": {
            "text/plain": [
              "26"
            ]
          },
          "execution_count": 92,
          "metadata": {},
          "output_type": "execute_result"
        }
      ],
      "source": [
        "# 1. Total no of matches played between teams\n",
        "csk_vs_kkr = head_to_head('Chennai Super Kings', 'Kolkata Knight Riders')\n",
        "csk_vs_kkr.shape[0]"
      ]
    },
    {
      "cell_type": "code",
      "execution_count": 93,
      "metadata": {},
      "outputs": [
        {
          "data": {
            "text/plain": [
              "17"
            ]
          },
          "execution_count": 93,
          "metadata": {},
          "output_type": "execute_result"
        }
      ],
      "source": [
        "# 2. csk win\n",
        "mask = csk_vs_kkr['WinningTeam']=='Chennai Super Kings'\n",
        "csk_win = csk_vs_kkr[mask]\n",
        "csk_win.shape[0]"
      ]
    },
    {
      "cell_type": "code",
      "execution_count": 94,
      "metadata": {},
      "outputs": [
        {
          "data": {
            "text/plain": [
              "9"
            ]
          },
          "execution_count": 94,
          "metadata": {},
          "output_type": "execute_result"
        }
      ],
      "source": [
        "# 3. kkr win\n",
        "mask = csk_vs_kkr['WinningTeam']=='Kolkata Knight Riders'\n",
        "kkr_win = csk_vs_kkr[mask]\n",
        "kkr_win.shape[0]"
      ]
    },
    {
      "cell_type": "markdown",
      "metadata": {},
      "source": [
        "---"
      ]
    },
    {
      "cell_type": "markdown",
      "metadata": {},
      "source": [
        "# Adding new Cols to existing DataFram"
      ]
    },
    {
      "cell_type": "markdown",
      "metadata": {},
      "source": [
        "$$Before$$"
      ]
    },
    {
      "cell_type": "code",
      "execution_count": 95,
      "metadata": {},
      "outputs": [
        {
          "data": {
            "text/plain": [
              "Index(['title_x', 'imdb_id', 'poster_path', 'wiki_link', 'title_y',\n",
              "       'original_title', 'is_adult', 'year_of_release', 'runtime', 'genres',\n",
              "       'imdb_rating', 'imdb_votes', 'story', 'summary', 'tagline', 'actors',\n",
              "       'wins_nominations', 'release_date'],\n",
              "      dtype='object')"
            ]
          },
          "execution_count": 95,
          "metadata": {},
          "output_type": "execute_result"
        }
      ],
      "source": [
        "movies.columns"
      ]
    },
    {
      "cell_type": "code",
      "execution_count": 96,
      "metadata": {},
      "outputs": [
        {
          "data": {
            "text/plain": [
              "18"
            ]
          },
          "execution_count": 96,
          "metadata": {},
          "output_type": "execute_result"
        }
      ],
      "source": [
        "movies.columns.shape[0]"
      ]
    },
    {
      "cell_type": "markdown",
      "metadata": {},
      "source": [
        "$$After$$"
      ]
    },
    {
      "cell_type": "code",
      "execution_count": 97,
      "metadata": {
        "colab": {
          "base_uri": "https://localhost:8080/",
          "height": 635
        },
        "id": "t7GmI1tn24Ge",
        "outputId": "a27a5542-6add-4e36-a7a7-865cf4e2e1e2"
      },
      "outputs": [
        {
          "data": {
            "text/html": [
              "<div>\n",
              "<style scoped>\n",
              "    .dataframe tbody tr th:only-of-type {\n",
              "        vertical-align: middle;\n",
              "    }\n",
              "\n",
              "    .dataframe tbody tr th {\n",
              "        vertical-align: top;\n",
              "    }\n",
              "\n",
              "    .dataframe thead th {\n",
              "        text-align: right;\n",
              "    }\n",
              "</style>\n",
              "<table border=\"1\" class=\"dataframe\">\n",
              "  <thead>\n",
              "    <tr style=\"text-align: right;\">\n",
              "      <th></th>\n",
              "      <th>title_x</th>\n",
              "      <th>imdb_id</th>\n",
              "      <th>poster_path</th>\n",
              "      <th>wiki_link</th>\n",
              "      <th>title_y</th>\n",
              "      <th>original_title</th>\n",
              "      <th>is_adult</th>\n",
              "      <th>year_of_release</th>\n",
              "      <th>runtime</th>\n",
              "      <th>genres</th>\n",
              "      <th>imdb_rating</th>\n",
              "      <th>imdb_votes</th>\n",
              "      <th>story</th>\n",
              "      <th>summary</th>\n",
              "      <th>tagline</th>\n",
              "      <th>actors</th>\n",
              "      <th>wins_nominations</th>\n",
              "      <th>release_date</th>\n",
              "      <th>Country</th>\n",
              "    </tr>\n",
              "  </thead>\n",
              "  <tbody>\n",
              "    <tr>\n",
              "      <th>0</th>\n",
              "      <td>Uri: The Surgical Strike</td>\n",
              "      <td>tt8291224</td>\n",
              "      <td>https://upload.wikimedia.org/wikipedia/en/thum...</td>\n",
              "      <td>https://en.wikipedia.org/wiki/Uri:_The_Surgica...</td>\n",
              "      <td>Uri: The Surgical Strike</td>\n",
              "      <td>Uri: The Surgical Strike</td>\n",
              "      <td>0</td>\n",
              "      <td>2019</td>\n",
              "      <td>138</td>\n",
              "      <td>Action|Drama|War</td>\n",
              "      <td>8.4</td>\n",
              "      <td>35112</td>\n",
              "      <td>Divided over five chapters  the film chronicle...</td>\n",
              "      <td>Indian army special forces execute a covert op...</td>\n",
              "      <td>NaN</td>\n",
              "      <td>Vicky Kaushal|Paresh Rawal|Mohit Raina|Yami Ga...</td>\n",
              "      <td>4 wins</td>\n",
              "      <td>11 January 2019 (USA)</td>\n",
              "      <td>India</td>\n",
              "    </tr>\n",
              "    <tr>\n",
              "      <th>1</th>\n",
              "      <td>Battalion 609</td>\n",
              "      <td>tt9472208</td>\n",
              "      <td>NaN</td>\n",
              "      <td>https://en.wikipedia.org/wiki/Battalion_609</td>\n",
              "      <td>Battalion 609</td>\n",
              "      <td>Battalion 609</td>\n",
              "      <td>0</td>\n",
              "      <td>2019</td>\n",
              "      <td>131</td>\n",
              "      <td>War</td>\n",
              "      <td>4.1</td>\n",
              "      <td>73</td>\n",
              "      <td>The story revolves around a cricket match betw...</td>\n",
              "      <td>The story of Battalion 609 revolves around a c...</td>\n",
              "      <td>NaN</td>\n",
              "      <td>Vicky Ahuja|Shoaib Ibrahim|Shrikant Kamat|Elen...</td>\n",
              "      <td>NaN</td>\n",
              "      <td>11 January 2019 (India)</td>\n",
              "      <td>India</td>\n",
              "    </tr>\n",
              "  </tbody>\n",
              "</table>\n",
              "</div>"
            ],
            "text/plain": [
              "                    title_x    imdb_id  \\\n",
              "0  Uri: The Surgical Strike  tt8291224   \n",
              "1             Battalion 609  tt9472208   \n",
              "\n",
              "                                         poster_path  \\\n",
              "0  https://upload.wikimedia.org/wikipedia/en/thum...   \n",
              "1                                                NaN   \n",
              "\n",
              "                                           wiki_link  \\\n",
              "0  https://en.wikipedia.org/wiki/Uri:_The_Surgica...   \n",
              "1        https://en.wikipedia.org/wiki/Battalion_609   \n",
              "\n",
              "                    title_y            original_title  is_adult  \\\n",
              "0  Uri: The Surgical Strike  Uri: The Surgical Strike         0   \n",
              "1             Battalion 609             Battalion 609         0   \n",
              "\n",
              "   year_of_release runtime            genres  imdb_rating  imdb_votes  \\\n",
              "0             2019     138  Action|Drama|War          8.4       35112   \n",
              "1             2019     131               War          4.1          73   \n",
              "\n",
              "                                               story  \\\n",
              "0  Divided over five chapters  the film chronicle...   \n",
              "1  The story revolves around a cricket match betw...   \n",
              "\n",
              "                                             summary tagline  \\\n",
              "0  Indian army special forces execute a covert op...     NaN   \n",
              "1  The story of Battalion 609 revolves around a c...     NaN   \n",
              "\n",
              "                                              actors wins_nominations  \\\n",
              "0  Vicky Kaushal|Paresh Rawal|Mohit Raina|Yami Ga...           4 wins   \n",
              "1  Vicky Ahuja|Shoaib Ibrahim|Shrikant Kamat|Elen...              NaN   \n",
              "\n",
              "              release_date Country  \n",
              "0    11 January 2019 (USA)   India  \n",
              "1  11 January 2019 (India)   India  "
            ]
          },
          "execution_count": 97,
          "metadata": {},
          "output_type": "execute_result"
        }
      ],
      "source": [
        "# completely new\n",
        "movies['Country'] = 'India'\n",
        "movies.head(2)"
      ]
    },
    {
      "cell_type": "code",
      "execution_count": 98,
      "metadata": {},
      "outputs": [
        {
          "data": {
            "text/plain": [
              "19"
            ]
          },
          "execution_count": 98,
          "metadata": {},
          "output_type": "execute_result"
        }
      ],
      "source": [
        "movies.columns.shape[0]"
      ]
    },
    {
      "cell_type": "markdown",
      "metadata": {},
      "source": [
        "> Create new col lead actor. from actor, where first actor will be the lead actor. "
      ]
    },
    {
      "cell_type": "code",
      "execution_count": null,
      "metadata": {},
      "outputs": [],
      "source": [
        "# movies = movies.dropna()"
      ]
    },
    {
      "cell_type": "markdown",
      "metadata": {},
      "source": [
        "> **Note:** NaN values are stored as `float` datatype. And in our next program, we dont require any `NaN` value, so we drop all rows that have any cells as `NaN`.\n",
        "\n",
        "> **Note:** Use this method very carefully as it drops the complete row where even 1 cell is Empty"
      ]
    },
    {
      "cell_type": "code",
      "execution_count": 106,
      "metadata": {},
      "outputs": [
        {
          "name": "stdout",
          "output_type": "stream",
          "text": [
            "<class 'pandas.core.frame.DataFrame'>\n",
            "Index: 298 entries, 11 to 1623\n",
            "Data columns (total 19 columns):\n",
            " #   Column            Non-Null Count  Dtype  \n",
            "---  ------            --------------  -----  \n",
            " 0   title_x           298 non-null    object \n",
            " 1   imdb_id           298 non-null    object \n",
            " 2   poster_path       298 non-null    object \n",
            " 3   wiki_link         298 non-null    object \n",
            " 4   title_y           298 non-null    object \n",
            " 5   original_title    298 non-null    object \n",
            " 6   is_adult          298 non-null    int64  \n",
            " 7   year_of_release   298 non-null    int64  \n",
            " 8   runtime           298 non-null    object \n",
            " 9   genres            298 non-null    object \n",
            " 10  imdb_rating       298 non-null    float64\n",
            " 11  imdb_votes        298 non-null    int64  \n",
            " 12  story             298 non-null    object \n",
            " 13  summary           298 non-null    object \n",
            " 14  tagline           298 non-null    object \n",
            " 15  actors            298 non-null    object \n",
            " 16  wins_nominations  298 non-null    object \n",
            " 17  release_date      298 non-null    object \n",
            " 18  Country           298 non-null    object \n",
            "dtypes: float64(1), int64(3), object(15)\n",
            "memory usage: 46.6+ KB\n"
          ]
        }
      ],
      "source": [
        "movies.info()"
      ]
    },
    {
      "cell_type": "code",
      "execution_count": 107,
      "metadata": {
        "colab": {
          "base_uri": "https://localhost:8080/",
          "height": 739
        },
        "id": "ge6LfvI7bBR9",
        "outputId": "645ae722-53a5-4e1e-c146-45d0fe1edd47"
      },
      "outputs": [
        {
          "data": {
            "text/html": [
              "<div>\n",
              "<style scoped>\n",
              "    .dataframe tbody tr th:only-of-type {\n",
              "        vertical-align: middle;\n",
              "    }\n",
              "\n",
              "    .dataframe tbody tr th {\n",
              "        vertical-align: top;\n",
              "    }\n",
              "\n",
              "    .dataframe thead th {\n",
              "        text-align: right;\n",
              "    }\n",
              "</style>\n",
              "<table border=\"1\" class=\"dataframe\">\n",
              "  <thead>\n",
              "    <tr style=\"text-align: right;\">\n",
              "      <th></th>\n",
              "      <th>title_x</th>\n",
              "      <th>imdb_id</th>\n",
              "      <th>poster_path</th>\n",
              "      <th>wiki_link</th>\n",
              "      <th>title_y</th>\n",
              "      <th>original_title</th>\n",
              "      <th>is_adult</th>\n",
              "      <th>year_of_release</th>\n",
              "      <th>runtime</th>\n",
              "      <th>genres</th>\n",
              "      <th>imdb_rating</th>\n",
              "      <th>imdb_votes</th>\n",
              "      <th>story</th>\n",
              "      <th>summary</th>\n",
              "      <th>tagline</th>\n",
              "      <th>actors</th>\n",
              "      <th>wins_nominations</th>\n",
              "      <th>release_date</th>\n",
              "      <th>Country</th>\n",
              "      <th>lead actor</th>\n",
              "    </tr>\n",
              "  </thead>\n",
              "  <tbody>\n",
              "    <tr>\n",
              "      <th>11</th>\n",
              "      <td>Gully Boy</td>\n",
              "      <td>tt2395469</td>\n",
              "      <td>https://upload.wikimedia.org/wikipedia/en/thum...</td>\n",
              "      <td>https://en.wikipedia.org/wiki/Gully_Boy</td>\n",
              "      <td>Gully Boy</td>\n",
              "      <td>Gully Boy</td>\n",
              "      <td>0</td>\n",
              "      <td>2019</td>\n",
              "      <td>153</td>\n",
              "      <td>Drama|Music</td>\n",
              "      <td>8.2</td>\n",
              "      <td>22440</td>\n",
              "      <td>Gully Boy is a film about a 22-year-old boy \"M...</td>\n",
              "      <td>A coming-of-age story based on the lives of st...</td>\n",
              "      <td>Apna Time Aayega!</td>\n",
              "      <td>Ranveer Singh|Alia Bhatt|Siddhant Chaturvedi|V...</td>\n",
              "      <td>6 wins &amp; 3 nominations</td>\n",
              "      <td>14 February 2019 (USA)</td>\n",
              "      <td>India</td>\n",
              "      <td>Ranveer Singh</td>\n",
              "    </tr>\n",
              "    <tr>\n",
              "      <th>34</th>\n",
              "      <td>Yeh Hai India</td>\n",
              "      <td>tt5525846</td>\n",
              "      <td>https://upload.wikimedia.org/wikipedia/en/thum...</td>\n",
              "      <td>https://en.wikipedia.org/wiki/Yeh_Hai_India</td>\n",
              "      <td>Yeh Hai India</td>\n",
              "      <td>Yeh Hai India</td>\n",
              "      <td>0</td>\n",
              "      <td>2017</td>\n",
              "      <td>128</td>\n",
              "      <td>Action|Adventure|Drama</td>\n",
              "      <td>5.7</td>\n",
              "      <td>169</td>\n",
              "      <td>Yeh Hai India  follows the story of a 25 years...</td>\n",
              "      <td>Yeh Hai India  follows the story of a 25 years...</td>\n",
              "      <td>A Film for Every Indian</td>\n",
              "      <td>Gavie Chahal|Mohan Agashe|Mohan Joshi|Lom Harsh|</td>\n",
              "      <td>2 wins &amp; 1 nomination</td>\n",
              "      <td>24 May 2019 (India)</td>\n",
              "      <td>India</td>\n",
              "      <td>Gavie Chahal</td>\n",
              "    </tr>\n",
              "  </tbody>\n",
              "</table>\n",
              "</div>"
            ],
            "text/plain": [
              "          title_x    imdb_id  \\\n",
              "11      Gully Boy  tt2395469   \n",
              "34  Yeh Hai India  tt5525846   \n",
              "\n",
              "                                          poster_path  \\\n",
              "11  https://upload.wikimedia.org/wikipedia/en/thum...   \n",
              "34  https://upload.wikimedia.org/wikipedia/en/thum...   \n",
              "\n",
              "                                      wiki_link        title_y original_title  \\\n",
              "11      https://en.wikipedia.org/wiki/Gully_Boy      Gully Boy      Gully Boy   \n",
              "34  https://en.wikipedia.org/wiki/Yeh_Hai_India  Yeh Hai India  Yeh Hai India   \n",
              "\n",
              "    is_adult  year_of_release runtime                  genres  imdb_rating  \\\n",
              "11         0             2019     153             Drama|Music          8.2   \n",
              "34         0             2017     128  Action|Adventure|Drama          5.7   \n",
              "\n",
              "    imdb_votes                                              story  \\\n",
              "11       22440  Gully Boy is a film about a 22-year-old boy \"M...   \n",
              "34         169  Yeh Hai India  follows the story of a 25 years...   \n",
              "\n",
              "                                              summary  \\\n",
              "11  A coming-of-age story based on the lives of st...   \n",
              "34  Yeh Hai India  follows the story of a 25 years...   \n",
              "\n",
              "                    tagline  \\\n",
              "11        Apna Time Aayega!   \n",
              "34  A Film for Every Indian   \n",
              "\n",
              "                                               actors        wins_nominations  \\\n",
              "11  Ranveer Singh|Alia Bhatt|Siddhant Chaturvedi|V...  6 wins & 3 nominations   \n",
              "34   Gavie Chahal|Mohan Agashe|Mohan Joshi|Lom Harsh|   2 wins & 1 nomination   \n",
              "\n",
              "              release_date Country     lead actor  \n",
              "11  14 February 2019 (USA)   India  Ranveer Singh  \n",
              "34     24 May 2019 (India)   India   Gavie Chahal  "
            ]
          },
          "execution_count": 107,
          "metadata": {},
          "output_type": "execute_result"
        }
      ],
      "source": [
        "movies['lead actor'] = movies['actors'].str.split('|').apply(lambda x:x[0])\n",
        "movies.head(2)"
      ]
    },
    {
      "cell_type": "code",
      "execution_count": 108,
      "metadata": {},
      "outputs": [
        {
          "data": {
            "text/plain": [
              "20"
            ]
          },
          "execution_count": 108,
          "metadata": {},
          "output_type": "execute_result"
        }
      ],
      "source": [
        "movies.columns.shape[0]"
      ]
    },
    {
      "cell_type": "markdown",
      "metadata": {},
      "source": [
        "---"
      ]
    },
    {
      "cell_type": "markdown",
      "metadata": {
        "id": "B881F9xu4Bmk"
      },
      "source": [
        "# Important DataFrame Functions"
      ]
    },
    {
      "cell_type": "markdown",
      "metadata": {},
      "source": [
        "### 1. `astype()`\n",
        "- Change the datatype"
      ]
    },
    {
      "cell_type": "code",
      "execution_count": 109,
      "metadata": {
        "colab": {
          "base_uri": "https://localhost:8080/"
        },
        "id": "dd985cwtJnCW",
        "outputId": "38fd851c-a06f-474d-dd59-5e95b369b1c4"
      },
      "outputs": [
        {
          "name": "stdout",
          "output_type": "stream",
          "text": [
            "<class 'pandas.core.frame.DataFrame'>\n",
            "RangeIndex: 950 entries, 0 to 949\n",
            "Data columns (total 20 columns):\n",
            " #   Column           Non-Null Count  Dtype  \n",
            "---  ------           --------------  -----  \n",
            " 0   ID               950 non-null    int64  \n",
            " 1   City             899 non-null    object \n",
            " 2   Date             950 non-null    object \n",
            " 3   Season           950 non-null    object \n",
            " 4   MatchNumber      950 non-null    object \n",
            " 5   Team1            950 non-null    object \n",
            " 6   Team2            950 non-null    object \n",
            " 7   Venue            950 non-null    object \n",
            " 8   TossWinner       950 non-null    object \n",
            " 9   TossDecision     950 non-null    object \n",
            " 10  SuperOver        946 non-null    object \n",
            " 11  WinningTeam      946 non-null    object \n",
            " 12  WonBy            950 non-null    object \n",
            " 13  Margin           932 non-null    float64\n",
            " 14  method           19 non-null     object \n",
            " 15  Player_of_Match  946 non-null    object \n",
            " 16  Team1Players     950 non-null    object \n",
            " 17  Team2Players     950 non-null    object \n",
            " 18  Umpire1          950 non-null    object \n",
            " 19  Umpire2          950 non-null    object \n",
            "dtypes: float64(1), int64(1), object(18)\n",
            "memory usage: 148.6+ KB\n"
          ]
        }
      ],
      "source": [
        "ipl.info()"
      ]
    },
    {
      "cell_type": "markdown",
      "metadata": {},
      "source": [
        "> **Note:** We can see, ID is stored as `int64` lets reduce to `int32`"
      ]
    },
    {
      "cell_type": "code",
      "execution_count": 110,
      "metadata": {
        "id": "xHCmE6PtcKyb"
      },
      "outputs": [],
      "source": [
        "ipl['ID'] = ipl['ID'].astype('int32')"
      ]
    },
    {
      "cell_type": "code",
      "execution_count": 111,
      "metadata": {
        "colab": {
          "base_uri": "https://localhost:8080/"
        },
        "id": "7okWM4HWcWAp",
        "outputId": "e76d79d3-0a68-4ecf-c7f8-1f84f552b99a"
      },
      "outputs": [
        {
          "name": "stdout",
          "output_type": "stream",
          "text": [
            "<class 'pandas.core.frame.DataFrame'>\n",
            "RangeIndex: 950 entries, 0 to 949\n",
            "Data columns (total 20 columns):\n",
            " #   Column           Non-Null Count  Dtype  \n",
            "---  ------           --------------  -----  \n",
            " 0   ID               950 non-null    int32  \n",
            " 1   City             899 non-null    object \n",
            " 2   Date             950 non-null    object \n",
            " 3   Season           950 non-null    object \n",
            " 4   MatchNumber      950 non-null    object \n",
            " 5   Team1            950 non-null    object \n",
            " 6   Team2            950 non-null    object \n",
            " 7   Venue            950 non-null    object \n",
            " 8   TossWinner       950 non-null    object \n",
            " 9   TossDecision     950 non-null    object \n",
            " 10  SuperOver        946 non-null    object \n",
            " 11  WinningTeam      946 non-null    object \n",
            " 12  WonBy            950 non-null    object \n",
            " 13  Margin           932 non-null    float64\n",
            " 14  method           19 non-null     object \n",
            " 15  Player_of_Match  946 non-null    object \n",
            " 16  Team1Players     950 non-null    object \n",
            " 17  Team2Players     950 non-null    object \n",
            " 18  Umpire1          950 non-null    object \n",
            " 19  Umpire2          950 non-null    object \n",
            "dtypes: float64(1), int32(1), object(18)\n",
            "memory usage: 144.9+ KB\n"
          ]
        }
      ],
      "source": [
        "ipl.info()"
      ]
    },
    {
      "cell_type": "markdown",
      "metadata": {},
      "source": [
        "> **Note:** After changing from `int64` to `int32`, memory is reduced `(from 148.6KB to 144.9KB)`"
      ]
    },
    {
      "cell_type": "markdown",
      "metadata": {},
      "source": [
        "> **Note:** We are storing `Season` as String Object, but it is categorical data. Lets store in `Categorical` Data Type, which is more memory efficient."
      ]
    },
    {
      "cell_type": "code",
      "execution_count": 112,
      "metadata": {},
      "outputs": [],
      "source": [
        "ipl['Season'] = ipl['Season'].astype('category')"
      ]
    },
    {
      "cell_type": "markdown",
      "metadata": {},
      "source": [
        "> Similarly, other parameters can also be changed to categorical data. "
      ]
    },
    {
      "cell_type": "code",
      "execution_count": 113,
      "metadata": {
        "id": "AsFtYc_9cv8c"
      },
      "outputs": [],
      "source": [
        "ipl['City'] = ipl['City'].astype('category')\n",
        "ipl['Venue'] = ipl['Venue'].astype('category')\n",
        "ipl['TossDecision'] = ipl['TossDecision'].astype('category')\n",
        "ipl['SuperOver'] = ipl['SuperOver'].astype('category')\n",
        "ipl['WinningTeam'] = ipl['WinningTeam'].astype('category')\n",
        "ipl['WonBy'] = ipl['WonBy'].astype('category')\n",
        "ipl['Team1'] = ipl['Team1'].astype('category')\n",
        "ipl['Team2'] = ipl['Team2'].astype('category')"
      ]
    },
    {
      "cell_type": "code",
      "execution_count": 114,
      "metadata": {
        "colab": {
          "base_uri": "https://localhost:8080/"
        },
        "id": "vYekmCGbcwEC",
        "outputId": "7c6015d0-f66c-401a-cbae-34bf91541809"
      },
      "outputs": [
        {
          "name": "stdout",
          "output_type": "stream",
          "text": [
            "<class 'pandas.core.frame.DataFrame'>\n",
            "RangeIndex: 950 entries, 0 to 949\n",
            "Data columns (total 20 columns):\n",
            " #   Column           Non-Null Count  Dtype   \n",
            "---  ------           --------------  -----   \n",
            " 0   ID               950 non-null    int32   \n",
            " 1   City             899 non-null    category\n",
            " 2   Date             950 non-null    object  \n",
            " 3   Season           950 non-null    category\n",
            " 4   MatchNumber      950 non-null    object  \n",
            " 5   Team1            950 non-null    category\n",
            " 6   Team2            950 non-null    category\n",
            " 7   Venue            950 non-null    category\n",
            " 8   TossWinner       950 non-null    object  \n",
            " 9   TossDecision     950 non-null    category\n",
            " 10  SuperOver        946 non-null    category\n",
            " 11  WinningTeam      946 non-null    category\n",
            " 12  WonBy            950 non-null    category\n",
            " 13  Margin           932 non-null    float64 \n",
            " 14  method           19 non-null     object  \n",
            " 15  Player_of_Match  946 non-null    object  \n",
            " 16  Team1Players     950 non-null    object  \n",
            " 17  Team2Players     950 non-null    object  \n",
            " 18  Umpire1          950 non-null    object  \n",
            " 19  Umpire2          950 non-null    object  \n",
            "dtypes: category(9), float64(1), int32(1), object(9)\n",
            "memory usage: 92.3+ KB\n"
          ]
        }
      ],
      "source": [
        "ipl.info()"
      ]
    },
    {
      "cell_type": "markdown",
      "metadata": {},
      "source": [
        "> **Note:** Size of the DataSet is significantly decreased to `92KB`"
      ]
    }
  ],
  "metadata": {
    "colab": {
      "provenance": []
    },
    "kernelspec": {
      "display_name": "base",
      "language": "python",
      "name": "python3"
    },
    "language_info": {
      "codemirror_mode": {
        "name": "ipython",
        "version": 3
      },
      "file_extension": ".py",
      "mimetype": "text/x-python",
      "name": "python",
      "nbconvert_exporter": "python",
      "pygments_lexer": "ipython3",
      "version": "3.13.5"
    }
  },
  "nbformat": 4,
  "nbformat_minor": 0
}
