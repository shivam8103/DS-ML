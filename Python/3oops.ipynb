{
 "cells": [
  {
   "cell_type": "markdown",
   "id": "1ec9b1a1",
   "metadata": {},
   "source": [
    "# **<u>OOPS</u>**"
   ]
  },
  {
   "cell_type": "markdown",
   "id": "161c6800",
   "metadata": {},
   "source": [
    "\"Everything in python is an **OBJECT**\"\n",
    "\n",
    "OOP gives power to programmer to create his own datatype. "
   ]
  },
  {
   "cell_type": "markdown",
   "id": "b22f814f",
   "metadata": {},
   "source": [
    "# OOPS Principles\n",
    "1. Object\n",
    "2. Class\n",
    "3. Abstraction\n",
    "4. inheritance\n",
    "5. Encapsulation\n",
    "6. Polymorphism"
   ]
  },
  {
   "cell_type": "markdown",
   "id": "8ed87b7f",
   "metadata": {},
   "source": [
    "---\n",
    "## Class\n",
    "Class is a blueprint. It defines the Set of rules for how its objects will behave.  \n",
    "- Class contains data(property) and function(behaviour)\n",
    "\n",
    "### Types of classes\n",
    "1. Build in classes (str, int, list, tuple)\n",
    "2. User Defined classes\n",
    "\n",
    "## Object\n",
    "- Object is an instance of the class \n",
    "\n",
    "\n",
    "## Syntax to create an object\n",
    "\n",
    "```python\n",
    "objectName = className()\n",
    "```\n",
    "\n",
    "\n"
   ]
  },
  {
   "cell_type": "code",
   "execution_count": 7,
   "id": "cd9a4b9f",
   "metadata": {},
   "outputs": [
    {
     "data": {
      "text/plain": [
       "[]"
      ]
     },
     "execution_count": 7,
     "metadata": {},
     "output_type": "execute_result"
    }
   ],
   "source": [
    "L = list()\n",
    "L"
   ]
  },
  {
   "cell_type": "code",
   "execution_count": 10,
   "id": "3568b172",
   "metadata": {},
   "outputs": [
    {
     "data": {
      "text/plain": [
       "''"
      ]
     },
     "execution_count": 10,
     "metadata": {},
     "output_type": "execute_result"
    }
   ],
   "source": [
    "s = str()\n",
    "s"
   ]
  },
  {
   "cell_type": "markdown",
   "id": "b36d3ca1",
   "metadata": {},
   "source": [
    "> **Note:** Pascal Case is used to name classes\n",
    "\n",
    "> eg.  `HelloWorld`"
   ]
  },
  {
   "cell_type": "markdown",
   "id": "78166ccf",
   "metadata": {},
   "source": [
    "---\n",
    "## Constructor in Python (OOP)\n",
    "* A **constructor** is a **special function** inside a class.\n",
    "* It is named `__init__()` in Python.\n",
    "* This function is called **automatically** whenever you **create an object** of the class — you don’t need to call it explicitly.\n",
    "\n",
    "#### Syntax of a Constructor\n",
    "\n",
    "```python\n",
    "def __init__(self):\n",
    "    # constructor code\n",
    "```\n",
    "\n",
    "* The `self` keyword refers to the current instance of the class.\n",
    "\n",
    "#### When is the Constructor Called?\n",
    "\n",
    "As soon as you create an object, the constructor runs automatically:\n",
    "\n",
    "```python\n",
    "class MyClass:\n",
    "    def __init__(self):\n",
    "        print(\"Constructor called!\")\n",
    "\n",
    "obj = MyClass()  # 👈 Constructor runs here\n",
    "```\n",
    "\n",
    "> **Note 1:**  All variables you want to associate with an object **must be defined inside the constructor**.\n",
    "\n",
    "> **Note 2:** You must use `self.` before the variable name to make it **belong to the object**.\n"
   ]
  },
  {
   "cell_type": "markdown",
   "id": "3c861ec7",
   "metadata": {},
   "source": [
    "---"
   ]
  },
  {
   "cell_type": "markdown",
   "id": "305bcc80",
   "metadata": {},
   "source": [
    "## **Program 1:** Creating our first OOP program with user defined classes. Create a ATM program"
   ]
  },
  {
   "cell_type": "markdown",
   "id": "ba7fac3d",
   "metadata": {},
   "source": [
    "### 1. Creating ATM class."
   ]
  },
  {
   "cell_type": "code",
   "execution_count": 17,
   "id": "1215fd4c",
   "metadata": {},
   "outputs": [],
   "source": [
    "class Atm:\n",
    "    #constructor\n",
    "    def __init__(self):\n",
    "        # data\n",
    "        self.pin = \"\"\n",
    "        self.balance = 0\n",
    "        self.menu()\n",
    "    \n",
    "    # functions\n",
    "    def menu(self):\n",
    "        user_input = input(\"\"\"\n",
    "                           Hi how can I help you?\n",
    "                           1. Press 1 to create pin\n",
    "                           2. Press 2 to change pin\n",
    "                           3. Press 3 to check balance\n",
    "                           4. Press 4 to withdraw\n",
    "                           5. Press else to exit\n",
    "                           \"\"\")\n",
    "        \n",
    "        if user_input == '1':\n",
    "            self.create_pin()\n",
    "        \n",
    "        elif user_input =='2':\n",
    "            self.change_pin()\n",
    "\n",
    "        elif user_input == '3':\n",
    "            self.check_balance()\n",
    "\n",
    "        elif user_input == '4':\n",
    "            self.withdraw()\n",
    "            pass\n",
    "\n",
    "        else:\n",
    "            print(\"Program Completed\")\n",
    "            return\n",
    "        \n",
    "    \n",
    "    def create_pin(self):\n",
    "        user_pin = input(\"Enter Your Pin: \")\n",
    "        self.pin = user_pin\n",
    "\n",
    "        user_balance = int(input(\"Enter Balance: \"))\n",
    "        self.balance = user_balance\n",
    "\n",
    "        print(\"Pin Created Successfully!\")\n",
    "\n",
    "        self.menu()\n",
    "\n",
    "    def change_pin(self):\n",
    "        old_pin = input(\"Enter Old Pin: \")\n",
    "        if old_pin==self.pin :\n",
    "            new_pin = input(\"Enter New Pin: \")\n",
    "            self.pin = new_pin\n",
    "            print(\"Pin Changed Successfully!\")\n",
    "            self.menu()\n",
    "        else:\n",
    "            print(\"Wrong pin\")\n",
    "            self.menu()\n",
    "    \n",
    "    def check_balance(self):\n",
    "        pin = input(\"Enter your pin: \")\n",
    "        if(pin == self.pin):\n",
    "            print(\"Your Balance is: \", self.balance)\n",
    "        else:\n",
    "            print(\"Incorrect pin\")\n",
    "        self.menu()\n",
    "    \n",
    "    def withdraw(self):\n",
    "        pin = input(\"Enter your pin: \")\n",
    "        if(pin == self.pin):\n",
    "            amount = int(input(\"Enter the amount\"))\n",
    "            if amount <= self.balance:\n",
    "                self.balance = self.balance - amount\n",
    "                print(\"Withdrawl Successful!\")\n",
    "                print(\"Current Balance = \",self.balance)\n",
    "            else:\n",
    "                print(\"Amount not available\")\n",
    "        else:\n",
    "            print(\"Incorrecrt Pin\")\n"
   ]
  },
  {
   "cell_type": "markdown",
   "id": "55913fc9",
   "metadata": {},
   "source": [
    "### 2. Creating Objects of ATM class."
   ]
  },
  {
   "cell_type": "code",
   "execution_count": 18,
   "id": "18da6f5f",
   "metadata": {},
   "outputs": [
    {
     "name": "stdout",
     "output_type": "stream",
     "text": [
      "Pin Created Successfully!\n",
      "Withdrawl Successful!\n",
      "Current Balance =  95000\n"
     ]
    }
   ],
   "source": [
    "obj1 = Atm()"
   ]
  },
  {
   "cell_type": "code",
   "execution_count": 13,
   "id": "c295f8ab",
   "metadata": {},
   "outputs": [
    {
     "name": "stdout",
     "output_type": "stream",
     "text": [
      "1234\n"
     ]
    }
   ],
   "source": [
    "print(obj1.pin)"
   ]
  },
  {
   "cell_type": "markdown",
   "id": "afe26f75",
   "metadata": {},
   "source": [
    "```txt\n",
    "Hi how can I help you?\n",
    "1. Press 1 to create pin\n",
    "2. Press 2 to change pin\n",
    "3. Press 3 to check balance\n",
    "4. Press 4 to withdraw\n",
    "5. Press else to exit\n",
    "\n",
    "1\n",
    "Enter Your Pin: 1234\n",
    "Enter Balance: 10000\n",
    "Pin Created Successfully\n",
    "\n",
    "2\n",
    "Enter Old Pin: 1234\n",
    "Enter New Pin: 4321\n",
    "Pin Changed Successfully!\n",
    "\n",
    "3\n",
    "Enter pin: 4321\n",
    "Your Balance is:  10000\n",
    "\n",
    "4 \n",
    "Enter pin: 4321\n",
    "Enter the amount: 5500\n",
    "Withdrawl Successful!\n",
    "Current Balance =  4500\n",
    "\n",
    "5\n",
    "\n",
    "```\n"
   ]
  },
  {
   "cell_type": "markdown",
   "id": "14b27152",
   "metadata": {},
   "source": [
    "---\n",
    "## Class Diagram\n",
    "A class diagram is a visual representation of a class in object-oriented programming.\n",
    "\n",
    "It shows:\n",
    "1. Class name\n",
    "2. Attributes (data/variables)\n",
    "3. Methods (functions/behaviors)\n",
    "\n",
    "**Class Diagram Format**\n",
    "\n",
    "<img src = \"../img/ClassDiagram1.png\" width=\"500\">\n",
    "\n",
    "**Class Diagram of our `Atm` class**\n",
    "\n",
    "<img src = \"../img/ClassDiagram2.png\" width=\"500\">\n"
   ]
  },
  {
   "cell_type": "markdown",
   "id": "74310cee",
   "metadata": {},
   "source": [
    "> **Note:** Here we can see `+` and `-` sign.\n",
    "- `+ means public` (visible outside the class)\n",
    "- `- means private` (not visible outside the class)"
   ]
  },
  {
   "cell_type": "markdown",
   "id": "c5a8df9c",
   "metadata": {},
   "source": [
    "---\n",
    "## Methods vs Functions:\n",
    "- If a function is defined inside a class, it is called a method.\n",
    "- If it is defined outside any class, it is called a function."
   ]
  },
  {
   "cell_type": "code",
   "execution_count": null,
   "id": "0da9ff42",
   "metadata": {},
   "outputs": [],
   "source": [
    "L = [1, 2, 3]\n",
    "len(L)         # Function\n",
    "L.append(4)    # Method\n"
   ]
  },
  {
   "cell_type": "markdown",
   "id": "7902b89a",
   "metadata": {},
   "source": [
    "> Note\n",
    "- ``len()`` is a function → not part of the ``list class`` directly.\n",
    "- ``append()`` is a method → defined inside the ``list class``.\n",
    "\n",
    "So, ``create_pin(), change_pin(), withdraw()`` in your ``Atm class`` are all **methods**.\n"
   ]
  },
  {
   "cell_type": "markdown",
   "id": "26330491",
   "metadata": {},
   "source": [
    "\n",
    "---\n",
    "\n",
    "## Magic Methods ( Dunder Methods) in Python\n",
    "* Magic methods are **special methods** in Python with **double underscores** before and after their names.\n",
    "* They’re also called **\"dunder methods\"** (short for “**double underscore**”).\n",
    "* Each magic method gives your class a **special behavior**.\n",
    "\n",
    "### Syntax of Magic Method\n",
    "\n",
    "```py\n",
    "__method_name__\n",
    "\n",
    "```\n",
    "\n",
    "### **Constructor** is a Magic Method\n",
    "\n",
    "```py\n",
    "def __init__(self):\n",
    "    # constructor code\n",
    "```\n",
    "\n",
    "* `__init__` is a magic method.\n",
    "* **Special behaviour**: It gets called **automatically** when an object is created — no need to call it manually.\n",
    "\n",
    "### Note\n",
    "* Each magic method gives your class a **special behavior**. Examples:\n",
    "\n",
    "* There are **over 100** magic methods in Python, but we'll only need to learn a few for most practical use cases.\n",
    "\n"
   ]
  },
  {
   "cell_type": "markdown",
   "id": "555bf3a4",
   "metadata": {},
   "source": [
    "---\n",
    "## Constructor\n",
    "- A constructor is a special method in a class.\n",
    "\n",
    "- In Python, it is defined as __init__(self).\n",
    "\n",
    "- It gets called automatically when an object is created — you don't need to call it manually.\n",
    "\n",
    "> **Note:** Since constructors execute without manual calling, they're ideal for running essential setup code that the user should not control or forget.\n",
    "\n",
    "### Benifit of using constructor\n",
    "1. **No User Control**\n",
    "\n",
    "- Code inside the constructor runs automatically, so the user can’t skip or forget it.\n",
    "\n",
    "- Ideal for logic where you don’t want to rely on the user (e.g., setting defaults).\n",
    "\n",
    "2. **Configuration Code**\n",
    "\n",
    "- Perfect place to write setup/configuration code like:\n",
    "\n",
    "    - Database connections\n",
    "\n",
    "    - Internet or API initialization\n",
    "\n",
    "    - Authentication setup\n",
    "\n",
    "- This ensures that such critical tasks are always performed when the object is created.\n",
    "\n",
    "3. **Automatic Execution (No Manual Triggering)**\n",
    "\n",
    "4. **Promotes Readability and Maintainability**"
   ]
  },
  {
   "cell_type": "markdown",
   "id": "c27f3957",
   "metadata": {},
   "source": [
    "## ``self``\n",
    "- self is the first parameter of instance methods in Python classes.\n",
    "\n",
    "- It refers to the current object (or instance) through which the method is being called.\n",
    "\n",
    "- It acts as a link between methods and data inside the class.\n",
    "\n",
    "#### Need of self\n",
    "- In Python, all variables and methods inside a class must be accessed through an object.\n",
    "\n",
    "- Even one method cannot directly access another method — they must go through the object.\n",
    "\n",
    "#### This won't work:\n",
    "```python\n",
    "def __init__(self):\n",
    "    menu()  # Invalid, method not accessed via object\n",
    "```\n",
    "\n",
    "- This is correct\n",
    "\n",
    "```python\n",
    "def __init__(self):\n",
    "    self.menu()  # Accessing another method via the object\n",
    "``` \n",
    "\n",
    "> **Note:** Here, self.menu() means:\n",
    "\n",
    "\"Hey self (object), please call your menu() method.\"\n"
   ]
  },
  {
   "cell_type": "markdown",
   "id": "60515852",
   "metadata": {},
   "source": [
    "#### Prove that `self` refers to the `objects`  "
   ]
  },
  {
   "cell_type": "code",
   "execution_count": 27,
   "id": "25697769",
   "metadata": {},
   "outputs": [
    {
     "name": "stdout",
     "output_type": "stream",
     "text": [
      "Id of self= 2266398517840\n",
      "Id of object= 2266398517840\n"
     ]
    }
   ],
   "source": [
    "class c:\n",
    "\n",
    "    def __init__(self):\n",
    "        print('Id of self=', id(self))\n",
    "\n",
    "obj = c()\n",
    "\n",
    "print('Id of object=', id(obj))\n"
   ]
  },
  {
   "cell_type": "markdown",
   "id": "47ed8c7c",
   "metadata": {},
   "source": [
    "> The output shows that,both IDs are the same.\n",
    "\n",
    "> This proves: self is just a reference to the object (obj) from inside the class.\n"
   ]
  },
  {
   "cell_type": "markdown",
   "id": "387c5200",
   "metadata": {},
   "source": [
    "#### Why Do We Use `self` to Call Other Methods Within a Class?\n",
    "\n",
    "In Python, when a method (like `__init__`) wants to call another method (like `menu()`), it **cannot** call it directly.\n",
    "Why?\n",
    "\n",
    "Because **methods and data in a class are accessed through the object** — even inside the class itself.\n",
    "\n",
    "That’s why we write:\n",
    "\n",
    "```python\n",
    "def __init__(self):\n",
    "    self.menu()  # calling another method through the object\n",
    "```\n",
    "\n",
    "Here’s how it works:\n",
    "\n",
    "```\n",
    "Constructor (e.g., __init__) → talks to the Object (self)\n",
    "Object (self) → calls another method (like self.menu())\n",
    "```\n",
    "\n",
    "This is called **indirect method access**.\n",
    "\n",
    "---\n",
    "\n",
    "#### Who Passes the Object?\n",
    "\n",
    "When we call a method like:\n",
    "\n",
    "```python\n",
    "obj.method()\n",
    "```\n",
    "\n",
    "It may look like no arguments are passed. But behind the scenes, Python does this:\n",
    "\n",
    "```python\n",
    "Class.method(obj)  # The object is passed as the first argument\n",
    "```\n",
    "\n",
    "That’s why your method must accept a parameter (usually named `self`) to receive that object.\n",
    "\n",
    "Let’s verify this with an example:\n"
   ]
  },
  {
   "cell_type": "code",
   "execution_count": 24,
   "id": "da9d672f",
   "metadata": {},
   "outputs": [],
   "source": [
    "class fun:\n",
    "    #constructor\n",
    "    def __init__(self):   \n",
    "        print('Constructor')\n",
    "\n",
    "    def method():  #self not passed\n",
    "       print('Method') \n",
    "\n",
    "    "
   ]
  },
  {
   "cell_type": "code",
   "execution_count": 28,
   "id": "00a212b6",
   "metadata": {},
   "outputs": [
    {
     "name": "stdout",
     "output_type": "stream",
     "text": [
      "Constructor\n"
     ]
    },
    {
     "ename": "TypeError",
     "evalue": "fun.method() takes 0 positional arguments but 1 was given",
     "output_type": "error",
     "traceback": [
      "\u001b[31m---------------------------------------------------------------------------\u001b[39m",
      "\u001b[31mTypeError\u001b[39m                                 Traceback (most recent call last)",
      "\u001b[36mCell\u001b[39m\u001b[36m \u001b[39m\u001b[32mIn[28]\u001b[39m\u001b[32m, line 2\u001b[39m\n\u001b[32m      1\u001b[39m obj = fun()\n\u001b[32m----> \u001b[39m\u001b[32m2\u001b[39m \u001b[43mobj\u001b[49m\u001b[43m.\u001b[49m\u001b[43mmethod\u001b[49m\u001b[43m(\u001b[49m\u001b[43m)\u001b[49m\n",
      "\u001b[31mTypeError\u001b[39m: fun.method() takes 0 positional arguments but 1 was given"
     ]
    }
   ],
   "source": [
    "obj = fun()\n",
    "obj.method()"
   ]
  },
  {
   "cell_type": "markdown",
   "id": "fc41a6e6",
   "metadata": {},
   "source": [
    "#### **Error:**  fun.method() takes 0 positional arguments but 1 was given\n",
    "We didn’t pass any arguments but Python automatically passes the object itself as the first argument.\n",
    "\n",
    "So, the method must be defined with at least one parameter to receive that object — typically named `self`."
   ]
  },
  {
   "cell_type": "code",
   "execution_count": null,
   "id": "527ade32",
   "metadata": {},
   "outputs": [
    {
     "name": "stdout",
     "output_type": "stream",
     "text": [
      "Constructor\n",
      "Method\n"
     ]
    }
   ],
   "source": [
    "class fun2:\n",
    "    #constructor\n",
    "    def __init__(self):   \n",
    "        print('Constructor')\n",
    "\n",
    "    def method(self): #self receives the object\n",
    "       print('Method') \n",
    "\n",
    "    \n",
    "obj = fun2()\n",
    "obj.method()"
   ]
  },
  {
   "cell_type": "markdown",
   "id": "1de973e7",
   "metadata": {},
   "source": [
    "#### Note\n",
    "- The word self is not mandatory in Python.\n",
    "\n",
    "- It is not a reserved keyword — just a naming convention.\n",
    "\n",
    "- You can use any valid variable name in place of self to receive the object inside a class method."
   ]
  },
  {
   "cell_type": "markdown",
   "id": "f259d9e1",
   "metadata": {},
   "source": [
    "---\n",
    "### Create a User-Defined Data Type (Fraction)"
   ]
  },
  {
   "cell_type": "code",
   "execution_count": 2,
   "id": "fd0f4bda",
   "metadata": {},
   "outputs": [],
   "source": [
    "class Fraction:\n",
    "\n",
    "    def __init__(self, x, y):\n",
    "        self.numerator = x\n",
    "        self.denominator = y"
   ]
  },
  {
   "cell_type": "code",
   "execution_count": 3,
   "id": "2f153dd3",
   "metadata": {},
   "outputs": [],
   "source": [
    "fr1 = Fraction(1,2)"
   ]
  },
  {
   "cell_type": "code",
   "execution_count": 4,
   "id": "f126c883",
   "metadata": {},
   "outputs": [
    {
     "name": "stdout",
     "output_type": "stream",
     "text": [
      "<__main__.Fraction object at 0x000001B789DAC980>\n"
     ]
    }
   ],
   "source": [
    "print(fr1)"
   ]
  },
  {
   "cell_type": "markdown",
   "id": "2674d7fc",
   "metadata": {},
   "source": [
    "> **Note:** Python is saying, I dont know what to print, but I know that fr1 is a Fraction object stored at this location... "
   ]
  },
  {
   "cell_type": "markdown",
   "id": "22c82a7b",
   "metadata": {},
   "source": [
    "#### Now how to print the value. ``def __str__()``\n",
    "- Use ``def __str__()`` Function : Is a special method (also called a \"dunder\" method)\n",
    "\n",
    "- The __str__() function in Python is like saying:\n",
    "\n",
    "- “When someone prints me out, here’s what I want them to see.”\n"
   ]
  },
  {
   "cell_type": "code",
   "execution_count": 22,
   "id": "2be4fc24",
   "metadata": {},
   "outputs": [],
   "source": [
    "class Fraction:\n",
    "\n",
    "    def __init__(self, x, y):\n",
    "        self.numerator = x\n",
    "        self.denominator = y\n",
    "\n",
    "    def __str__(self):\n",
    "        return \"{}/{}\".format(self.numerator, self.denominator)"
   ]
  },
  {
   "cell_type": "code",
   "execution_count": 6,
   "id": "c6f6a00a",
   "metadata": {},
   "outputs": [],
   "source": [
    "fr1 = Fraction(3,4)\n",
    "fr2 = Fraction(1,2)"
   ]
  },
  {
   "cell_type": "code",
   "execution_count": 7,
   "id": "632de8ca",
   "metadata": {},
   "outputs": [
    {
     "name": "stdout",
     "output_type": "stream",
     "text": [
      "3/4\n",
      "1/2\n"
     ]
    }
   ],
   "source": [
    "print(fr1)\n",
    "print(fr2)"
   ]
  },
  {
   "cell_type": "markdown",
   "id": "2ca23d37",
   "metadata": {},
   "source": [
    "#### Now lets code some operations related to fraction"
   ]
  },
  {
   "cell_type": "code",
   "execution_count": 8,
   "id": "519b5c61",
   "metadata": {},
   "outputs": [
    {
     "ename": "TypeError",
     "evalue": "unsupported operand type(s) for +: 'Fraction' and 'Fraction'",
     "output_type": "error",
     "traceback": [
      "\u001b[31m---------------------------------------------------------------------------\u001b[39m",
      "\u001b[31mTypeError\u001b[39m                                 Traceback (most recent call last)",
      "\u001b[36mCell\u001b[39m\u001b[36m \u001b[39m\u001b[32mIn[8]\u001b[39m\u001b[32m, line 1\u001b[39m\n\u001b[32m----> \u001b[39m\u001b[32m1\u001b[39m \u001b[38;5;28mprint\u001b[39m(\u001b[43mfr1\u001b[49m\u001b[43m+\u001b[49m\u001b[43mfr2\u001b[49m)\n",
      "\u001b[31mTypeError\u001b[39m: unsupported operand type(s) for +: 'Fraction' and 'Fraction'"
     ]
    }
   ],
   "source": [
    "print(fr1+fr2)"
   ]
  },
  {
   "cell_type": "markdown",
   "id": "84cd1138",
   "metadata": {},
   "source": [
    "> **Note:** This error arises because we did not define a method to add two fractions in the Fraction class. Let's declare them \n"
   ]
  },
  {
   "cell_type": "code",
   "execution_count": 28,
   "id": "2ea75e31",
   "metadata": {},
   "outputs": [],
   "source": [
    "class Fraction:\n",
    "\n",
    "    def __init__(self, x, y):\n",
    "        self.numerator = x\n",
    "        self.denominator = y\n",
    "\n",
    "    def __str__(self):\n",
    "        return \"{}/{}\".format(self.numerator, self.denominator)\n",
    "    \n",
    "    def __add__(self, other):\n",
    "        newNumerator = self.numerator*other.denominator + other.numerator*self.denominator\n",
    "        newDenominator = self.denominator*other.denominator\n",
    "        return '{}/{}'.format(newNumerator,newDenominator)\n",
    "\n",
    "    def __sub__(self, other):\n",
    "        newNumerator = self.numerator*other.denominator - other.numerator*self.denominator\n",
    "        newDenominator = self.denominator*other.denominator\n",
    "        return '{}/{}'.format(newNumerator,newDenominator)\n",
    "\n",
    "    def __mul__(self, other):\n",
    "        newNumerator = self.numerator*other.numerator\n",
    "        newDenominator = self.denominator*other.denominator\n",
    "        return '{}/{}'.format(newNumerator,newDenominator)\n",
    "\n",
    "    def __truediv__(self, other):\n",
    "        newNumerator = self.numerator*other.denominator\n",
    "        newDenominator = self.denominator*other.numerator\n",
    "        return '{}/{}'.format(newNumerator,newDenominator)"
   ]
  },
  {
   "cell_type": "code",
   "execution_count": 29,
   "id": "02334314",
   "metadata": {},
   "outputs": [],
   "source": [
    "fr1 = Fraction(3,4)\n",
    "fr2 = Fraction(1,2)"
   ]
  },
  {
   "cell_type": "code",
   "execution_count": 30,
   "id": "337af24e",
   "metadata": {},
   "outputs": [
    {
     "name": "stdout",
     "output_type": "stream",
     "text": [
      "10/8\n",
      "2/8\n",
      "3/8\n",
      "6/4\n"
     ]
    }
   ],
   "source": [
    "print(fr1+fr2)\n",
    "print(fr1-fr2)\n",
    "print(fr1*fr2)\n",
    "print(fr1/fr2)"
   ]
  },
  {
   "cell_type": "markdown",
   "id": "d45558e5",
   "metadata": {},
   "source": [
    "> **Note**\n",
    "\n",
    "#### 1. Magic Method ``def __init__()``\n",
    "Constructor: Triggers automatically\n",
    "\n",
    "#### 2. Magic Method ``def __str__()``\n",
    "Triggers when we `print` the object.\n",
    "\n",
    "#### 3. Magic Method ``def __add__()``\n",
    "Triggers when we write `+` operand between two objects.\n",
    "\n",
    "#### 4. Magic Method ``def __sub__()``\n",
    "Triggers when we write `-` operand between two objects.\n"
   ]
  },
  {
   "cell_type": "markdown",
   "id": "da31a686",
   "metadata": {},
   "source": [
    "> **Note:** Here we can add our non magic methods also... "
   ]
  },
  {
   "cell_type": "code",
   "execution_count": 31,
   "id": "1953a84c",
   "metadata": {},
   "outputs": [],
   "source": [
    "class Fraction:\n",
    "\n",
    "    def __init__(self, x, y):\n",
    "        self.numerator = x\n",
    "        self.denominator = y\n",
    "\n",
    "    def convert_to_decimal(self):\n",
    "        return self.numerator / self.denominator"
   ]
  },
  {
   "cell_type": "code",
   "execution_count": 32,
   "id": "ccddf30c",
   "metadata": {},
   "outputs": [
    {
     "data": {
      "text/plain": [
       "0.5"
      ]
     },
     "execution_count": 32,
     "metadata": {},
     "output_type": "execute_result"
    }
   ],
   "source": [
    "fr1 = Fraction(10,20)\n",
    "fr1.convert_to_decimal()"
   ]
  },
  {
   "cell_type": "markdown",
   "id": "123f19c9",
   "metadata": {},
   "source": [
    "---\n",
    "### Write OOP classes to handle the following scenarios:\n",
    "1. A user can create and view 2D coordinates\n",
    "2. A user can find out the distance between two coordinates\n",
    "3. A user can find the distance of a coordinate from origin\n",
    "4. A user can check if a point lies on a given line\n",
    "5. A user can find the distance between a given 2D point and a given line\n",
    "\n",
    "```txt\n",
    "           y│\n",
    "            │\n",
    "            │     ̣* (x,y)\n",
    "            │\n",
    "____________│______________\n",
    "            │(0,0)        x\n",
    "            │\n",
    "            │\n",
    "            │\n",
    "           \n",
    "\n",
    "```"
   ]
  },
  {
   "cell_type": "markdown",
   "id": "00ea9196",
   "metadata": {},
   "source": [
    "#### 1. A user can create and view 2D coordinates"
   ]
  },
  {
   "cell_type": "code",
   "execution_count": 5,
   "id": "3e725d9b",
   "metadata": {},
   "outputs": [],
   "source": [
    "class point:\n",
    "    def __init__(self,x,y):\n",
    "        self.x_cod = x\n",
    "        self.y_cod = y\n",
    "\n",
    "    def __str__(self):\n",
    "        return '<{},{}>'.format(self.x_cod, self.y_cod) \n"
   ]
  },
  {
   "cell_type": "code",
   "execution_count": 7,
   "id": "602287dd",
   "metadata": {},
   "outputs": [
    {
     "name": "stdout",
     "output_type": "stream",
     "text": [
      "<0,0>\n",
      "<-2,-1>\n"
     ]
    }
   ],
   "source": [
    "p1 = point(0,0)\n",
    "p2 = point(-2,-1)\n",
    "print(p1)\n",
    "print(p2)"
   ]
  },
  {
   "cell_type": "markdown",
   "id": "e631e693",
   "metadata": {},
   "source": [
    "#### 2. A user can find out distance between 2 coordinates.\n",
    "\n",
    "The Euclidean distance between two points $(x_1, y_1)$ and $(x_2, y_2)$ in 2D is:\n",
    "\n",
    "$$\n",
    "d = \\sqrt{(x_2 - x_1)^2 + (y_2 - y_1)^2}\n",
    "$$\n"
   ]
  },
  {
   "cell_type": "code",
   "execution_count": 10,
   "id": "d3bebd8a",
   "metadata": {},
   "outputs": [],
   "source": [
    "class point:\n",
    "    def __init__(self,x,y):\n",
    "        self.x_cod = x\n",
    "        self.y_cod = y\n",
    "\n",
    "    def __str__(self):\n",
    "        return '<{},{}>'.format(self.x_cod, self.y_cod) \n",
    "\n",
    "    def euclidean_distance(self,other):\n",
    "        # self(x1,y1) , other(x2,y2)\n",
    "        return ((self.x_cod - other.x_cod)**2 + (self.y_cod - other.y_cod)**2)**0.5"
   ]
  },
  {
   "cell_type": "code",
   "execution_count": 13,
   "id": "afeafd59",
   "metadata": {},
   "outputs": [
    {
     "data": {
      "text/plain": [
       "14.142135623730951"
      ]
     },
     "execution_count": 13,
     "metadata": {},
     "output_type": "execute_result"
    }
   ],
   "source": [
    "p1 = point(0,0)\n",
    "p2 = point(10,10)\n",
    "p1.euclidean_distance(p2)"
   ]
  },
  {
   "cell_type": "markdown",
   "id": "d566078c",
   "metadata": {},
   "source": [
    "#### 3. A user can find the distance of a coordinate from origin"
   ]
  },
  {
   "cell_type": "code",
   "execution_count": 20,
   "id": "bda4d2dd",
   "metadata": {},
   "outputs": [],
   "source": [
    "class point:\n",
    "    def __init__(self,x,y):\n",
    "        self.x_cod = x\n",
    "        self.y_cod = y\n",
    "\n",
    "    def __str__(self):\n",
    "        return '<{},{}>'.format(self.x_cod, self.y_cod) \n",
    "\n",
    "    def euclidean_distance(self,other):\n",
    "        # self(x1,y1) , other(x2,y2)\n",
    "        return ((self.x_cod - other.x_cod)**2 + (self.y_cod - other.y_cod)**2)**0.5\n",
    "    \n",
    "    def distance_from_origin(self):\n",
    "        return self.euclidean_distance(point(0,0))"
   ]
  },
  {
   "cell_type": "code",
   "execution_count": 21,
   "id": "30825c98",
   "metadata": {},
   "outputs": [
    {
     "data": {
      "text/plain": [
       "4.242640687119285"
      ]
     },
     "execution_count": 21,
     "metadata": {},
     "output_type": "execute_result"
    }
   ],
   "source": [
    "p3 = point(3,3)\n",
    "p3.distance_from_origin()"
   ]
  },
  {
   "cell_type": "markdown",
   "id": "91dedb0d",
   "metadata": {},
   "source": [
    "#### 4. A user can check if a point lies on a given line\n",
    "- Create a line class ``Ax + By + C``"
   ]
  },
  {
   "cell_type": "code",
   "execution_count": 22,
   "id": "569ea0d4",
   "metadata": {},
   "outputs": [],
   "source": [
    "class Line:\n",
    "    def __init__(self,A,B,C):\n",
    "        self.A = A\n",
    "        self.B = B\n",
    "        self.C = C\n",
    "    \n",
    "    def __str__(self):\n",
    "        return '{}x + {}y + {}'.format(self.A, self.B, self.C)"
   ]
  },
  {
   "cell_type": "code",
   "execution_count": 24,
   "id": "69907008",
   "metadata": {},
   "outputs": [
    {
     "name": "stdout",
     "output_type": "stream",
     "text": [
      "1x + 2y + -3\n"
     ]
    }
   ],
   "source": [
    "l1 = Line(1,2,-3)\n",
    "print(l1)"
   ]
  },
  {
   "cell_type": "markdown",
   "id": "e028ce74",
   "metadata": {},
   "source": [
    "- Check if a point lies on a line or not..\n",
    "\n",
    "``(1,1) lies on 1x+2y-3 or not``\n",
    "\n",
    "`` (1(1) + 2(1) - 3) == 0, then lies on line otherwise no``"
   ]
  },
  {
   "cell_type": "code",
   "execution_count": 28,
   "id": "f18d1cee",
   "metadata": {},
   "outputs": [],
   "source": [
    "class Line:\n",
    "    def __init__(self,A,B,C):\n",
    "        self.A = A\n",
    "        self.B = B\n",
    "        self.C = C\n",
    "    \n",
    "    def __str__(self):\n",
    "        return '{}x + {}y + {}'.format(self.A, self.B, self.C)\n",
    "\n",
    "    def point_on_line(line,point):\n",
    "        if line.A * point.x_cod + line.B * point.y_cod + line.C == 0:\n",
    "            return \"Lies on the line\"\n",
    "        else:\n",
    "            return \"Doesnot lie on the line\""
   ]
  },
  {
   "cell_type": "code",
   "execution_count": 29,
   "id": "28b8ffac",
   "metadata": {},
   "outputs": [
    {
     "name": "stdout",
     "output_type": "stream",
     "text": [
      "<1,1>\n",
      "1x + 2y + -3\n"
     ]
    }
   ],
   "source": [
    "l1 = Line(1,2,-3)\n",
    "p1 = point(1,1)\n",
    "print(p1)\n",
    "print(l1)"
   ]
  },
  {
   "cell_type": "code",
   "execution_count": 30,
   "id": "69b827a9",
   "metadata": {},
   "outputs": [
    {
     "data": {
      "text/plain": [
       "'Lies on the line'"
      ]
     },
     "execution_count": 30,
     "metadata": {},
     "output_type": "execute_result"
    }
   ],
   "source": [
    "l1.point_on_line(p1)"
   ]
  },
  {
   "cell_type": "markdown",
   "id": "90974d95",
   "metadata": {},
   "source": [
    "#### 5. A user can find the distance between a given 2D point and a given line\n",
    "\n",
    "\n",
    "If the line is given in **general form**:\n",
    "\n",
    "$$\n",
    "ax + by + c = 0\n",
    "$$\n",
    "\n",
    "And the point is $P(x_0, y_0)$,\n",
    "the shortest distance $d$ from the point to the line is:\n",
    "\n",
    "$$\n",
    "d = \\frac{|a x_0 + b y_0 + c|}{\\sqrt{a^2 + b^2}}\n",
    "$$\n",
    "\n"
   ]
  },
  {
   "cell_type": "code",
   "execution_count": 36,
   "id": "29f47d5e",
   "metadata": {},
   "outputs": [
    {
     "name": "stdout",
     "output_type": "stream",
     "text": [
      "1\n"
     ]
    }
   ],
   "source": [
    "print(abs(-1))"
   ]
  },
  {
   "cell_type": "code",
   "execution_count": 35,
   "id": "4a23419b",
   "metadata": {},
   "outputs": [],
   "source": [
    "class Line:\n",
    "    def __init__(self,A,B,C):\n",
    "        self.A = A\n",
    "        self.B = B\n",
    "        self.C = C\n",
    "    \n",
    "    def distance_line_point(line, point):\n",
    "        num = abs(line.A*point.x_cod + line.B*point.y_cod + line.C)\n",
    "        den = (point.x_cod**2 + point.y_cod**2)**0.5\n",
    "        return num / den\n"
   ]
  },
  {
   "cell_type": "code",
   "execution_count": 33,
   "id": "e120ce8c",
   "metadata": {},
   "outputs": [
    {
     "data": {
      "text/plain": [
       "0.0"
      ]
     },
     "execution_count": 33,
     "metadata": {},
     "output_type": "execute_result"
    }
   ],
   "source": [
    "l1 = Line(1,2,-3)\n",
    "p1 = point(1,1)\n",
    "\n",
    "l1.distance_line_point(p1)"
   ]
  },
  {
   "cell_type": "code",
   "execution_count": 34,
   "id": "f9ca99d4",
   "metadata": {},
   "outputs": [
    {
     "data": {
      "text/plain": [
       "1.0606601717798212"
      ]
     },
     "execution_count": 34,
     "metadata": {},
     "output_type": "execute_result"
    }
   ],
   "source": [
    "l1 = Line(1,2,-3)\n",
    "p2 = point(2,2)\n",
    "\n",
    "l1.distance_line_point(p2)"
   ]
  },
  {
   "cell_type": "code",
   "execution_count": null,
   "id": "179ee222",
   "metadata": {},
   "outputs": [],
   "source": []
  }
 ],
 "metadata": {
  "kernelspec": {
   "display_name": "Python 3",
   "language": "python",
   "name": "python3"
  },
  "language_info": {
   "codemirror_mode": {
    "name": "ipython",
    "version": 3
   },
   "file_extension": ".py",
   "mimetype": "text/x-python",
   "name": "python",
   "nbconvert_exporter": "python",
   "pygments_lexer": "ipython3",
   "version": "3.13.5"
  }
 },
 "nbformat": 4,
 "nbformat_minor": 5
}
