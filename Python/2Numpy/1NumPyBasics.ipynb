{
 "cells": [
  {
   "cell_type": "markdown",
   "id": "0e73c8e0",
   "metadata": {},
   "source": [
    "# Numpy: \n",
    "- Numpy is short for \"Numerical Python\" \n",
    "- NumPy is a Python library.\n",
    "- NumPy is used for working with arrays.\n",
    "**NumPy:**\n",
    "\n",
    "- NumPy is a low level library written in C (and FORTRAN), for high level mathematical functions.\n",
    "\n",
    "- NumPy cleverly overcomes the problem of running slower algorithms on Python using multidimensional arrays and functions that operates on Arrays.\n",
    "\n",
    "- Any algorithm can then be expressed as a function on arrays, allowing the algorithm to be run quickly\n",
    "\n",
    "- NumPy is the fundamental package for scientific computing in Python. It is a Python library that provides a multidimensional array object, various derived objects (such as masked arrays and matrices), and an assortment of routines for fast operations on arrays, including mathematical, logical, shape manipulation, sorting, selecting, I/O, discrete Fourier transforms, basic linear algebra, basic statistical operations, random simulation and much more.\n",
    "\n",
    "- At the core of the NumPy package, is the ``ndarray object``. This encapsulates n-dimensional arrays of homogeneous data types\n",
    "\n",
    "- NumPy is the basis of Pandas, Matplotlib, Skikit Learn. They all are developed over NumPy\n",
    "\n",
    "## Why Numpy?\n",
    "- In python, we have lists that serve the purpose of arrays, but they are slow to process. \n",
    "- NumPy aims to provide an array object that is up to 50x faster than traditional Python lists.\n",
    "- The array object in NumPy is called ``ndarray``, it provides a lot of supporting functions that make working with ``ndarray`` very easy.\n",
    "\n",
    "## Advantages of Numpy\n",
    "- Allows several mathematical operations\n",
    "- Faster operations.\n",
    "\n",
    "### Numpy Arrays Vs Python Sequences\n",
    "\n",
    "- NumPy arrays have a fixed size at creation, unlike Python lists (which can grow dynamically). Changing the size of an ndarray will create a new array and delete the original.\n",
    "\n",
    "- The elements in a NumPy array are all required to be of the same data type, and thus will be the same size in memory.\n",
    "\n",
    "- NumPy arrays facilitate advanced mathematical and other types of operations on large numbers of data. Typically, such operations are executed more efficiently and with less code than is possible using Python’s built-in sequences.\n",
    "\n",
    "- A growing plethora of scientific and mathematical Python-based packages are using NumPy arrays; though these typically support Python-sequence input, they convert such input to NumPy arrays prior to processing, and they often output NumPy arrays.\n",
    "\n",
    "> **Note:** Hence NumPy brings the speed of C and convenience of Python.\n",
    "\n",
    "---\n",
    "\n",
    "## Download Numpy\n",
    "\n",
    "``pip install numpy``\n",
    "\n",
    "## Import Numpy\n",
    "\n",
    "``import numpy as np``\n",
    "\n",
    "> **Note:** Now the NumPy package can be referred to as np instead of numpy. It is just an alias. \n",
    "\n",
    "## Check numpy version\n"
   ]
  },
  {
   "cell_type": "code",
   "execution_count": 1,
   "id": "8bc64f0f",
   "metadata": {},
   "outputs": [
    {
     "name": "stdout",
     "output_type": "stream",
     "text": [
      "2.3.2\n"
     ]
    }
   ],
   "source": [
    "import numpy as np\n",
    "print(np.__version__)"
   ]
  },
  {
   "cell_type": "markdown",
   "id": "35f5a2f1",
   "metadata": {},
   "source": [
    "## Create a NumPy Array (ndarray object)\n",
    "\n",
    "- NumPy is used to work with arrays. The array object in NumPy is called ndarray.\n",
    "\n",
    "- We can create a NumPy ndarray object by using the ``array()`` function.\n",
    "\n",
    "> **Note:** To create an ndarray, we can pass any python sequence like: ``list, tuple or any array-like object`` into the ``array()`` method, and it will be converted into an ndarray:"
   ]
  },
  {
   "cell_type": "code",
   "execution_count": 2,
   "id": "9559ae40",
   "metadata": {},
   "outputs": [
    {
     "name": "stdout",
     "output_type": "stream",
     "text": [
      "[1 2 3 4 5]\n",
      "<class 'numpy.ndarray'>\n"
     ]
    }
   ],
   "source": [
    "#pass list\n",
    "np_array = np.array([1,2,3,4,5])\n",
    "print(np_array)\n",
    "print(type(np_array))"
   ]
  },
  {
   "cell_type": "code",
   "execution_count": 3,
   "id": "3eff672a",
   "metadata": {},
   "outputs": [
    {
     "name": "stdout",
     "output_type": "stream",
     "text": [
      "[1 2 3 4 5]\n",
      "<class 'numpy.ndarray'>\n"
     ]
    }
   ],
   "source": [
    "#pass tuple\n",
    "np_array = np.array((1,2,3,4,5))\n",
    "print(np_array)\n",
    "print(type(np_array))"
   ]
  },
  {
   "cell_type": "markdown",
   "id": "e809b050",
   "metadata": {},
   "source": [
    "--- \n",
    "## Dimensions in Arrays\n",
    "A dimension in arrays is one level of array depth (nested arrays)\n",
    "\n",
    "> **nested array:** are arrays that have arrays as their elements.\n",
    "\n",
    "## 0-D array (Also called Scalers)"
   ]
  },
  {
   "cell_type": "code",
   "execution_count": 4,
   "id": "edefb05f",
   "metadata": {},
   "outputs": [
    {
     "name": "stdout",
     "output_type": "stream",
     "text": [
      "42\n"
     ]
    }
   ],
   "source": [
    "import numpy as np\n",
    "\n",
    "arr0 = np.array(42)\n",
    "\n",
    "print(arr0)"
   ]
  },
  {
   "cell_type": "markdown",
   "id": "8283f535",
   "metadata": {},
   "source": [
    "## 1D array (Also called Vector)\n",
    "An array that has 0-D arrays as its elements is called uni-dimensional or 1-D array."
   ]
  },
  {
   "cell_type": "code",
   "execution_count": 5,
   "id": "eaa47c14",
   "metadata": {},
   "outputs": [
    {
     "name": "stdout",
     "output_type": "stream",
     "text": [
      "[1 2 3 4 5]\n"
     ]
    }
   ],
   "source": [
    "import numpy as np\n",
    "arr1 = np.array([1, 2, 3, 4, 5])\n",
    "print(arr1)"
   ]
  },
  {
   "cell_type": "markdown",
   "id": "5660c4bd",
   "metadata": {},
   "source": [
    "## 2D Arrays (Also called Matrix)\n",
    "- An array that has 1-D arrays as its elements is called a 2-D array."
   ]
  },
  {
   "cell_type": "code",
   "execution_count": 6,
   "id": "d1042004",
   "metadata": {},
   "outputs": [
    {
     "name": "stdout",
     "output_type": "stream",
     "text": [
      "[[1 2 3]\n",
      " [4 5 6]]\n"
     ]
    }
   ],
   "source": [
    "import numpy as np\n",
    "arr2 = np.array([[1, 2, 3], [4, 5, 6]])\n",
    "print(arr2)"
   ]
  },
  {
   "cell_type": "markdown",
   "id": "7323fc82",
   "metadata": {},
   "source": [
    "## 3D arrays (Also called Tensors)\n",
    "- An array that has 2-D arrays (matrices) as its elements is called 3-D array."
   ]
  },
  {
   "cell_type": "code",
   "execution_count": 7,
   "id": "98c848e9",
   "metadata": {},
   "outputs": [
    {
     "name": "stdout",
     "output_type": "stream",
     "text": [
      "[[[1 2 3]\n",
      "  [4 5 6]]\n",
      "\n",
      " [[1 2 3]\n",
      "  [4 5 6]]]\n"
     ]
    }
   ],
   "source": [
    "import numpy as np\n",
    "arr3 = np.array([[[1, 2, 3], [4, 5, 6]], [[1, 2, 3], [4, 5, 6]]])\n",
    "print(arr3)"
   ]
  },
  {
   "cell_type": "markdown",
   "id": "a584f027",
   "metadata": {},
   "source": [
    "> **Note:** By default, elements in NumPy array are ``integers (int32 or int64 depending upon system)``. But we can change it using ``.dtype`` attribute."
   ]
  },
  {
   "cell_type": "markdown",
   "id": "f9bf8c3e",
   "metadata": {},
   "source": [
    "## ``dtype``"
   ]
  },
  {
   "cell_type": "code",
   "execution_count": 8,
   "id": "1e2e8b1a",
   "metadata": {},
   "outputs": [
    {
     "name": "stdout",
     "output_type": "stream",
     "text": [
      "[1. 2. 3.]\n"
     ]
    }
   ],
   "source": [
    "a = np.array([1,2,3], dtype=float)\n",
    "print(a)"
   ]
  },
  {
   "cell_type": "code",
   "execution_count": 9,
   "id": "0d8c08bb",
   "metadata": {},
   "outputs": [
    {
     "name": "stdout",
     "output_type": "stream",
     "text": [
      "[ True  True  True]\n"
     ]
    }
   ],
   "source": [
    "a = np.array([1,2,3], dtype=bool)\n",
    "print(a)"
   ]
  },
  {
   "cell_type": "code",
   "execution_count": 10,
   "id": "71f0a17c",
   "metadata": {},
   "outputs": [
    {
     "name": "stdout",
     "output_type": "stream",
     "text": [
      "[1.+0.j 2.+0.j 3.+0.j]\n"
     ]
    }
   ],
   "source": [
    "a = np.array([1,2,3], dtype=complex)\n",
    "print(a)"
   ]
  },
  {
   "cell_type": "markdown",
   "id": "fb37d9d5",
   "metadata": {},
   "source": [
    "## ``np.arange()``\n",
    "- used to generate elements between a particular range."
   ]
  },
  {
   "cell_type": "code",
   "execution_count": 11,
   "id": "6e641b2e",
   "metadata": {},
   "outputs": [
    {
     "name": "stdout",
     "output_type": "stream",
     "text": [
      "[ 1  2  3  4  5  6  7  8  9 10]\n"
     ]
    }
   ],
   "source": [
    "a = np.arange(1,11)\n",
    "print(a)"
   ]
  },
  {
   "cell_type": "code",
   "execution_count": 12,
   "id": "e668616b",
   "metadata": {},
   "outputs": [
    {
     "name": "stdout",
     "output_type": "stream",
     "text": [
      "[1 3 5 7 9]\n"
     ]
    }
   ],
   "source": [
    "b = np.arange(1,11,2)\n",
    "print(b)"
   ]
  },
  {
   "cell_type": "markdown",
   "id": "9e1c79f2",
   "metadata": {},
   "source": [
    "## ``reshape()``\n",
    "- change the shape of the array"
   ]
  },
  {
   "cell_type": "code",
   "execution_count": 13,
   "id": "e060cf2f",
   "metadata": {},
   "outputs": [
    {
     "name": "stdout",
     "output_type": "stream",
     "text": [
      "[[ 1  2  3  4  5]\n",
      " [ 6  7  8  9 10]]\n"
     ]
    }
   ],
   "source": [
    "a = np.arange(1,11)\n",
    "b = a.reshape(2,5)\n",
    "\n",
    "print(b)"
   ]
  },
  {
   "cell_type": "code",
   "execution_count": 14,
   "id": "f665aa08",
   "metadata": {},
   "outputs": [
    {
     "name": "stdout",
     "output_type": "stream",
     "text": [
      "[[ 0  1  2  3]\n",
      " [ 4  5  6  7]\n",
      " [ 8  9 10 11]]\n"
     ]
    }
   ],
   "source": [
    "c = np.arange(12).reshape(3,4)\n",
    "print(c)"
   ]
  },
  {
   "cell_type": "markdown",
   "id": "454c088b",
   "metadata": {},
   "source": [
    "##  Intial Placeholders in Array\n",
    "\n",
    "### 1. Create a numpy array of Zeros\n",
    "Using ``np.zero((row,cols))`` we can create a numpy array with all values as ``0``\n"
   ]
  },
  {
   "cell_type": "code",
   "execution_count": 15,
   "id": "0aa35f9a",
   "metadata": {},
   "outputs": [
    {
     "name": "stdout",
     "output_type": "stream",
     "text": [
      "[[1. 1.]\n",
      " [1. 1.]]\n"
     ]
    }
   ],
   "source": [
    "a = np.ones((2,2))\n",
    "print(a)"
   ]
  },
  {
   "cell_type": "markdown",
   "id": "d70a8820",
   "metadata": {},
   "source": [
    "### 2. Create a numpy array of Zeros\n",
    "Using ``np.ones((row,cols))`` we can create a numpy array with all values as ``1``"
   ]
  },
  {
   "cell_type": "code",
   "execution_count": 16,
   "id": "745150b5",
   "metadata": {},
   "outputs": [
    {
     "name": "stdout",
     "output_type": "stream",
     "text": [
      "[[0. 0.]\n",
      " [0. 0.]]\n"
     ]
    }
   ],
   "source": [
    "b = np.zeros((2,2))\n",
    "print(b)"
   ]
  },
  {
   "cell_type": "markdown",
   "id": "006e4a8f",
   "metadata": {},
   "source": [
    "### 3. Create a numpy array with particular value\n",
    "Using ``np.full((row,cols) , value)`` we can creates array filled with specified value"
   ]
  },
  {
   "cell_type": "code",
   "execution_count": 17,
   "id": "62bbc4a7",
   "metadata": {},
   "outputs": [
    {
     "name": "stdout",
     "output_type": "stream",
     "text": [
      "[[5 5 5]\n",
      " [5 5 5]\n",
      " [5 5 5]]\n"
     ]
    }
   ],
   "source": [
    "z = np.full((3,3), 5)\n",
    "print(z)"
   ]
  },
  {
   "cell_type": "markdown",
   "id": "d3c362a5",
   "metadata": {},
   "source": [
    "### 4. Create Identity NumPy arrays\n",
    "An identity matrix is a square matrix where:\n",
    "- All diagonal elements (from top-left to bottom-right) are ``1``\n",
    "- All other elements are ``0``\n",
    "\n",
    "Using ``np.eye(rows)``, we can create a identity matrix of (row x row)\n",
    "\n",
    "Alternately, using ``np.identity(row)``, we can do the same.\n"
   ]
  },
  {
   "cell_type": "code",
   "execution_count": 18,
   "id": "fa8b529a",
   "metadata": {},
   "outputs": [
    {
     "name": "stdout",
     "output_type": "stream",
     "text": [
      "[[1. 0. 0. 0.]\n",
      " [0. 1. 0. 0.]\n",
      " [0. 0. 1. 0.]\n",
      " [0. 0. 0. 1.]]\n"
     ]
    }
   ],
   "source": [
    "a = np.eye(4)\n",
    "print(a)"
   ]
  },
  {
   "cell_type": "code",
   "execution_count": 19,
   "id": "850c30b2",
   "metadata": {},
   "outputs": [
    {
     "name": "stdout",
     "output_type": "stream",
     "text": [
      "[[1. 0. 0.]\n",
      " [0. 1. 0.]\n",
      " [0. 0. 1.]]\n"
     ]
    }
   ],
   "source": [
    "b = np.identity(3)\n",
    "print(b)"
   ]
  },
  {
   "cell_type": "markdown",
   "id": "55d1bf39",
   "metadata": {},
   "source": [
    "## Create a NumPy array with random values.\n",
    "Using ``np.random.random((row,cols))``"
   ]
  },
  {
   "cell_type": "code",
   "execution_count": 20,
   "id": "e8a59313",
   "metadata": {},
   "outputs": [
    {
     "name": "stdout",
     "output_type": "stream",
     "text": [
      "[[0.43609667 0.13264863 0.42580916 0.57261453]\n",
      " [0.03959762 0.34211803 0.61390075 0.77188867]\n",
      " [0.75699752 0.18525163 0.92270804 0.96861238]]\n"
     ]
    }
   ],
   "source": [
    "c = np.random.random((3,4))\n",
    "print(c)"
   ]
  },
  {
   "cell_type": "markdown",
   "id": "afa3bbca",
   "metadata": {},
   "source": [
    "> **Note:** By defalt, ``random.random()`` function gives floating point numbers, for integers values we have:\n",
    "\n",
    "## Create a NumPy array with random integers (within a specific range).\n",
    "\n",
    "Using ``np.random.randint((shape))``"
   ]
  },
  {
   "cell_type": "code",
   "execution_count": 21,
   "id": "30f9fb5f",
   "metadata": {},
   "outputs": [
    {
     "name": "stdout",
     "output_type": "stream",
     "text": [
      "[[34 30 38 54 69]\n",
      " [73 56 68 86 71]\n",
      " [53 86 45 18 69]]\n"
     ]
    }
   ],
   "source": [
    "import numpy as np\n",
    "d = np.random.randint(10,100, (3,5)) # (range(dimesnions))\n",
    "print(d)"
   ]
  },
  {
   "cell_type": "markdown",
   "id": "39d828a3",
   "metadata": {},
   "source": [
    "## NumPy array with Evenly spaced values.\n",
    "\n",
    "### 1. By specifying the number of values we want...\n",
    "- using ``np.linspace()`` we cangenerate value which are linearly spread (or evenly spread)\n",
    "\n",
    "- It specifies the number of value we want"
   ]
  },
  {
   "cell_type": "code",
   "execution_count": 22,
   "id": "75a0fbe2",
   "metadata": {},
   "outputs": [
    {
     "name": "stdout",
     "output_type": "stream",
     "text": [
      "[-10.   -7.5  -5.   -2.5   0.    2.5   5.    7.5  10. ]\n"
     ]
    }
   ],
   "source": [
    "e = np.linspace(-10,10,9)  #(range, number of elements)\n",
    "print(e)"
   ]
  },
  {
   "cell_type": "markdown",
   "id": "bbb4234a",
   "metadata": {},
   "source": [
    "> From -10 to 10, and there should be exaclty 9 elements."
   ]
  },
  {
   "cell_type": "markdown",
   "id": "52dfaeb7",
   "metadata": {},
   "source": [
    "### 2. By specifying the step number.\n",
    "\n",
    "- using ``np.arange()`` we can generate elements between a range with or without steps.\n",
    "\n",
    "- It specifies the number of steps we want"
   ]
  },
  {
   "cell_type": "code",
   "execution_count": 23,
   "id": "603392fe",
   "metadata": {},
   "outputs": [
    {
     "name": "stdout",
     "output_type": "stream",
     "text": [
      "[10 15 20 25]\n"
     ]
    }
   ],
   "source": [
    "e = np.arange(10,30,5)\n",
    "print(e)"
   ]
  },
  {
   "cell_type": "markdown",
   "id": "566e0c4f",
   "metadata": {},
   "source": [
    "## Convert a list/tuple to a NumPy array"
   ]
  },
  {
   "cell_type": "code",
   "execution_count": 24,
   "id": "dca0f991",
   "metadata": {},
   "outputs": [
    {
     "name": "stdout",
     "output_type": "stream",
     "text": [
      "<class 'list'>\n",
      "<class 'numpy.ndarray'>\n"
     ]
    }
   ],
   "source": [
    "li = [10,20,30,40,50]\n",
    "print(type(li))\n",
    "\n",
    "np_array = np.asarray(li)\n",
    "print(type(np_array))"
   ]
  },
  {
   "cell_type": "code",
   "execution_count": 25,
   "id": "399ffb32",
   "metadata": {},
   "outputs": [
    {
     "name": "stdout",
     "output_type": "stream",
     "text": [
      "<class 'tuple'>\n",
      "<class 'numpy.ndarray'>\n"
     ]
    }
   ],
   "source": [
    "tp = (10,20,30,40,50)\n",
    "print(type(tp))\n",
    "\n",
    "np_array = np.asarray(tp)\n",
    "print(type(np_array))"
   ]
  },
  {
   "cell_type": "markdown",
   "id": "d1644061",
   "metadata": {},
   "source": [
    "---"
   ]
  },
  {
   "cell_type": "markdown",
   "id": "a8283cd2",
   "metadata": {},
   "source": [
    "## NumPy array attributes.\n",
    "\n",
    "- Every NumPy array is an Object of NumPy class\n",
    "- So every NumPy array can access attributes of NumPy class.\n",
    "\n",
    "## 1. Lets create some arrays with different dimensions"
   ]
  },
  {
   "cell_type": "code",
   "execution_count": 26,
   "id": "4a9d1bb2",
   "metadata": {},
   "outputs": [],
   "source": [
    "a1 = np.arange(10)\n",
    "\n",
    "a2 = np.arange(12, dtype = float).reshape(3,4)\n",
    "\n",
    "a3 = np.arange(8).reshape(2,2,2)"
   ]
  },
  {
   "cell_type": "markdown",
   "id": "90a5da23",
   "metadata": {},
   "source": [
    "## 2. Number of dimensions - ``ndim``\n"
   ]
  },
  {
   "cell_type": "code",
   "execution_count": 27,
   "id": "828f84c6",
   "metadata": {},
   "outputs": [
    {
     "name": "stdout",
     "output_type": "stream",
     "text": [
      "1\n",
      "2\n",
      "3\n"
     ]
    }
   ],
   "source": [
    "print(a1.ndim)\n",
    "print(a2.ndim)\n",
    "print(a3.ndim)"
   ]
  },
  {
   "cell_type": "markdown",
   "id": "af956102",
   "metadata": {},
   "source": [
    "## 3. Number of Items in each Dimensions - ``shape``"
   ]
  },
  {
   "cell_type": "code",
   "execution_count": 28,
   "id": "9551d0c6",
   "metadata": {},
   "outputs": [
    {
     "name": "stdout",
     "output_type": "stream",
     "text": [
      "(10,)\n",
      "(3, 4)\n",
      "(2, 2, 2)\n"
     ]
    }
   ],
   "source": [
    "print(a1.shape)\n",
    "print(a2.shape)\n",
    "print(a3.shape)"
   ]
  },
  {
   "cell_type": "markdown",
   "id": "f0c45325",
   "metadata": {},
   "source": [
    "- **(10,) :** 10 items in an 1D array\n",
    "\n",
    "- **(3, 4) :** a 2D array, with 3 rows and 4 cols\n",
    "\n",
    "- **(2, 2, 2) :** a 3D array, with two 2D array, each with 2 rows and 2 cols."
   ]
  },
  {
   "cell_type": "markdown",
   "id": "104ce6d4",
   "metadata": {},
   "source": [
    "## 4. Number of Items in Array - ``size``"
   ]
  },
  {
   "cell_type": "code",
   "execution_count": 29,
   "id": "4e63efcf",
   "metadata": {},
   "outputs": [
    {
     "name": "stdout",
     "output_type": "stream",
     "text": [
      "10\n",
      "12\n",
      "8\n"
     ]
    }
   ],
   "source": [
    "print(a1.size)\n",
    "print(a2.size)\n",
    "print(a3.size)"
   ]
  },
  {
   "cell_type": "markdown",
   "id": "45b6ee93",
   "metadata": {},
   "source": [
    "## 5. Size occupied by each item - ``itemsize``"
   ]
  },
  {
   "cell_type": "code",
   "execution_count": 30,
   "id": "4f2715fa",
   "metadata": {},
   "outputs": [
    {
     "name": "stdout",
     "output_type": "stream",
     "text": [
      "8\n",
      "8\n",
      "8\n"
     ]
    }
   ],
   "source": [
    "print(a1.itemsize)\n",
    "print(a2.itemsize)\n",
    "print(a3.itemsize)"
   ]
  },
  {
   "cell_type": "markdown",
   "id": "e56d3bec",
   "metadata": {},
   "source": [
    "## 6. Datatype of Elements in an Array - ``dtype``"
   ]
  },
  {
   "cell_type": "code",
   "execution_count": 31,
   "id": "ecf69db8",
   "metadata": {},
   "outputs": [
    {
     "name": "stdout",
     "output_type": "stream",
     "text": [
      "int64\n",
      "float64\n",
      "int64\n"
     ]
    }
   ],
   "source": [
    "print(a1.dtype)\n",
    "print(a2.dtype)\n",
    "print(a3.dtype)"
   ]
  },
  {
   "cell_type": "markdown",
   "id": "24459d72",
   "metadata": {},
   "source": [
    "## 7. Changing Datatype - ``astype``"
   ]
  },
  {
   "cell_type": "code",
   "execution_count": 32,
   "id": "0290f7d0",
   "metadata": {},
   "outputs": [
    {
     "name": "stdout",
     "output_type": "stream",
     "text": [
      "int32\n",
      "int16\n",
      "int8\n"
     ]
    }
   ],
   "source": [
    "x = a3.astype(np.int32)\n",
    "print(x.dtype)\n",
    "\n",
    "y = a3.astype(np.int16)\n",
    "print(y.dtype)\n",
    "\n",
    "z = a3.astype(np.int8)\n",
    "print(z.dtype)\n"
   ]
  },
  {
   "cell_type": "markdown",
   "id": "90301e6e",
   "metadata": {},
   "source": [
    "---\n",
    "\n",
    "## **Array Operations**"
   ]
  },
  {
   "cell_type": "code",
   "execution_count": 33,
   "id": "bb8e9a59",
   "metadata": {},
   "outputs": [],
   "source": [
    "a1 = np.arange(12).reshape(3,4)\n",
    "a2 = np.arange(12,24).reshape(3,4)"
   ]
  },
  {
   "cell_type": "markdown",
   "id": "3c488c3c",
   "metadata": {},
   "source": [
    "## 1. Scaler Operations\n",
    "\n",
    "Operation on only 1 array"
   ]
  },
  {
   "cell_type": "markdown",
   "id": "e1fcde0e",
   "metadata": {},
   "source": [
    "## 1.1 Arithmetic"
   ]
  },
  {
   "cell_type": "code",
   "execution_count": 34,
   "id": "9c3a154e",
   "metadata": {},
   "outputs": [
    {
     "name": "stdout",
     "output_type": "stream",
     "text": [
      "[[ 0  2  4  6]\n",
      " [ 8 10 12 14]\n",
      " [16 18 20 22]]\n"
     ]
    }
   ],
   "source": [
    "print(a1*2)"
   ]
  },
  {
   "cell_type": "code",
   "execution_count": 35,
   "id": "39b39e01",
   "metadata": {},
   "outputs": [
    {
     "name": "stdout",
     "output_type": "stream",
     "text": [
      "[[ 2  3  4  5]\n",
      " [ 6  7  8  9]\n",
      " [10 11 12 13]]\n"
     ]
    }
   ],
   "source": [
    "print(a1+2)"
   ]
  },
  {
   "cell_type": "code",
   "execution_count": 36,
   "id": "e483db5c",
   "metadata": {},
   "outputs": [
    {
     "name": "stdout",
     "output_type": "stream",
     "text": [
      "[[-2 -1  0  1]\n",
      " [ 2  3  4  5]\n",
      " [ 6  7  8  9]]\n"
     ]
    }
   ],
   "source": [
    "print(a1-2)"
   ]
  },
  {
   "cell_type": "code",
   "execution_count": 37,
   "id": "d99d63f8",
   "metadata": {},
   "outputs": [
    {
     "name": "stdout",
     "output_type": "stream",
     "text": [
      "[[0.  0.5 1.  1.5]\n",
      " [2.  2.5 3.  3.5]\n",
      " [4.  4.5 5.  5.5]]\n"
     ]
    }
   ],
   "source": [
    "print(a1/2)"
   ]
  },
  {
   "cell_type": "markdown",
   "id": "5b2b2c98",
   "metadata": {},
   "source": [
    "## 1.2 Relational"
   ]
  },
  {
   "cell_type": "code",
   "execution_count": 38,
   "id": "c010db19",
   "metadata": {},
   "outputs": [
    {
     "name": "stdout",
     "output_type": "stream",
     "text": [
      "[[False False False False]\n",
      " [False False False False]\n",
      " [False  True  True  True]]\n"
     ]
    }
   ],
   "source": [
    "print(a2>20) #itemwise comparison"
   ]
  },
  {
   "cell_type": "code",
   "execution_count": 39,
   "id": "0822897c",
   "metadata": {},
   "outputs": [
    {
     "name": "stdout",
     "output_type": "stream",
     "text": [
      "[[False False False False]\n",
      " [False False False False]\n",
      " [ True False False False]]\n"
     ]
    }
   ],
   "source": [
    "print(a2==20)"
   ]
  },
  {
   "cell_type": "markdown",
   "id": "fcd0f770",
   "metadata": {},
   "source": [
    "## 2. Vector Operation\n",
    "Between 2 NumPy array\n",
    "\n",
    "## 2.1 Arithmetic"
   ]
  },
  {
   "cell_type": "code",
   "execution_count": 40,
   "id": "61e50f4b",
   "metadata": {},
   "outputs": [
    {
     "name": "stdout",
     "output_type": "stream",
     "text": [
      "[[12 14 16 18]\n",
      " [20 22 24 26]\n",
      " [28 30 32 34]]\n"
     ]
    }
   ],
   "source": [
    "print(a1+a2) #itemwise add"
   ]
  },
  {
   "cell_type": "markdown",
   "id": "d9c646f6",
   "metadata": {},
   "source": [
    "> **Note:** In python list, sum ``(+)`` operator concatenate both the list. But in NumPy array, itemwise addition will be performed"
   ]
  },
  {
   "cell_type": "code",
   "execution_count": 41,
   "id": "b8b7eca9",
   "metadata": {},
   "outputs": [
    {
     "name": "stdout",
     "output_type": "stream",
     "text": [
      "[[-12 -12 -12 -12]\n",
      " [-12 -12 -12 -12]\n",
      " [-12 -12 -12 -12]]\n"
     ]
    }
   ],
   "source": [
    "print(a1-a2)"
   ]
  },
  {
   "cell_type": "code",
   "execution_count": 42,
   "id": "e91811e3",
   "metadata": {},
   "outputs": [
    {
     "name": "stdout",
     "output_type": "stream",
     "text": [
      "[[  0  13  28  45]\n",
      " [ 64  85 108 133]\n",
      " [160 189 220 253]]\n"
     ]
    }
   ],
   "source": [
    "print(a1*a2)"
   ]
  },
  {
   "cell_type": "code",
   "execution_count": 43,
   "id": "fd9229e3",
   "metadata": {},
   "outputs": [
    {
     "name": "stdout",
     "output_type": "stream",
     "text": [
      "[[0.         0.07692308 0.14285714 0.2       ]\n",
      " [0.25       0.29411765 0.33333333 0.36842105]\n",
      " [0.4        0.42857143 0.45454545 0.47826087]]\n"
     ]
    }
   ],
   "source": [
    "print(a1/a2)"
   ]
  },
  {
   "cell_type": "markdown",
   "id": "40e44895",
   "metadata": {},
   "source": [
    "--- \n",
    "\n",
    "## **Array Functions**\n",
    "\n",
    "## 1. Mathematical Operation using Array functions. \n",
    "Earlier we perform mathematical operations using ``(+, -, *, /)``. But we can also perform it using array functions. \n",
    "\n",
    "- ``np.add()``\n",
    "- ``np.subtract()``\n",
    "- ``np.multiply()``\n",
    "- ``np.divide()``\n"
   ]
  },
  {
   "cell_type": "code",
   "execution_count": 44,
   "id": "0a210f2f",
   "metadata": {},
   "outputs": [
    {
     "name": "stdout",
     "output_type": "stream",
     "text": [
      "[[12 14 16 18]\n",
      " [20 22 24 26]\n",
      " [28 30 32 34]]\n"
     ]
    }
   ],
   "source": [
    "print(np.add(a1,a2))"
   ]
  },
  {
   "cell_type": "code",
   "execution_count": 45,
   "id": "6f1b2bbf",
   "metadata": {},
   "outputs": [
    {
     "name": "stdout",
     "output_type": "stream",
     "text": [
      "[[-12 -12 -12 -12]\n",
      " [-12 -12 -12 -12]\n",
      " [-12 -12 -12 -12]]\n"
     ]
    }
   ],
   "source": [
    "print(np.subtract(a1,a2))"
   ]
  },
  {
   "cell_type": "code",
   "execution_count": 46,
   "id": "96519578",
   "metadata": {},
   "outputs": [
    {
     "name": "stdout",
     "output_type": "stream",
     "text": [
      "[[  0  13  28  45]\n",
      " [ 64  85 108 133]\n",
      " [160 189 220 253]]\n"
     ]
    }
   ],
   "source": [
    "print(np.multiply(a1,a2))"
   ]
  },
  {
   "cell_type": "code",
   "execution_count": 47,
   "id": "73b8ddfc",
   "metadata": {},
   "outputs": [
    {
     "name": "stdout",
     "output_type": "stream",
     "text": [
      "[[0.         0.07692308 0.14285714 0.2       ]\n",
      " [0.25       0.29411765 0.33333333 0.36842105]\n",
      " [0.4        0.42857143 0.45454545 0.47826087]]\n"
     ]
    }
   ],
   "source": [
    "print(np.divide(a1,a2))"
   ]
  },
  {
   "cell_type": "markdown",
   "id": "ad853e23",
   "metadata": {},
   "source": [
    "## 2. ``min()``, ``max()``\n",
    "- returns minimum and maximum elements of an array"
   ]
  },
  {
   "cell_type": "code",
   "execution_count": 48,
   "id": "d7b4c767",
   "metadata": {},
   "outputs": [
    {
     "name": "stdout",
     "output_type": "stream",
     "text": [
      "[[ 0  1  2  3]\n",
      " [ 4  5  6  7]\n",
      " [ 8  9 10 11]]\n"
     ]
    }
   ],
   "source": [
    "print(a1)"
   ]
  },
  {
   "cell_type": "code",
   "execution_count": 49,
   "id": "ea5d3f44",
   "metadata": {},
   "outputs": [
    {
     "name": "stdout",
     "output_type": "stream",
     "text": [
      "11\n"
     ]
    }
   ],
   "source": [
    "print(np.max(a1))"
   ]
  },
  {
   "cell_type": "code",
   "execution_count": 50,
   "id": "ea042ef9",
   "metadata": {},
   "outputs": [
    {
     "name": "stdout",
     "output_type": "stream",
     "text": [
      "0\n"
     ]
    }
   ],
   "source": [
    "print(np.min(a1))"
   ]
  },
  {
   "cell_type": "markdown",
   "id": "62df331e",
   "metadata": {},
   "source": [
    "## 3. ``Axis`` in Numpy\n",
    "\n",
    "Axis can have 2 value\n",
    "1. ``1``: represents rows\n",
    "2. ``0``: represents columns\n",
    "\n",
    "**Example:** We have to find row-wise ``min`` and column-wise ``max``\n"
   ]
  },
  {
   "cell_type": "code",
   "execution_count": 51,
   "id": "72236d0e",
   "metadata": {},
   "outputs": [
    {
     "name": "stdout",
     "output_type": "stream",
     "text": [
      "[[ 0  1  2  3]\n",
      " [ 4  5  6  7]\n",
      " [ 8  9 10 11]]\n"
     ]
    }
   ],
   "source": [
    "print(a1)"
   ]
  },
  {
   "cell_type": "code",
   "execution_count": 52,
   "id": "196093d4",
   "metadata": {},
   "outputs": [
    {
     "name": "stdout",
     "output_type": "stream",
     "text": [
      "[0 1 2 3]\n"
     ]
    }
   ],
   "source": [
    "print(np.min(a1, axis=0))"
   ]
  },
  {
   "cell_type": "code",
   "execution_count": 53,
   "id": "e92441c2",
   "metadata": {},
   "outputs": [
    {
     "name": "stdout",
     "output_type": "stream",
     "text": [
      "[ 3  7 11]\n"
     ]
    }
   ],
   "source": [
    "print(np.max(a1, axis=1))"
   ]
  },
  {
   "cell_type": "markdown",
   "id": "38ea384c",
   "metadata": {},
   "source": [
    "## 3. ``mean``, ``median``, ``std``, ``var``\n",
    "Mean, median, standard devaition, and variance"
   ]
  },
  {
   "cell_type": "code",
   "execution_count": 54,
   "id": "6092f03a",
   "metadata": {},
   "outputs": [
    {
     "name": "stdout",
     "output_type": "stream",
     "text": [
      "[[ 0  1  2  3]\n",
      " [ 4  5  6  7]\n",
      " [ 8  9 10 11]]\n"
     ]
    }
   ],
   "source": [
    "print(a1)"
   ]
  },
  {
   "cell_type": "code",
   "execution_count": 55,
   "id": "50d8e1f9",
   "metadata": {},
   "outputs": [
    {
     "name": "stdout",
     "output_type": "stream",
     "text": [
      "5.5\n"
     ]
    }
   ],
   "source": [
    "print(np.mean(a1))"
   ]
  },
  {
   "cell_type": "code",
   "execution_count": 56,
   "id": "b34ab34b",
   "metadata": {},
   "outputs": [
    {
     "name": "stdout",
     "output_type": "stream",
     "text": [
      "[1.5 5.5 9.5]\n"
     ]
    }
   ],
   "source": [
    "print(np.mean(a1, axis=1)) #row-wise mean"
   ]
  },
  {
   "cell_type": "code",
   "execution_count": 57,
   "id": "684ae784",
   "metadata": {},
   "outputs": [
    {
     "name": "stdout",
     "output_type": "stream",
     "text": [
      "[1.5 5.5 9.5]\n"
     ]
    }
   ],
   "source": [
    "print(np.median(a1, axis=1))"
   ]
  },
  {
   "cell_type": "code",
   "execution_count": 58,
   "id": "d66ff02c",
   "metadata": {},
   "outputs": [
    {
     "name": "stdout",
     "output_type": "stream",
     "text": [
      "3.452052529534663\n"
     ]
    }
   ],
   "source": [
    "print(np.std(a1))"
   ]
  },
  {
   "cell_type": "code",
   "execution_count": 59,
   "id": "b621dc28",
   "metadata": {},
   "outputs": [
    {
     "name": "stdout",
     "output_type": "stream",
     "text": [
      "11.916666666666666\n"
     ]
    }
   ],
   "source": [
    "print(np.var(a1))"
   ]
  },
  {
   "cell_type": "markdown",
   "id": "d732733d",
   "metadata": {},
   "source": [
    "## 4. Trignometric Functions"
   ]
  },
  {
   "cell_type": "code",
   "execution_count": 60,
   "id": "d1ccbb20",
   "metadata": {},
   "outputs": [
    {
     "name": "stdout",
     "output_type": "stream",
     "text": [
      "[[ 0.          0.84147098  0.90929743  0.14112001]\n",
      " [-0.7568025  -0.95892427 -0.2794155   0.6569866 ]\n",
      " [ 0.98935825  0.41211849 -0.54402111 -0.99999021]]\n"
     ]
    }
   ],
   "source": [
    "print(np.sin(a1)) #item-wise sin of each value"
   ]
  },
  {
   "cell_type": "markdown",
   "id": "c56ae414",
   "metadata": {},
   "source": [
    "## 5. Dot product\n",
    "``(a,b).(b,c) = (a,c)``"
   ]
  },
  {
   "cell_type": "code",
   "execution_count": 61,
   "id": "7a60380e",
   "metadata": {},
   "outputs": [],
   "source": [
    "a = np.arange(12).reshape(3,4)\n",
    "b = np.arange(12,24).reshape(4,3)"
   ]
  },
  {
   "cell_type": "code",
   "execution_count": 62,
   "id": "3b49f4bd",
   "metadata": {},
   "outputs": [
    {
     "name": "stdout",
     "output_type": "stream",
     "text": [
      "[[114 120 126]\n",
      " [378 400 422]\n",
      " [642 680 718]]\n"
     ]
    }
   ],
   "source": [
    "print(np.dot(a,b))   # (3,4).(4,3) = (3,3)"
   ]
  },
  {
   "cell_type": "markdown",
   "id": "212317c3",
   "metadata": {},
   "source": [
    "## 6. Log and Exponents"
   ]
  },
  {
   "cell_type": "code",
   "execution_count": 63,
   "id": "783ce103",
   "metadata": {},
   "outputs": [
    {
     "name": "stdout",
     "output_type": "stream",
     "text": [
      "[[2.48490665 2.56494936 2.63905733]\n",
      " [2.7080502  2.77258872 2.83321334]\n",
      " [2.89037176 2.94443898 2.99573227]\n",
      " [3.04452244 3.09104245 3.13549422]]\n"
     ]
    }
   ],
   "source": [
    "print(np.log(b))"
   ]
  },
  {
   "cell_type": "code",
   "execution_count": 64,
   "id": "2cf41a2e",
   "metadata": {},
   "outputs": [
    {
     "name": "stdout",
     "output_type": "stream",
     "text": [
      "[[1.62754791e+05 4.42413392e+05 1.20260428e+06]\n",
      " [3.26901737e+06 8.88611052e+06 2.41549528e+07]\n",
      " [6.56599691e+07 1.78482301e+08 4.85165195e+08]\n",
      " [1.31881573e+09 3.58491285e+09 9.74480345e+09]]\n"
     ]
    }
   ],
   "source": [
    "print(np.exp(b))"
   ]
  },
  {
   "cell_type": "markdown",
   "id": "ee642aab",
   "metadata": {},
   "source": [
    "## 7. ``round``, ``floor``, ``ceil``"
   ]
  },
  {
   "cell_type": "code",
   "execution_count": 65,
   "id": "837c8912",
   "metadata": {},
   "outputs": [
    {
     "name": "stdout",
     "output_type": "stream",
     "text": [
      "[[71.08615827 86.82053023 16.65649197]\n",
      " [46.90974597 40.07848831 84.27537741]]\n"
     ]
    }
   ],
   "source": [
    "a = np.random.random((2,3))*100\n",
    "print(a)"
   ]
  },
  {
   "cell_type": "code",
   "execution_count": 66,
   "id": "8812e355",
   "metadata": {},
   "outputs": [
    {
     "name": "stdout",
     "output_type": "stream",
     "text": [
      "[[71. 87. 17.]\n",
      " [47. 40. 84.]]\n"
     ]
    }
   ],
   "source": [
    "b = np.round(a)\n",
    "print(b)"
   ]
  },
  {
   "cell_type": "code",
   "execution_count": 67,
   "id": "15e24cfd",
   "metadata": {},
   "outputs": [
    {
     "name": "stdout",
     "output_type": "stream",
     "text": [
      "[[71. 86. 16.]\n",
      " [46. 40. 84.]]\n"
     ]
    }
   ],
   "source": [
    "b = np.floor(a)\n",
    "print(b)"
   ]
  },
  {
   "cell_type": "code",
   "execution_count": 68,
   "id": "71c13a96",
   "metadata": {},
   "outputs": [
    {
     "name": "stdout",
     "output_type": "stream",
     "text": [
      "[[72. 87. 17.]\n",
      " [47. 41. 85.]]\n"
     ]
    }
   ],
   "source": [
    "b = np.ceil(a)\n",
    "print(b)"
   ]
  },
  {
   "cell_type": "markdown",
   "id": "6047dffd",
   "metadata": {},
   "source": [
    "---\n",
    "\n",
    "## Indexing and Slicing"
   ]
  },
  {
   "cell_type": "code",
   "execution_count": 69,
   "id": "56a2ce10",
   "metadata": {},
   "outputs": [],
   "source": [
    "a1 = np.arange(10)\n",
    "\n",
    "a2 = np.arange(12, dtype = float).reshape(3,4)\n",
    "\n",
    "a3 = np.arange(8).reshape(2,2,2)"
   ]
  },
  {
   "cell_type": "markdown",
   "id": "76c70377",
   "metadata": {},
   "source": [
    "### **Indexing:** One item at a time"
   ]
  },
  {
   "cell_type": "markdown",
   "id": "a48fa1b1",
   "metadata": {},
   "source": [
    "### 1D array\n",
    "- For 1D array it behave same like a list.\n",
    "- Let's print 1st item of ``a1``"
   ]
  },
  {
   "cell_type": "code",
   "execution_count": 70,
   "id": "3b47c916",
   "metadata": {},
   "outputs": [
    {
     "name": "stdout",
     "output_type": "stream",
     "text": [
      "0\n"
     ]
    }
   ],
   "source": [
    "print(a1[0])"
   ]
  },
  {
   "cell_type": "markdown",
   "id": "708d7951",
   "metadata": {},
   "source": [
    "### 2D Array\n",
    "- Let's print item at 2nd row & 3rd col\n",
    "\n",
    "\n",
    "| a2[1,2]  | 1   | 2   |\n",
    "|---------|--------|---|\n",
    "| 2D Array | row | col |"
   ]
  },
  {
   "cell_type": "code",
   "execution_count": 71,
   "id": "6369b7d2",
   "metadata": {},
   "outputs": [
    {
     "name": "stdout",
     "output_type": "stream",
     "text": [
      "6.0\n"
     ]
    }
   ],
   "source": [
    "print(a2[1,2])"
   ]
  },
  {
   "cell_type": "markdown",
   "id": "a29acca2",
   "metadata": {},
   "source": [
    "### 3D Array\n",
    "- Let's print item at 2nd matrix, 1st row, 2nd col\n",
    "\n",
    "| a2[1,0,1]  | 1   | 0   |  1 |\n",
    "|---------|---------|-----|-----|\n",
    "| 3D Array | depth/matrix | row | col |"
   ]
  },
  {
   "cell_type": "code",
   "execution_count": 72,
   "id": "5cd767a2",
   "metadata": {},
   "outputs": [
    {
     "name": "stdout",
     "output_type": "stream",
     "text": [
      "5\n"
     ]
    }
   ],
   "source": [
    "print(a3[1,0,1])"
   ]
  },
  {
   "cell_type": "markdown",
   "id": "a74190c2",
   "metadata": {},
   "source": [
    "### **Slicing:** More than 1 item at a time"
   ]
  },
  {
   "cell_type": "code",
   "execution_count": 73,
   "id": "81f60167",
   "metadata": {},
   "outputs": [
    {
     "name": "stdout",
     "output_type": "stream",
     "text": [
      "[0 1 2 3 4 5 6 7 8 9]\n"
     ]
    }
   ],
   "source": [
    "print(a1)"
   ]
  },
  {
   "cell_type": "code",
   "execution_count": 74,
   "id": "0718b661",
   "metadata": {},
   "outputs": [
    {
     "name": "stdout",
     "output_type": "stream",
     "text": [
      "[[ 0.  1.  2.  3.]\n",
      " [ 4.  5.  6.  7.]\n",
      " [ 8.  9. 10. 11.]]\n"
     ]
    }
   ],
   "source": [
    "print(a2)"
   ]
  },
  {
   "cell_type": "code",
   "execution_count": 75,
   "id": "f39c6f02",
   "metadata": {},
   "outputs": [
    {
     "name": "stdout",
     "output_type": "stream",
     "text": [
      "[[[0 1]\n",
      "  [2 3]]\n",
      "\n",
      " [[4 5]\n",
      "  [6 7]]]\n"
     ]
    }
   ],
   "source": [
    "print(a3)"
   ]
  },
  {
   "cell_type": "markdown",
   "id": "0f585a3d",
   "metadata": {},
   "source": [
    "### 1. 1D array: From index 2 to index 4"
   ]
  },
  {
   "cell_type": "code",
   "execution_count": 76,
   "id": "21e721b0",
   "metadata": {},
   "outputs": [
    {
     "data": {
      "text/plain": [
       "array([2, 3, 4])"
      ]
     },
     "execution_count": 76,
     "metadata": {},
     "output_type": "execute_result"
    }
   ],
   "source": [
    "a1[2:5]"
   ]
  },
  {
   "cell_type": "markdown",
   "id": "815b9365",
   "metadata": {},
   "source": [
    "### 2. 2D Array: 1st row & all elements"
   ]
  },
  {
   "cell_type": "code",
   "execution_count": 77,
   "id": "6a6fc32f",
   "metadata": {},
   "outputs": [
    {
     "name": "stdout",
     "output_type": "stream",
     "text": [
      "[0. 1. 2. 3.]\n"
     ]
    }
   ],
   "source": [
    "print(a2[ 0 , :])"
   ]
  },
  {
   "cell_type": "markdown",
   "id": "135a7a4c",
   "metadata": {},
   "source": [
    "### 3. 2D Array: 2nd col & all elements"
   ]
  },
  {
   "cell_type": "code",
   "execution_count": 78,
   "id": "ef6300f8",
   "metadata": {},
   "outputs": [
    {
     "name": "stdout",
     "output_type": "stream",
     "text": [
      "[1. 5. 9.]\n"
     ]
    }
   ],
   "source": [
    "print(a2[ : , 1])"
   ]
  },
  {
   "cell_type": "markdown",
   "id": "cb377dde",
   "metadata": {},
   "source": [
    "### 4. 2D Array: \n",
    "\n",
    "| 5 | 6 |\n",
    "|---|---|\n",
    "| 9 | 10 |"
   ]
  },
  {
   "cell_type": "code",
   "execution_count": 79,
   "id": "286331cc",
   "metadata": {},
   "outputs": [
    {
     "name": "stdout",
     "output_type": "stream",
     "text": [
      "[[ 5.  6.]\n",
      " [ 9. 10.]]\n"
     ]
    }
   ],
   "source": [
    "print(a2[ 1: , 1:3])"
   ]
  },
  {
   "cell_type": "markdown",
   "id": "66071bbe",
   "metadata": {},
   "source": [
    "### 5. 2D Array:\n",
    "\n",
    "| 0 | 3 |\n",
    "|---|---|\n",
    "| 8 | 11 |"
   ]
  },
  {
   "cell_type": "code",
   "execution_count": 80,
   "id": "7a081903",
   "metadata": {},
   "outputs": [
    {
     "name": "stdout",
     "output_type": "stream",
     "text": [
      "[[ 0.  3.]\n",
      " [ 8. 11.]]\n"
     ]
    }
   ],
   "source": [
    "print(a2[ ::2 , ::3 ])"
   ]
  },
  {
   "cell_type": "markdown",
   "id": "464cbedf",
   "metadata": {},
   "source": [
    "### 6. 2D Array:\n",
    "\n",
    "| 1 | 3 |\n",
    "|---|---|\n",
    "| 9 | 11 |"
   ]
  },
  {
   "cell_type": "code",
   "execution_count": 81,
   "id": "74d3b626",
   "metadata": {},
   "outputs": [
    {
     "name": "stdout",
     "output_type": "stream",
     "text": [
      "[[ 1.  3.]\n",
      " [ 9. 11.]]\n"
     ]
    }
   ],
   "source": [
    "print(a2[ ::2 , 1::2 ])"
   ]
  },
  {
   "cell_type": "markdown",
   "id": "97369cbc",
   "metadata": {},
   "source": [
    "### 7. 2D Array:\n",
    "\n",
    "| 4 | 7 |\n",
    "|---|---|"
   ]
  },
  {
   "cell_type": "code",
   "execution_count": 82,
   "id": "092bf04a",
   "metadata": {},
   "outputs": [
    {
     "name": "stdout",
     "output_type": "stream",
     "text": [
      "[4. 7.]\n"
     ]
    }
   ],
   "source": [
    "print(a2[ 1 , ::3 ])"
   ]
  },
  {
   "cell_type": "markdown",
   "id": "a12c0246",
   "metadata": {},
   "source": [
    "### 8. 2D Array:\n",
    "\n",
    "| 1 | 2 | 3 |\n",
    "|---|---|---|\n",
    "| 5 | 6 | 7 |\n"
   ]
  },
  {
   "cell_type": "code",
   "execution_count": 83,
   "id": "531c0f90",
   "metadata": {},
   "outputs": [
    {
     "name": "stdout",
     "output_type": "stream",
     "text": [
      "[[1. 2. 3.]\n",
      " [5. 6. 7.]]\n"
     ]
    }
   ],
   "source": [
    "print(a2[ :2 , 1: ])"
   ]
  },
  {
   "cell_type": "markdown",
   "id": "7ff55b43",
   "metadata": {},
   "source": [
    "### Slicing on 3D Array"
   ]
  },
  {
   "cell_type": "code",
   "execution_count": 84,
   "id": "7e057ef4",
   "metadata": {},
   "outputs": [
    {
     "name": "stdout",
     "output_type": "stream",
     "text": [
      "[[[ 0  1  2]\n",
      "  [ 3  4  5]\n",
      "  [ 6  7  8]]\n",
      "\n",
      " [[ 9 10 11]\n",
      "  [12 13 14]\n",
      "  [15 16 17]]\n",
      "\n",
      " [[18 19 20]\n",
      "  [21 22 23]\n",
      "  [24 25 26]]]\n"
     ]
    }
   ],
   "source": [
    "a3 = np.arange(27).reshape(3,3,3)\n",
    "print(a3)"
   ]
  },
  {
   "cell_type": "markdown",
   "id": "f32c9e19",
   "metadata": {},
   "source": [
    "### 9. 3D Array:\n",
    "\n",
    "```txt\n",
    " [[ 9 10 11]\n",
    "  [12 13 14]\n",
    "  [15 16 17]]\n",
    "```"
   ]
  },
  {
   "cell_type": "code",
   "execution_count": 85,
   "id": "fe83816f",
   "metadata": {},
   "outputs": [
    {
     "name": "stdout",
     "output_type": "stream",
     "text": [
      "[[ 9 10 11]\n",
      " [12 13 14]\n",
      " [15 16 17]]\n"
     ]
    }
   ],
   "source": [
    "print(a3[ 1 , : , :])"
   ]
  },
  {
   "cell_type": "markdown",
   "id": "5e62c598",
   "metadata": {},
   "source": [
    "### 10. 3D Array:\n",
    "\n",
    "```txt\n",
    " [[[ 0  1  2]\n",
    "  [ 3  4  5]\n",
    "  [ 6  7  8]]\n",
    "\n",
    " [[18 19 20]\n",
    "  [21 22 23]\n",
    "  [24 25 26]]]\n",
    "```"
   ]
  },
  {
   "cell_type": "code",
   "execution_count": 86,
   "id": "499eff79",
   "metadata": {},
   "outputs": [
    {
     "name": "stdout",
     "output_type": "stream",
     "text": [
      "[[[ 0  1  2]\n",
      "  [ 3  4  5]\n",
      "  [ 6  7  8]]\n",
      "\n",
      " [[18 19 20]\n",
      "  [21 22 23]\n",
      "  [24 25 26]]]\n"
     ]
    }
   ],
   "source": [
    "print(a3[ :: 2 , : , :])"
   ]
  },
  {
   "cell_type": "markdown",
   "id": "6227386d",
   "metadata": {},
   "source": [
    "### 11. 3D Array:\n",
    "\n",
    "```txt\n",
    "  [ 3  4  5]\n",
    "```"
   ]
  },
  {
   "cell_type": "code",
   "execution_count": 87,
   "id": "db529c13",
   "metadata": {},
   "outputs": [
    {
     "name": "stdout",
     "output_type": "stream",
     "text": [
      "[3 4 5]\n"
     ]
    }
   ],
   "source": [
    "print(a3[0,1,:])"
   ]
  },
  {
   "cell_type": "markdown",
   "id": "d870f1ed",
   "metadata": {},
   "source": [
    "### 12. 3D Array:\n",
    "\n",
    "```txt\n",
    "[10]\n",
    "[13]\n",
    "[16]\n",
    "```"
   ]
  },
  {
   "cell_type": "code",
   "execution_count": 88,
   "id": "c0957952",
   "metadata": {},
   "outputs": [
    {
     "name": "stdout",
     "output_type": "stream",
     "text": [
      "[10 13 16]\n"
     ]
    }
   ],
   "source": [
    "print(a3[1,:,1])"
   ]
  },
  {
   "cell_type": "markdown",
   "id": "4230b58a",
   "metadata": {},
   "source": [
    "### 13. 3D array\n",
    "\n",
    "```txt\n",
    "[22 23]\n",
    "[25 26]\n",
    "```"
   ]
  },
  {
   "cell_type": "code",
   "execution_count": 89,
   "id": "34280e33",
   "metadata": {},
   "outputs": [
    {
     "name": "stdout",
     "output_type": "stream",
     "text": [
      "[[22 23]\n",
      " [25 26]]\n"
     ]
    }
   ],
   "source": [
    "print(a3[2,1:,1:])"
   ]
  },
  {
   "cell_type": "markdown",
   "id": "d1e8b06b",
   "metadata": {},
   "source": [
    "### 13. 3D array\n",
    "\n",
    "```txt\n",
    "[0 2]\n",
    "[18 20]\n",
    "```"
   ]
  },
  {
   "cell_type": "code",
   "execution_count": 90,
   "id": "9b017ab7",
   "metadata": {},
   "outputs": [
    {
     "name": "stdout",
     "output_type": "stream",
     "text": [
      "[[ 0  2]\n",
      " [18 20]]\n"
     ]
    }
   ],
   "source": [
    "print(a3[::2, 0, ::2])"
   ]
  },
  {
   "cell_type": "markdown",
   "id": "1ce542b3",
   "metadata": {},
   "source": [
    "---\n",
    "\n",
    "## Iterating - Using ``nditer()`` method"
   ]
  },
  {
   "cell_type": "code",
   "execution_count": 91,
   "id": "2c38aaf5",
   "metadata": {},
   "outputs": [
    {
     "data": {
      "text/plain": [
       "array([0, 1, 2, 3, 4, 5, 6, 7, 8, 9])"
      ]
     },
     "execution_count": 91,
     "metadata": {},
     "output_type": "execute_result"
    }
   ],
   "source": [
    "a1"
   ]
  },
  {
   "cell_type": "code",
   "execution_count": 92,
   "id": "fbe33fdf",
   "metadata": {},
   "outputs": [
    {
     "data": {
      "text/plain": [
       "array([[ 0.,  1.,  2.,  3.],\n",
       "       [ 4.,  5.,  6.,  7.],\n",
       "       [ 8.,  9., 10., 11.]])"
      ]
     },
     "execution_count": 92,
     "metadata": {},
     "output_type": "execute_result"
    }
   ],
   "source": [
    "a2"
   ]
  },
  {
   "cell_type": "code",
   "execution_count": 93,
   "id": "2f61b3f4",
   "metadata": {},
   "outputs": [
    {
     "data": {
      "text/plain": [
       "array([[[ 0,  1,  2],\n",
       "        [ 3,  4,  5],\n",
       "        [ 6,  7,  8]],\n",
       "\n",
       "       [[ 9, 10, 11],\n",
       "        [12, 13, 14],\n",
       "        [15, 16, 17]],\n",
       "\n",
       "       [[18, 19, 20],\n",
       "        [21, 22, 23],\n",
       "        [24, 25, 26]]])"
      ]
     },
     "execution_count": 93,
     "metadata": {},
     "output_type": "execute_result"
    }
   ],
   "source": [
    "a3"
   ]
  },
  {
   "cell_type": "code",
   "execution_count": 94,
   "id": "d6bed338",
   "metadata": {},
   "outputs": [
    {
     "name": "stdout",
     "output_type": "stream",
     "text": [
      "0 1 2 3 4 5 6 7 8 9 "
     ]
    }
   ],
   "source": [
    "for i in a1: \n",
    "    print(i , end = \" \")"
   ]
  },
  {
   "cell_type": "code",
   "execution_count": 95,
   "id": "3b8e85bc",
   "metadata": {},
   "outputs": [
    {
     "name": "stdout",
     "output_type": "stream",
     "text": [
      "0 1 2 3 4 5 6 7 8 9 10 11 12 13 14 15 16 17 18 19 20 21 22 23 24 25 26 "
     ]
    }
   ],
   "source": [
    "for i in np.nditer(a3):\n",
    "    print(i, end=\" \")\n",
    "    "
   ]
  },
  {
   "cell_type": "markdown",
   "id": "8222324f",
   "metadata": {},
   "source": [
    "> **Note:** ``nditer`` will convert our 3d array into 1d, then print each item."
   ]
  },
  {
   "cell_type": "markdown",
   "id": "2e56893a",
   "metadata": {},
   "source": [
    "## Transpose\n",
    "\n",
    "Row <--> col\n",
    "\n",
    "- It converts a ``(n*m)`` matrix into ``(m*n)``\n",
    "- There are 2 ways to do it\n",
    "    1. using ``np.transpose()`` method \n",
    "    2. Using ``T`` attribute"
   ]
  },
  {
   "cell_type": "code",
   "execution_count": 96,
   "id": "b4a5e9fe",
   "metadata": {},
   "outputs": [
    {
     "name": "stdout",
     "output_type": "stream",
     "text": [
      "(2, 5)\n"
     ]
    }
   ],
   "source": [
    "x = np.arange(10).reshape(2,5)\n",
    "print(x.shape)"
   ]
  },
  {
   "cell_type": "code",
   "execution_count": 97,
   "id": "4ba27fc0",
   "metadata": {},
   "outputs": [
    {
     "name": "stdout",
     "output_type": "stream",
     "text": [
      "(5, 2)\n"
     ]
    }
   ],
   "source": [
    "y = np.transpose(x)\n",
    "print(y.shape)"
   ]
  },
  {
   "cell_type": "code",
   "execution_count": 98,
   "id": "21ac5fcd",
   "metadata": {},
   "outputs": [
    {
     "data": {
      "text/plain": [
       "(5, 2)"
      ]
     },
     "execution_count": 98,
     "metadata": {},
     "output_type": "execute_result"
    }
   ],
   "source": [
    "y = x.T\n",
    "(y.shape)"
   ]
  },
  {
   "cell_type": "markdown",
   "id": "eea16ddd",
   "metadata": {},
   "source": [
    "> **Note:** ``np.transpose`` or ``.T`` doesn't transpose the 2D array permanently, it just provide a copy of Transposed Matrix."
   ]
  },
  {
   "cell_type": "markdown",
   "id": "535bb599",
   "metadata": {},
   "source": [
    "---\n",
    "\n",
    "## Stacking And Splitting\n",
    "\n",
    "\n",
    "## Stacking: Append two or more Arrays\n",
    "There are 2 types of Stacking\n",
    "\n",
    "1. Horizontal Stacking: \n",
    "\n",
    "- ``.hstack``\n",
    "- Stacks arrays side by side (along columns)\n",
    "- Requires that the arrays have the same number of columns.\n",
    "- ``.hstack`` takes only 1 argument, so pass all the array name in one tuple.\n",
    "\n",
    "2. Vertical Stacking: \n",
    "\n",
    "- ``.vstack`` \n",
    "- Stacks arrays on top of each other (along rows).\n",
    "- Requires that the arrays have the same number of rows.\n",
    "- ``.vstack`` takes only 1 argument, so pass all the array name in one tuple.\n",
    "\n",
    "> Image: Horizontal Stack\n",
    "\n",
    "<img src = \"https://www.w3resource.com/w3r_images/numpy-manipulation-hstack-function-image-1.png\" width=\"400\">\n",
    "\n",
    "> Image: Vertical Stack\n",
    "\n",
    "<img src = \"https://www.w3resource.com/w3r_images/numpy-manipulation-vstack-function-image-1.png\" width=\"400\">\n"
   ]
  },
  {
   "cell_type": "code",
   "execution_count": 99,
   "id": "74ea2faf",
   "metadata": {},
   "outputs": [],
   "source": [
    "a4 = np.arange(12).reshape(3,4)\n",
    "a5 = np.arange(12,24).reshape(3,4)"
   ]
  },
  {
   "cell_type": "code",
   "execution_count": 100,
   "id": "3626d412",
   "metadata": {},
   "outputs": [
    {
     "data": {
      "text/plain": [
       "array([[ 0,  1,  2,  3],\n",
       "       [ 4,  5,  6,  7],\n",
       "       [ 8,  9, 10, 11]])"
      ]
     },
     "execution_count": 100,
     "metadata": {},
     "output_type": "execute_result"
    }
   ],
   "source": [
    "a4"
   ]
  },
  {
   "cell_type": "code",
   "execution_count": 101,
   "id": "1b202542",
   "metadata": {},
   "outputs": [
    {
     "data": {
      "text/plain": [
       "array([[12, 13, 14, 15],\n",
       "       [16, 17, 18, 19],\n",
       "       [20, 21, 22, 23]])"
      ]
     },
     "execution_count": 101,
     "metadata": {},
     "output_type": "execute_result"
    }
   ],
   "source": [
    "a5"
   ]
  },
  {
   "cell_type": "code",
   "execution_count": 102,
   "id": "6e0a44f2",
   "metadata": {},
   "outputs": [
    {
     "name": "stdout",
     "output_type": "stream",
     "text": [
      "[[ 0  1  2  3 12 13 14 15]\n",
      " [ 4  5  6  7 16 17 18 19]\n",
      " [ 8  9 10 11 20 21 22 23]]\n"
     ]
    }
   ],
   "source": [
    "a4_hstack = np.hstack((a4,a5))\n",
    "print(a4_hstack)"
   ]
  },
  {
   "cell_type": "code",
   "execution_count": 103,
   "id": "0792fe52",
   "metadata": {},
   "outputs": [
    {
     "name": "stdout",
     "output_type": "stream",
     "text": [
      "[[ 0  1  2  3]\n",
      " [ 4  5  6  7]\n",
      " [ 8  9 10 11]\n",
      " [12 13 14 15]\n",
      " [16 17 18 19]\n",
      " [20 21 22 23]]\n"
     ]
    }
   ],
   "source": [
    "a4_vstack = np.vstack((a4,a5))\n",
    "print(a4_vstack)"
   ]
  },
  {
   "cell_type": "markdown",
   "id": "995cc91b",
   "metadata": {},
   "source": [
    "## Splitting : Opposite of Stacking, break arrays into parts\n",
    "There are 2 types of Splitting\n",
    "\n",
    "1. Horizontal Splitting: \n",
    "- ``.hsplit``\n",
    "- Splits **columns** into 2 parts\n",
    "\n",
    "2. Vertical Splitting:\n",
    "- ``.vsplit``\n",
    "- Splits **rows** into 2 parts\n",
    "\n",
    "> Image: Horizontal Split\n",
    "\n",
    "<img src = \"https://www.w3resource.com/w3r_images/numpy-manipulation-array-hsplit-function-image-2.png\" width=\"400\">\n",
    "\n",
    "> Image: Horizontal Split\n",
    "\n",
    "<img src = \"https://www.w3resource.com/w3r_images/numpy-manipulation-array-vsplit-function-image-2.png\" width=\"400\">"
   ]
  },
  {
   "cell_type": "code",
   "execution_count": 104,
   "id": "738a1749",
   "metadata": {},
   "outputs": [
    {
     "data": {
      "text/plain": [
       "[array([[0, 1],\n",
       "        [4, 5],\n",
       "        [8, 9]]),\n",
       " array([[ 2,  3],\n",
       "        [ 6,  7],\n",
       "        [10, 11]])]"
      ]
     },
     "execution_count": 104,
     "metadata": {},
     "output_type": "execute_result"
    }
   ],
   "source": [
    "a4_hsplit = np.hsplit(a4,2) # into 2 parts\n",
    "a4_hsplit"
   ]
  },
  {
   "cell_type": "code",
   "execution_count": 105,
   "id": "104275f9",
   "metadata": {},
   "outputs": [
    {
     "data": {
      "text/plain": [
       "[array([[0],\n",
       "        [4],\n",
       "        [8]]),\n",
       " array([[1],\n",
       "        [5],\n",
       "        [9]]),\n",
       " array([[ 2],\n",
       "        [ 6],\n",
       "        [10]]),\n",
       " array([[ 3],\n",
       "        [ 7],\n",
       "        [11]])]"
      ]
     },
     "execution_count": 105,
     "metadata": {},
     "output_type": "execute_result"
    }
   ],
   "source": [
    "a4_hsplit = np.hsplit(a4,4) # into 4 parts\n",
    "a4_hsplit"
   ]
  },
  {
   "cell_type": "code",
   "execution_count": 106,
   "id": "52c01e38",
   "metadata": {},
   "outputs": [
    {
     "data": {
      "text/plain": [
       "[array([[0, 1, 2, 3]]), array([[4, 5, 6, 7]]), array([[ 8,  9, 10, 11]])]"
      ]
     },
     "execution_count": 106,
     "metadata": {},
     "output_type": "execute_result"
    }
   ],
   "source": [
    "a4_vsplit = np.vsplit(a4,3) #into 3 parts\n",
    "a4_vsplit"
   ]
  }
 ],
 "metadata": {
  "kernelspec": {
   "display_name": "Python 3",
   "language": "python",
   "name": "python3"
  },
  "language_info": {
   "codemirror_mode": {
    "name": "ipython",
    "version": 3
   },
   "file_extension": ".py",
   "mimetype": "text/x-python",
   "name": "python",
   "nbconvert_exporter": "python",
   "pygments_lexer": "ipython3",
   "version": "3.13.5"
  }
 },
 "nbformat": 4,
 "nbformat_minor": 5
}
