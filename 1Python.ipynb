{
 "cells": [
  {
   "cell_type": "markdown",
   "id": "1a8d7980",
   "metadata": {},
   "source": [
    "# Part 1 : Python Basics.\n",
    "(Followed DSMP CampusX Lectures)"
   ]
  },
  {
   "cell_type": "markdown",
   "id": "e5c4b384",
   "metadata": {},
   "source": [
    "## Why Python?\n",
    "\n",
    "**1. Easy to Learn & Read**\n",
    "- Simple, clean syntax (like plain English).\n",
    "- Great for beginners, yet powerful for advanced projects.\n",
    "\n",
    "**2. Batteries Included**\n",
    "- Comes with a rich standard library (no extra tools needed for basic tasks).\n",
    "- Examples: File handling, web scraping, math operations, etc.\n",
    "\n",
    "**3. Versatile (General Purpose)**\n",
    "- Used in multiple fields: like Web Devlopment, Data Science, Automation, Game Development etc. \n",
    "\n",
    "**4.  Huge Community & Libraries**\n",
    "- Thousands of free libraries for almost any task. (eg. Numpy, Tensorflow, Django)\n",
    "- Strong community support → Easy troubleshooting, tutorials, and updates."
   ]
  },
  {
   "cell_type": "markdown",
   "id": "13d6ab05",
   "metadata": {},
   "source": [
    "## Why python for data science?\n",
    "1. Easy to learn\n",
    "2. Proximity  with Maths\n",
    "3. Community\n"
   ]
  },
  {
   "cell_type": "markdown",
   "id": "60767c7a",
   "metadata": {},
   "source": [
    "> **Note:** \n",
    "1. Python is case-sensitive language. **print** and **Print** are two different thing\n",
    "2. Python is a **interpreted language** not a ~~compiled language~~, it is translated line by line.\n"
   ]
  },
  {
   "cell_type": "markdown",
   "id": "8a160ad8",
   "metadata": {},
   "source": [
    "---"
   ]
  },
  {
   "cell_type": "markdown",
   "id": "b52afa29",
   "metadata": {},
   "source": [
    "## Python Syntax:\n"
   ]
  },
  {
   "cell_type": "markdown",
   "id": "1041bbca",
   "metadata": {},
   "source": [
    "### 1. Python Output:"
   ]
  },
  {
   "cell_type": "code",
   "execution_count": 1,
   "id": "192da4f0",
   "metadata": {},
   "outputs": [
    {
     "name": "stdout",
     "output_type": "stream",
     "text": [
      "Hello World\n"
     ]
    }
   ],
   "source": [
    "print('Hello World')"
   ]
  },
  {
   "cell_type": "code",
   "execution_count": 3,
   "id": "9463c585",
   "metadata": {},
   "outputs": [
    {
     "name": "stdout",
     "output_type": "stream",
     "text": [
      "Hello World 1 3.14 True\n"
     ]
    }
   ],
   "source": [
    "print('Hello World', 1, 3.14 , True)"
   ]
  },
  {
   "cell_type": "markdown",
   "id": "54c3d716",
   "metadata": {},
   "source": [
    "> **Note:** In Python, when we pass multiple elements to the ``print()`` function, all elements are printed separated by a space by default.\n",
    "However, we can change this behavior using the ``sep`` (separator) parameter of ``print()``."
   ]
  },
  {
   "cell_type": "code",
   "execution_count": 1,
   "id": "7b8d761e",
   "metadata": {},
   "outputs": [
    {
     "name": "stdout",
     "output_type": "stream",
     "text": [
      "Hello World/1/3.14/True\n"
     ]
    }
   ],
   "source": [
    "print('Hello World', 1, 3.14 , True , sep = '/')"
   ]
  },
  {
   "cell_type": "markdown",
   "id": "f8203e2a",
   "metadata": {},
   "source": [
    "> **Note:** By default in Python, after the ``print()`` function executes, the output moves to a new line.\n",
    "We can change this behavior using the ``end`` parameter of print().\n",
    "By default ``end = '\\n'``;"
   ]
  },
  {
   "cell_type": "code",
   "execution_count": 3,
   "id": "0ac49b52",
   "metadata": {},
   "outputs": [
    {
     "name": "stdout",
     "output_type": "stream",
     "text": [
      "Shivam\n",
      "Sinha\n"
     ]
    }
   ],
   "source": [
    "# By default end='\\n'\n",
    "print('Shivam')\n",
    "print('Sinha')"
   ]
  },
  {
   "cell_type": "code",
   "execution_count": null,
   "id": "d884ccb1",
   "metadata": {},
   "outputs": [
    {
     "name": "stdout",
     "output_type": "stream",
     "text": [
      "Shivam-Sinha\n"
     ]
    }
   ],
   "source": [
    "# changing behaviour of 'end' parameter\n",
    "print('Shivam' , end = \"-\")\n",
    "print('Sinha')"
   ]
  },
  {
   "cell_type": "markdown",
   "id": "a6b3782a",
   "metadata": {},
   "source": [
    "---"
   ]
  },
  {
   "cell_type": "markdown",
   "id": "4459f22c",
   "metadata": {},
   "source": [
    "### 2. Data Types"
   ]
  },
  {
   "cell_type": "code",
   "execution_count": null,
   "id": "aae4d561",
   "metadata": {},
   "outputs": [
    {
     "name": "stdout",
     "output_type": "stream",
     "text": [
      "8\n",
      "1e+308\n"
     ]
    }
   ],
   "source": [
    "# Integer\n",
    "print(8)\n",
    "\n",
    "# Python can handle a large integer values\n",
    "# About 1*10^308\n",
    "print(1e308)"
   ]
  },
  {
   "cell_type": "code",
   "execution_count": 9,
   "id": "2019493c",
   "metadata": {},
   "outputs": [
    {
     "name": "stdout",
     "output_type": "stream",
     "text": [
      "inf\n"
     ]
    }
   ],
   "source": [
    "print(1e309)"
   ]
  },
  {
   "cell_type": "markdown",
   "id": "2f728d2a",
   "metadata": {},
   "source": [
    "infinite because it can handle only upto 10^308"
   ]
  },
  {
   "cell_type": "code",
   "execution_count": 11,
   "id": "74b35bcf",
   "metadata": {},
   "outputs": [
    {
     "name": "stdout",
     "output_type": "stream",
     "text": [
      "8.55\n",
      "1.7e+308\n"
     ]
    }
   ],
   "source": [
    "# Decimal / Float\n",
    "\n",
    "print(8.55)\n",
    "print(1.7e308)"
   ]
  },
  {
   "cell_type": "code",
   "execution_count": 12,
   "id": "83766451",
   "metadata": {},
   "outputs": [
    {
     "name": "stdout",
     "output_type": "stream",
     "text": [
      "True\n",
      "False\n"
     ]
    }
   ],
   "source": [
    "## Boolean\n",
    "\n",
    "print(True)\n",
    "print(False)"
   ]
  },
  {
   "cell_type": "code",
   "execution_count": 16,
   "id": "b25232ff",
   "metadata": {},
   "outputs": [
    {
     "name": "stdout",
     "output_type": "stream",
     "text": [
      "Hello World\n"
     ]
    }
   ],
   "source": [
    "# Text / String\n",
    "\n",
    "print(\"Hello World\")"
   ]
  },
  {
   "cell_type": "code",
   "execution_count": 15,
   "id": "0c468a95",
   "metadata": {},
   "outputs": [
    {
     "name": "stdout",
     "output_type": "stream",
     "text": [
      "(5+6j)\n"
     ]
    }
   ],
   "source": [
    "# Complex\n",
    "\n",
    "print(5+6j)"
   ]
  },
  {
   "cell_type": "code",
   "execution_count": 17,
   "id": "6a7c3a29",
   "metadata": {},
   "outputs": [
    {
     "name": "stdout",
     "output_type": "stream",
     "text": [
      "[1, 2, 3, 4, 5]\n"
     ]
    }
   ],
   "source": [
    "# List (Array in Java or C)\n",
    "\n",
    "print([1,2,3,4,5])"
   ]
  },
  {
   "cell_type": "code",
   "execution_count": 19,
   "id": "9ffa1bac",
   "metadata": {},
   "outputs": [
    {
     "name": "stdout",
     "output_type": "stream",
     "text": [
      "(1, 2, 3, 4, 5)\n"
     ]
    }
   ],
   "source": [
    "# Tuple\n",
    "\n",
    "print((1,2,3,4,5))"
   ]
  },
  {
   "cell_type": "code",
   "execution_count": 20,
   "id": "f314a457",
   "metadata": {},
   "outputs": [
    {
     "name": "stdout",
     "output_type": "stream",
     "text": [
      "{1, 2, 3, 4, 5}\n"
     ]
    }
   ],
   "source": [
    "# Sets\n",
    "\n",
    "print({1,2,3,4,5,5})"
   ]
  },
  {
   "cell_type": "code",
   "execution_count": 21,
   "id": "d838a837",
   "metadata": {},
   "outputs": [
    {
     "name": "stdout",
     "output_type": "stream",
     "text": [
      "{'Name': 'Shivam', 'Gender': 'Male', 'Weight': 60}\n"
     ]
    }
   ],
   "source": [
    "# Dictionary - Key value pairs\n",
    "\n",
    "print({'Name':'Shivam' , 'Gender' : 'Male' , 'Weight' : 60})"
   ]
  },
  {
   "cell_type": "code",
   "execution_count": 22,
   "id": "530fb4c8",
   "metadata": {},
   "outputs": [
    {
     "data": {
      "text/plain": [
       "int"
      ]
     },
     "execution_count": 22,
     "metadata": {},
     "output_type": "execute_result"
    }
   ],
   "source": [
    "# Type\n",
    "\n",
    "type(3)"
   ]
  },
  {
   "cell_type": "code",
   "execution_count": 26,
   "id": "be143a1b",
   "metadata": {},
   "outputs": [
    {
     "data": {
      "text/plain": [
       "float"
      ]
     },
     "execution_count": 26,
     "metadata": {},
     "output_type": "execute_result"
    }
   ],
   "source": [
    "type(3.5)\n"
   ]
  },
  {
   "cell_type": "code",
   "execution_count": 27,
   "id": "fd051c28",
   "metadata": {},
   "outputs": [
    {
     "data": {
      "text/plain": [
       "str"
      ]
     },
     "execution_count": 27,
     "metadata": {},
     "output_type": "execute_result"
    }
   ],
   "source": [
    "type(\"Hello\")"
   ]
  },
  {
   "cell_type": "code",
   "execution_count": 28,
   "id": "f0312512",
   "metadata": {},
   "outputs": [
    {
     "data": {
      "text/plain": [
       "float"
      ]
     },
     "execution_count": 28,
     "metadata": {},
     "output_type": "execute_result"
    }
   ],
   "source": [
    "type(3.14)"
   ]
  },
  {
   "cell_type": "code",
   "execution_count": 29,
   "id": "50f869bf",
   "metadata": {},
   "outputs": [
    {
     "data": {
      "text/plain": [
       "complex"
      ]
     },
     "execution_count": 29,
     "metadata": {},
     "output_type": "execute_result"
    }
   ],
   "source": [
    "type(6+6j)"
   ]
  },
  {
   "cell_type": "code",
   "execution_count": 30,
   "id": "3910add4",
   "metadata": {},
   "outputs": [
    {
     "data": {
      "text/plain": [
       "list"
      ]
     },
     "execution_count": 30,
     "metadata": {},
     "output_type": "execute_result"
    }
   ],
   "source": [
    "type([1,2,3])"
   ]
  },
  {
   "cell_type": "markdown",
   "id": "0a19a9a1",
   "metadata": {},
   "source": [
    "--- \n",
    "\n",
    "### 3. Variables\n",
    "- Variables are basically containers, used to store data for later use.\n",
    "- In python, we don't need to explicitly mention the data type.\n",
    "- Python is dynamically typed - it automatically detects the data type based on the assigned value"
   ]
  },
  {
   "cell_type": "code",
   "execution_count": 37,
   "id": "56154011",
   "metadata": {},
   "outputs": [
    {
     "name": "stdout",
     "output_type": "stream",
     "text": [
      "Shivam\n",
      "<class 'str'>\n",
      "11\n"
     ]
    }
   ],
   "source": [
    "name = \"Shivam\"\n",
    "print(name)\n",
    "print(type(name))\n",
    "\n",
    "a = 5\n",
    "b = 6 \n",
    "print( a+ b )"
   ]
  },
  {
   "cell_type": "markdown",
   "id": "3107e3a1",
   "metadata": {},
   "source": [
    "---\n",
    "### Dynamic Typing vs Static Typing\n",
    "\n",
    "**Dynamic Typing**: When we **don't need to specify the data type** explicitly.  \n",
    "Python supports dynamic typing.\n",
    "\n",
    "``\n",
    "a = 5  # Python automatically understands that 'a' is an integer\n",
    "``\n",
    "\n",
    "**Static Typing** : We must specify the data type explicitly. C,C++, Java supports static typing\n",
    "``\n",
    "int a = 5\n",
    "``"
   ]
  },
  {
   "cell_type": "markdown",
   "id": "0fc9b614",
   "metadata": {},
   "source": [
    "---\n",
    "\n",
    "### Dynamic binding vs Static binding\n",
    "\n",
    "**Dynamic binding**: Once a variable is declared, its **data type can changed** at anytime during in the program. \n",
    "Python supports dynamic binding.\n",
    "\n",
    "\n",
    "```py\n",
    "a = 5 \n",
    "a = 'shivam'   # No error in python\n",
    "```\n",
    "\n",
    "**Static binding** : Once a variable is declared, its the data type remains fixedthroughout the program. C,C++, Java supports static binding\n",
    "\n",
    "```java\n",
    "int a = 5\n",
    "\n",
    "String a = \"Shivam\";  //Error in Java and C++ as 'a' is already declared as integer.\n",
    "```"
   ]
  },
  {
   "cell_type": "markdown",
   "id": "91c30777",
   "metadata": {},
   "source": [
    "### More ways to create multiple variables"
   ]
  },
  {
   "cell_type": "code",
   "execution_count": 40,
   "id": "540fa457",
   "metadata": {},
   "outputs": [
    {
     "name": "stdout",
     "output_type": "stream",
     "text": [
      "1 2 3\n"
     ]
    }
   ],
   "source": [
    "a,b,c = 1,2,3\n",
    "print(a,b,c)"
   ]
  },
  {
   "cell_type": "code",
   "execution_count": 42,
   "id": "ceecd884",
   "metadata": {},
   "outputs": [
    {
     "name": "stdout",
     "output_type": "stream",
     "text": [
      "5 5 5\n"
     ]
    }
   ],
   "source": [
    "a=b=c = 5\n",
    "print(a,b,c)"
   ]
  },
  {
   "cell_type": "markdown",
   "id": "209ca6f3",
   "metadata": {},
   "source": [
    "> **Note:** compilation is basically a process where we convert our high level code into binary language (machine language)"
   ]
  },
  {
   "cell_type": "markdown",
   "id": "2246eefe",
   "metadata": {},
   "source": [
    "--- \n",
    "\n",
    "### 4. Keywords & Identifiers\n",
    "\n",
    "**Keywords**\n",
    "- Keywords are reserved words in python that have special meaning \n",
    "- They cannot be used as identifiers (variable names, functions names, etc.)\n",
    "- They are reserved by the **python interpreter** and used by them to understand the structure and logic of the program better.\n",
    "- In python there are 35 keywords\n",
    "\n",
    "<table border=\"1\" cellspacing=\"0\" cellpadding=\"8\">\n",
    "  <caption><strong>List of Python Keywords (35 Total)</strong></caption>\n",
    "  <tr>\n",
    "  </tr>\n",
    "  <tr>\n",
    "    <td>False</td>\n",
    "    <td>None</td>\n",
    "    <td>True</td>\n",
    "    <td>and</td>\n",
    "    <td>as</td>\n",
    "  </tr>\n",
    "  <tr>\n",
    "    <td>assert</td>\n",
    "    <td>async</td>\n",
    "    <td>await</td>\n",
    "    <td>break</td>\n",
    "    <td>class</td>\n",
    "  </tr>\n",
    "  <tr>\n",
    "    <td>continue</td>\n",
    "    <td>def</td>\n",
    "    <td>del</td>\n",
    "    <td>elif</td>\n",
    "    <td>else</td>\n",
    "  </tr>\n",
    "  <tr>\n",
    "    <td>except</td>\n",
    "    <td>finally</td>\n",
    "    <td>for</td>\n",
    "    <td>from</td>\n",
    "    <td>global</td>\n",
    "  </tr>\n",
    "  <tr>\n",
    "    <td>if</td>\n",
    "    <td>import</td>\n",
    "    <td>in</td>\n",
    "    <td>is</td>\n",
    "    <td>lambda</td>\n",
    "  </tr>\n",
    "  <tr>\n",
    "    <td>nonlocal</td>\n",
    "    <td>not</td>\n",
    "    <td>or</td>\n",
    "    <td>pass</td>\n",
    "    <td>raise</td>\n",
    "  </tr>\n",
    "  <tr>\n",
    "    <td>return</td>\n",
    "    <td>try</td>\n",
    "    <td>while</td>\n",
    "    <td>with</td>\n",
    "    <td>yield</td>\n",
    "  </tr>\n",
    "</table>\n",
    "\n",
    "\n",
    "**Identifiers** \n",
    "- Identifiers are the names you assign to elements in your Python code — such as: Vaiables, Functions, Classes, Modules, Objects\n",
    "\n",
    "**Rules for writing Identifiers in python:**\n",
    "1. Can contain letters (A–Z, a–z), digits (0–9), and underscores (_)\n",
    "2. Cannot start with a digit\n",
    "3. Cannot be a keyword (like if, while, class, etc.)\n",
    "4. Are case-sensitive (Name and name are different)\n",
    "5. No special characters allowed (@, $, #, etc.)"
   ]
  },
  {
   "cell_type": "markdown",
   "id": "432fdb8b",
   "metadata": {},
   "source": [
    "---\n",
    "\n",
    "### 5. User Input"
   ]
  },
  {
   "cell_type": "code",
   "execution_count": 47,
   "id": "377127c9",
   "metadata": {},
   "outputs": [
    {
     "name": "stdout",
     "output_type": "stream",
     "text": [
      "Shivam\n"
     ]
    }
   ],
   "source": [
    "s = input(\"Enter Input\")\n",
    "print(s)"
   ]
  },
  {
   "cell_type": "markdown",
   "id": "e533cff4",
   "metadata": {},
   "source": [
    "### WAP in python to add 2 number"
   ]
  },
  {
   "cell_type": "code",
   "execution_count": 50,
   "id": "871a74f3",
   "metadata": {},
   "outputs": [
    {
     "name": "stdout",
     "output_type": "stream",
     "text": [
      "The sum of:  5 and 15 is 515\n"
     ]
    }
   ],
   "source": [
    "num1 = input(\"Enter first number\")\n",
    "num2 = input(\"Enter second number\")\n",
    "sum = num1 + num2\n",
    "print(\"The sum of: \", num1 , \"and\" , num2, \"is\" , sum)"
   ]
  },
  {
   "cell_type": "markdown",
   "id": "69bf5138",
   "metadata": {},
   "source": [
    "> **Note:** Behaviour of input() function in python\n",
    "- In Python, the `input()` function **always returns data as a string**, even if the user enters a number.\n",
    "- If you try to perform arithmetic directly on `input()` values, Python will **concatenate the strings** instead of adding the numbers.\n",
    "- So the correct approach is, always convert input() to int or float when performing mathematical operations.\n"
   ]
  },
  {
   "cell_type": "code",
   "execution_count": 51,
   "id": "f73ee9a7",
   "metadata": {},
   "outputs": [
    {
     "name": "stdout",
     "output_type": "stream",
     "text": [
      "The sum of:  5 and 15 is 20\n"
     ]
    }
   ],
   "source": [
    "num1 = int(input(\"Enter first number\"))\n",
    "num2 = int(input(\"Enter second number\"))\n",
    "sum = num1 + num2\n",
    "print(\"The sum of: \", num1 , \"and\" , num2, \"is\" , sum)"
   ]
  },
  {
   "cell_type": "markdown",
   "id": "1c792868",
   "metadata": {},
   "source": [
    "---\n",
    "### 6. Type Conversion \n",
    "- Type conversion refers to changing the data type of a value from one type to another, such as converting an **int** to a **float**, or a **string** to an **int**.\n",
    "- Python supports two kinds of type conversion\n",
    "\n",
    "    1. **Implicit Type Conversion**: Automatically done by python when needed\n",
    "    \n",
    "    2. **Explicit Type Conversion** : Also known as type casting, where the programmer manually converts the datatype using built-in functions like (int(), float(), str(), list() etc...)\n"
   ]
  },
  {
   "cell_type": "code",
   "execution_count": 3,
   "id": "4b3ac3f6",
   "metadata": {},
   "outputs": [
    {
     "name": "stdout",
     "output_type": "stream",
     "text": [
      "10.6\n",
      "<class 'int'> <class 'float'>\n"
     ]
    }
   ],
   "source": [
    "print(5+5.6)\n",
    "print(type(5), type(5.6))"
   ]
  },
  {
   "cell_type": "code",
   "execution_count": 7,
   "id": "93089360",
   "metadata": {},
   "outputs": [
    {
     "name": "stdout",
     "output_type": "stream",
     "text": [
      "<class 'int'>\n",
      "5\n"
     ]
    }
   ],
   "source": [
    "# str -> int\n",
    "a = int('4')\n",
    "print(type(a))\n",
    "\n",
    "# int -> str\n",
    "print(str(5))"
   ]
  },
  {
   "cell_type": "markdown",
   "id": "5633e78d",
   "metadata": {},
   "source": [
    "---\n",
    "### 7. Different types of literals "
   ]
  },
  {
   "cell_type": "code",
   "execution_count": 8,
   "id": "2c148084",
   "metadata": {},
   "outputs": [
    {
     "name": "stdout",
     "output_type": "stream",
     "text": [
      "10 100 200 300\n"
     ]
    }
   ],
   "source": [
    "a = 0b1010  # Binary literals\n",
    "b = 100     # Decimal Literals\n",
    "c = 0o310   # Octal Literals\n",
    "d = 0x12c   # Hexadecimnal Literals\n",
    "print(a,b,c,d)"
   ]
  },
  {
   "cell_type": "code",
   "execution_count": 9,
   "id": "12d9a94d",
   "metadata": {},
   "outputs": [
    {
     "name": "stdout",
     "output_type": "stream",
     "text": [
      "10.5 150.0 0.0015\n"
     ]
    }
   ],
   "source": [
    "# Float litrals\n",
    "f1 = 10.5\n",
    "f2 = 1.5e2  # 1.5 * 10^2\n",
    "f3 = 1.5e-3 # 1.5 * 10^-2\n",
    "print(f1,f2,f3)"
   ]
  },
  {
   "cell_type": "code",
   "execution_count": 17,
   "id": "b216276d",
   "metadata": {},
   "outputs": [
    {
     "name": "stdout",
     "output_type": "stream",
     "text": [
      "This is a string\n",
      "This is a string\n",
      "A\n",
      "This is a multiline string\n",
      "😀😆🤣\n",
      "raw \\n string\n",
      "notraw \n",
      " string\n"
     ]
    }
   ],
   "source": [
    "# String Literals\n",
    "str1 = 'This is a string'\n",
    "str2 = \"This is a string\"\n",
    "char = \"A\"\n",
    "multiline_str = \"\"\"This is a multiline string\"\"\"\n",
    "unicode = u\"\\U0001f600\\U0001f606\\U0001F923\"\n",
    "raw_str = r\"raw \\n string\"\n",
    "not_raw = \"notraw \\n string\"\n",
    "\n",
    "print(str1)\n",
    "print(str2)\n",
    "print(char)\n",
    "print(multiline_str)\n",
    "print(unicode)\n",
    "print(raw_str)\n",
    "print(not_raw)\n"
   ]
  },
  {
   "cell_type": "markdown",
   "id": "79c538c1",
   "metadata": {},
   "source": [
    "> Note: \n",
    "- The **r** before the string means it's a raw string literal.\n",
    "- In a raw string, backslashes are treated as literal characters, not as escape characters."
   ]
  },
  {
   "cell_type": "code",
   "execution_count": 18,
   "id": "9441369e",
   "metadata": {},
   "outputs": [
    {
     "name": "stdout",
     "output_type": "stream",
     "text": [
      "a:  5\n",
      "b:  10\n"
     ]
    }
   ],
   "source": [
    "# Boolean Literals\n",
    "a = True + 4\n",
    "b = False + 10\n",
    "\n",
    "print(\"a: \", a)\n",
    "print(\"b: \", b)"
   ]
  },
  {
   "cell_type": "markdown",
   "id": "7fead4a9",
   "metadata": {},
   "source": [
    "> **Note:** This is becuase python treats boolean as number. The value of ``True is 1`` and ``False is 0`` "
   ]
  },
  {
   "cell_type": "markdown",
   "id": "ade1da11",
   "metadata": {},
   "source": [
    "### NONE in python\n",
    "\n",
    "- In python, we can not just declare a variablewithout assigning a value.\n",
    "\n"
   ]
  },
  {
   "cell_type": "code",
   "execution_count": 19,
   "id": "ad4d93d0",
   "metadata": {},
   "outputs": [
    {
     "ename": "NameError",
     "evalue": "name 'K' is not defined",
     "output_type": "error",
     "traceback": [
      "\u001b[31m---------------------------------------------------------------------------\u001b[39m",
      "\u001b[31mNameError\u001b[39m                                 Traceback (most recent call last)",
      "\u001b[36mCell\u001b[39m\u001b[36m \u001b[39m\u001b[32mIn[19]\u001b[39m\u001b[32m, line 1\u001b[39m\n\u001b[32m----> \u001b[39m\u001b[32m1\u001b[39m \u001b[43mK\u001b[49m\n\u001b[32m      2\u001b[39m a = \u001b[32m5\u001b[39m\n\u001b[32m      3\u001b[39m \u001b[38;5;28mprint\u001b[39m(\u001b[33m\"\u001b[39m\u001b[33mExecute\u001b[39m\u001b[33m\"\u001b[39m)\n",
      "\u001b[31mNameError\u001b[39m: name 'K' is not defined"
     ]
    }
   ],
   "source": [
    "K\n",
    "a = 5\n",
    "print(\"Execute\")"
   ]
  },
  {
   "cell_type": "markdown",
   "id": "1fc7330e",
   "metadata": {},
   "source": [
    "- To handle this, we use ``None`` as a placeholder."
   ]
  },
  {
   "cell_type": "code",
   "execution_count": 20,
   "id": "27acb2d8",
   "metadata": {},
   "outputs": [
    {
     "name": "stdout",
     "output_type": "stream",
     "text": [
      "Execute\n"
     ]
    }
   ],
   "source": [
    "k = None\n",
    "a = 5\n",
    "print(\"Execute\")"
   ]
  },
  {
   "cell_type": "markdown",
   "id": "b287edbd",
   "metadata": {},
   "source": [
    "---\n",
    "### 8. Operators\n",
    "- Arithmetic\n",
    "- Relational\n",
    "- Logical\n",
    "- Bitwise\n",
    "- Assignment\n",
    "- Membership"
   ]
  },
  {
   "cell_type": "code",
   "execution_count": null,
   "id": "e3e5be24",
   "metadata": {},
   "outputs": [],
   "source": []
  }
 ],
 "metadata": {
  "kernelspec": {
   "display_name": "Python 3",
   "language": "python",
   "name": "python3"
  },
  "language_info": {
   "codemirror_mode": {
    "name": "ipython",
    "version": 3
   },
   "file_extension": ".py",
   "mimetype": "text/x-python",
   "name": "python",
   "nbconvert_exporter": "python",
   "pygments_lexer": "ipython3",
   "version": "3.13.5"
  }
 },
 "nbformat": 4,
 "nbformat_minor": 5
}
