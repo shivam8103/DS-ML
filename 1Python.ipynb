{
 "cells": [
  {
   "cell_type": "markdown",
   "id": "1a8d7980",
   "metadata": {},
   "source": [
    "# Part 1 : Python Basics."
   ]
  },
  {
   "cell_type": "markdown",
   "id": "e5c4b384",
   "metadata": {},
   "source": [
    "## Why Python?\n",
    "\n",
    "1. Easy to Learn & Read\n",
    "    - Simple, clean syntax (like plain English).\n",
    "    - Great for beginners, yet powerful for advanced projects.\n",
    "\n",
    "2. Batteries Included\n",
    "    - Comes with a rich standard library (no extra tools needed for basic tasks).\n",
    "    - Examples: File handling, web scraping, math operations, etc.\n",
    "\n",
    "3. Versatile (General Purpose)\n",
    "    - Used in multiple fields: like Web Devlopment, Data Science, Automation, Game Development etc. \n",
    "\n",
    "4.  Huge Community & Libraries\n",
    "    - Thousands of free libraries for almost any task. (eg. Numpy, Tensorflow, Django)\n",
    "    - Strong community support → Easy troubleshooting, tutorials, and updates."
   ]
  },
  {
   "cell_type": "markdown",
   "id": "13d6ab05",
   "metadata": {},
   "source": [
    "## Why python for data science?\n",
    "1. Easy to learn\n",
    "2. Proximity  with Maths\n",
    "3. Community\n"
   ]
  },
  {
   "cell_type": "markdown",
   "id": "b52afa29",
   "metadata": {},
   "source": [
    "## Python Syntax:\n"
   ]
  },
  {
   "cell_type": "markdown",
   "id": "1041bbca",
   "metadata": {},
   "source": [
    "### 1. Python Output:"
   ]
  },
  {
   "cell_type": "code",
   "execution_count": 1,
   "id": "192da4f0",
   "metadata": {},
   "outputs": [
    {
     "name": "stdout",
     "output_type": "stream",
     "text": [
      "Hello World\n"
     ]
    }
   ],
   "source": [
    "print('Hello World')"
   ]
  },
  {
   "cell_type": "code",
   "execution_count": 3,
   "id": "9463c585",
   "metadata": {},
   "outputs": [
    {
     "name": "stdout",
     "output_type": "stream",
     "text": [
      "Hello World 1 3.14 True\n"
     ]
    }
   ],
   "source": [
    "print('Hello World', 1, 3.14 , True)"
   ]
  },
  {
   "cell_type": "markdown",
   "id": "60767c7a",
   "metadata": {},
   "source": [
    "> **Note:** Python is case-sensitive language. **print** and **Print** are two different thing\n"
   ]
  },
  {
   "cell_type": "markdown",
   "id": "4459f22c",
   "metadata": {},
   "source": []
  }
 ],
 "metadata": {
  "kernelspec": {
   "display_name": "Python 3",
   "language": "python",
   "name": "python3"
  },
  "language_info": {
   "codemirror_mode": {
    "name": "ipython",
    "version": 3
   },
   "file_extension": ".py",
   "mimetype": "text/x-python",
   "name": "python",
   "nbconvert_exporter": "python",
   "pygments_lexer": "ipython3",
   "version": "3.13.5"
  }
 },
 "nbformat": 4,
 "nbformat_minor": 5
}
