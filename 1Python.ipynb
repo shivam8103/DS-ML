{
 "cells": [
  {
   "cell_type": "markdown",
   "id": "1a8d7980",
   "metadata": {},
   "source": [
    "# Part 1 : Python Basics.\n",
    "(Followed DSMP CampusX Lectures)"
   ]
  },
  {
   "cell_type": "markdown",
   "id": "e5c4b384",
   "metadata": {},
   "source": [
    "## Why Python?\n",
    "\n",
    "**1. Easy to Learn & Read**\n",
    "- Simple, clean syntax (like plain English).\n",
    "- Great for beginners, yet powerful for advanced projects.\n",
    "\n",
    "**2. Batteries Included**\n",
    "- Comes with a rich standard library (no extra tools needed for basic tasks).\n",
    "- Examples: File handling, web scraping, math operations, etc.\n",
    "\n",
    "**3. Versatile (General Purpose)**\n",
    "- Used in multiple fields: like Web Devlopment, Data Science, Automation, Game Development etc. \n",
    "\n",
    "**4.  Huge Community & Libraries**\n",
    "- Thousands of free libraries for almost any task. (eg. Numpy, Tensorflow, Django)\n",
    "- Strong community support → Easy troubleshooting, tutorials, and updates."
   ]
  },
  {
   "cell_type": "markdown",
   "id": "13d6ab05",
   "metadata": {},
   "source": [
    "## Why python for data science?\n",
    "1. Easy to learn\n",
    "2. Proximity  with Maths\n",
    "3. Community\n"
   ]
  },
  {
   "cell_type": "markdown",
   "id": "60767c7a",
   "metadata": {},
   "source": [
    "> **Note:** \n",
    "1. Python is case-sensitive language. **print** and **Print** are two different thing\n",
    "2. Python is a **interpreted language** not a ~~compiled language~~, it is translated line by line.\n"
   ]
  },
  {
   "cell_type": "markdown",
   "id": "8a160ad8",
   "metadata": {},
   "source": [
    "---"
   ]
  },
  {
   "cell_type": "markdown",
   "id": "b52afa29",
   "metadata": {},
   "source": [
    "## Python Syntax:\n"
   ]
  },
  {
   "cell_type": "markdown",
   "id": "1041bbca",
   "metadata": {},
   "source": [
    "### 1. Python Output:"
   ]
  },
  {
   "cell_type": "code",
   "execution_count": 1,
   "id": "192da4f0",
   "metadata": {},
   "outputs": [
    {
     "name": "stdout",
     "output_type": "stream",
     "text": [
      "Hello World\n"
     ]
    }
   ],
   "source": [
    "print('Hello World')"
   ]
  },
  {
   "cell_type": "code",
   "execution_count": 3,
   "id": "9463c585",
   "metadata": {},
   "outputs": [
    {
     "name": "stdout",
     "output_type": "stream",
     "text": [
      "Hello World 1 3.14 True\n"
     ]
    }
   ],
   "source": [
    "print('Hello World', 1, 3.14 , True)"
   ]
  },
  {
   "cell_type": "markdown",
   "id": "54c3d716",
   "metadata": {},
   "source": [
    "> **Note:** In Python, when we pass multiple elements to the ``print()`` function, all elements are printed separated by a space by default.\n",
    "However, we can change this behavior using the ``sep`` (separator) parameter of ``print()``."
   ]
  },
  {
   "cell_type": "code",
   "execution_count": 1,
   "id": "7b8d761e",
   "metadata": {},
   "outputs": [
    {
     "name": "stdout",
     "output_type": "stream",
     "text": [
      "Hello World/1/3.14/True\n"
     ]
    }
   ],
   "source": [
    "print('Hello World', 1, 3.14 , True , sep = '/')"
   ]
  },
  {
   "cell_type": "markdown",
   "id": "f8203e2a",
   "metadata": {},
   "source": [
    "> **Note:** By default in Python, after the ``print()`` function executes, the output moves to a new line.\n",
    "We can change this behavior using the ``end`` parameter of print().\n",
    "By default ``end = '\\n'``;"
   ]
  },
  {
   "cell_type": "code",
   "execution_count": 3,
   "id": "0ac49b52",
   "metadata": {},
   "outputs": [
    {
     "name": "stdout",
     "output_type": "stream",
     "text": [
      "Shivam\n",
      "Sinha\n"
     ]
    }
   ],
   "source": [
    "# By default end='\\n'\n",
    "print('Shivam')\n",
    "print('Sinha')"
   ]
  },
  {
   "cell_type": "code",
   "execution_count": null,
   "id": "d884ccb1",
   "metadata": {},
   "outputs": [
    {
     "name": "stdout",
     "output_type": "stream",
     "text": [
      "Shivam-Sinha\n"
     ]
    }
   ],
   "source": [
    "# changing behaviour of 'end' parameter\n",
    "print('Shivam' , end = \"-\")\n",
    "print('Sinha')"
   ]
  },
  {
   "cell_type": "markdown",
   "id": "a6b3782a",
   "metadata": {},
   "source": [
    "---"
   ]
  },
  {
   "cell_type": "markdown",
   "id": "4459f22c",
   "metadata": {},
   "source": [
    "### 2. Data Types"
   ]
  },
  {
   "cell_type": "code",
   "execution_count": null,
   "id": "aae4d561",
   "metadata": {},
   "outputs": [
    {
     "name": "stdout",
     "output_type": "stream",
     "text": [
      "8\n",
      "1e+308\n"
     ]
    }
   ],
   "source": [
    "# Integer\n",
    "print(8)\n",
    "\n",
    "# Python can handle a large integer values\n",
    "# About 1*10^308\n",
    "print(1e308)"
   ]
  },
  {
   "cell_type": "code",
   "execution_count": 9,
   "id": "2019493c",
   "metadata": {},
   "outputs": [
    {
     "name": "stdout",
     "output_type": "stream",
     "text": [
      "inf\n"
     ]
    }
   ],
   "source": [
    "print(1e309)"
   ]
  },
  {
   "cell_type": "markdown",
   "id": "2f728d2a",
   "metadata": {},
   "source": [
    "infinite because it can handle only upto 10^308"
   ]
  },
  {
   "cell_type": "code",
   "execution_count": 11,
   "id": "74b35bcf",
   "metadata": {},
   "outputs": [
    {
     "name": "stdout",
     "output_type": "stream",
     "text": [
      "8.55\n",
      "1.7e+308\n"
     ]
    }
   ],
   "source": [
    "# Decimal / Float\n",
    "\n",
    "print(8.55)\n",
    "print(1.7e308)"
   ]
  },
  {
   "cell_type": "code",
   "execution_count": 12,
   "id": "83766451",
   "metadata": {},
   "outputs": [
    {
     "name": "stdout",
     "output_type": "stream",
     "text": [
      "True\n",
      "False\n"
     ]
    }
   ],
   "source": [
    "## Boolean\n",
    "\n",
    "print(True)\n",
    "print(False)"
   ]
  },
  {
   "cell_type": "code",
   "execution_count": 16,
   "id": "b25232ff",
   "metadata": {},
   "outputs": [
    {
     "name": "stdout",
     "output_type": "stream",
     "text": [
      "Hello World\n"
     ]
    }
   ],
   "source": [
    "# Text / String\n",
    "\n",
    "print(\"Hello World\")"
   ]
  },
  {
   "cell_type": "code",
   "execution_count": 15,
   "id": "0c468a95",
   "metadata": {},
   "outputs": [
    {
     "name": "stdout",
     "output_type": "stream",
     "text": [
      "(5+6j)\n"
     ]
    }
   ],
   "source": [
    "# Complex\n",
    "\n",
    "print(5+6j)"
   ]
  },
  {
   "cell_type": "code",
   "execution_count": 17,
   "id": "6a7c3a29",
   "metadata": {},
   "outputs": [
    {
     "name": "stdout",
     "output_type": "stream",
     "text": [
      "[1, 2, 3, 4, 5]\n"
     ]
    }
   ],
   "source": [
    "# List (Array in Java or C)\n",
    "\n",
    "print([1,2,3,4,5])"
   ]
  },
  {
   "cell_type": "code",
   "execution_count": 19,
   "id": "9ffa1bac",
   "metadata": {},
   "outputs": [
    {
     "name": "stdout",
     "output_type": "stream",
     "text": [
      "(1, 2, 3, 4, 5)\n"
     ]
    }
   ],
   "source": [
    "# Tuple\n",
    "\n",
    "print((1,2,3,4,5))"
   ]
  },
  {
   "cell_type": "code",
   "execution_count": 20,
   "id": "f314a457",
   "metadata": {},
   "outputs": [
    {
     "name": "stdout",
     "output_type": "stream",
     "text": [
      "{1, 2, 3, 4, 5}\n"
     ]
    }
   ],
   "source": [
    "# Sets\n",
    "\n",
    "print({1,2,3,4,5,5})"
   ]
  },
  {
   "cell_type": "code",
   "execution_count": 21,
   "id": "d838a837",
   "metadata": {},
   "outputs": [
    {
     "name": "stdout",
     "output_type": "stream",
     "text": [
      "{'Name': 'Shivam', 'Gender': 'Male', 'Weight': 60}\n"
     ]
    }
   ],
   "source": [
    "# Dictionary - Key value pairs\n",
    "\n",
    "print({'Name':'Shivam' , 'Gender' : 'Male' , 'Weight' : 60})"
   ]
  },
  {
   "cell_type": "code",
   "execution_count": 22,
   "id": "530fb4c8",
   "metadata": {},
   "outputs": [
    {
     "data": {
      "text/plain": [
       "int"
      ]
     },
     "execution_count": 22,
     "metadata": {},
     "output_type": "execute_result"
    }
   ],
   "source": [
    "# Type\n",
    "\n",
    "type(3)"
   ]
  },
  {
   "cell_type": "code",
   "execution_count": 26,
   "id": "be143a1b",
   "metadata": {},
   "outputs": [
    {
     "data": {
      "text/plain": [
       "float"
      ]
     },
     "execution_count": 26,
     "metadata": {},
     "output_type": "execute_result"
    }
   ],
   "source": [
    "type(3.5)\n"
   ]
  },
  {
   "cell_type": "code",
   "execution_count": 27,
   "id": "fd051c28",
   "metadata": {},
   "outputs": [
    {
     "data": {
      "text/plain": [
       "str"
      ]
     },
     "execution_count": 27,
     "metadata": {},
     "output_type": "execute_result"
    }
   ],
   "source": [
    "type(\"Hello\")"
   ]
  },
  {
   "cell_type": "code",
   "execution_count": 28,
   "id": "f0312512",
   "metadata": {},
   "outputs": [
    {
     "data": {
      "text/plain": [
       "float"
      ]
     },
     "execution_count": 28,
     "metadata": {},
     "output_type": "execute_result"
    }
   ],
   "source": [
    "type(3.14)"
   ]
  },
  {
   "cell_type": "code",
   "execution_count": 29,
   "id": "50f869bf",
   "metadata": {},
   "outputs": [
    {
     "data": {
      "text/plain": [
       "complex"
      ]
     },
     "execution_count": 29,
     "metadata": {},
     "output_type": "execute_result"
    }
   ],
   "source": [
    "type(6+6j)"
   ]
  },
  {
   "cell_type": "code",
   "execution_count": 30,
   "id": "3910add4",
   "metadata": {},
   "outputs": [
    {
     "data": {
      "text/plain": [
       "list"
      ]
     },
     "execution_count": 30,
     "metadata": {},
     "output_type": "execute_result"
    }
   ],
   "source": [
    "type([1,2,3])"
   ]
  },
  {
   "cell_type": "markdown",
   "id": "0a19a9a1",
   "metadata": {},
   "source": [
    "--- \n",
    "\n",
    "### 3. Variables\n",
    "- Variables are basically containers, used to store data for later use.\n",
    "- In python, we don't need to explicitly mention the data type.\n",
    "- Python is dynamically typed - it automatically detects the data type based on the assigned value"
   ]
  },
  {
   "cell_type": "code",
   "execution_count": 37,
   "id": "56154011",
   "metadata": {},
   "outputs": [
    {
     "name": "stdout",
     "output_type": "stream",
     "text": [
      "Shivam\n",
      "<class 'str'>\n",
      "11\n"
     ]
    }
   ],
   "source": [
    "name = \"Shivam\"\n",
    "print(name)\n",
    "print(type(name))\n",
    "\n",
    "a = 5\n",
    "b = 6 \n",
    "print( a+ b )"
   ]
  },
  {
   "cell_type": "markdown",
   "id": "3107e3a1",
   "metadata": {},
   "source": [
    "---\n",
    "### Dynamic Typing vs Static Typing\n",
    "\n",
    "**Dynamic Typing**: When we **don't need to specify the data type** explicitly.  \n",
    "Python supports dynamic typing.\n",
    "\n",
    "``\n",
    "a = 5  # Python automatically understands that 'a' is an integer\n",
    "``\n",
    "\n",
    "**Static Typing** : We must specify the data type explicitly. C,C++, Java supports static typing\n",
    "``\n",
    "int a = 5\n",
    "``"
   ]
  },
  {
   "cell_type": "markdown",
   "id": "0fc9b614",
   "metadata": {},
   "source": [
    "---\n",
    "\n",
    "### Dynamic binding vs Static binding\n",
    "\n",
    "**Dynamic binding**: Once a variable is declared, its **data type can changed** at anytime during in the program. \n",
    "Python supports dynamic binding.\n",
    "\n",
    "\n",
    "```py\n",
    "a = 5 \n",
    "a = 'shivam'   # No error in python\n",
    "```\n",
    "\n",
    "**Static binding** : Once a variable is declared, its the data type remains fixedthroughout the program. C,C++, Java supports static binding\n",
    "\n",
    "```java\n",
    "int a = 5\n",
    "\n",
    "String a = \"Shivam\";  //Error in Java and C++ as 'a' is already declared as integer.\n",
    "```"
   ]
  },
  {
   "cell_type": "markdown",
   "id": "91c30777",
   "metadata": {},
   "source": [
    "### More ways to create multiple variables"
   ]
  },
  {
   "cell_type": "code",
   "execution_count": 40,
   "id": "540fa457",
   "metadata": {},
   "outputs": [
    {
     "name": "stdout",
     "output_type": "stream",
     "text": [
      "1 2 3\n"
     ]
    }
   ],
   "source": [
    "a,b,c = 1,2,3\n",
    "print(a,b,c)"
   ]
  },
  {
   "cell_type": "code",
   "execution_count": 42,
   "id": "ceecd884",
   "metadata": {},
   "outputs": [
    {
     "name": "stdout",
     "output_type": "stream",
     "text": [
      "5 5 5\n"
     ]
    }
   ],
   "source": [
    "a=b=c = 5\n",
    "print(a,b,c)"
   ]
  },
  {
   "cell_type": "markdown",
   "id": "209ca6f3",
   "metadata": {},
   "source": [
    "> **Note:** compilation is basically a process where we convert our high level code into binary language (machine language)"
   ]
  },
  {
   "cell_type": "markdown",
   "id": "2246eefe",
   "metadata": {},
   "source": [
    "--- \n",
    "\n",
    "### 4. Keywords & Identifiers\n",
    "\n",
    "**Keywords**\n",
    "- Keywords are reserved words in python that have special meaning \n",
    "- They cannot be used as identifiers (variable names, functions names, etc.)\n",
    "- They are reserved by the **python interpreter** and used by them to understand the structure and logic of the program better.\n",
    "- In python there are 35 keywords\n",
    "\n",
    "| `False`    | `None`    | `True`  | `and`   | `as`     |\n",
    "| ---------- | --------- | ------- | ------- | -------- |\n",
    "| `assert`   | `async`   | `await` | `break` | `class`  |\n",
    "| `continue` | `def`     | `del`   | `elif`  | `else`   |\n",
    "| `except`   | `finally` | `for`   | `from`  | `global` |\n",
    "| `if`       | `import`  | `in`    | `is`    | `lambda` |\n",
    "| `nonlocal` | `not`     | `or`    | `pass`  | `raise`  |\n",
    "| `return`   | `try`     | `while` | `with`  | `yield`  |\n",
    "\n",
    "\n",
    "**Identifiers** \n",
    "- Identifiers are the names you assign to elements in your Python code — such as: Vaiables, Functions, Classes, Modules, Objects\n",
    "\n",
    "**Rules for writing Identifiers in python:**\n",
    "1. Can contain letters (A–Z, a–z), digits (0–9), and underscores (_)\n",
    "2. Cannot start with a digit\n",
    "3. Cannot be a keyword (like if, while, class, etc.)\n",
    "4. Are case-sensitive (Name and name are different)\n",
    "5. No special characters allowed (@, $, #, etc.)"
   ]
  },
  {
   "cell_type": "markdown",
   "id": "432fdb8b",
   "metadata": {},
   "source": [
    "---\n",
    "\n",
    "### 5. User Input"
   ]
  },
  {
   "cell_type": "code",
   "execution_count": 47,
   "id": "377127c9",
   "metadata": {},
   "outputs": [
    {
     "name": "stdout",
     "output_type": "stream",
     "text": [
      "Shivam\n"
     ]
    }
   ],
   "source": [
    "s = input(\"Enter Input\")\n",
    "print(s)"
   ]
  },
  {
   "cell_type": "markdown",
   "id": "e533cff4",
   "metadata": {},
   "source": [
    "### WAP in python to add 2 number"
   ]
  },
  {
   "cell_type": "code",
   "execution_count": 50,
   "id": "871a74f3",
   "metadata": {},
   "outputs": [
    {
     "name": "stdout",
     "output_type": "stream",
     "text": [
      "The sum of:  5 and 15 is 515\n"
     ]
    }
   ],
   "source": [
    "num1 = input(\"Enter first number\")\n",
    "num2 = input(\"Enter second number\")\n",
    "sum = num1 + num2\n",
    "print(\"The sum of: \", num1 , \"and\" , num2, \"is\" , sum)"
   ]
  },
  {
   "cell_type": "markdown",
   "id": "69bf5138",
   "metadata": {},
   "source": [
    "> **Note:** Behaviour of input() function in python\n",
    "- In Python, the `input()` function **always returns data as a string**, even if the user enters a number.\n",
    "- If you try to perform arithmetic directly on `input()` values, Python will **concatenate the strings** instead of adding the numbers.\n",
    "- So the correct approach is, always convert input() to int or float when performing mathematical operations.\n"
   ]
  },
  {
   "cell_type": "code",
   "execution_count": 51,
   "id": "f73ee9a7",
   "metadata": {},
   "outputs": [
    {
     "name": "stdout",
     "output_type": "stream",
     "text": [
      "The sum of:  5 and 15 is 20\n"
     ]
    }
   ],
   "source": [
    "num1 = int(input(\"Enter first number\"))\n",
    "num2 = int(input(\"Enter second number\"))\n",
    "sum = num1 + num2\n",
    "print(\"The sum of: \", num1 , \"and\" , num2, \"is\" , sum)"
   ]
  },
  {
   "cell_type": "markdown",
   "id": "1c792868",
   "metadata": {},
   "source": [
    "---\n",
    "### 6. Type Conversion \n",
    "- Type conversion refers to changing the data type of a value from one type to another, such as converting an **int** to a **float**, or a **string** to an **int**.\n",
    "- Python supports two kinds of type conversion\n",
    "\n",
    "    1. **Implicit Type Conversion**: Automatically done by python when needed\n",
    "    \n",
    "    2. **Explicit Type Conversion** : Also known as type casting, where the programmer manually converts the datatype using built-in functions like (int(), float(), str(), list() etc...)\n"
   ]
  },
  {
   "cell_type": "code",
   "execution_count": 3,
   "id": "4b3ac3f6",
   "metadata": {},
   "outputs": [
    {
     "name": "stdout",
     "output_type": "stream",
     "text": [
      "10.6\n",
      "<class 'int'> <class 'float'>\n"
     ]
    }
   ],
   "source": [
    "print(5+5.6)\n",
    "print(type(5), type(5.6))"
   ]
  },
  {
   "cell_type": "code",
   "execution_count": 7,
   "id": "93089360",
   "metadata": {},
   "outputs": [
    {
     "name": "stdout",
     "output_type": "stream",
     "text": [
      "<class 'int'>\n",
      "5\n"
     ]
    }
   ],
   "source": [
    "# str -> int\n",
    "a = int('4')\n",
    "print(type(a))\n",
    "\n",
    "# int -> str\n",
    "print(str(5))"
   ]
  },
  {
   "cell_type": "markdown",
   "id": "5633e78d",
   "metadata": {},
   "source": [
    "---\n",
    "### 7. Different types of literals "
   ]
  },
  {
   "cell_type": "code",
   "execution_count": 8,
   "id": "2c148084",
   "metadata": {},
   "outputs": [
    {
     "name": "stdout",
     "output_type": "stream",
     "text": [
      "10 100 200 300\n"
     ]
    }
   ],
   "source": [
    "a = 0b1010  # Binary literals\n",
    "b = 100     # Decimal Literals\n",
    "c = 0o310   # Octal Literals\n",
    "d = 0x12c   # Hexadecimnal Literals\n",
    "print(a,b,c,d)"
   ]
  },
  {
   "cell_type": "code",
   "execution_count": 9,
   "id": "12d9a94d",
   "metadata": {},
   "outputs": [
    {
     "name": "stdout",
     "output_type": "stream",
     "text": [
      "10.5 150.0 0.0015\n"
     ]
    }
   ],
   "source": [
    "# Float litrals\n",
    "f1 = 10.5\n",
    "f2 = 1.5e2  # 1.5 * 10^2\n",
    "f3 = 1.5e-3 # 1.5 * 10^-2\n",
    "print(f1,f2,f3)"
   ]
  },
  {
   "cell_type": "code",
   "execution_count": 17,
   "id": "b216276d",
   "metadata": {},
   "outputs": [
    {
     "name": "stdout",
     "output_type": "stream",
     "text": [
      "This is a string\n",
      "This is a string\n",
      "A\n",
      "This is a multiline string\n",
      "😀😆🤣\n",
      "raw \\n string\n",
      "notraw \n",
      " string\n"
     ]
    }
   ],
   "source": [
    "# String Literals\n",
    "str1 = 'This is a string'\n",
    "str2 = \"This is a string\"\n",
    "char = \"A\"\n",
    "multiline_str = \"\"\"This is a multiline string\"\"\"\n",
    "unicode = u\"\\U0001f600\\U0001f606\\U0001F923\"\n",
    "raw_str = r\"raw \\n string\"\n",
    "not_raw = \"notraw \\n string\"\n",
    "\n",
    "print(str1)\n",
    "print(str2)\n",
    "print(char)\n",
    "print(multiline_str)\n",
    "print(unicode)\n",
    "print(raw_str)\n",
    "print(not_raw)\n"
   ]
  },
  {
   "cell_type": "markdown",
   "id": "79c538c1",
   "metadata": {},
   "source": [
    "> Note: \n",
    "- The **r** before the string means it's a raw string literal.\n",
    "- In a raw string, backslashes are treated as literal characters, not as escape characters."
   ]
  },
  {
   "cell_type": "code",
   "execution_count": 18,
   "id": "9441369e",
   "metadata": {},
   "outputs": [
    {
     "name": "stdout",
     "output_type": "stream",
     "text": [
      "a:  5\n",
      "b:  10\n"
     ]
    }
   ],
   "source": [
    "# Boolean Literals\n",
    "a = True + 4\n",
    "b = False + 10\n",
    "\n",
    "print(\"a: \", a)\n",
    "print(\"b: \", b)"
   ]
  },
  {
   "cell_type": "markdown",
   "id": "7fead4a9",
   "metadata": {},
   "source": [
    "> **Note:** This is becuase python treats boolean as number. The value of ``True is 1`` and ``False is 0`` "
   ]
  },
  {
   "cell_type": "markdown",
   "id": "ade1da11",
   "metadata": {},
   "source": [
    "### NONE in python\n",
    "\n",
    "- In python, we can not just declare a variablewithout assigning a value.\n",
    "\n"
   ]
  },
  {
   "cell_type": "code",
   "execution_count": 19,
   "id": "ad4d93d0",
   "metadata": {},
   "outputs": [
    {
     "ename": "NameError",
     "evalue": "name 'K' is not defined",
     "output_type": "error",
     "traceback": [
      "\u001b[31m---------------------------------------------------------------------------\u001b[39m",
      "\u001b[31mNameError\u001b[39m                                 Traceback (most recent call last)",
      "\u001b[36mCell\u001b[39m\u001b[36m \u001b[39m\u001b[32mIn[19]\u001b[39m\u001b[32m, line 1\u001b[39m\n\u001b[32m----> \u001b[39m\u001b[32m1\u001b[39m \u001b[43mK\u001b[49m\n\u001b[32m      2\u001b[39m a = \u001b[32m5\u001b[39m\n\u001b[32m      3\u001b[39m \u001b[38;5;28mprint\u001b[39m(\u001b[33m\"\u001b[39m\u001b[33mExecute\u001b[39m\u001b[33m\"\u001b[39m)\n",
      "\u001b[31mNameError\u001b[39m: name 'K' is not defined"
     ]
    }
   ],
   "source": [
    "K\n",
    "a = 5\n",
    "print(\"Execute\")"
   ]
  },
  {
   "cell_type": "markdown",
   "id": "1fc7330e",
   "metadata": {},
   "source": [
    "- To handle this, we use ``None`` as a placeholder."
   ]
  },
  {
   "cell_type": "code",
   "execution_count": 20,
   "id": "27acb2d8",
   "metadata": {},
   "outputs": [
    {
     "name": "stdout",
     "output_type": "stream",
     "text": [
      "Execute\n"
     ]
    }
   ],
   "source": [
    "k = None\n",
    "a = 5\n",
    "print(\"Execute\")"
   ]
  },
  {
   "cell_type": "markdown",
   "id": "b287edbd",
   "metadata": {},
   "source": [
    "---\n",
    "### 8. Operators\n",
    "Operators are symbols that perform operations on values/variables.\n",
    "\n",
    "**1. Arithmetic : used for basic maths**\n",
    "\n",
    "| Operator | Meaning             | Example       |\n",
    "| -------- | ------------------- | ------------- |\n",
    "| `+`      | Addition            | `3 + 2 = 5`   |\n",
    "| `-`      | Subtraction         | `5 - 1 = 4`   |\n",
    "| `*`      | Multiplication      | `2 * 3 = 6`   |\n",
    "| `/`      | Division (float)    | `5 / 2 = 2.5` |\n",
    "| `//`     | Floor division      | `5 // 2 = 2`  |\n",
    "| `%`      | Modulus (remainder) | `5 % 2 = 1`   |\n",
    "| `**`     | Exponentiation      | `2 ** 3 = 8`  |\n",
    "\n",
    "**2. Relational : Used to compare values (returns True or False).**\n",
    "\n",
    "| Operator | Meaning          | Example           |\n",
    "| -------- | ---------------- | ----------------- |\n",
    "| `==`     | Equal to         | `5 == 5` → `True` |\n",
    "| `!=`     | Not equal        | `3 != 2` → `True` |\n",
    "| `>`      | Greater than     | `5 > 2` → `True`  |\n",
    "| `<`      | Less than        | `2 < 5` → `True`  |\n",
    "| `>=`     | Greater or equal | `3 >= 3` → `True` |\n",
    "| `<=`     | Less or equal    | `2 <= 3` → `True` |\n",
    "\n",
    "**3. Logical : Used to combine multiple conditions.**\n",
    "\n",
    "| Operator | Meaning           | Example           |\n",
    "| -------- | ----------------- | ----------------- |\n",
    "| `and`    | Both true         | `x > 2 and x < 5` |\n",
    "| `or`     | At least one true | `x < 2 or x > 10` |\n",
    "| `not`    | Negation          | `not(x > 5)`      |\n",
    "\n",
    "**4. Bitwise: Works on binary representatiobn of integers(0s and 1s)**\n",
    "\n",
    "| Operator | Name           | Example         | Binary Meaning            |\n",
    "| -------- | -------------- | --------------- | ------------------------- |\n",
    "| `&`      | AND            | `5 & 3` → `1`   | `0101 & 0011 = 0001`      |\n",
    "| `^`      | XOR            | `5 ^ 3` → `6`   | `0101 ^ 0011 = 0110`      |\n",
    "| `~`      | NOT (1's comp) | `~5` → `-6`     | `~0101 = 1010` (inverted) |\n",
    "| `<<`     | Left Shift     | `5 << 1` → `10` | `0101 << 1 = 1010`        |\n",
    "| `>>`     | Right Shift    | `5 >> 1` → `2`  | `0101 >> 1 = 0010`        |\n",
    "\n",
    "\n",
    "**5. Assignment : Used to assign values.**\n",
    "\n",
    "| Operator | Meaning             | Example                |\n",
    "| -------- | ------------------- | ---------------------- |\n",
    "| `=`      | Assign              | `x = 5`                |\n",
    "| `+=`     | Add and assign      | `x += 2` → `x = x + 2` |\n",
    "| `-=`     | Subtract and assign | `x -= 1`               |\n",
    "| `*=`     | Multiply and assign | `x *= 3`               |\n",
    "| `/=`     | Divide and assign   | `x /= 2`               |\n",
    "\n",
    "**6. Membership : Used to check if a value is in a sequence (like list, string, etc.)**\n",
    "\n",
    "| Operator | Meaning       | Example                     |\n",
    "| -------- | ------------- | --------------------------- |\n",
    "| `in`     | Exists        | `'a' in 'cat'` → `True`     |\n",
    "| `not in` | Doesn’t exist | `'x' not in 'cat'` → `True` |\n",
    "\n"
   ]
  },
  {
   "cell_type": "markdown",
   "id": "76614eb0",
   "metadata": {},
   "source": [
    "---\n",
    "### WAP to print sum of digits of a three digit number. \n",
    "**Eg.** ``num = 456`` ``Output = 4+5+6 = 15``"
   ]
  },
  {
   "cell_type": "code",
   "execution_count": 1,
   "id": "e3e5be24",
   "metadata": {},
   "outputs": [
    {
     "name": "stdout",
     "output_type": "stream",
     "text": [
      "Sum:  15\n"
     ]
    }
   ],
   "source": [
    "num = int(input(\"Enter a 3 digit number\"))\n",
    "\n",
    "a = num%10\n",
    "num = num//10\n",
    "\n",
    "b = num%10\n",
    "num = num//10\n",
    "\n",
    "c = num%10\n",
    "\n",
    "\n",
    "sum = a + b + c\n",
    "\n",
    "print(\"Sum: \", sum)"
   ]
  },
  {
   "cell_type": "markdown",
   "id": "abbd4731",
   "metadata": {},
   "source": [
    "--- \n",
    "### 9. If-Else Statement\n",
    "\n",
    "### WAP a basic login athentication program\n",
    "- Let email -> shivamsinha@gmail.com\n",
    "- Let password -> admin"
   ]
  },
  {
   "cell_type": "code",
   "execution_count": 8,
   "id": "66c0f471",
   "metadata": {},
   "outputs": [
    {
     "name": "stdout",
     "output_type": "stream",
     "text": [
      "Login Successfull!\n"
     ]
    }
   ],
   "source": [
    "email = input(\"Enter Email\")\n",
    "password = input(\"Enter Password\")\n",
    "\n",
    "if email == \"shivamsinha@gmail.com\" and password == \"admin\" :\n",
    "    print(\"Login Successfull!\")\n",
    "\n",
    "else:\n",
    "    print(\"Invalid Credentials!!!\")\n"
   ]
  },
  {
   "cell_type": "markdown",
   "id": "9909cc50",
   "metadata": {},
   "source": [
    "> Note: Unlike Java and C++, Python doesn't use brackets or semicolons. For ``if...else`` statements, we use indentation ``(with a colon :)`` to indicate what is inside the ``if block`` and what is outside of it."
   ]
  },
  {
   "cell_type": "markdown",
   "id": "ecff1c07",
   "metadata": {},
   "source": [
    "> Indentation refers to the spaces or tabs added at the beginning of a line of code to show which block it belongs to. In Python, indentation is not optional — it is part of the syntax."
   ]
  },
  {
   "cell_type": "markdown",
   "id": "3f356f1f",
   "metadata": {},
   "source": [
    "### WAP to find min of 3 numbers\n"
   ]
  },
  {
   "cell_type": "code",
   "execution_count": 5,
   "id": "f02f6dc4",
   "metadata": {},
   "outputs": [
    {
     "name": "stdout",
     "output_type": "stream",
     "text": [
      "Min of  10 20 30  is  10\n"
     ]
    }
   ],
   "source": [
    "a = int(input(\"Enter first number\"))\n",
    "b = int(input(\"Enter second number\"))\n",
    "c = int(input(\"Enter third number\"))\n",
    "\n",
    "if(a<b and a<c):\n",
    "    print(\"Min of \", a, b, c, \" is \", a)\n",
    "elif(b<c):\n",
    "    print(\"Min of \", a, b, c, \" is \", b)\n",
    "else:\n",
    "    print(\"Min of \", a, b, c, \" is \", c)"
   ]
  },
  {
   "cell_type": "markdown",
   "id": "03e59251",
   "metadata": {},
   "source": [
    "---\n",
    "# 10. Module in Pyton\n",
    "\n",
    "- In Java and C++, we use header files to include reusable code. In Python, we use modules for the same purpose.\n",
    "\n",
    "- A module is a Python file that contains functions, variables, or classes. We can import a module into our code and use its contents.\n",
    "\n",
    "- Some examples of built-in Python modules are:\n",
    "1. math\n",
    "2. keyword\n",
    "3. datetime\n",
    "4. random "
   ]
  },
  {
   "cell_type": "code",
   "execution_count": 6,
   "id": "b192e266",
   "metadata": {},
   "outputs": [
    {
     "name": "stdout",
     "output_type": "stream",
     "text": [
      "14.0\n",
      "6\n",
      "120\n"
     ]
    }
   ],
   "source": [
    "#math\n",
    "import math\n",
    "\n",
    "print(math.sqrt(196))\n",
    "print(math.floor(6.8))\n",
    "print(math.factorial(5))"
   ]
  },
  {
   "cell_type": "code",
   "execution_count": 15,
   "id": "a66e2a9c",
   "metadata": {},
   "outputs": [
    {
     "name": "stdout",
     "output_type": "stream",
     "text": [
      "['False', 'None', 'True', 'and', 'as', 'assert', 'async', 'await', 'break', 'class', 'continue', 'def', 'del', 'elif', 'else', 'except', 'finally', 'for', 'from', 'global', 'if', 'import', 'in', 'is', 'lambda', 'nonlocal', 'not', 'or', 'pass', 'raise', 'return', 'try', 'while', 'with', 'yield']\n",
      "True\n"
     ]
    }
   ],
   "source": [
    "#keyword\n",
    "import keyword\n",
    "\n",
    "print(keyword.kwlist)\n",
    "print(keyword.iskeyword('None'))"
   ]
  },
  {
   "cell_type": "code",
   "execution_count": 20,
   "id": "cf1e9639",
   "metadata": {},
   "outputs": [
    {
     "data": {
      "text/plain": [
       "59"
      ]
     },
     "execution_count": 20,
     "metadata": {},
     "output_type": "execute_result"
    }
   ],
   "source": [
    "#random\n",
    "import random\n",
    "\n",
    "random.randint(1,100)"
   ]
  },
  {
   "cell_type": "code",
   "execution_count": 24,
   "id": "acdd79fa",
   "metadata": {},
   "outputs": [
    {
     "name": "stdout",
     "output_type": "stream",
     "text": [
      "2025-07-25 17:13:23.312135\n"
     ]
    }
   ],
   "source": [
    "#datetime\n",
    "import datetime\n",
    "\n",
    "print(datetime.datetime.now())"
   ]
  },
  {
   "cell_type": "markdown",
   "id": "77e91847",
   "metadata": {},
   "source": [
    "> To check all moudles in python"
   ]
  },
  {
   "cell_type": "code",
   "execution_count": 25,
   "id": "5b59014d",
   "metadata": {},
   "outputs": [
    {
     "name": "stdout",
     "output_type": "stream",
     "text": [
      "\n",
      "Please wait a moment while I gather a list of all available modules...\n",
      "\n",
      "test_sqlite3: testing with SQLite version 3.49.1\n",
      "IPython             _weakrefset         locale              symtable\n",
      "__future__          _win32sysloader     logging             sys\n",
      "__hello__           _win32verstamp_pywin32ctypes lzma                sysconfig\n",
      "__phello__          _winapi             mailbox             tabnanny\n",
      "_abc                _winxptheme         marshal             tarfile\n",
      "_aix_support        _wmi                math                tempfile\n",
      "_android_support    _zoneinfo           matplotlib_inline   test\n",
      "_apple_support      abc                 mimetypes           textwrap\n",
      "_ast                adodbapi            mmap                this\n",
      "_asyncio            afxres              mmapfile            threading\n",
      "_bisect             antigravity         mmsystem            time\n",
      "_blake2             argparse            modulefinder        timeit\n",
      "_bz2                array               msvcrt              timer\n",
      "_codecs             ast                 multiprocessing     tkinter\n",
      "_codecs_cn          asttokens           mysql               token\n",
      "_codecs_hk          asyncio             mysqlx              tokenize\n",
      "_codecs_iso2022     atexit              nest_asyncio        tomllib\n",
      "_codecs_jp          base64              netbios             tornado\n",
      "_codecs_kr          bdb                 netrc               trace\n",
      "_codecs_tw          binascii            nt                  traceback\n",
      "_collections        bisect              ntpath              tracemalloc\n",
      "_collections_abc    builtins            ntsecuritycon       traitlets\n",
      "_colorize           bz2                 nturl2path          tty\n",
      "_compat_pickle      cProfile            numbers             turtle\n",
      "_compression        calendar            odbc                turtledemo\n",
      "_contextvars        cmath               opcode              types\n",
      "_csv                cmd                 operator            typing\n",
      "_ctypes             code                optparse            unicodedata\n",
      "_ctypes_test        codecs              os                  unittest\n",
      "_datetime           codeop              packaging           urllib\n",
      "_decimal            collections         parso               uuid\n",
      "_elementtree        colorama            pathlib             venv\n",
      "_functools          colorsys            pdb                 warnings\n",
      "_hashlib            comm                perfmon             wave\n",
      "_heapq              commctrl            pickle              wcwidth\n",
      "_imp                compileall          pickletools         weakref\n",
      "_interpchannels     concurrent          pip                 webbrowser\n",
      "_interpqueues       configparser        pkgutil             win2kras\n",
      "_interpreters       contextlib          platform            win32api\n",
      "_io                 contextvars         platformdirs        win32clipboard\n",
      "_ios_support        copy                plistlib            win32com\n",
      "_json               copyreg             poplib              win32con\n",
      "_locale             csv                 posixpath           win32console\n",
      "_lsprof             ctypes              pprint              win32cred\n",
      "_lzma               curses              profile             win32crypt\n",
      "_markupbase         dataclasses         prompt_toolkit      win32cryptcon\n",
      "_md5                datetime            pstats              win32event\n",
      "_multibytecodec     dateutil            psutil              win32evtlog\n",
      "_multiprocessing    dbm                 pty                 win32evtlogutil\n",
      "_mysql_connector    dde                 pure_eval           win32file\n",
      "_opcode             debugpy             py_compile          win32gui\n",
      "_opcode_metadata    decimal             pyclbr              win32gui_struct\n",
      "_operator           decorator           pydoc               win32help\n",
      "_osx_support        difflib             pydoc_data          win32inet\n",
      "_overlapped         dis                 pyexpat             win32inetcon\n",
      "_pickle             doctest             pygments            win32job\n",
      "_py_abc             email               pythoncom           win32lz\n",
      "_pydatetime         encodings           pywin               win32net\n",
      "_pydecimal          ensurepip           pywin32_bootstrap   win32netcon\n",
      "_pyio               enum                pywin32_testutil    win32pdh\n",
      "_pylong             errno               pywintypes          win32pdhquery\n",
      "_pyrepl             executing           queue               win32pdhutil\n",
      "_queue              faulthandler        quopri              win32pipe\n",
      "_random             filecmp             random              win32print\n",
      "_sha1               fileinput           rasutil             win32process\n",
      "_sha2               fnmatch             re                  win32profile\n",
      "_sha3               fractions           regcheck            win32ras\n",
      "_signal             ftplib              regutil             win32rcparser\n",
      "_sitebuiltins       functools           reprlib             win32security\n",
      "_socket             gc                  rlcompleter         win32service\n",
      "_sqlite3            genericpath         runpy               win32serviceutil\n",
      "_sre                getopt              sched               win32timezone\n",
      "_ssl                getpass             secrets             win32trace\n",
      "_stat               gettext             select              win32traceutil\n",
      "_statistics         glob                selectors           win32transaction\n",
      "_string             graphlib            servicemanager      win32ts\n",
      "_strptime           gzip                shelve              win32ui\n",
      "_struct             hashlib             shlex               win32uiole\n",
      "_suggestions        heapq               shutil              win32verstamp\n",
      "_symtable           hmac                signal              win32wnet\n",
      "_sysconfig          html                site                winerror\n",
      "_testbuffer         http                six                 winioctlcon\n",
      "_testcapi           idlelib             smtplib             winnt\n",
      "_testclinic         imaplib             socket              winperf\n",
      "_testclinic_limited importlib           socketserver        winreg\n",
      "_testconsole        inspect             sqlite3             winsound\n",
      "_testimportmultiple io                  sre_compile         winxpgui\n",
      "_testinternalcapi   ipaddress           sre_constants       winxptheme\n",
      "_testlimitedcapi    ipykernel           sre_parse           wsgiref\n",
      "_testmultiphase     ipykernel_launcher  ssl                 xml\n",
      "_testsinglephase    ipython_pygments_lexers sspi                xmlrpc\n",
      "_thread             isapi               sspicon             xxsubtype\n",
      "_threading_local    itertools           stack_data          zipapp\n",
      "_tkinter            jedi                start_pythonwin     zipfile\n",
      "_tokenize           json                stat                zipimport\n",
      "_tracemalloc        jupyter             statistics          zlib\n",
      "_typing             jupyter_client      string              zmq\n",
      "_uuid               jupyter_core        stringprep          zoneinfo\n",
      "_warnings           keyword             struct              \n",
      "_weakref            linecache           subprocess          \n",
      "\n",
      "Enter any module name to get more help.  Or, type \"modules spam\" to search\n",
      "for modules whose name or summary contain the string \"spam\".\n",
      "\n"
     ]
    }
   ],
   "source": [
    "help('modules')"
   ]
  },
  {
   "cell_type": "markdown",
   "id": "8f8a6f15",
   "metadata": {},
   "source": [
    "---\n",
    "# 11. Loops in Python\n",
    "- For Loop\n",
    "- While Loop\n",
    "\n",
    "## While Loop"
   ]
  },
  {
   "cell_type": "code",
   "execution_count": 29,
   "id": "6921c34c",
   "metadata": {},
   "outputs": [
    {
     "name": "stdout",
     "output_type": "stream",
     "text": [
      "2 * 1 = 2\n",
      "2 * 2 = 4\n",
      "2 * 3 = 6\n",
      "2 * 4 = 8\n",
      "2 * 5 = 10\n",
      "2 * 6 = 12\n",
      "2 * 7 = 14\n",
      "2 * 8 = 16\n",
      "2 * 9 = 18\n",
      "2 * 10 = 20\n"
     ]
    }
   ],
   "source": [
    "i = 1\n",
    "num = 2\n",
    "\n",
    "while i<=10:\n",
    "    print(num , \"*\", i, \"=\", num*i)\n",
    "    i+=1"
   ]
  },
  {
   "cell_type": "markdown",
   "id": "b31301b9",
   "metadata": {},
   "source": [
    "## While Loop with else"
   ]
  },
  {
   "cell_type": "code",
   "execution_count": null,
   "id": "add92db8",
   "metadata": {},
   "outputs": [
    {
     "name": "stdout",
     "output_type": "stream",
     "text": [
      "1\n",
      "2\n",
      "3\n",
      "4\n",
      "Loop Complete\n"
     ]
    }
   ],
   "source": [
    "i = 1\n",
    "\n",
    "while(i<5):\n",
    "    print(i)\n",
    "    i+=1\n",
    "\n",
    "else:\n",
    "    print(\"Loop Complete\")"
   ]
  },
  {
   "cell_type": "markdown",
   "id": "99f07a02",
   "metadata": {},
   "source": [
    "## For Loop"
   ]
  },
  {
   "cell_type": "code",
   "execution_count": 38,
   "id": "4b92e8b3",
   "metadata": {},
   "outputs": [
    {
     "name": "stdout",
     "output_type": "stream",
     "text": [
      "1 2 3 4 5 6 7 8 9 10 "
     ]
    }
   ],
   "source": [
    "for i in range (1,11):\n",
    "    print(i, end=' ')"
   ]
  },
  {
   "cell_type": "markdown",
   "id": "9e0d490a",
   "metadata": {},
   "source": [
    "``range(start, stop)``"
   ]
  },
  {
   "cell_type": "code",
   "execution_count": 43,
   "id": "c8c6eec1",
   "metadata": {},
   "outputs": [
    {
     "name": "stdout",
     "output_type": "stream",
     "text": [
      "1\n",
      "3\n",
      "5\n",
      "6\n",
      "7\n",
      "8\n"
     ]
    }
   ],
   "source": [
    "for i in 1,3,5,6,7,8:\n",
    "    print(i)"
   ]
  },
  {
   "cell_type": "code",
   "execution_count": 45,
   "id": "0eebdfb8",
   "metadata": {},
   "outputs": [
    {
     "name": "stdout",
     "output_type": "stream",
     "text": [
      "1\n",
      "4\n",
      "7\n",
      "10\n",
      "13\n",
      "16\n",
      "19\n"
     ]
    }
   ],
   "source": [
    "for i in range(1,20,3): #3 is step size\n",
    "    print(i)"
   ]
  },
  {
   "cell_type": "markdown",
   "id": "821bc0ba",
   "metadata": {},
   "source": [
    "``range(start, stop, step)``"
   ]
  },
  {
   "cell_type": "code",
   "execution_count": 47,
   "id": "d9469da4",
   "metadata": {},
   "outputs": [
    {
     "name": "stdout",
     "output_type": "stream",
     "text": [
      "10\n",
      "9\n",
      "8\n",
      "7\n",
      "6\n",
      "5\n",
      "4\n",
      "3\n",
      "2\n",
      "1\n"
     ]
    }
   ],
   "source": [
    "for i in range(10,0,-1): #reverse\n",
    "    print(i)"
   ]
  },
  {
   "cell_type": "code",
   "execution_count": 49,
   "id": "c5ec835d",
   "metadata": {},
   "outputs": [],
   "source": [
    "for i in range(10,0):\n",
    "    print(i)\n",
    "\n",
    "#Nothing will print"
   ]
  },
  {
   "cell_type": "code",
   "execution_count": 52,
   "id": "38fcce5f",
   "metadata": {},
   "outputs": [
    {
     "name": "stdout",
     "output_type": "stream",
     "text": [
      "10\n",
      "8\n",
      "6\n",
      "4\n",
      "2\n"
     ]
    }
   ],
   "source": [
    "for i in range(10,0,-2): # Reverse but skip every next element\n",
    "    print(i)"
   ]
  },
  {
   "cell_type": "markdown",
   "id": "f426dd2e",
   "metadata": {},
   "source": [
    "> **Note:** Python for loop is so powerful that it can iterate all other data types too. For example"
   ]
  },
  {
   "cell_type": "code",
   "execution_count": null,
   "id": "ac0ed190",
   "metadata": {},
   "outputs": [
    {
     "name": "stdout",
     "output_type": "stream",
     "text": [
      "D\n",
      "e\n",
      "l\n",
      "h\n",
      "i\n"
     ]
    }
   ],
   "source": [
    "# for loop on string\n",
    "\n",
    "for i in 'Delhi':\n",
    "    print(i)"
   ]
  },
  {
   "cell_type": "code",
   "execution_count": null,
   "id": "d976f5e8",
   "metadata": {},
   "outputs": [
    {
     "name": "stdout",
     "output_type": "stream",
     "text": [
      "1\n",
      "2\n",
      "3\n",
      "4\n",
      "5\n"
     ]
    }
   ],
   "source": [
    "# for loop on List\n",
    "\n",
    "for i in [1,2,3,4,5]:\n",
    "    print(i)"
   ]
  },
  {
   "cell_type": "markdown",
   "id": "4c8a8897",
   "metadata": {},
   "source": [
    "# WAP : In a town of 10,000 people, the population is increasing at a rate of 10% each year. Display population at end of each year (for next 10 years)"
   ]
  },
  {
   "cell_type": "code",
   "execution_count": 61,
   "id": "dea1a4a7",
   "metadata": {},
   "outputs": [
    {
     "name": "stdout",
     "output_type": "stream",
     "text": [
      "1000\n",
      "1100\n",
      "1210\n",
      "1331\n",
      "1464\n",
      "1610\n",
      "1771\n",
      "1948\n",
      "2143\n",
      "2357\n"
     ]
    }
   ],
   "source": [
    "population = 1000\n",
    "\n",
    "for i in range (1,11):\n",
    "    print(int(population))\n",
    "    population*=1.1"
   ]
  },
  {
   "cell_type": "markdown",
   "id": "aa6dcbaf",
   "metadata": {},
   "source": [
    "# WAP : Sequence Sum - (1/1! + 2/2! + 3/3! + 4/4! + ---- + n/n!)"
   ]
  },
  {
   "cell_type": "code",
   "execution_count": 66,
   "id": "e7771bbd",
   "metadata": {},
   "outputs": [
    {
     "name": "stdout",
     "output_type": "stream",
     "text": [
      "You Entered :  5\n",
      "Result:  1.2496\n"
     ]
    }
   ],
   "source": [
    "n = int(input(\"Enter: \"))\n",
    "result = 0\n",
    "fact = 1\n",
    "\n",
    "for i in range (1,n+1):\n",
    "    fact = fact * n\n",
    "    result = result + n/fact\n",
    "\n",
    "print(\"You Entered : \", n)\n",
    "print(\"Result: \", result)"
   ]
  },
  {
   "cell_type": "markdown",
   "id": "5341951a",
   "metadata": {},
   "source": [
    "# Pattern 1\n",
    "```py\n",
    "*\n",
    "* *\n",
    "* * *\n",
    "* * * *\n",
    "* * * * *\n",
    "```"
   ]
  },
  {
   "cell_type": "code",
   "execution_count": 71,
   "id": "0259f21e",
   "metadata": {},
   "outputs": [
    {
     "name": "stdout",
     "output_type": "stream",
     "text": [
      "* \n",
      "* * \n",
      "* * * \n",
      "* * * * \n",
      "* * * * * \n"
     ]
    }
   ],
   "source": [
    "for i in range(1,6):\n",
    "    for j in range(1,i+1):\n",
    "        print('*', end=' ')\n",
    "    print()"
   ]
  },
  {
   "cell_type": "markdown",
   "id": "c79b4e69",
   "metadata": {},
   "source": [
    "# Pattern 2\n",
    "```py\n",
    "1\n",
    "1 2 1\n",
    "1 2 3 2 1 \n",
    "1 2 3 4 3 2 1\n",
    "```"
   ]
  },
  {
   "cell_type": "code",
   "execution_count": 78,
   "id": "b28e3787",
   "metadata": {},
   "outputs": [
    {
     "name": "stdout",
     "output_type": "stream",
     "text": [
      "1 \n",
      "1 2 1 \n",
      "1 2 3 2 1 \n",
      "1 2 3 4 3 2 1 \n"
     ]
    }
   ],
   "source": [
    "for i in range(1,5):\n",
    "    for j in range (1,i+1):\n",
    "        print(j, end=\" \")\n",
    "    for k in range (i-1, 0, -1):\n",
    "        print(k, end=\" \")\n",
    "    print()"
   ]
  },
  {
   "cell_type": "markdown",
   "id": "11d420ca",
   "metadata": {},
   "source": [
    "--- \n",
    "# 12. Loop Control Statement\n",
    "1. Break\n",
    "2. Continue\n",
    "3. Pass"
   ]
  },
  {
   "cell_type": "markdown",
   "id": "5492b4bf",
   "metadata": {},
   "source": [
    "### Break"
   ]
  },
  {
   "cell_type": "code",
   "execution_count": null,
   "id": "bcb1b34c",
   "metadata": {},
   "outputs": [
    {
     "name": "stdout",
     "output_type": "stream",
     "text": [
      "1\n",
      "2\n",
      "3\n",
      "4\n",
      "5\n"
     ]
    }
   ],
   "source": [
    "for i in range(1,10):\n",
    "    print(i)\n",
    "    if i==5:\n",
    "        break"
   ]
  },
  {
   "cell_type": "markdown",
   "id": "fa64a67f",
   "metadata": {},
   "source": [
    "# WAP to find all prime number between 1 and 100\n"
   ]
  },
  {
   "cell_type": "code",
   "execution_count": null,
   "id": "578fa0b0",
   "metadata": {},
   "outputs": [
    {
     "name": "stdout",
     "output_type": "stream",
     "text": [
      "2 3 5 7 11 13 17 19 23 29 31 37 41 43 47 53 59 61 67 71 73 79 83 89 97 "
     ]
    }
   ],
   "source": [
    "a = 2       # 1 is neither prime nor composite    \n",
    "b = 100\n",
    "\n",
    "for i in range(a,b+1):\n",
    "    for j in range(2,i):\n",
    "        if i%j == 0:\n",
    "            break\n",
    "    else:\n",
    "        print(i, end=\" \")"
   ]
  },
  {
   "cell_type": "markdown",
   "id": "681d5038",
   "metadata": {},
   "source": [
    "### Continue"
   ]
  },
  {
   "cell_type": "code",
   "execution_count": 92,
   "id": "bae4474d",
   "metadata": {},
   "outputs": [
    {
     "name": "stdout",
     "output_type": "stream",
     "text": [
      "1\n",
      "2\n",
      "3\n",
      "4\n",
      "6\n",
      "7\n",
      "8\n",
      "9\n"
     ]
    }
   ],
   "source": [
    "for i in range(1,10):\n",
    "    if(i==5):\n",
    "        continue\n",
    "    print(i)"
   ]
  },
  {
   "cell_type": "markdown",
   "id": "fee1bd22",
   "metadata": {},
   "source": [
    "### Pass \n",
    "Sometimes, we want to write a loop or a function as a placeholder for future logic — but Python doesn’t allow empty blocks."
   ]
  },
  {
   "cell_type": "code",
   "execution_count": 95,
   "id": "ca9a0242",
   "metadata": {},
   "outputs": [
    {
     "ename": "_IncompleteInputError",
     "evalue": "incomplete input (4054113036.py, line 1)",
     "output_type": "error",
     "traceback": [
      "  \u001b[36mCell\u001b[39m\u001b[36m \u001b[39m\u001b[32mIn[95]\u001b[39m\u001b[32m, line 1\u001b[39m\n\u001b[31m    \u001b[39m\u001b[31mfor i in range(1,10):\u001b[39m\n                         ^\n\u001b[31m_IncompleteInputError\u001b[39m\u001b[31m:\u001b[39m incomplete input\n"
     ]
    }
   ],
   "source": [
    "for i in range(1,10):"
   ]
  },
  {
   "cell_type": "markdown",
   "id": "1f2db8a4",
   "metadata": {},
   "source": [
    "Python expects at least one statement inside a block.\n",
    "\n",
    "To resolve this we can use **Pass Statement**\n",
    "\n",
    "- Pass statement does nothing "
   ]
  },
  {
   "cell_type": "code",
   "execution_count": 96,
   "id": "9900a86e",
   "metadata": {},
   "outputs": [],
   "source": [
    "for i in range(1,10):\n",
    "    pass"
   ]
  },
  {
   "cell_type": "markdown",
   "id": "413a8ce8",
   "metadata": {},
   "source": []
  },
  {
   "cell_type": "markdown",
   "id": "56a8dbb1",
   "metadata": {},
   "source": [
    "---\n",
    "# **Strings**\n",
    "- Strings are sequence of characters\n",
    "- In python, strings are a sequence of Unicode Characters"
   ]
  },
  {
   "cell_type": "markdown",
   "id": "6e85bf7b",
   "metadata": {},
   "source": [
    "## 1. Creating Strings"
   ]
  },
  {
   "cell_type": "code",
   "execution_count": null,
   "id": "7a9d66c4",
   "metadata": {},
   "outputs": [
    {
     "name": "stdout",
     "output_type": "stream",
     "text": [
      "Hello\n",
      "Hello\n",
      "Hello\n",
      "Hello\n",
      "Hello\n",
      "Hello\n"
     ]
    }
   ],
   "source": [
    "a = 'Hello'\n",
    "b = \"Hello\"\n",
    "c = '''Hello'''\n",
    "d = \"\"\"Hello\"\"\"\n",
    "e = str('Hello')\n",
    "f = str(a)\n",
    "\n",
    "print(a,b,c,d,e,f, sep = '\\n')"
   ]
  },
  {
   "cell_type": "markdown",
   "id": "f7aed041",
   "metadata": {},
   "source": [
    "## 2. Accessing substring form a string\n",
    "- **Positive Indexing** - Indexed from ``Left(0) to Right(size-1)``\n"
   ]
  },
  {
   "cell_type": "code",
   "execution_count": 111,
   "id": "a908ecdc",
   "metadata": {},
   "outputs": [
    {
     "name": "stdout",
     "output_type": "stream",
     "text": [
      "S = 0 Index \n",
      "t = 1 Index \n",
      "r = 2 Index \n",
      "i = 3 Index \n",
      "n = 4 Index \n",
      "g = 5 Index \n"
     ]
    }
   ],
   "source": [
    "str = \"String\"\n",
    "\n",
    "for i in range(0,len(str)):\n",
    "    print( str[i], \"=\", i, \"Index \")\n"
   ]
  },
  {
   "cell_type": "markdown",
   "id": "c300b479",
   "metadata": {},
   "source": [
    "- **Negative Indexing** - Indexed from ``Right(-1) to Left(-size)``\n",
    "\n",
    "<table border=\"1\">\n",
    "  <tr>\n",
    "    <td><strong>Positive Indexing</strong></td>\n",
    "    <td>0</td>\n",
    "    <td>1</td>\n",
    "    <td>2</td>\n",
    "    <td>3</td>\n",
    "    <td>4</td>\n",
    "    <td>5</td>\n",
    "  </tr>\n",
    "  <tr>\n",
    "    <td><strong>Character / String</strong></td>\n",
    "    <td><b>S</b></td>\n",
    "    <td><b>t</b></td>\n",
    "    <td><b>r</b></td>\n",
    "    <td><b>i</b></td>\n",
    "    <td><b>n</b></td>\n",
    "    <td><b>g</b></td>\n",
    "  </tr>\n",
    "  <tr>\n",
    "    <td><strong>Negative Indexing</strong></td>\n",
    "    <td>-6</td>\n",
    "    <td>-5</td>\n",
    "    <td>-4</td>\n",
    "    <td>-3</td>\n",
    "    <td>-2</td>\n",
    "    <td>-1</td>\n",
    "  </tr>\n",
    "</table>\n",
    "\n",
    "\n"
   ]
  },
  {
   "cell_type": "markdown",
   "id": "e6242932",
   "metadata": {},
   "source": [
    "## 3. String Slicing"
   ]
  },
  {
   "cell_type": "code",
   "execution_count": 138,
   "id": "29bf9ad4",
   "metadata": {},
   "outputs": [
    {
     "name": "stdout",
     "output_type": "stream",
     "text": [
      "Shivam \n"
     ]
    }
   ],
   "source": [
    "str = \"Shivam Sinha\"\n",
    "print(str[0:7])"
   ]
  },
  {
   "cell_type": "code",
   "execution_count": 139,
   "id": "98a6551b",
   "metadata": {},
   "outputs": [
    {
     "name": "stdout",
     "output_type": "stream",
     "text": [
      "Sia \n"
     ]
    }
   ],
   "source": [
    "print(str[0:7:2])"
   ]
  },
  {
   "cell_type": "code",
   "execution_count": 142,
   "id": "38369ee5",
   "metadata": {},
   "outputs": [
    {
     "name": "stdout",
     "output_type": "stream",
     "text": [
      " mavih\n"
     ]
    }
   ],
   "source": [
    "print(str[6:0:-1])"
   ]
  },
  {
   "cell_type": "code",
   "execution_count": 143,
   "id": "027a9702",
   "metadata": {},
   "outputs": [
    {
     "name": "stdout",
     "output_type": "stream",
     "text": [
      " mavihS\n"
     ]
    }
   ],
   "source": [
    "print(str[6::-1])"
   ]
  },
  {
   "cell_type": "code",
   "execution_count": 134,
   "id": "9f9689d7",
   "metadata": {},
   "outputs": [
    {
     "name": "stdout",
     "output_type": "stream",
     "text": [
      "ahniS mavihS\n"
     ]
    }
   ],
   "source": [
    "#reverse the string\n",
    "print(str[::-1])"
   ]
  },
  {
   "cell_type": "code",
   "execution_count": 135,
   "id": "040228ca",
   "metadata": {},
   "outputs": [
    {
     "name": "stdout",
     "output_type": "stream",
     "text": [
      "Sinha\n"
     ]
    }
   ],
   "source": [
    "print(str[-5:])"
   ]
  },
  {
   "cell_type": "code",
   "execution_count": 136,
   "id": "1c01c170",
   "metadata": {},
   "outputs": [
    {
     "name": "stdout",
     "output_type": "stream",
     "text": [
      "ahniS\n"
     ]
    }
   ],
   "source": [
    "print(str[-1:-6:-1])"
   ]
  },
  {
   "cell_type": "markdown",
   "id": "77db7dd0",
   "metadata": {},
   "source": [
    "## Editing & Deleting in string"
   ]
  },
  {
   "cell_type": "markdown",
   "id": "82d566d7",
   "metadata": {},
   "source": []
  }
 ],
 "metadata": {
  "kernelspec": {
   "display_name": "Python 3",
   "language": "python",
   "name": "python3"
  },
  "language_info": {
   "codemirror_mode": {
    "name": "ipython",
    "version": 3
   },
   "file_extension": ".py",
   "mimetype": "text/x-python",
   "name": "python",
   "nbconvert_exporter": "python",
   "pygments_lexer": "ipython3",
   "version": "3.13.5"
  }
 },
 "nbformat": 4,
 "nbformat_minor": 5
}
