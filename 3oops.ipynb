{
 "cells": [
  {
   "cell_type": "markdown",
   "id": "1ec9b1a1",
   "metadata": {},
   "source": [
    "# **<u>OOPS</u>**"
   ]
  },
  {
   "cell_type": "markdown",
   "id": "161c6800",
   "metadata": {},
   "source": [
    "> \"Everything in python is an **OBJECT**\""
   ]
  }
 ],
 "metadata": {
  "kernelspec": {
   "display_name": "Python 3",
   "language": "python",
   "name": "python3"
  },
  "language_info": {
   "codemirror_mode": {
    "name": "ipython",
    "version": 3
   },
   "file_extension": ".py",
   "mimetype": "text/x-python",
   "name": "python",
   "nbconvert_exporter": "python",
   "pygments_lexer": "ipython3",
   "version": "3.13.5"
  }
 },
 "nbformat": 4,
 "nbformat_minor": 5
}
