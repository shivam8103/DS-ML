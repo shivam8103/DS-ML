{
 "cells": [
  {
   "cell_type": "markdown",
   "id": "1ec9b1a1",
   "metadata": {},
   "source": [
    "# **<u>OOPS</u>**"
   ]
  },
  {
   "cell_type": "markdown",
   "id": "161c6800",
   "metadata": {},
   "source": [
    "> \"Everything in python is an **OBJECT**\""
   ]
  },
  {
   "cell_type": "markdown",
   "id": "70aec067",
   "metadata": {},
   "source": [
    "> OOP gives power to programmer to create his own datatype. "
   ]
  },
  {
   "cell_type": "markdown",
   "id": "b22f814f",
   "metadata": {},
   "source": [
    "# OOPS Principles\n",
    "1. Object\n",
    "2. Class\n",
    "3. Abstraction\n",
    "4. inheritance\n",
    "5. Encapsulation\n",
    "6. Polymorphism"
   ]
  },
  {
   "cell_type": "markdown",
   "id": "8ed87b7f",
   "metadata": {},
   "source": [
    "## Class\n",
    "Class is a blueprint. It defines the Set of rules for how its objects will behave.  \n",
    "- Class contains data(property) and function(behaviour)\n",
    "\n",
    "### Types of classes\n",
    "1. Build in classes (str, int, list, tuple)\n",
    "2. User Defined classes\n",
    "\n",
    "## Object\n",
    "- Object is an instance of the class \n",
    "\n",
    "\n",
    "## Syntax to create an object\n",
    "\n",
    "```python\n",
    "objectName = className()\n",
    "```\n",
    "\n",
    "\n"
   ]
  },
  {
   "cell_type": "code",
   "execution_count": 7,
   "id": "cd9a4b9f",
   "metadata": {},
   "outputs": [
    {
     "data": {
      "text/plain": [
       "[]"
      ]
     },
     "execution_count": 7,
     "metadata": {},
     "output_type": "execute_result"
    }
   ],
   "source": [
    "L = list()\n",
    "L"
   ]
  },
  {
   "cell_type": "code",
   "execution_count": 10,
   "id": "3568b172",
   "metadata": {},
   "outputs": [
    {
     "data": {
      "text/plain": [
       "''"
      ]
     },
     "execution_count": 10,
     "metadata": {},
     "output_type": "execute_result"
    }
   ],
   "source": [
    "s = str()\n",
    "s"
   ]
  },
  {
   "cell_type": "markdown",
   "id": "b36d3ca1",
   "metadata": {},
   "source": [
    "> **Note:** Pascal Case is used to name classes\n",
    "\n",
    "> eg.  `HelloWorld`"
   ]
  },
  {
   "cell_type": "markdown",
   "id": "78166ccf",
   "metadata": {},
   "source": [
    "constructor =- is basicallty a function isnide the class\n",
    "\n",
    "it is a special function. this function executres automaticallyt without calling it explicitly.. when we create a object of the class, constructoer automaticallty called. \n",
    "\n",
    "looks lioke def __init__(self)\n",
    "\n",
    "Koi bhi variable banana hai class ko \n",
    "\n",
    "\n",
    "rule 1 - usko constructor ke andar banana hau \n",
    "\n",
    "rule 2 - varaiable ke naam ke aage self. lagaoge "
   ]
  },
  {
   "cell_type": "markdown",
   "id": "305bcc80",
   "metadata": {},
   "source": [
    "## **Program 1:** Creating our first OOP program with user defined classes. Create a ATM program"
   ]
  },
  {
   "cell_type": "markdown",
   "id": "ba7fac3d",
   "metadata": {},
   "source": [
    "### 1. Creating ATM class."
   ]
  },
  {
   "cell_type": "code",
   "execution_count": 12,
   "id": "1215fd4c",
   "metadata": {},
   "outputs": [],
   "source": [
    "class Atm:\n",
    "    #constructor\n",
    "    def __init__(self):\n",
    "        # data\n",
    "        self.pin = ''\n",
    "        self.balance = 0\n",
    "        self.menu()\n",
    "    \n",
    "    # functions\n",
    "    def menu(self):\n",
    "        user_input = input(\"\"\"\n",
    "                           Hi how can I help you?\n",
    "                           1. Press 1 to create pin\n",
    "                           2. Press 2 to change pin\n",
    "                           3. Press 3 to check balance\n",
    "                           4. Press 4 to withdraw\n",
    "                           5. Press else to exit\n",
    "                           \"\"\")\n",
    "        "
   ]
  },
  {
   "cell_type": "markdown",
   "id": "55913fc9",
   "metadata": {},
   "source": [
    "### 2. Creating Objects of ATM class."
   ]
  },
  {
   "cell_type": "code",
   "execution_count": 13,
   "id": "18da6f5f",
   "metadata": {},
   "outputs": [],
   "source": [
    "obj1 = Atm()"
   ]
  },
  {
   "cell_type": "code",
   "execution_count": null,
   "id": "ad7967d4",
   "metadata": {},
   "outputs": [],
   "source": []
  }
 ],
 "metadata": {
  "kernelspec": {
   "display_name": "Python 3",
   "language": "python",
   "name": "python3"
  },
  "language_info": {
   "codemirror_mode": {
    "name": "ipython",
    "version": 3
   },
   "file_extension": ".py",
   "mimetype": "text/x-python",
   "name": "python",
   "nbconvert_exporter": "python",
   "pygments_lexer": "ipython3",
   "version": "3.13.5"
  }
 },
 "nbformat": 4,
 "nbformat_minor": 5
}
