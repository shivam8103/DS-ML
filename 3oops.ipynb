{
 "cells": [
  {
   "cell_type": "markdown",
   "id": "1ec9b1a1",
   "metadata": {},
   "source": [
    "# **<u>OOPS</u>**"
   ]
  },
  {
   "cell_type": "markdown",
   "id": "161c6800",
   "metadata": {},
   "source": [
    "\"Everything in python is an **OBJECT**\"\n",
    "\n",
    "OOP gives power to programmer to create his own datatype. "
   ]
  },
  {
   "cell_type": "markdown",
   "id": "b22f814f",
   "metadata": {},
   "source": [
    "# OOPS Principles\n",
    "1. Object\n",
    "2. Class\n",
    "3. Abstraction\n",
    "4. inheritance\n",
    "5. Encapsulation\n",
    "6. Polymorphism"
   ]
  },
  {
   "cell_type": "markdown",
   "id": "8ed87b7f",
   "metadata": {},
   "source": [
    "---\n",
    "## Class\n",
    "Class is a blueprint. It defines the Set of rules for how its objects will behave.  \n",
    "- Class contains data(property) and function(behaviour)\n",
    "\n",
    "### Types of classes\n",
    "1. Build in classes (str, int, list, tuple)\n",
    "2. User Defined classes\n",
    "\n",
    "## Object\n",
    "- Object is an instance of the class \n",
    "\n",
    "\n",
    "## Syntax to create an object\n",
    "\n",
    "```python\n",
    "objectName = className()\n",
    "```\n",
    "\n",
    "\n"
   ]
  },
  {
   "cell_type": "code",
   "execution_count": 7,
   "id": "cd9a4b9f",
   "metadata": {},
   "outputs": [
    {
     "data": {
      "text/plain": [
       "[]"
      ]
     },
     "execution_count": 7,
     "metadata": {},
     "output_type": "execute_result"
    }
   ],
   "source": [
    "L = list()\n",
    "L"
   ]
  },
  {
   "cell_type": "code",
   "execution_count": 10,
   "id": "3568b172",
   "metadata": {},
   "outputs": [
    {
     "data": {
      "text/plain": [
       "''"
      ]
     },
     "execution_count": 10,
     "metadata": {},
     "output_type": "execute_result"
    }
   ],
   "source": [
    "s = str()\n",
    "s"
   ]
  },
  {
   "cell_type": "markdown",
   "id": "b36d3ca1",
   "metadata": {},
   "source": [
    "> **Note:** Pascal Case is used to name classes\n",
    "\n",
    "> eg.  `HelloWorld`"
   ]
  },
  {
   "cell_type": "markdown",
   "id": "78166ccf",
   "metadata": {},
   "source": [
    "---\n",
    "## Constructor in Python (OOP)\n",
    "* A **constructor** is a **special function** inside a class.\n",
    "* It is named `__init__()` in Python.\n",
    "* This function is called **automatically** whenever you **create an object** of the class — you don’t need to call it explicitly.\n",
    "\n",
    "#### Syntax of a Constructor\n",
    "\n",
    "```python\n",
    "def __init__(self):\n",
    "    # constructor code\n",
    "```\n",
    "\n",
    "* The `self` keyword refers to the current instance of the class.\n",
    "\n",
    "#### When is the Constructor Called?\n",
    "\n",
    "As soon as you create an object, the constructor runs automatically:\n",
    "\n",
    "```python\n",
    "class MyClass:\n",
    "    def __init__(self):\n",
    "        print(\"Constructor called!\")\n",
    "\n",
    "obj = MyClass()  # 👈 Constructor runs here\n",
    "```\n",
    "\n",
    "> **Note 1:**  All variables you want to associate with an object **must be defined inside the constructor**.\n",
    "\n",
    "> **Note 2:** You must use `self.` before the variable name to make it **belong to the object**.\n"
   ]
  },
  {
   "cell_type": "markdown",
   "id": "3c861ec7",
   "metadata": {},
   "source": [
    "---"
   ]
  },
  {
   "cell_type": "markdown",
   "id": "305bcc80",
   "metadata": {},
   "source": [
    "## **Program 1:** Creating our first OOP program with user defined classes. Create a ATM program"
   ]
  },
  {
   "cell_type": "markdown",
   "id": "ba7fac3d",
   "metadata": {},
   "source": [
    "### 1. Creating ATM class."
   ]
  },
  {
   "cell_type": "code",
   "execution_count": 17,
   "id": "1215fd4c",
   "metadata": {},
   "outputs": [],
   "source": [
    "class Atm:\n",
    "    #constructor\n",
    "    def __init__(self):\n",
    "        # data\n",
    "        self.pin = \"\"\n",
    "        self.balance = 0\n",
    "        self.menu()\n",
    "    \n",
    "    # functions\n",
    "    def menu(self):\n",
    "        user_input = input(\"\"\"\n",
    "                           Hi how can I help you?\n",
    "                           1. Press 1 to create pin\n",
    "                           2. Press 2 to change pin\n",
    "                           3. Press 3 to check balance\n",
    "                           4. Press 4 to withdraw\n",
    "                           5. Press else to exit\n",
    "                           \"\"\")\n",
    "        \n",
    "        if user_input == '1':\n",
    "            self.create_pin()\n",
    "        \n",
    "        elif user_input =='2':\n",
    "            self.change_pin()\n",
    "\n",
    "        elif user_input == '3':\n",
    "            self.check_balance()\n",
    "\n",
    "        elif user_input == '4':\n",
    "            self.withdraw()\n",
    "            pass\n",
    "\n",
    "        else:\n",
    "            print(\"Program Completed\")\n",
    "            return\n",
    "        \n",
    "    \n",
    "    def create_pin(self):\n",
    "        user_pin = input(\"Enter Your Pin: \")\n",
    "        self.pin = user_pin\n",
    "\n",
    "        user_balance = int(input(\"Enter Balance: \"))\n",
    "        self.balance = user_balance\n",
    "\n",
    "        print(\"Pin Created Successfully!\")\n",
    "\n",
    "        self.menu()\n",
    "\n",
    "    def change_pin(self):\n",
    "        old_pin = input(\"Enter Old Pin: \")\n",
    "        if old_pin==self.pin :\n",
    "            new_pin = input(\"Enter New Pin: \")\n",
    "            self.pin = new_pin\n",
    "            print(\"Pin Changed Successfully!\")\n",
    "            self.menu()\n",
    "        else:\n",
    "            print(\"Wrong pin\")\n",
    "            self.menu()\n",
    "    \n",
    "    def check_balance(self):\n",
    "        pin = input(\"Enter your pin: \")\n",
    "        if(pin == self.pin):\n",
    "            print(\"Your Balance is: \", self.balance)\n",
    "        else:\n",
    "            print(\"Incorrect pin\")\n",
    "        self.menu()\n",
    "    \n",
    "    def withdraw(self):\n",
    "        pin = input(\"Enter your pin: \")\n",
    "        if(pin == self.pin):\n",
    "            amount = int(input(\"Enter the amount\"))\n",
    "            if amount <= self.balance:\n",
    "                self.balance = self.balance - amount\n",
    "                print(\"Withdrawl Successful!\")\n",
    "                print(\"Current Balance = \",self.balance)\n",
    "            else:\n",
    "                print(\"Amount not available\")\n",
    "        else:\n",
    "            print(\"Incorrecrt Pin\")\n"
   ]
  },
  {
   "cell_type": "markdown",
   "id": "55913fc9",
   "metadata": {},
   "source": [
    "### 2. Creating Objects of ATM class."
   ]
  },
  {
   "cell_type": "code",
   "execution_count": 18,
   "id": "18da6f5f",
   "metadata": {},
   "outputs": [
    {
     "name": "stdout",
     "output_type": "stream",
     "text": [
      "Pin Created Successfully!\n",
      "Withdrawl Successful!\n",
      "Current Balance =  95000\n"
     ]
    }
   ],
   "source": [
    "obj1 = Atm()"
   ]
  },
  {
   "cell_type": "code",
   "execution_count": 13,
   "id": "c295f8ab",
   "metadata": {},
   "outputs": [
    {
     "name": "stdout",
     "output_type": "stream",
     "text": [
      "1234\n"
     ]
    }
   ],
   "source": [
    "print(obj1.pin)"
   ]
  },
  {
   "cell_type": "markdown",
   "id": "afe26f75",
   "metadata": {},
   "source": [
    "```txt\n",
    "Hi how can I help you?\n",
    "1. Press 1 to create pin\n",
    "2. Press 2 to change pin\n",
    "3. Press 3 to check balance\n",
    "4. Press 4 to withdraw\n",
    "5. Press else to exit\n",
    "\n",
    "1\n",
    "Enter Your Pin: 1234\n",
    "Enter Balance: 10000\n",
    "Pin Created Successfully\n",
    "\n",
    "2\n",
    "Enter Old Pin: 1234\n",
    "Enter New Pin: 4321\n",
    "Pin Changed Successfully!\n",
    "\n",
    "3\n",
    "Enter pin: 4321\n",
    "Your Balance is:  10000\n",
    "\n",
    "4 \n",
    "Enter pin: 4321\n",
    "Enter the amount: 5500\n",
    "Withdrawl Successful!\n",
    "Current Balance =  4500\n",
    "\n",
    "5\n",
    "\n",
    "```\n"
   ]
  },
  {
   "cell_type": "markdown",
   "id": "14b27152",
   "metadata": {},
   "source": [
    "---\n",
    "## Class Diagram\n",
    "A class diagram is a visual representation of a class in object-oriented programming.\n",
    "\n",
    "It shows:\n",
    "1. Class name\n",
    "2. Attributes (data/variables)\n",
    "3. Methods (functions/behaviors)\n",
    "\n",
    "**Class Diagram Format**\n",
    "\n",
    "<img src = \"img/ClassDiagram1.png\" width=\"500\">\n",
    "\n",
    "**Class Diagram of our `Atm` class**\n",
    "\n",
    "<img src = \"img/ClassDiagram2.png\" width=\"500\">\n"
   ]
  },
  {
   "cell_type": "markdown",
   "id": "74310cee",
   "metadata": {},
   "source": [
    "> **Note:** Here we can see `+` and `-` sign.\n",
    "- `+ means public` (visible outside the class)\n",
    "- `- means private` (not visible outside the class)"
   ]
  },
  {
   "cell_type": "markdown",
   "id": "c5a8df9c",
   "metadata": {},
   "source": [
    "---\n",
    "## Methods vs Functions:\n",
    "- If a function is defined inside a class, it is called a method.\n",
    "- If it is defined outside any class, it is called a function."
   ]
  },
  {
   "cell_type": "code",
   "execution_count": null,
   "id": "0da9ff42",
   "metadata": {},
   "outputs": [],
   "source": [
    "L = [1, 2, 3]\n",
    "len(L)         # Function\n",
    "L.append(4)    # Method\n"
   ]
  },
  {
   "cell_type": "markdown",
   "id": "7902b89a",
   "metadata": {},
   "source": [
    "> Note\n",
    "- ``len()`` is a function → not part of the ``list class`` directly.\n",
    "- ``append()`` is a method → defined inside the ``list class``.\n",
    "\n",
    "So, ``create_pin(), change_pin(), withdraw()`` in your ``Atm class`` are all **methods**.\n"
   ]
  },
  {
   "cell_type": "markdown",
   "id": "26330491",
   "metadata": {},
   "source": [
    "\n",
    "---\n",
    "\n",
    "## Magic Methods ( Dunder Methods) in Python\n",
    "* Magic methods are **special methods** in Python with **double underscores** before and after their names.\n",
    "* They’re also called **\"dunder methods\"** (short for “**double underscore**”).\n",
    "* Each magic method gives your class a **special behavior**.\n",
    "\n",
    "### Syntax of Magic Method\n",
    "\n",
    "```py\n",
    "__method_name__\n",
    "\n",
    "```\n",
    "\n",
    "### **Constructor** is a Magic Method\n",
    "\n",
    "```py\n",
    "def __init__(self):\n",
    "    # constructor code\n",
    "```\n",
    "\n",
    "* `__init__` is a magic method.\n",
    "* **Special behaviour**: It gets called **automatically** when an object is created — no need to call it manually.\n",
    "\n",
    "### Note\n",
    "* Each magic method gives your class a **special behavior**. Examples:\n",
    "\n",
    "* There are **over 100** magic methods in Python, but we'll only need to learn a few for most practical use cases.\n",
    "\n"
   ]
  },
  {
   "cell_type": "markdown",
   "id": "555bf3a4",
   "metadata": {},
   "source": [
    "---\n",
    "## Constructor\n",
    "- A constructor is a special method in a class.\n",
    "\n",
    "- In Python, it is defined as __init__(self).\n",
    "\n",
    "- It gets called automatically when an object is created — you don't need to call it manually.\n",
    "\n",
    "> **Note:** Since constructors execute without manual calling, they're ideal for running essential setup code that the user should not control or forget.\n",
    "\n",
    "### Benifit of using constructor\n",
    "1. **No User Control**\n",
    "\n",
    "- Code inside the constructor runs automatically, so the user can’t skip or forget it.\n",
    "\n",
    "- Ideal for logic where you don’t want to rely on the user (e.g., setting defaults).\n",
    "\n",
    "2. **Configuration Code**\n",
    "\n",
    "- Perfect place to write setup/configuration code like:\n",
    "\n",
    "    - Database connections\n",
    "\n",
    "    - Internet or API initialization\n",
    "\n",
    "    - Authentication setup\n",
    "\n",
    "- This ensures that such critical tasks are always performed when the object is created.\n",
    "\n",
    "3. **Automatic Execution (No Manual Triggering)**\n",
    "\n",
    "4. **Promotes Readability and Maintainability**"
   ]
  },
  {
   "cell_type": "markdown",
   "id": "c27f3957",
   "metadata": {},
   "source": [
    "## ``self``\n",
    "- self is the first parameter of instance methods in Python classes.\n",
    "\n",
    "- It refers to the current object (or instance) through which the method is being called.\n",
    "\n",
    "- It acts as a link between methods and data inside the class.\n",
    "\n",
    "#### Need of self\n",
    "- In Python, all variables and methods inside a class must be accessed through an object.\n",
    "\n",
    "- Even one method cannot directly access another method — they must go through the object.\n",
    "\n",
    "#### This won't work:\n",
    "```python\n",
    "def __init__(self):\n",
    "    menu()  # Invalid, method not accessed via object\n",
    "```\n",
    "\n",
    "- This is correct\n",
    "\n",
    "```python\n",
    "def __init__(self):\n",
    "    self.menu()  # Accessing another method via the object\n",
    "``` \n",
    "\n",
    "> **Note:** Here, self.menu() means:\n",
    "\n",
    "\"Hey self (object), please call your menu() method.\"\n"
   ]
  },
  {
   "cell_type": "markdown",
   "id": "60515852",
   "metadata": {},
   "source": [
    "#### Prove that `self` refers to the `objects`  "
   ]
  },
  {
   "cell_type": "code",
   "execution_count": 27,
   "id": "25697769",
   "metadata": {},
   "outputs": [
    {
     "name": "stdout",
     "output_type": "stream",
     "text": [
      "Id of self= 2266398517840\n",
      "Id of object= 2266398517840\n"
     ]
    }
   ],
   "source": [
    "class c:\n",
    "\n",
    "    def __init__(self):\n",
    "        print('Id of self=', id(self))\n",
    "\n",
    "obj = c()\n",
    "\n",
    "print('Id of object=', id(obj))\n"
   ]
  },
  {
   "cell_type": "markdown",
   "id": "47ed8c7c",
   "metadata": {},
   "source": [
    "> The output shows that,both IDs are the same.\n",
    "\n",
    "> This proves: self is just a reference to the object (obj) from inside the class.\n"
   ]
  },
  {
   "cell_type": "markdown",
   "id": "387c5200",
   "metadata": {},
   "source": [
    "#### Why Do We Use `self` to Call Other Methods Within a Class?\n",
    "\n",
    "In Python, when a method (like `__init__`) wants to call another method (like `menu()`), it **cannot** call it directly.\n",
    "Why?\n",
    "\n",
    "Because **methods and data in a class are accessed through the object** — even inside the class itself.\n",
    "\n",
    "That’s why we write:\n",
    "\n",
    "```python\n",
    "def __init__(self):\n",
    "    self.menu()  # calling another method through the object\n",
    "```\n",
    "\n",
    "Here’s how it works:\n",
    "\n",
    "```\n",
    "Constructor (e.g., __init__) → talks to the Object (self)\n",
    "Object (self) → calls another method (like self.menu())\n",
    "```\n",
    "\n",
    "This is called **indirect method access**.\n",
    "\n",
    "---\n",
    "\n",
    "#### Who Passes the Object?\n",
    "\n",
    "When we call a method like:\n",
    "\n",
    "```python\n",
    "obj.method()\n",
    "```\n",
    "\n",
    "It may look like no arguments are passed. But behind the scenes, Python does this:\n",
    "\n",
    "```python\n",
    "Class.method(obj)  # The object is passed as the first argument\n",
    "```\n",
    "\n",
    "That’s why your method must accept a parameter (usually named `self`) to receive that object.\n",
    "\n",
    "Let’s verify this with an example:\n"
   ]
  },
  {
   "cell_type": "code",
   "execution_count": 24,
   "id": "da9d672f",
   "metadata": {},
   "outputs": [],
   "source": [
    "class fun:\n",
    "    #constructor\n",
    "    def __init__(self):   \n",
    "        print('Constructor')\n",
    "\n",
    "    def method():  #self not passed\n",
    "       print('Method') \n",
    "\n",
    "    "
   ]
  },
  {
   "cell_type": "code",
   "execution_count": 28,
   "id": "00a212b6",
   "metadata": {},
   "outputs": [
    {
     "name": "stdout",
     "output_type": "stream",
     "text": [
      "Constructor\n"
     ]
    },
    {
     "ename": "TypeError",
     "evalue": "fun.method() takes 0 positional arguments but 1 was given",
     "output_type": "error",
     "traceback": [
      "\u001b[31m---------------------------------------------------------------------------\u001b[39m",
      "\u001b[31mTypeError\u001b[39m                                 Traceback (most recent call last)",
      "\u001b[36mCell\u001b[39m\u001b[36m \u001b[39m\u001b[32mIn[28]\u001b[39m\u001b[32m, line 2\u001b[39m\n\u001b[32m      1\u001b[39m obj = fun()\n\u001b[32m----> \u001b[39m\u001b[32m2\u001b[39m \u001b[43mobj\u001b[49m\u001b[43m.\u001b[49m\u001b[43mmethod\u001b[49m\u001b[43m(\u001b[49m\u001b[43m)\u001b[49m\n",
      "\u001b[31mTypeError\u001b[39m: fun.method() takes 0 positional arguments but 1 was given"
     ]
    }
   ],
   "source": [
    "obj = fun()\n",
    "obj.method()"
   ]
  },
  {
   "cell_type": "markdown",
   "id": "fc41a6e6",
   "metadata": {},
   "source": [
    "#### **Error:**  fun.method() takes 0 positional arguments but 1 was given\n",
    "We didn’t pass any arguments but Python automatically passes the object itself as the first argument.\n",
    "\n",
    "So, the method must be defined with at least one parameter to receive that object — typically named `self`."
   ]
  },
  {
   "cell_type": "code",
   "execution_count": null,
   "id": "527ade32",
   "metadata": {},
   "outputs": [
    {
     "name": "stdout",
     "output_type": "stream",
     "text": [
      "Constructor\n",
      "Method\n"
     ]
    }
   ],
   "source": [
    "class fun2:\n",
    "    #constructor\n",
    "    def __init__(self):   \n",
    "        print('Constructor')\n",
    "\n",
    "    def method(self): #self receives the object\n",
    "       print('Method') \n",
    "\n",
    "    \n",
    "obj = fun2()\n",
    "obj.method()"
   ]
  },
  {
   "cell_type": "markdown",
   "id": "1de973e7",
   "metadata": {},
   "source": [
    "#### Note\n",
    "- The word self is not mandatory in Python.\n",
    "\n",
    "- It is not a reserved keyword — just a naming convention.\n",
    "\n",
    "- You can use any valid variable name in place of self to receive the object inside a class method."
   ]
  },
  {
   "cell_type": "markdown",
   "id": "f259d9e1",
   "metadata": {},
   "source": []
  }
 ],
 "metadata": {
  "kernelspec": {
   "display_name": "Python 3",
   "language": "python",
   "name": "python3"
  },
  "language_info": {
   "codemirror_mode": {
    "name": "ipython",
    "version": 3
   },
   "file_extension": ".py",
   "mimetype": "text/x-python",
   "name": "python",
   "nbconvert_exporter": "python",
   "pygments_lexer": "ipython3",
   "version": "3.13.5"
  }
 },
 "nbformat": 4,
 "nbformat_minor": 5
}
