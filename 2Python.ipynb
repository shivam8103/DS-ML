{
 "cells": [
  {
   "cell_type": "markdown",
   "id": "ea7daf94",
   "metadata": {},
   "source": [
    "# **Python Part 2 : Built-in Data Structures and Functions**\n"
   ]
  },
  {
   "cell_type": "markdown",
   "id": "3235f4db",
   "metadata": {},
   "source": [
    "# **Python List**\n",
    "- What are List\n",
    "- List vs Arrays\n",
    "- Characteristics of a List\n",
    "- How to create a  List\n",
    "- Access items from a List\n",
    "- Editing items in a List\n",
    "- Deleting items from a List\n",
    "- Operations on Lists\n",
    "- Functions on Lists"
   ]
  },
  {
   "cell_type": "markdown",
   "id": "c852f78c",
   "metadata": {},
   "source": [
    "## 1. What are Lists?\n",
    "- List is a data type, where we can store multiple items under 1 name. More technically, lists act like a **dynamic arrays** which means we can add more items on the fly. \n",
    "\n",
    "```py\n",
    "L = [20, 'Jessa', 25.75, [30,60,90]]\n",
    "     🡅     🡅       🡅       🡅\n",
    "    L[0]   L[1]    L[2]     L[3] \n",
    "```\n",
    "\n",
    "## 2. List vs Array\n",
    "\n",
    "| **List**                                                                            | **Array**                                                                 |\n",
    "| ----------------------------------------------------------------------------------- | ------------------------------------------------------------------------- |\n",
    "| Lists are dynamic in nature; their size can be changed at runtime.                  | Arrays are static in nature; their size is fixed at the time of creation. |\n",
    "| Lists are heterogeneous, meaning they can contain elements of different data types. | Arrays are homogeneous; all elements must be of the same data type.       |\n",
    "| Execution speed is relatively slower.                                               | Execution speed is generally faster.                                      |\n",
    "| Lists consume more memory.                                                          | Arrays consume less memory.                                               |\n",
    "|Python have lists| Java, C++ have array|"
   ]
  },
  {
   "cell_type": "code",
   "execution_count": 4,
   "id": "e46669f9",
   "metadata": {},
   "outputs": [
    {
     "name": "stdout",
     "output_type": "stream",
     "text": [
      "(1, 2, 1.1)\n"
     ]
    },
    {
     "data": {
      "text/plain": [
       "False"
      ]
     },
     "execution_count": 4,
     "metadata": {},
     "output_type": "execute_result"
    }
   ],
   "source": [
    "arr = (1,2,1.1)\n",
    "print(arr)\n",
    "\n",
    "id(arr[0]) == id(arr[2])"
   ]
  },
  {
   "cell_type": "markdown",
   "id": "9e020e0f",
   "metadata": {},
   "source": [
    "## 3. How **Array** and **List** stored in Memory.\n",
    "\n",
    "```Java\n",
    "int arr[8] //Size = 8\n",
    "arr = {1,2,3,4} //Store 4 elements\n",
    "```\n",
    "<img src=\"img/ArrayMemory.png\" width=\"500\">\n",
    "\n"
   ]
  },
  {
   "cell_type": "markdown",
   "id": "05803f3b",
   "metadata": {},
   "source": []
  }
 ],
 "metadata": {
  "kernelspec": {
   "display_name": "Python 3",
   "language": "python",
   "name": "python3"
  },
  "language_info": {
   "codemirror_mode": {
    "name": "ipython",
    "version": 3
   },
   "file_extension": ".py",
   "mimetype": "text/x-python",
   "name": "python",
   "nbconvert_exporter": "python",
   "pygments_lexer": "ipython3",
   "version": "3.13.5"
  }
 },
 "nbformat": 4,
 "nbformat_minor": 5
}
