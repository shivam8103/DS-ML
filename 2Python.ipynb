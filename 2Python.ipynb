{
 "cells": [
  {
   "cell_type": "markdown",
   "id": "ea7daf94",
   "metadata": {},
   "source": [
    "# **Python Part 2 : Built-in Data Structures and Functions**\n"
   ]
  },
  {
   "cell_type": "markdown",
   "id": "3235f4db",
   "metadata": {},
   "source": [
    "# **Python List**\n",
    "- What are List\n",
    "- List vs Arrays\n",
    "- How List stored in Memory\n",
    "- Characteristics of a List\n",
    "- How to create a  List\n",
    "- Access items from a List\n",
    "- Editing items in a List\n",
    "- Deleting items from a List\n",
    "- Operations on Lists\n",
    "- Functions on Lists"
   ]
  },
  {
   "cell_type": "markdown",
   "id": "c852f78c",
   "metadata": {},
   "source": [
    "## 1. What are Lists?\n",
    "- List is a data type, where we can store multiple items under 1 name. More technically, lists act like a **dynamic arrays** which means we can add more items on the fly. \n",
    "\n",
    "```py\n",
    "L = [20, 'Jessa', 25.75, [30,60,90]]\n",
    "     🡅     🡅       🡅       🡅\n",
    "    L[0]   L[1]    L[2]     L[3] \n",
    "```\n",
    "\n",
    "## 2. List vs Array\n",
    "\n",
    "| **List**                                                                            | **Array**                                                                 |\n",
    "| ----------------------------------------------------------------------------------- | ------------------------------------------------------------------------- |\n",
    "| Lists are dynamic in nature; their size can be changed at runtime.                  | Arrays are static in nature; their size is fixed at the time of creation. |\n",
    "| Lists are heterogeneous, meaning they can contain elements of different data types. | Arrays are homogeneous; all elements must be of the same data type.       |\n",
    "| Execution speed is relatively slower.                                               | Execution speed is generally faster.                                      |\n",
    "| Lists consume more memory.                                                          | Arrays consume less memory.                                               |\n",
    "|Python have lists| Java, C++ have array|"
   ]
  },
  {
   "cell_type": "code",
   "execution_count": 4,
   "id": "e46669f9",
   "metadata": {},
   "outputs": [
    {
     "name": "stdout",
     "output_type": "stream",
     "text": [
      "(1, 2, 1.1)\n"
     ]
    },
    {
     "data": {
      "text/plain": [
       "False"
      ]
     },
     "execution_count": 4,
     "metadata": {},
     "output_type": "execute_result"
    }
   ],
   "source": [
    "arr = (1,2,1.1)\n",
    "print(arr)\n",
    "\n",
    "id(arr[0]) == id(arr[2])"
   ]
  },
  {
   "cell_type": "markdown",
   "id": "9e020e0f",
   "metadata": {},
   "source": [
    "## 3. How **Array** and **List** stored in Memory.\n",
    "\n",
    "```Java\n",
    "int arr[8] //Size = 8\n",
    "arr = {1,2,3,4} //Store 4 elements\n",
    "```\n",
    "<img src=\"img/ArrayMemory.png\" width=\"500\">\n",
    "\n"
   ]
  },
  {
   "cell_type": "code",
   "execution_count": 17,
   "id": "057b5485",
   "metadata": {},
   "outputs": [
    {
     "name": "stdout",
     "output_type": "stream",
     "text": [
      "2350109736640\n",
      "140715209737128\n",
      "140715209737160\n",
      "140715209737192\n",
      "140715209737128\n",
      "140715209737160\n",
      "140715209737192\n"
     ]
    }
   ],
   "source": [
    "list = [1,2,3]\n",
    "\n",
    "print(id(list))\n",
    "print(id(list[0]))\n",
    "print(id(list[1]))\n",
    "print(id(list[2]))\n",
    "print(id(1))\n",
    "print(id(2))\n",
    "print(id(3))"
   ]
  },
  {
   "cell_type": "markdown",
   "id": "6d0faf92",
   "metadata": {},
   "source": [
    "\n",
    "<img src=\"img/ListMemory1.png\" width=\"500\">"
   ]
  },
  {
   "cell_type": "markdown",
   "id": "1cfab0f7",
   "metadata": {},
   "source": [
    "> **Note:** - This is possible due to a **Refrential Array**, that store address of element instead of original array. (*pointer to the original element*) \n",
    "\n",
    "**Its Advantages**\n",
    "1. Supports heterogeneity: Elements of different data types can be stored in a single list.\n",
    "2. Memory efficiency: The same reference can be reused instead of reallocating memory for identical elements.\n",
    "3. Due to this, it takes extra space. Also it is slow compare to array."
   ]
  },
  {
   "cell_type": "code",
   "execution_count": 26,
   "id": "95625b3f",
   "metadata": {},
   "outputs": [
    {
     "name": "stdout",
     "output_type": "stream",
     "text": [
      "140715209737416\n",
      "140715209737736\n",
      "140715209737416\n",
      "2350115953216\n"
     ]
    }
   ],
   "source": [
    "li = [10,20,10]\n",
    "print(id(li[0]))\n",
    "print(id(li[1]))\n",
    "print(id(li[2]))\n",
    "print(id(li))"
   ]
  },
  {
   "cell_type": "markdown",
   "id": "0bffe8cd",
   "metadata": {},
   "source": [
    "<img src=\"img/ListMemory2.png\" width=\"500\">"
   ]
  },
  {
   "cell_type": "code",
   "execution_count": 23,
   "id": "d3433b6d",
   "metadata": {},
   "outputs": [
    {
     "name": "stdout",
     "output_type": "stream",
     "text": [
      "140715209737416\n",
      "140715209737416\n",
      "140715209737416\n",
      "2350116177536\n"
     ]
    }
   ],
   "source": [
    "# Lets change some value in list\n",
    "\n",
    "li[1] = 10   # [10,10,10]\n",
    "print(id(li[0]))\n",
    "print(id(li[1]))\n",
    "print(id(li[2]))\n",
    "print(id(li))"
   ]
  },
  {
   "cell_type": "markdown",
   "id": "13f5dd4f",
   "metadata": {},
   "source": [
    "<img src=\"img/ListMemory3.png\" width=\"500\">"
   ]
  },
  {
   "cell_type": "code",
   "execution_count": 20,
   "id": "cafedc78",
   "metadata": {},
   "outputs": [
    {
     "name": "stdout",
     "output_type": "stream",
     "text": [
      "140715209737416\n",
      "140715209801696\n",
      "140715209801696\n",
      "140715209800160\n",
      "2350116183744\n"
     ]
    }
   ],
   "source": [
    "li2 = [10,'a','a','A']\n",
    "print(id(li2[0]))\n",
    "print(id(li2[1]))\n",
    "print(id(li2[2]))\n",
    "print(id(li2[3]))\n",
    "print(id(li2))"
   ]
  },
  {
   "cell_type": "markdown",
   "id": "a1471ad7",
   "metadata": {},
   "source": [
    "<img src=\"img/ListMemory4.png\" width=\"500\">"
   ]
  },
  {
   "cell_type": "markdown",
   "id": "f23c12de",
   "metadata": {},
   "source": [
    "---\n",
    "## 4. Characteristics of List\n",
    "\n",
    "    1. Ordered\n",
    "    2. Mutable\n",
    "    3. heterogeneous\n",
    "    4. Can have duplicates\n",
    "    5. Dynamic\n",
    "    6. Can be Nested\n",
    "    7. Items can be accessed\n",
    "    8. Can contain any kind of *objects\n",
    "    \n",
    "\n",
    "---\n"
   ]
  },
  {
   "cell_type": "markdown",
   "id": "a9c4c7e3",
   "metadata": {},
   "source": [
    "## 5. Creating a List\n",
    "- Empty\n",
    "- 1D -> Homogenous List\n",
    "- 2D\n",
    "- 3D\n",
    "- Heterogenous\n",
    "- Using Type Conversion"
   ]
  },
  {
   "cell_type": "code",
   "execution_count": 6,
   "id": "a2f38dfd",
   "metadata": {},
   "outputs": [
    {
     "name": "stdout",
     "output_type": "stream",
     "text": [
      "[]\n",
      "[1, 2, 3, 4]\n",
      "[1, 2, 3, [4, 5]]\n",
      "[[[1, 2], [3, 4]], [[5, 6], [7, 8]]]\n",
      "[1, True, 5.6, (5+6j), 'Hello']\n",
      "['H', 'e', 'l', 'l', 'o']\n"
     ]
    }
   ],
   "source": [
    "# Empty\n",
    "print([])\n",
    "\n",
    "# 1D -> Homogenous List\n",
    "print([1,2,3,4])\n",
    "\n",
    "# 2D\n",
    "print([1,2,3,[4,5]])\n",
    "\n",
    "# 3D\n",
    "print([[[1,2], [3,4]], [[5,6], [7,8]]])  #this is homogenous list\n",
    "\n",
    "# Heterogenous List\n",
    "print([1, True, 5.6, 5+6j, 'Hello'])\n",
    "\n",
    "# Using type conversion\n",
    "print(list('Hello'))\n"
   ]
  },
  {
   "cell_type": "markdown",
   "id": "641b8078",
   "metadata": {},
   "source": [
    "---\n",
    "\n",
    "## 6. Accessing Items from a List\n",
    "\n",
    "### Indexing\n",
    "- Positive Indexing\n",
    "- Negative Indexing"
   ]
  },
  {
   "cell_type": "code",
   "execution_count": null,
   "id": "1ce92800",
   "metadata": {},
   "outputs": [
    {
     "name": "stdout",
     "output_type": "stream",
     "text": [
      "2\n"
     ]
    }
   ],
   "source": [
    "L = [1,2,3,[4,5]]\n",
    "print(L[1])"
   ]
  },
  {
   "cell_type": "code",
   "execution_count": 8,
   "id": "38044bfe",
   "metadata": {},
   "outputs": [
    {
     "name": "stdout",
     "output_type": "stream",
     "text": [
      "[4, 5]\n"
     ]
    }
   ],
   "source": [
    "print(L[-1])"
   ]
  },
  {
   "cell_type": "code",
   "execution_count": 9,
   "id": "8588e03b",
   "metadata": {},
   "outputs": [
    {
     "name": "stdout",
     "output_type": "stream",
     "text": [
      "4\n"
     ]
    }
   ],
   "source": [
    "print(L[-1][-2])"
   ]
  },
  {
   "cell_type": "code",
   "execution_count": 10,
   "id": "725fee45",
   "metadata": {},
   "outputs": [
    {
     "name": "stdout",
     "output_type": "stream",
     "text": [
      "4\n"
     ]
    }
   ],
   "source": [
    "print(L[3][0])"
   ]
  },
  {
   "cell_type": "code",
   "execution_count": 11,
   "id": "daeca114",
   "metadata": {},
   "outputs": [
    {
     "name": "stdout",
     "output_type": "stream",
     "text": [
      "[[1, 2], [3, 4]]\n"
     ]
    }
   ],
   "source": [
    "L = [[[1,2], [3,4]], [[5,6], [7,8]]]\n",
    "print(L[0]);"
   ]
  },
  {
   "cell_type": "code",
   "execution_count": 14,
   "id": "379cdf3b",
   "metadata": {},
   "outputs": [
    {
     "name": "stdout",
     "output_type": "stream",
     "text": [
      "[1, 2]\n"
     ]
    }
   ],
   "source": [
    "print(L[0][0])"
   ]
  },
  {
   "cell_type": "code",
   "execution_count": 13,
   "id": "57b0a722",
   "metadata": {},
   "outputs": [
    {
     "name": "stdout",
     "output_type": "stream",
     "text": [
      "1\n"
     ]
    }
   ],
   "source": [
    "print(L[0][0][0])"
   ]
  },
  {
   "cell_type": "markdown",
   "id": "6e3fbe64",
   "metadata": {},
   "source": [
    "### Slicing"
   ]
  },
  {
   "cell_type": "code",
   "execution_count": 17,
   "id": "cce48e83",
   "metadata": {},
   "outputs": [
    {
     "name": "stdout",
     "output_type": "stream",
     "text": [
      "[1, 2, 3]\n"
     ]
    }
   ],
   "source": [
    "L = [1,2,3,4,5,6]\n",
    "print(L[0:3])"
   ]
  },
  {
   "cell_type": "code",
   "execution_count": 18,
   "id": "5eb77323",
   "metadata": {},
   "outputs": [
    {
     "name": "stdout",
     "output_type": "stream",
     "text": [
      "[4, 5, 6]\n"
     ]
    }
   ],
   "source": [
    "print(L[3:])"
   ]
  },
  {
   "cell_type": "code",
   "execution_count": 20,
   "id": "34929bef",
   "metadata": {},
   "outputs": [
    {
     "name": "stdout",
     "output_type": "stream",
     "text": [
      "[6, 5, 4, 3, 2, 1]\n"
     ]
    }
   ],
   "source": [
    "print(L[::-1])"
   ]
  },
  {
   "cell_type": "markdown",
   "id": "a3664ff4",
   "metadata": {},
   "source": [
    "## 7. Adding Items to a List\n",
    "\n",
    "- append() - to add 1 item in a list\n",
    "- extend() - to add multiple item in a list\n",
    "- insert() - to add at particular location"
   ]
  },
  {
   "cell_type": "markdown",
   "id": "8daa3abf",
   "metadata": {},
   "source": [
    "### ``append()``"
   ]
  },
  {
   "cell_type": "code",
   "execution_count": null,
   "id": "23b76674",
   "metadata": {},
   "outputs": [
    {
     "name": "stdout",
     "output_type": "stream",
     "text": [
      "[1, 2, 3, True]\n"
     ]
    }
   ],
   "source": [
    "L = [1,2,3]\n",
    "L.append(True)\n",
    "print(L)"
   ]
  },
  {
   "cell_type": "markdown",
   "id": "077bb531",
   "metadata": {},
   "source": [
    "### ``extend()``"
   ]
  },
  {
   "cell_type": "code",
   "execution_count": null,
   "id": "059bae44",
   "metadata": {},
   "outputs": [
    {
     "name": "stdout",
     "output_type": "stream",
     "text": [
      "[1, 2, 3, 4, 5, 6]\n"
     ]
    }
   ],
   "source": [
    "L = [1,2,3]\n",
    "L.extend([4,5,6])\n",
    "print(L)"
   ]
  },
  {
   "cell_type": "markdown",
   "id": "194cd4ae",
   "metadata": {},
   "source": [
    "> **Note:** If we try to append multiple items to a list at once using ``append()``,they will be add as a single element, turning a 1D list into a 2D list"
   ]
  },
  {
   "cell_type": "code",
   "execution_count": 27,
   "id": "0c8bd033",
   "metadata": {},
   "outputs": [
    {
     "name": "stdout",
     "output_type": "stream",
     "text": [
      "[1, 2, 3, [4, 5, 6]]\n",
      "[4, 5, 6]\n"
     ]
    }
   ],
   "source": [
    "L = [1,2,3]\n",
    "L.append([4,5,6])\n",
    "print(L)\n",
    "print(L[3])"
   ]
  },
  {
   "cell_type": "markdown",
   "id": "c4360bbd",
   "metadata": {},
   "source": [
    "> **Note:** It's opposite is also possible. For example:"
   ]
  },
  {
   "cell_type": "code",
   "execution_count": 29,
   "id": "2946ffd2",
   "metadata": {},
   "outputs": [
    {
     "name": "stdout",
     "output_type": "stream",
     "text": [
      "[1, 2, 3, 'S', 'h', 'i', 'v', 'a', 'm']\n",
      "S\n"
     ]
    }
   ],
   "source": [
    "L = [1,2,3]\n",
    "L.extend('Shivam')\n",
    "print(L)\n",
    "print(L[3])"
   ]
  },
  {
   "cell_type": "markdown",
   "id": "ccbbfae0",
   "metadata": {},
   "source": [
    "> ``extend()`` breaks the passed argument into individual elements and adds each one to the list.\n",
    "> Since **'Shivam'** is a string (which is iterable), ``extend('Shivam')`` adds each character of the string as separate elements.\n"
   ]
  },
  {
   "cell_type": "markdown",
   "id": "35ce84af",
   "metadata": {},
   "source": [
    "### ``insert()``"
   ]
  },
  {
   "cell_type": "code",
   "execution_count": null,
   "id": "443942ea",
   "metadata": {},
   "outputs": [
    {
     "name": "stdout",
     "output_type": "stream",
     "text": [
      "[1, 10, 2, 3, 4]\n"
     ]
    }
   ],
   "source": [
    "L = [1,2,3,4]\n",
    "L.insert(1,10)\n",
    "print(L)"
   ]
  },
  {
   "cell_type": "code",
   "execution_count": 34,
   "id": "067a1322",
   "metadata": {},
   "outputs": [
    {
     "name": "stdout",
     "output_type": "stream",
     "text": [
      "[1, 2, [20, 25], 3, 4]\n"
     ]
    }
   ],
   "source": [
    "L = [1,2,3,4]\n",
    "L.insert(2,[20,25])\n",
    "print(L)"
   ]
  },
  {
   "cell_type": "code",
   "execution_count": 35,
   "id": "a8151add",
   "metadata": {},
   "outputs": [
    {
     "name": "stdout",
     "output_type": "stream",
     "text": [
      "[1, 2, 3, 'Shivam', 4]\n"
     ]
    }
   ],
   "source": [
    "L = [1,2,3,4]\n",
    "L.insert(3,'Shivam')\n",
    "print(L)"
   ]
  },
  {
   "cell_type": "markdown",
   "id": "ceb1e8f6",
   "metadata": {},
   "source": [
    "---\n",
    "## 8. Editing items in a List"
   ]
  },
  {
   "cell_type": "code",
   "execution_count": 39,
   "id": "edfec90f",
   "metadata": {},
   "outputs": [
    {
     "name": "stdout",
     "output_type": "stream",
     "text": [
      "[1, 2, 3, 40]\n",
      "[10, 20, 30, 40]\n"
     ]
    }
   ],
   "source": [
    "L = [1,2,3,4]\n",
    "\n",
    "#Editing with indexing\n",
    "L[-1] = 40\n",
    "print(L)\n",
    "\n",
    "# Editing with slicing\n",
    "L[0:3] = [10,20,30]\n",
    "print(L)"
   ]
  },
  {
   "cell_type": "markdown",
   "id": "8a2fe67c",
   "metadata": {},
   "source": [
    "---\n",
    "## 9. Deleting Items in a List\n",
    "\n",
    "- `del`  \n",
    "  Can delete the entire list or remove an item by **list index**.  \n",
    "  _Example:_ `del(L)` or `del(L[0])`\n",
    "\n",
    "- `remove()`  \n",
    "  Removes the **first occurrence of a specific element** from the list.  \n",
    "  _Example:_ `L.remove(5)`\n",
    "\n",
    "- `pop()`  \n",
    "  Removes and returns the **last element** by default, or an element by **index** if specified.  \n",
    "  _Example:_ `L.pop()` or `L.pop(1)`\n",
    "\n",
    "- `clear()`  \n",
    "  Empties the entire list but **does not delete** the list object itself.  \n",
    "  _Example:_ `L.clear()`\n"
   ]
  },
  {
   "cell_type": "markdown",
   "id": "0891c486",
   "metadata": {},
   "source": [
    "### ``del() keyword``\n"
   ]
  },
  {
   "cell_type": "code",
   "execution_count": 40,
   "id": "f20611d0",
   "metadata": {},
   "outputs": [
    {
     "ename": "NameError",
     "evalue": "name 'L' is not defined",
     "output_type": "error",
     "traceback": [
      "\u001b[31m---------------------------------------------------------------------------\u001b[39m",
      "\u001b[31mNameError\u001b[39m                                 Traceback (most recent call last)",
      "\u001b[36mCell\u001b[39m\u001b[36m \u001b[39m\u001b[32mIn[40]\u001b[39m\u001b[32m, line 4\u001b[39m\n\u001b[32m      2\u001b[39m L = [\u001b[32m1\u001b[39m,\u001b[32m2\u001b[39m,\u001b[32m3\u001b[39m]\n\u001b[32m      3\u001b[39m \u001b[38;5;28;01mdel\u001b[39;00m(L)\n\u001b[32m----> \u001b[39m\u001b[32m4\u001b[39m \u001b[38;5;28mprint\u001b[39m(\u001b[43mL\u001b[49m)\n",
      "\u001b[31mNameError\u001b[39m: name 'L' is not defined"
     ]
    }
   ],
   "source": [
    "# del \n",
    "L = [1,2,3]\n",
    "del(L)\n",
    "print(L)"
   ]
  },
  {
   "cell_type": "code",
   "execution_count": 42,
   "id": "3dda9a24",
   "metadata": {},
   "outputs": [
    {
     "name": "stdout",
     "output_type": "stream",
     "text": [
      "[1, 2, 3]\n"
     ]
    }
   ],
   "source": [
    "# del with indexing\n",
    "L = [1,2,3,4]\n",
    "del(L[-1])\n",
    "print(L)"
   ]
  },
  {
   "cell_type": "code",
   "execution_count": 44,
   "id": "72f8d9ea",
   "metadata": {},
   "outputs": [
    {
     "name": "stdout",
     "output_type": "stream",
     "text": [
      "[1, 4]\n"
     ]
    }
   ],
   "source": [
    "# del with slicing\n",
    "L = [1,2,3,4]\n",
    "del(L[1:3])\n",
    "print(L)"
   ]
  },
  {
   "cell_type": "markdown",
   "id": "af05bc7a",
   "metadata": {},
   "source": [
    "### ``remove() keyword``"
   ]
  },
  {
   "cell_type": "code",
   "execution_count": 45,
   "id": "e773bfdf",
   "metadata": {},
   "outputs": [
    {
     "name": "stdout",
     "output_type": "stream",
     "text": [
      "[10, 20, 30, 40]\n"
     ]
    }
   ],
   "source": [
    "L = [10,20,30,40,50]\n",
    "L.remove(50)\n",
    "print(L)"
   ]
  },
  {
   "cell_type": "markdown",
   "id": "7e34cc3a",
   "metadata": {},
   "source": [
    "### ``pop() keyword``"
   ]
  },
  {
   "cell_type": "code",
   "execution_count": 46,
   "id": "a3a907cd",
   "metadata": {},
   "outputs": [
    {
     "name": "stdout",
     "output_type": "stream",
     "text": [
      "[10, 20, 30, 40]\n"
     ]
    }
   ],
   "source": [
    "L = [10,20,30,40,50]\n",
    "L.pop()\n",
    "print(L)"
   ]
  },
  {
   "cell_type": "markdown",
   "id": "72e4b037",
   "metadata": {},
   "source": [
    "> **Note:** By default, ``pop()`` deletes last item"
   ]
  },
  {
   "cell_type": "code",
   "execution_count": 47,
   "id": "f383a410",
   "metadata": {},
   "outputs": [
    {
     "name": "stdout",
     "output_type": "stream",
     "text": [
      "[10, 30, 40]\n"
     ]
    }
   ],
   "source": [
    "L.pop(1)\n",
    "print(L)"
   ]
  },
  {
   "cell_type": "markdown",
   "id": "8a7bce74",
   "metadata": {},
   "source": [
    "> **Note:** But, it can also delete by giving index asd parameter"
   ]
  },
  {
   "cell_type": "markdown",
   "id": "8c0c8c00",
   "metadata": {},
   "source": [
    "### ``clear()``"
   ]
  },
  {
   "cell_type": "code",
   "execution_count": 52,
   "id": "882a62e1",
   "metadata": {},
   "outputs": [
    {
     "name": "stdout",
     "output_type": "stream",
     "text": [
      "[]\n"
     ]
    }
   ],
   "source": [
    "L = [1,2,3,4]\n",
    "L.clear()\n",
    "print(L)"
   ]
  },
  {
   "cell_type": "markdown",
   "id": "56c01eaf",
   "metadata": {},
   "source": [
    "---\n",
    "## 10. Operation on Lists\n",
    "- Arithmetic\n",
    "- Membership "
   ]
  },
  {
   "cell_type": "markdown",
   "id": "0e12e743",
   "metadata": {},
   "source": [
    "### ``Arithmetic Operator (+ , *)``"
   ]
  },
  {
   "cell_type": "code",
   "execution_count": 54,
   "id": "374ff630",
   "metadata": {},
   "outputs": [
    {
     "name": "stdout",
     "output_type": "stream",
     "text": [
      "[1, 2, 3, 4, 5, 6]\n"
     ]
    }
   ],
   "source": [
    "L1 = [1,2,3]\n",
    "L2 = [4,5,6]\n",
    "\n",
    "# Concatenation / Merge\n",
    "print(L1+L2)"
   ]
  },
  {
   "cell_type": "code",
   "execution_count": 55,
   "id": "5b0a70f3",
   "metadata": {},
   "outputs": [
    {
     "name": "stdout",
     "output_type": "stream",
     "text": [
      "[1, 2, 3, 1, 2, 3, 1, 2, 3]\n"
     ]
    }
   ],
   "source": [
    "print(L1 * 3)"
   ]
  },
  {
   "cell_type": "markdown",
   "id": "a27d160a",
   "metadata": {},
   "source": [
    "### `Membership Operator (not in, in)`"
   ]
  },
  {
   "cell_type": "code",
   "execution_count": 56,
   "id": "f4324777",
   "metadata": {},
   "outputs": [
    {
     "name": "stdout",
     "output_type": "stream",
     "text": [
      "True\n",
      "False\n"
     ]
    }
   ],
   "source": [
    "print(3 in L1)\n",
    "print(3 in L2)"
   ]
  },
  {
   "cell_type": "code",
   "execution_count": 57,
   "id": "72bcedbe",
   "metadata": {},
   "outputs": [
    {
     "name": "stdout",
     "output_type": "stream",
     "text": [
      "False\n",
      "True\n"
     ]
    }
   ],
   "source": [
    "print(3 not in L1)\n",
    "print(3 not in L2)"
   ]
  },
  {
   "cell_type": "code",
   "execution_count": 62,
   "id": "482839fc",
   "metadata": {},
   "outputs": [
    {
     "name": "stdout",
     "output_type": "stream",
     "text": [
      "False\n",
      "True\n",
      "True\n"
     ]
    }
   ],
   "source": [
    "L = [1,2,3,[4,5]]\n",
    "print(5 in L)\n",
    "print(5 in L[3])\n",
    "print([4,5] in L)"
   ]
  },
  {
   "cell_type": "markdown",
   "id": "dc5d6025",
   "metadata": {},
   "source": [
    "---\n",
    "## 11. Loops in List"
   ]
  },
  {
   "cell_type": "code",
   "execution_count": null,
   "id": "27140658",
   "metadata": {},
   "outputs": [
    {
     "name": "stdout",
     "output_type": "stream",
     "text": [
      "1\n",
      "2\n",
      "3\n"
     ]
    }
   ],
   "source": [
    "L1 = [1,2,3]\n",
    "for i in L1:\n",
    "    print(i)"
   ]
  },
  {
   "cell_type": "code",
   "execution_count": 66,
   "id": "19218f32",
   "metadata": {},
   "outputs": [
    {
     "name": "stdout",
     "output_type": "stream",
     "text": [
      "1\n",
      "2\n",
      "3\n",
      "[4, 5]\n"
     ]
    }
   ],
   "source": [
    "L2 = [1,2,3,[4,5]]\n",
    "\n",
    "for i in L2:\n",
    "    print(i)"
   ]
  },
  {
   "cell_type": "code",
   "execution_count": 69,
   "id": "6c82f439",
   "metadata": {},
   "outputs": [
    {
     "name": "stdout",
     "output_type": "stream",
     "text": [
      "0 = [[1, 2], [3, 4]]\n",
      "1 = [[5, 6], [7, 8]]\n"
     ]
    }
   ],
   "source": [
    "L3 = [[[1,2],[3,4]], [[5,6],[7,8]]]\n",
    "\n",
    "index = 0\n",
    "for i in L3:\n",
    "    print(index, \"=\", i)\n",
    "    index+=1"
   ]
  },
  {
   "cell_type": "markdown",
   "id": "0d591d09",
   "metadata": {},
   "source": [
    "---\n",
    "## 12. List Functions\n"
   ]
  },
  {
   "cell_type": "markdown",
   "id": "b912fe28",
   "metadata": {},
   "source": [
    "### ``len() / min() / max() / sorted()``"
   ]
  },
  {
   "cell_type": "code",
   "execution_count": 71,
   "id": "5e78326b",
   "metadata": {},
   "outputs": [
    {
     "name": "stdout",
     "output_type": "stream",
     "text": [
      "5\n",
      "0\n",
      "7\n",
      "[0, 1, 2, 5, 7]\n"
     ]
    }
   ],
   "source": [
    "L = [2,1,5,7,0]\n",
    "\n",
    "print(len(L))\n",
    "print(min(L))\n",
    "print(max(L))\n",
    "print(sorted(L))"
   ]
  },
  {
   "cell_type": "markdown",
   "id": "a749e05a",
   "metadata": {},
   "source": [
    "### ``count()`` - gives the frequency of an item"
   ]
  },
  {
   "cell_type": "code",
   "execution_count": 74,
   "id": "e9e5e91b",
   "metadata": {},
   "outputs": [
    {
     "name": "stdout",
     "output_type": "stream",
     "text": [
      "3\n"
     ]
    }
   ],
   "source": [
    "L = [1,2,1,1,3,4,5]\n",
    "print(L.count(1))"
   ]
  },
  {
   "cell_type": "markdown",
   "id": "41437a6a",
   "metadata": {},
   "source": [
    "### ``index()`` - gives the first occurance of an item"
   ]
  },
  {
   "cell_type": "code",
   "execution_count": 75,
   "id": "02237428",
   "metadata": {},
   "outputs": [
    {
     "name": "stdout",
     "output_type": "stream",
     "text": [
      "0\n"
     ]
    }
   ],
   "source": [
    "print(L.index(1))"
   ]
  },
  {
   "cell_type": "code",
   "execution_count": 76,
   "id": "024edd05",
   "metadata": {},
   "outputs": [
    {
     "ename": "ValueError",
     "evalue": "10 is not in list",
     "output_type": "error",
     "traceback": [
      "\u001b[31m---------------------------------------------------------------------------\u001b[39m",
      "\u001b[31mValueError\u001b[39m                                Traceback (most recent call last)",
      "\u001b[36mCell\u001b[39m\u001b[36m \u001b[39m\u001b[32mIn[76]\u001b[39m\u001b[32m, line 1\u001b[39m\n\u001b[32m----> \u001b[39m\u001b[32m1\u001b[39m \u001b[38;5;28mprint\u001b[39m(\u001b[43mL\u001b[49m\u001b[43m.\u001b[49m\u001b[43mindex\u001b[49m\u001b[43m(\u001b[49m\u001b[32;43m10\u001b[39;49m\u001b[43m)\u001b[49m)\n",
      "\u001b[31mValueError\u001b[39m: 10 is not in list"
     ]
    }
   ],
   "source": [
    "print(L.index(10))"
   ]
  },
  {
   "cell_type": "markdown",
   "id": "8eb50429",
   "metadata": {},
   "source": [
    "### ``reverse()``  - it permanently reverses the list"
   ]
  },
  {
   "cell_type": "code",
   "execution_count": 81,
   "id": "b2a9dc2d",
   "metadata": {},
   "outputs": [
    {
     "name": "stdout",
     "output_type": "stream",
     "text": [
      "[4, 3, 2, 1]\n"
     ]
    }
   ],
   "source": [
    "L = [1,2,3,4]\n",
    "L.reverse()\n",
    "print(L)"
   ]
  },
  {
   "cell_type": "markdown",
   "id": "d8f49e27",
   "metadata": {},
   "source": [
    "> **Note:** This is not a permanent method"
   ]
  },
  {
   "cell_type": "code",
   "execution_count": 84,
   "id": "03557047",
   "metadata": {},
   "outputs": [
    {
     "name": "stdout",
     "output_type": "stream",
     "text": [
      "[4, 3, 2, 1]\n",
      "[2, 4, 3, 1]\n"
     ]
    }
   ],
   "source": [
    "L = [2,4,3,1]\n",
    "print(sorted(L,reverse=True))\n",
    "print(L)"
   ]
  },
  {
   "cell_type": "markdown",
   "id": "6064c333",
   "metadata": {},
   "source": [
    "### `sort()` vs `sorted()`\n",
    "\n",
    "> - `sort()` modifies the original list **in-place** (permanent). No return.\n",
    "> - `sorted()` returns a **new sorted list** without changing the original (not permanent).\n"
   ]
  },
  {
   "cell_type": "code",
   "execution_count": null,
   "id": "43b520a2",
   "metadata": {},
   "outputs": [
    {
     "name": "stdout",
     "output_type": "stream",
     "text": [
      "None\n",
      "[1, 2, 3, 4]\n"
     ]
    }
   ],
   "source": [
    "L1 = [2,1,4,3]\n",
    "L1.sort()\n",
    "print(L1)"
   ]
  },
  {
   "cell_type": "code",
   "execution_count": 90,
   "id": "017b96cc",
   "metadata": {},
   "outputs": [
    {
     "name": "stdout",
     "output_type": "stream",
     "text": [
      "[1, 2, 3, 4]\n"
     ]
    }
   ],
   "source": [
    "L2 = [2,1,4,3]\n",
    "Lnew = sorted(L2)\n",
    "print(Lnew)"
   ]
  },
  {
   "cell_type": "markdown",
   "id": "09702fcb",
   "metadata": {},
   "source": [
    "#### **Difference between**\n",
    "- `dataStructure.method(attribute)` → e.g., `L1.sort()`, and  \n",
    "- `function(dataStructure[attribute])` → e.g., `sorted(L2)`\n",
    "\n",
    "### 1. `L1.sort()` — Method\n",
    "- `sort()` is a **method** that belongs specifically to the **list** data structure.\n",
    "- Methods are tied to a specific object type (like list, string, etc.).\n",
    "- It means method L.sort() can be used in List only, as it is tied to List data structure \n",
    "\n",
    "### 2. `sorted(L2)` — Function\n",
    "\n",
    "* `sorted()` is a **built-in function**, not tied to any one data structure.\n",
    "- It means sorted() is independent of data structure, it can be used in List, Tuples, or Strings also. \n",
    "\n",
    "**For Example:**"
   ]
  },
  {
   "cell_type": "code",
   "execution_count": 91,
   "id": "43ecf5da",
   "metadata": {},
   "outputs": [
    {
     "name": "stdout",
     "output_type": "stream",
     "text": [
      "['S', 'a', 'h', 'i', 'm', 'v']\n"
     ]
    }
   ],
   "source": [
    "str = 'Shivam'\n",
    "print(sorted(str))"
   ]
  },
  {
   "cell_type": "code",
   "execution_count": 92,
   "id": "02a8a5b3",
   "metadata": {},
   "outputs": [
    {
     "ename": "AttributeError",
     "evalue": "'str' object has no attribute 'sort'",
     "output_type": "error",
     "traceback": [
      "\u001b[31m---------------------------------------------------------------------------\u001b[39m",
      "\u001b[31mAttributeError\u001b[39m                            Traceback (most recent call last)",
      "\u001b[36mCell\u001b[39m\u001b[36m \u001b[39m\u001b[32mIn[92]\u001b[39m\u001b[32m, line 2\u001b[39m\n\u001b[32m      1\u001b[39m \u001b[38;5;28mstr\u001b[39m = \u001b[33m'\u001b[39m\u001b[33mShivam\u001b[39m\u001b[33m'\u001b[39m\n\u001b[32m----> \u001b[39m\u001b[32m2\u001b[39m \u001b[38;5;28;43mstr\u001b[39;49m\u001b[43m.\u001b[49m\u001b[43msort\u001b[49m()\n\u001b[32m      3\u001b[39m \u001b[38;5;28mprint\u001b[39m(\u001b[38;5;28mstr\u001b[39m)\n",
      "\u001b[31mAttributeError\u001b[39m: 'str' object has no attribute 'sort'"
     ]
    }
   ],
   "source": [
    "str = 'Shivam'\n",
    "str.sort()\n",
    "print(str)"
   ]
  },
  {
   "cell_type": "markdown",
   "id": "6f6aa97b",
   "metadata": {},
   "source": [
    "### ``copy()`` - creates a copy in memory. It makes shallow copy"
   ]
  },
  {
   "cell_type": "code",
   "execution_count": 100,
   "id": "dd0e1875",
   "metadata": {},
   "outputs": [
    {
     "name": "stdout",
     "output_type": "stream",
     "text": [
      "[1, 2, 3]\n",
      "1535314368128\n",
      "[1, 2, 3]\n",
      "1535323830976\n"
     ]
    }
   ],
   "source": [
    "L1 = [1,2,3]\n",
    "print(L1)\n",
    "print(id(L1))\n",
    "\n",
    "L2 = L1.copy()\n",
    "print(L2)\n",
    "print(id(L2))"
   ]
  },
  {
   "cell_type": "markdown",
   "id": "ac9a12ad",
   "metadata": {},
   "source": [
    "## 13. List Comprehension\n",
    "List comprehension provides a concise way of creating lists.\n",
    "```py\n",
    "newList = [expression for item in iterable if condition == True]\n",
    "```\n",
    "\n",
    "### Advantages of List Comprehension\n",
    "- More time-efficient and space-efficient than loops.\n",
    "- Require fewer lines of codes.\n",
    "- Transforms iterative statement into a formula.\n",
    "\n",
    "> Python suggests to use **List Comprehension**, as it is very powerful."
   ]
  },
  {
   "cell_type": "markdown",
   "id": "07f8097f",
   "metadata": {},
   "source": [
    "#### Example 1 : Add 1 to 10, in a list"
   ]
  },
  {
   "cell_type": "code",
   "execution_count": 103,
   "id": "9e492273",
   "metadata": {},
   "outputs": [
    {
     "name": "stdout",
     "output_type": "stream",
     "text": [
      "[1, 2, 3, 4, 5, 6, 7, 8, 9, 10]\n"
     ]
    }
   ],
   "source": [
    "# without using list comprehension\n",
    "\n",
    "L = []\n",
    "for i in range(1,11):\n",
    "    L.append(i)\n",
    "\n",
    "print(L)"
   ]
  },
  {
   "cell_type": "code",
   "execution_count": 104,
   "id": "85780e53",
   "metadata": {},
   "outputs": [
    {
     "name": "stdout",
     "output_type": "stream",
     "text": [
      "[1, 2, 3, 4, 5, 6, 7, 8, 9, 10]\n"
     ]
    }
   ],
   "source": [
    "# using list comprehension\n",
    "\n",
    "L = [i for i in range(1,11)]\n",
    "\n",
    "print(L)"
   ]
  },
  {
   "cell_type": "markdown",
   "id": "806fc679",
   "metadata": {},
   "source": [
    "#### Example 2 : Scaler Multiplication on a Vector"
   ]
  },
  {
   "cell_type": "code",
   "execution_count": 106,
   "id": "186a8b47",
   "metadata": {},
   "outputs": [
    {
     "name": "stdout",
     "output_type": "stream",
     "text": [
      "[-3, -6, -9]\n"
     ]
    }
   ],
   "source": [
    "v = [1,2,3]\n",
    "s = -3\n",
    "# output: [-3, -6, -9]\n",
    "\n",
    "x = []\n",
    "for i in v: \n",
    "    x.append(i * s)\n",
    "\n",
    "print(x)\n",
    "\n"
   ]
  },
  {
   "cell_type": "code",
   "execution_count": 111,
   "id": "687e3459",
   "metadata": {},
   "outputs": [
    {
     "name": "stdout",
     "output_type": "stream",
     "text": [
      "[-3, -6, -9]\n"
     ]
    }
   ],
   "source": [
    "v = [1,2,3]\n",
    "s = -3\n",
    "# output: [-3, -6, -9]\n",
    "\n",
    "Li = [i*s for i in v]\n",
    "print(Li)\n",
    "\n"
   ]
  },
  {
   "cell_type": "markdown",
   "id": "e639b3ca",
   "metadata": {},
   "source": [
    "#### Example 3: Add squares of all items\n",
    "\n"
   ]
  },
  {
   "cell_type": "code",
   "execution_count": 113,
   "id": "a70bebfb",
   "metadata": {},
   "outputs": [
    {
     "name": "stdout",
     "output_type": "stream",
     "text": [
      "[1, 4, 9, 16]\n"
     ]
    }
   ],
   "source": [
    "L = [1,2,3,4]\n",
    "\n",
    "result = [i**2 for i in L]\n",
    "print(result)"
   ]
  },
  {
   "cell_type": "markdown",
   "id": "f71f776d",
   "metadata": {},
   "source": [
    "#### Example 4: Print all numbers divisible by 5 in the range of 1 to 50"
   ]
  },
  {
   "cell_type": "code",
   "execution_count": 115,
   "id": "2edb25c6",
   "metadata": {},
   "outputs": [
    {
     "name": "stdout",
     "output_type": "stream",
     "text": [
      "[5, 10, 15, 20, 25, 30, 35, 40, 45, 50]\n"
     ]
    }
   ],
   "source": [
    "result = [i for i in range(1,51) if i%5==0]\n",
    "print(result)"
   ]
  },
  {
   "cell_type": "markdown",
   "id": "c9f542c2",
   "metadata": {},
   "source": [
    "#### Example 5: Find languages which starts with letter **'p'**"
   ]
  },
  {
   "cell_type": "code",
   "execution_count": 122,
   "id": "c8c966f1",
   "metadata": {},
   "outputs": [
    {
     "data": {
      "text/plain": [
       "['python', 'php']"
      ]
     },
     "execution_count": 122,
     "metadata": {},
     "output_type": "execute_result"
    }
   ],
   "source": [
    "languages = ['java' , 'python' , 'php' , 'c' , 'javascript']\n",
    "\n",
    "[lang for lang in languages if lang.startswith('p')]"
   ]
  },
  {
   "cell_type": "markdown",
   "id": "1905263f",
   "metadata": {},
   "source": [
    "### **Nested if with List Comprehension**"
   ]
  },
  {
   "cell_type": "markdown",
   "id": "21f58f2b",
   "metadata": {},
   "source": [
    "#### Example 6: Create a new list from `my_fruits` iff. item exist in `basket` and also starts with **'a'**"
   ]
  },
  {
   "cell_type": "code",
   "execution_count": 128,
   "id": "de0652b4",
   "metadata": {},
   "outputs": [
    {
     "name": "stdout",
     "output_type": "stream",
     "text": [
      "['apple']\n"
     ]
    }
   ],
   "source": [
    "basket = ['apple' , 'guava' , 'cherry' , 'banana']\n",
    "my_fruits = ['apple' , 'kiwi' , 'grapes' , 'banana']\n",
    "\n",
    "result = [fruit for fruit in my_fruits if fruit in basket if fruit.startswith('a')]\n",
    "print(result)"
   ]
  },
  {
   "cell_type": "markdown",
   "id": "4b46a343",
   "metadata": {},
   "source": [
    "#### Example 7: Print a (3,3) matrix using list comprehension -> Nested list comprehension"
   ]
  },
  {
   "cell_type": "code",
   "execution_count": 129,
   "id": "14e1713b",
   "metadata": {},
   "outputs": [
    {
     "data": {
      "text/plain": [
       "[[1, 2, 3], [2, 4, 6], [3, 6, 9]]"
      ]
     },
     "execution_count": 129,
     "metadata": {},
     "output_type": "execute_result"
    }
   ],
   "source": [
    "[[i*j for i in range(1,4)] for j in range(1,4)]"
   ]
  },
  {
   "cell_type": "markdown",
   "id": "1c8f4e42",
   "metadata": {},
   "source": [
    "#### Example 8: Cartesian Products -> List comprehension on 2 lists together"
   ]
  },
  {
   "cell_type": "code",
   "execution_count": 130,
   "id": "56775625",
   "metadata": {},
   "outputs": [
    {
     "data": {
      "text/plain": [
       "[5, 6, 7, 8, 10, 12, 14, 16, 15, 18, 21, 24, 20, 24, 28, 32]"
      ]
     },
     "execution_count": 130,
     "metadata": {},
     "output_type": "execute_result"
    }
   ],
   "source": [
    "L1 = [1,2,3,4]\n",
    "L2 = [5,6,7,8]\n",
    "\n",
    "[i*j for i in L1 for j in L2]"
   ]
  },
  {
   "cell_type": "markdown",
   "id": "90243201",
   "metadata": {},
   "source": [
    "---\n",
    "## 14. Traverse a List (2 ways)\n",
    "- itemwise\n",
    "- indexwise"
   ]
  },
  {
   "cell_type": "code",
   "execution_count": 131,
   "id": "fe9de2af",
   "metadata": {},
   "outputs": [
    {
     "name": "stdout",
     "output_type": "stream",
     "text": [
      "1\n",
      "2\n",
      "3\n",
      "4\n"
     ]
    }
   ],
   "source": [
    "# itemwise\n",
    "\n",
    "L = [1,2,3,4]\n",
    "\n",
    "for i in L:\n",
    "    print(i)"
   ]
  },
  {
   "cell_type": "code",
   "execution_count": 135,
   "id": "7b9bd4f6",
   "metadata": {},
   "outputs": [
    {
     "name": "stdout",
     "output_type": "stream",
     "text": [
      "Index =  0 :: Item =  10\n",
      "Index =  1 :: Item =  20\n",
      "Index =  2 :: Item =  30\n",
      "Index =  3 :: Item =  40\n"
     ]
    }
   ],
   "source": [
    "# indexwise\n",
    "\n",
    "L = [10,20,30,40]\n",
    "\n",
    "for i in range(0,len(L)):\n",
    "    print(\"Index = \", i, end = \" :: \")\n",
    "    print(\"Item = \", L[i])"
   ]
  },
  {
   "cell_type": "markdown",
   "id": "66ed22e0",
   "metadata": {},
   "source": [
    "---\n",
    "## 15. Zip() function\n",
    "\n",
    "The ``zip()`` function returns a zip object, which is an iterator of tuples where the first item in each passed iterator is paired together. and then the second item in each passeed iterator are paired together.\n",
    "\n",
    "If the passed iterator have different lengths, the iterator with the least items decides the length of the new iterator."
   ]
  },
  {
   "cell_type": "code",
   "execution_count": 138,
   "id": "ccdfabe3",
   "metadata": {},
   "outputs": [
    {
     "data": {
      "text/plain": [
       "[(1, 10), (2, 20), (3, 30), (4, 40)]"
      ]
     },
     "execution_count": 138,
     "metadata": {},
     "output_type": "execute_result"
    }
   ],
   "source": [
    "L1 = [1,2,3,4]\n",
    "L2 = [10,20,30,40]\n",
    "\n",
    "list(zip(L1,L2))"
   ]
  },
  {
   "cell_type": "markdown",
   "id": "8e94f01f",
   "metadata": {},
   "source": [
    "#### WAP to add items of 2 list indexwise"
   ]
  },
  {
   "cell_type": "code",
   "execution_count": 139,
   "id": "1e8cadcc",
   "metadata": {},
   "outputs": [
    {
     "data": {
      "text/plain": [
       "[11, 22, 33, 44]"
      ]
     },
     "execution_count": 139,
     "metadata": {},
     "output_type": "execute_result"
    }
   ],
   "source": [
    "L1 = [1,2,3,4]\n",
    "L2 = [10,20,30,40]\n",
    "\n",
    "[i+j for i,j in zip(L1,L2)]"
   ]
  },
  {
   "cell_type": "markdown",
   "id": "4690136b",
   "metadata": {},
   "source": [
    "## 16. Disadvantages of Lists\n",
    "\n",
    "- Slow\n",
    "- Eats up more memory\n",
    "- Risky Usage"
   ]
  },
  {
   "cell_type": "code",
   "execution_count": 140,
   "id": "b5993eb1",
   "metadata": {},
   "outputs": [
    {
     "name": "stdout",
     "output_type": "stream",
     "text": [
      "[1, 2, 3]\n",
      "[1, 2, 3]\n",
      "[1, 2, 3, 4]\n",
      "[1, 2, 3, 4]\n"
     ]
    }
   ],
   "source": [
    "# Risky Usage of List\n",
    "\n",
    "a = [1,2,3]\n",
    "b = a\n",
    "\n",
    "print(a)\n",
    "print(b)\n",
    "\n",
    "a.append(4)\n",
    "\n",
    "print(a)\n",
    "print(b)"
   ]
  },
  {
   "cell_type": "markdown",
   "id": "5881f73b",
   "metadata": {},
   "source": [
    "> **Risky Usage:**  \n",
    "- In Python, lists are mutable and store references (not copies) to their elements.  \n",
    "- When you do `b = a`, both `a` and `b` point to the **same memory location**.  \n",
    "- Therefore, changes made to `a` will also reflect in `b`.\n"
   ]
  },
  {
   "cell_type": "markdown",
   "id": "78b84734",
   "metadata": {},
   "source": [
    "> **To avoid this:**\n",
    "> Use ``.copy()`` when we create an actual copy, not just a referernce. "
   ]
  },
  {
   "cell_type": "code",
   "execution_count": 142,
   "id": "e0f9a5d2",
   "metadata": {},
   "outputs": [
    {
     "name": "stdout",
     "output_type": "stream",
     "text": [
      "[1, 2, 3]\n",
      "[1, 2, 3]\n",
      "[1, 2, 3, 4]\n",
      "[1, 2, 3]\n"
     ]
    }
   ],
   "source": [
    "a = [1,2,3]\n",
    "b = a.copy()\n",
    "\n",
    "print(a)\n",
    "print(b)\n",
    "\n",
    "a.append(4)\n",
    "\n",
    "print(a)\n",
    "print(b)\n"
   ]
  },
  {
   "cell_type": "markdown",
   "id": "f27e60d9",
   "metadata": {},
   "source": []
  }
 ],
 "metadata": {
  "kernelspec": {
   "display_name": "Python 3",
   "language": "python",
   "name": "python3"
  },
  "language_info": {
   "codemirror_mode": {
    "name": "ipython",
    "version": 3
   },
   "file_extension": ".py",
   "mimetype": "text/x-python",
   "name": "python",
   "nbconvert_exporter": "python",
   "pygments_lexer": "ipython3",
   "version": "3.13.5"
  }
 },
 "nbformat": 4,
 "nbformat_minor": 5
}
