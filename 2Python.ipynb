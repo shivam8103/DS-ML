{
 "cells": [
  {
   "cell_type": "markdown",
   "id": "ea7daf94",
   "metadata": {},
   "source": [
    "# Python Part 2 : Built-in Data Structures and Functions\n"
   ]
  },
  {
   "cell_type": "markdown",
   "id": "3235f4db",
   "metadata": {},
   "source": [
    "# Python List\n",
    "- What are List\n",
    "- List vs Arrays\n",
    "- Characteristics of a List\n",
    "- How to create a  List\n",
    "- Access items from a List\n",
    "- Editing items in a List\n",
    "- Deleting items from a List\n",
    "- Operations on Lists\n",
    "- Functions on Lists"
   ]
  },
  {
   "cell_type": "markdown",
   "id": "c852f78c",
   "metadata": {},
   "source": [
    "## 1. What are Lists?\n",
    "- List is a data type, where we can store multiple items under 1 name. More technically, lists act like a dynamic arrays which means we can add more items on the fly. \n",
    "\n",
    "```py\n",
    "L = [20, 'Jessa', 25.75, [30,60,90]]\n",
    "     🡅     🡅       🡅       🡅\n",
    "    L[0]   L[1]    L[2]     L[3] \n",
    "```"
   ]
  },
  {
   "cell_type": "markdown",
   "id": "05803f3b",
   "metadata": {},
   "source": []
  }
 ],
 "metadata": {
  "language_info": {
   "name": "python"
  }
 },
 "nbformat": 4,
 "nbformat_minor": 5
}
