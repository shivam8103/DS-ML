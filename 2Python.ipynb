{
 "cells": [
  {
   "cell_type": "markdown",
   "id": "ea7daf94",
   "metadata": {},
   "source": [
    "# **Python Part 2 : Built-in Data Structures and Functions**\n"
   ]
  },
  {
   "cell_type": "markdown",
   "id": "3235f4db",
   "metadata": {},
   "source": [
    "# **Python List**\n",
    "- What are List\n",
    "- List vs Arrays\n",
    "- How List stored in Memory\n",
    "- Characteristics of a List\n",
    "- How to create a  List\n",
    "- Access items from a List\n",
    "- Editing items in a List\n",
    "- Deleting items from a List\n",
    "- Operations on Lists\n",
    "- Functions on Lists"
   ]
  },
  {
   "cell_type": "markdown",
   "id": "c852f78c",
   "metadata": {},
   "source": [
    "## 1. What are Lists?\n",
    "- List is a data type, where we can store multiple items under 1 name. More technically, lists act like a **dynamic arrays** which means we can add more items on the fly. \n",
    "\n",
    "```py\n",
    "L = [20, 'Jessa', 25.75, [30,60,90]]\n",
    "     🡅     🡅       🡅       🡅\n",
    "    L[0]   L[1]    L[2]     L[3] \n",
    "```\n",
    "\n",
    "## 2. List vs Array\n",
    "\n",
    "| **List**                                                                            | **Array**                                                                 |\n",
    "| ----------------------------------------------------------------------------------- | ------------------------------------------------------------------------- |\n",
    "| Lists are dynamic in nature; their size can be changed at runtime.                  | Arrays are static in nature; their size is fixed at the time of creation. |\n",
    "| Lists are heterogeneous, meaning they can contain elements of different data types. | Arrays are homogeneous; all elements must be of the same data type.       |\n",
    "| Execution speed is relatively slower.                                               | Execution speed is generally faster.                                      |\n",
    "| Lists consume more memory.                                                          | Arrays consume less memory.                                               |\n",
    "|Python have lists| Java, C++ have array|"
   ]
  },
  {
   "cell_type": "code",
   "execution_count": 20,
   "id": "e46669f9",
   "metadata": {},
   "outputs": [
    {
     "name": "stdout",
     "output_type": "stream",
     "text": [
      "(1, 2, 1.1)\n"
     ]
    },
    {
     "data": {
      "text/plain": [
       "False"
      ]
     },
     "execution_count": 20,
     "metadata": {},
     "output_type": "execute_result"
    }
   ],
   "source": [
    "arr = (1,2,1.1)\n",
    "print(arr)\n",
    "\n",
    "id(arr[0]) == id(arr[2])"
   ]
  },
  {
   "cell_type": "markdown",
   "id": "9e020e0f",
   "metadata": {},
   "source": [
    "## 3. How **Array** and **List** stored in Memory.\n",
    "\n",
    "```Java\n",
    "int arr[8] //Size = 8\n",
    "arr = {1,2,3,4} //Store 4 elements\n",
    "```\n",
    "<img src=\"img/ArrayMemory.png\" width=\"500\">\n",
    "\n"
   ]
  },
  {
   "cell_type": "code",
   "execution_count": 21,
   "id": "057b5485",
   "metadata": {},
   "outputs": [
    {
     "name": "stdout",
     "output_type": "stream",
     "text": [
      "1970282862208\n",
      "140715194991528\n",
      "140715194991560\n",
      "140715194991592\n",
      "140715194991528\n",
      "140715194991560\n",
      "140715194991592\n"
     ]
    }
   ],
   "source": [
    "list = [1,2,3]\n",
    "\n",
    "print(id(list))\n",
    "print(id(list[0]))\n",
    "print(id(list[1]))\n",
    "print(id(list[2]))\n",
    "print(id(1))\n",
    "print(id(2))\n",
    "print(id(3))"
   ]
  },
  {
   "cell_type": "markdown",
   "id": "6d0faf92",
   "metadata": {},
   "source": [
    "\n",
    "<img src=\"img/ListMemory1.png\" width=\"500\">"
   ]
  },
  {
   "cell_type": "markdown",
   "id": "1cfab0f7",
   "metadata": {},
   "source": [
    "> **Note:** - This is possible due to a **Refrential Array**, that store address of element instead of original array. (*pointer to the original element*) \n",
    "\n",
    "**Its Advantages**\n",
    "1. Supports heterogeneity: Elements of different data types can be stored in a single list.\n",
    "2. Memory efficiency: The same reference can be reused instead of reallocating memory for identical elements.\n",
    "3. Due to this, it takes extra space. Also it is slow compare to array."
   ]
  },
  {
   "cell_type": "code",
   "execution_count": 22,
   "id": "95625b3f",
   "metadata": {},
   "outputs": [
    {
     "name": "stdout",
     "output_type": "stream",
     "text": [
      "140715194991816\n",
      "140715194992136\n",
      "140715194991816\n",
      "1970282827584\n"
     ]
    }
   ],
   "source": [
    "li = [10,20,10]\n",
    "print(id(li[0]))\n",
    "print(id(li[1]))\n",
    "print(id(li[2]))\n",
    "print(id(li))"
   ]
  },
  {
   "cell_type": "markdown",
   "id": "0bffe8cd",
   "metadata": {},
   "source": [
    "<img src=\"img/ListMemory2.png\" width=\"500\">"
   ]
  },
  {
   "cell_type": "code",
   "execution_count": 23,
   "id": "d3433b6d",
   "metadata": {},
   "outputs": [
    {
     "name": "stdout",
     "output_type": "stream",
     "text": [
      "140715194991816\n",
      "140715194991816\n",
      "140715194991816\n",
      "1970282827584\n"
     ]
    }
   ],
   "source": [
    "# Lets change some value in list\n",
    "\n",
    "li[1] = 10   # [10,10,10]\n",
    "print(id(li[0]))\n",
    "print(id(li[1]))\n",
    "print(id(li[2]))\n",
    "print(id(li))"
   ]
  },
  {
   "cell_type": "markdown",
   "id": "13f5dd4f",
   "metadata": {},
   "source": [
    "<img src=\"img/ListMemory3.png\" width=\"500\">"
   ]
  },
  {
   "cell_type": "code",
   "execution_count": 24,
   "id": "cafedc78",
   "metadata": {},
   "outputs": [
    {
     "name": "stdout",
     "output_type": "stream",
     "text": [
      "140715194991816\n",
      "140715195056096\n",
      "140715195056096\n",
      "140715195054560\n",
      "1970281739776\n"
     ]
    }
   ],
   "source": [
    "li2 = [10,'a','a','A']\n",
    "print(id(li2[0]))\n",
    "print(id(li2[1]))\n",
    "print(id(li2[2]))\n",
    "print(id(li2[3]))\n",
    "print(id(li2))"
   ]
  },
  {
   "cell_type": "markdown",
   "id": "a1471ad7",
   "metadata": {},
   "source": [
    "<img src=\"img/ListMemory4.png\" width=\"500\">"
   ]
  },
  {
   "cell_type": "markdown",
   "id": "f23c12de",
   "metadata": {},
   "source": [
    "---\n",
    "## 4. Characteristics of List\n",
    "\n",
    "    1. Ordered\n",
    "    2. Mutable\n",
    "    3. heterogeneous\n",
    "    4. Can have duplicates\n",
    "    5. Dynamic\n",
    "    6. Can be Nested\n",
    "    7. Items can be accessed\n",
    "    8. Can contain any kind of *objects\n",
    "    \n",
    "\n",
    "---\n"
   ]
  },
  {
   "cell_type": "markdown",
   "id": "a9c4c7e3",
   "metadata": {},
   "source": [
    "## 5. Creating a List\n",
    "- Empty\n",
    "- 1D -> Homogenous List\n",
    "- 2D\n",
    "- 3D\n",
    "- Heterogenous\n",
    "- Using Type Conversion"
   ]
  },
  {
   "cell_type": "code",
   "execution_count": 25,
   "id": "a2f38dfd",
   "metadata": {},
   "outputs": [
    {
     "name": "stdout",
     "output_type": "stream",
     "text": [
      "[]\n",
      "[1, 2, 3, 4]\n",
      "[1, 2, 3, [4, 5]]\n",
      "[[[1, 2], [3, 4]], [[5, 6], [7, 8]]]\n",
      "[1, True, 5.6, (5+6j), 'Hello']\n"
     ]
    },
    {
     "ename": "TypeError",
     "evalue": "'list' object is not callable",
     "output_type": "error",
     "traceback": [
      "\u001b[31m---------------------------------------------------------------------------\u001b[39m",
      "\u001b[31mTypeError\u001b[39m                                 Traceback (most recent call last)",
      "\u001b[36mCell\u001b[39m\u001b[36m \u001b[39m\u001b[32mIn[25]\u001b[39m\u001b[32m, line 17\u001b[39m\n\u001b[32m     14\u001b[39m \u001b[38;5;28mprint\u001b[39m([\u001b[32m1\u001b[39m, \u001b[38;5;28;01mTrue\u001b[39;00m, \u001b[32m5.6\u001b[39m, \u001b[32m5\u001b[39m+\u001b[32m6\u001b[39mj, \u001b[33m'\u001b[39m\u001b[33mHello\u001b[39m\u001b[33m'\u001b[39m])\n\u001b[32m     16\u001b[39m \u001b[38;5;66;03m# Using type conversion\u001b[39;00m\n\u001b[32m---> \u001b[39m\u001b[32m17\u001b[39m \u001b[38;5;28mprint\u001b[39m(\u001b[38;5;28;43mlist\u001b[39;49m\u001b[43m(\u001b[49m\u001b[33;43m'\u001b[39;49m\u001b[33;43mHello\u001b[39;49m\u001b[33;43m'\u001b[39;49m\u001b[43m)\u001b[49m)\n",
      "\u001b[31mTypeError\u001b[39m: 'list' object is not callable"
     ]
    }
   ],
   "source": [
    "# Empty\n",
    "print([])\n",
    "\n",
    "# 1D -> Homogenous List\n",
    "print([1,2,3,4])\n",
    "\n",
    "# 2D\n",
    "print([1,2,3,[4,5]])\n",
    "\n",
    "# 3D\n",
    "print([[[1,2], [3,4]], [[5,6], [7,8]]])  #this is homogenous list\n",
    "\n",
    "# Heterogenous List\n",
    "print([1, True, 5.6, 5+6j, 'Hello'])\n",
    "\n",
    "# Using type conversion\n",
    "print(list('Hello'))\n"
   ]
  },
  {
   "cell_type": "markdown",
   "id": "641b8078",
   "metadata": {},
   "source": [
    "---\n",
    "\n",
    "## 6. Accessing Items from a List\n",
    "\n",
    "### Indexing\n",
    "- Positive Indexing\n",
    "- Negative Indexing"
   ]
  },
  {
   "cell_type": "code",
   "execution_count": null,
   "id": "1ce92800",
   "metadata": {},
   "outputs": [
    {
     "name": "stdout",
     "output_type": "stream",
     "text": [
      "2\n"
     ]
    }
   ],
   "source": [
    "L = [1,2,3,[4,5]]\n",
    "print(L[1])"
   ]
  },
  {
   "cell_type": "code",
   "execution_count": null,
   "id": "38044bfe",
   "metadata": {},
   "outputs": [
    {
     "name": "stdout",
     "output_type": "stream",
     "text": [
      "[4, 5]\n"
     ]
    }
   ],
   "source": [
    "print(L[-1])"
   ]
  },
  {
   "cell_type": "code",
   "execution_count": null,
   "id": "8588e03b",
   "metadata": {},
   "outputs": [
    {
     "name": "stdout",
     "output_type": "stream",
     "text": [
      "4\n"
     ]
    }
   ],
   "source": [
    "print(L[-1][-2])"
   ]
  },
  {
   "cell_type": "code",
   "execution_count": null,
   "id": "725fee45",
   "metadata": {},
   "outputs": [
    {
     "name": "stdout",
     "output_type": "stream",
     "text": [
      "4\n"
     ]
    }
   ],
   "source": [
    "print(L[3][0])"
   ]
  },
  {
   "cell_type": "code",
   "execution_count": null,
   "id": "daeca114",
   "metadata": {},
   "outputs": [
    {
     "name": "stdout",
     "output_type": "stream",
     "text": [
      "[[1, 2], [3, 4]]\n"
     ]
    }
   ],
   "source": [
    "L = [[[1,2], [3,4]], [[5,6], [7,8]]]\n",
    "print(L[0]);"
   ]
  },
  {
   "cell_type": "code",
   "execution_count": null,
   "id": "379cdf3b",
   "metadata": {},
   "outputs": [
    {
     "name": "stdout",
     "output_type": "stream",
     "text": [
      "[1, 2]\n"
     ]
    }
   ],
   "source": [
    "print(L[0][0])"
   ]
  },
  {
   "cell_type": "code",
   "execution_count": null,
   "id": "57b0a722",
   "metadata": {},
   "outputs": [
    {
     "name": "stdout",
     "output_type": "stream",
     "text": [
      "1\n"
     ]
    }
   ],
   "source": [
    "print(L[0][0][0])"
   ]
  },
  {
   "cell_type": "markdown",
   "id": "6e3fbe64",
   "metadata": {},
   "source": [
    "### Slicing"
   ]
  },
  {
   "cell_type": "code",
   "execution_count": null,
   "id": "cce48e83",
   "metadata": {},
   "outputs": [
    {
     "name": "stdout",
     "output_type": "stream",
     "text": [
      "[1, 2, 3]\n"
     ]
    }
   ],
   "source": [
    "L = [1,2,3,4,5,6]\n",
    "print(L[0:3])"
   ]
  },
  {
   "cell_type": "code",
   "execution_count": null,
   "id": "5eb77323",
   "metadata": {},
   "outputs": [
    {
     "name": "stdout",
     "output_type": "stream",
     "text": [
      "[4, 5, 6]\n"
     ]
    }
   ],
   "source": [
    "print(L[3:])"
   ]
  },
  {
   "cell_type": "code",
   "execution_count": null,
   "id": "34929bef",
   "metadata": {},
   "outputs": [
    {
     "name": "stdout",
     "output_type": "stream",
     "text": [
      "[6, 5, 4, 3, 2, 1]\n"
     ]
    }
   ],
   "source": [
    "print(L[::-1])"
   ]
  },
  {
   "cell_type": "markdown",
   "id": "a3664ff4",
   "metadata": {},
   "source": [
    "## 7. Adding Items to a List\n",
    "\n",
    "- append() - to add 1 item in a list\n",
    "- extend() - to add multiple item in a list\n",
    "- insert() - to add at particular location"
   ]
  },
  {
   "cell_type": "markdown",
   "id": "8daa3abf",
   "metadata": {},
   "source": [
    "### ``append()``"
   ]
  },
  {
   "cell_type": "code",
   "execution_count": null,
   "id": "23b76674",
   "metadata": {},
   "outputs": [
    {
     "name": "stdout",
     "output_type": "stream",
     "text": [
      "[1, 2, 3, True]\n"
     ]
    }
   ],
   "source": [
    "L = [1,2,3]\n",
    "L.append(True)\n",
    "print(L)"
   ]
  },
  {
   "cell_type": "markdown",
   "id": "077bb531",
   "metadata": {},
   "source": [
    "### ``extend()``"
   ]
  },
  {
   "cell_type": "code",
   "execution_count": null,
   "id": "059bae44",
   "metadata": {},
   "outputs": [
    {
     "name": "stdout",
     "output_type": "stream",
     "text": [
      "[1, 2, 3, 4, 5, 6]\n"
     ]
    }
   ],
   "source": [
    "L = [1,2,3]\n",
    "L.extend([4,5,6])\n",
    "print(L)"
   ]
  },
  {
   "cell_type": "markdown",
   "id": "194cd4ae",
   "metadata": {},
   "source": [
    "> **Note:** If we try to append multiple items to a list at once using ``append()``,they will be add as a single element, turning a 1D list into a 2D list"
   ]
  },
  {
   "cell_type": "code",
   "execution_count": null,
   "id": "0c8bd033",
   "metadata": {},
   "outputs": [
    {
     "name": "stdout",
     "output_type": "stream",
     "text": [
      "[1, 2, 3, [4, 5, 6]]\n",
      "[4, 5, 6]\n"
     ]
    }
   ],
   "source": [
    "L = [1,2,3]\n",
    "L.append([4,5,6])\n",
    "print(L)\n",
    "print(L[3])"
   ]
  },
  {
   "cell_type": "markdown",
   "id": "c4360bbd",
   "metadata": {},
   "source": [
    "> **Note:** It's opposite is also possible. For example:"
   ]
  },
  {
   "cell_type": "code",
   "execution_count": null,
   "id": "2946ffd2",
   "metadata": {},
   "outputs": [
    {
     "name": "stdout",
     "output_type": "stream",
     "text": [
      "[1, 2, 3, 'S', 'h', 'i', 'v', 'a', 'm']\n",
      "S\n"
     ]
    }
   ],
   "source": [
    "L = [1,2,3]\n",
    "L.extend('Shivam')\n",
    "print(L)\n",
    "print(L[3])"
   ]
  },
  {
   "cell_type": "markdown",
   "id": "ccbbfae0",
   "metadata": {},
   "source": [
    "> ``extend()`` breaks the passed argument into individual elements and adds each one to the list.\n",
    "> Since **'Shivam'** is a string (which is iterable), ``extend('Shivam')`` adds each character of the string as separate elements.\n"
   ]
  },
  {
   "cell_type": "markdown",
   "id": "35ce84af",
   "metadata": {},
   "source": [
    "### ``insert()``"
   ]
  },
  {
   "cell_type": "code",
   "execution_count": null,
   "id": "443942ea",
   "metadata": {},
   "outputs": [
    {
     "name": "stdout",
     "output_type": "stream",
     "text": [
      "[1, 10, 2, 3, 4]\n"
     ]
    }
   ],
   "source": [
    "L = [1,2,3,4]\n",
    "L.insert(1,10)\n",
    "print(L)"
   ]
  },
  {
   "cell_type": "code",
   "execution_count": null,
   "id": "067a1322",
   "metadata": {},
   "outputs": [
    {
     "name": "stdout",
     "output_type": "stream",
     "text": [
      "[1, 2, [20, 25], 3, 4]\n"
     ]
    }
   ],
   "source": [
    "L = [1,2,3,4]\n",
    "L.insert(2,[20,25])\n",
    "print(L)"
   ]
  },
  {
   "cell_type": "code",
   "execution_count": null,
   "id": "a8151add",
   "metadata": {},
   "outputs": [
    {
     "name": "stdout",
     "output_type": "stream",
     "text": [
      "[1, 2, 3, 'Shivam', 4]\n"
     ]
    }
   ],
   "source": [
    "L = [1,2,3,4]\n",
    "L.insert(3,'Shivam')\n",
    "print(L)"
   ]
  },
  {
   "cell_type": "markdown",
   "id": "ceb1e8f6",
   "metadata": {},
   "source": [
    "---\n",
    "## 8. Editing items in a List"
   ]
  },
  {
   "cell_type": "code",
   "execution_count": null,
   "id": "edfec90f",
   "metadata": {},
   "outputs": [
    {
     "name": "stdout",
     "output_type": "stream",
     "text": [
      "[1, 2, 3, 40]\n",
      "[10, 20, 30, 40]\n"
     ]
    }
   ],
   "source": [
    "L = [1,2,3,4]\n",
    "\n",
    "#Editing with indexing\n",
    "L[-1] = 40\n",
    "print(L)\n",
    "\n",
    "# Editing with slicing\n",
    "L[0:3] = [10,20,30]\n",
    "print(L)"
   ]
  },
  {
   "cell_type": "markdown",
   "id": "8a2fe67c",
   "metadata": {},
   "source": [
    "---\n",
    "## 9. Deleting Items in a List\n",
    "\n",
    "- `del`  \n",
    "  Can delete the entire list or remove an item by **list index**.  \n",
    "  _Example:_ `del(L)` or `del(L[0])`\n",
    "\n",
    "- `remove()`  \n",
    "  Removes the **first occurrence of a specific element** from the list.  \n",
    "  _Example:_ `L.remove(5)`\n",
    "\n",
    "- `pop()`  \n",
    "  Removes and returns the **last element** by default, or an element by **index** if specified.  \n",
    "  _Example:_ `L.pop()` or `L.pop(1)`\n",
    "\n",
    "- `clear()`  \n",
    "  Empties the entire list but **does not delete** the list object itself.  \n",
    "  _Example:_ `L.clear()`\n"
   ]
  },
  {
   "cell_type": "markdown",
   "id": "0891c486",
   "metadata": {},
   "source": [
    "### ``del() keyword``\n"
   ]
  },
  {
   "cell_type": "code",
   "execution_count": null,
   "id": "f20611d0",
   "metadata": {},
   "outputs": [
    {
     "ename": "NameError",
     "evalue": "name 'L' is not defined",
     "output_type": "error",
     "traceback": [
      "\u001b[31m---------------------------------------------------------------------------\u001b[39m",
      "\u001b[31mNameError\u001b[39m                                 Traceback (most recent call last)",
      "\u001b[36mCell\u001b[39m\u001b[36m \u001b[39m\u001b[32mIn[40]\u001b[39m\u001b[32m, line 4\u001b[39m\n\u001b[32m      2\u001b[39m L = [\u001b[32m1\u001b[39m,\u001b[32m2\u001b[39m,\u001b[32m3\u001b[39m]\n\u001b[32m      3\u001b[39m \u001b[38;5;28;01mdel\u001b[39;00m(L)\n\u001b[32m----> \u001b[39m\u001b[32m4\u001b[39m \u001b[38;5;28mprint\u001b[39m(\u001b[43mL\u001b[49m)\n",
      "\u001b[31mNameError\u001b[39m: name 'L' is not defined"
     ]
    }
   ],
   "source": [
    "# del \n",
    "L = [1,2,3]\n",
    "del(L)\n",
    "print(L)"
   ]
  },
  {
   "cell_type": "code",
   "execution_count": null,
   "id": "3dda9a24",
   "metadata": {},
   "outputs": [
    {
     "name": "stdout",
     "output_type": "stream",
     "text": [
      "[1, 2, 3]\n"
     ]
    }
   ],
   "source": [
    "# del with indexing\n",
    "L = [1,2,3,4]\n",
    "del(L[-1])\n",
    "print(L)"
   ]
  },
  {
   "cell_type": "code",
   "execution_count": null,
   "id": "72f8d9ea",
   "metadata": {},
   "outputs": [
    {
     "name": "stdout",
     "output_type": "stream",
     "text": [
      "[1, 4]\n"
     ]
    }
   ],
   "source": [
    "# del with slicing\n",
    "L = [1,2,3,4]\n",
    "del(L[1:3])\n",
    "print(L)"
   ]
  },
  {
   "cell_type": "markdown",
   "id": "af05bc7a",
   "metadata": {},
   "source": [
    "### ``remove() keyword``"
   ]
  },
  {
   "cell_type": "code",
   "execution_count": null,
   "id": "e773bfdf",
   "metadata": {},
   "outputs": [
    {
     "name": "stdout",
     "output_type": "stream",
     "text": [
      "[10, 20, 30, 40]\n"
     ]
    }
   ],
   "source": [
    "L = [10,20,30,40,50]\n",
    "L.remove(50)\n",
    "print(L)"
   ]
  },
  {
   "cell_type": "markdown",
   "id": "7e34cc3a",
   "metadata": {},
   "source": [
    "### ``pop() keyword``"
   ]
  },
  {
   "cell_type": "code",
   "execution_count": null,
   "id": "a3a907cd",
   "metadata": {},
   "outputs": [
    {
     "name": "stdout",
     "output_type": "stream",
     "text": [
      "[10, 20, 30, 40]\n"
     ]
    }
   ],
   "source": [
    "L = [10,20,30,40,50]\n",
    "L.pop()\n",
    "print(L)"
   ]
  },
  {
   "cell_type": "markdown",
   "id": "72e4b037",
   "metadata": {},
   "source": [
    "> **Note:** By default, ``pop()`` deletes last item"
   ]
  },
  {
   "cell_type": "code",
   "execution_count": null,
   "id": "f383a410",
   "metadata": {},
   "outputs": [
    {
     "name": "stdout",
     "output_type": "stream",
     "text": [
      "[10, 30, 40]\n"
     ]
    }
   ],
   "source": [
    "L.pop(1)\n",
    "print(L)"
   ]
  },
  {
   "cell_type": "markdown",
   "id": "8a7bce74",
   "metadata": {},
   "source": [
    "> **Note:** But, it can also delete by giving index asd parameter"
   ]
  },
  {
   "cell_type": "markdown",
   "id": "8c0c8c00",
   "metadata": {},
   "source": [
    "### ``clear()``"
   ]
  },
  {
   "cell_type": "code",
   "execution_count": null,
   "id": "882a62e1",
   "metadata": {},
   "outputs": [
    {
     "name": "stdout",
     "output_type": "stream",
     "text": [
      "[]\n"
     ]
    }
   ],
   "source": [
    "L = [1,2,3,4]\n",
    "L.clear()\n",
    "print(L)"
   ]
  },
  {
   "cell_type": "markdown",
   "id": "56c01eaf",
   "metadata": {},
   "source": [
    "---\n",
    "## 10. Operation on Lists\n",
    "- Arithmetic\n",
    "- Membership "
   ]
  },
  {
   "cell_type": "markdown",
   "id": "0e12e743",
   "metadata": {},
   "source": [
    "### ``Arithmetic Operator (+ , *)``"
   ]
  },
  {
   "cell_type": "code",
   "execution_count": null,
   "id": "374ff630",
   "metadata": {},
   "outputs": [
    {
     "name": "stdout",
     "output_type": "stream",
     "text": [
      "[1, 2, 3, 4, 5, 6]\n"
     ]
    }
   ],
   "source": [
    "L1 = [1,2,3]\n",
    "L2 = [4,5,6]\n",
    "\n",
    "# Concatenation / Merge\n",
    "print(L1+L2)"
   ]
  },
  {
   "cell_type": "code",
   "execution_count": null,
   "id": "5b0a70f3",
   "metadata": {},
   "outputs": [
    {
     "name": "stdout",
     "output_type": "stream",
     "text": [
      "[1, 2, 3, 1, 2, 3, 1, 2, 3]\n"
     ]
    }
   ],
   "source": [
    "print(L1 * 3)"
   ]
  },
  {
   "cell_type": "markdown",
   "id": "a27d160a",
   "metadata": {},
   "source": [
    "### `Membership Operator (not in, in)`"
   ]
  },
  {
   "cell_type": "code",
   "execution_count": null,
   "id": "f4324777",
   "metadata": {},
   "outputs": [
    {
     "name": "stdout",
     "output_type": "stream",
     "text": [
      "True\n",
      "False\n"
     ]
    }
   ],
   "source": [
    "print(3 in L1)\n",
    "print(3 in L2)"
   ]
  },
  {
   "cell_type": "code",
   "execution_count": null,
   "id": "72bcedbe",
   "metadata": {},
   "outputs": [
    {
     "name": "stdout",
     "output_type": "stream",
     "text": [
      "False\n",
      "True\n"
     ]
    }
   ],
   "source": [
    "print(3 not in L1)\n",
    "print(3 not in L2)"
   ]
  },
  {
   "cell_type": "code",
   "execution_count": null,
   "id": "482839fc",
   "metadata": {},
   "outputs": [
    {
     "name": "stdout",
     "output_type": "stream",
     "text": [
      "False\n",
      "True\n",
      "True\n"
     ]
    }
   ],
   "source": [
    "L = [1,2,3,[4,5]]\n",
    "print(5 in L)\n",
    "print(5 in L[3])\n",
    "print([4,5] in L)"
   ]
  },
  {
   "cell_type": "markdown",
   "id": "dc5d6025",
   "metadata": {},
   "source": [
    "---\n",
    "## 11. Loops in List"
   ]
  },
  {
   "cell_type": "code",
   "execution_count": null,
   "id": "27140658",
   "metadata": {},
   "outputs": [
    {
     "name": "stdout",
     "output_type": "stream",
     "text": [
      "1\n",
      "2\n",
      "3\n"
     ]
    }
   ],
   "source": [
    "L1 = [1,2,3]\n",
    "for i in L1:\n",
    "    print(i)"
   ]
  },
  {
   "cell_type": "code",
   "execution_count": null,
   "id": "19218f32",
   "metadata": {},
   "outputs": [
    {
     "name": "stdout",
     "output_type": "stream",
     "text": [
      "1\n",
      "2\n",
      "3\n",
      "[4, 5]\n"
     ]
    }
   ],
   "source": [
    "L2 = [1,2,3,[4,5]]\n",
    "\n",
    "for i in L2:\n",
    "    print(i)"
   ]
  },
  {
   "cell_type": "code",
   "execution_count": null,
   "id": "6c82f439",
   "metadata": {},
   "outputs": [
    {
     "name": "stdout",
     "output_type": "stream",
     "text": [
      "0 = [[1, 2], [3, 4]]\n",
      "1 = [[5, 6], [7, 8]]\n"
     ]
    }
   ],
   "source": [
    "L3 = [[[1,2],[3,4]], [[5,6],[7,8]]]\n",
    "\n",
    "index = 0\n",
    "for i in L3:\n",
    "    print(index, \"=\", i)\n",
    "    index+=1"
   ]
  },
  {
   "cell_type": "markdown",
   "id": "0d591d09",
   "metadata": {},
   "source": [
    "---\n",
    "## 12. List Functions\n"
   ]
  },
  {
   "cell_type": "markdown",
   "id": "b912fe28",
   "metadata": {},
   "source": [
    "### ``len() / min() / max() / sorted()``"
   ]
  },
  {
   "cell_type": "code",
   "execution_count": null,
   "id": "5e78326b",
   "metadata": {},
   "outputs": [
    {
     "name": "stdout",
     "output_type": "stream",
     "text": [
      "5\n",
      "0\n",
      "7\n",
      "[0, 1, 2, 5, 7]\n"
     ]
    }
   ],
   "source": [
    "L = [2,1,5,7,0]\n",
    "\n",
    "print(len(L))\n",
    "print(min(L))\n",
    "print(max(L))\n",
    "print(sorted(L))"
   ]
  },
  {
   "cell_type": "markdown",
   "id": "a749e05a",
   "metadata": {},
   "source": [
    "### ``count()`` - gives the frequency of an item"
   ]
  },
  {
   "cell_type": "code",
   "execution_count": null,
   "id": "e9e5e91b",
   "metadata": {},
   "outputs": [
    {
     "name": "stdout",
     "output_type": "stream",
     "text": [
      "3\n"
     ]
    }
   ],
   "source": [
    "L = [1,2,1,1,3,4,5]\n",
    "print(L.count(1))"
   ]
  },
  {
   "cell_type": "markdown",
   "id": "41437a6a",
   "metadata": {},
   "source": [
    "### ``index()`` - gives the first occurance of an item"
   ]
  },
  {
   "cell_type": "code",
   "execution_count": null,
   "id": "02237428",
   "metadata": {},
   "outputs": [
    {
     "name": "stdout",
     "output_type": "stream",
     "text": [
      "0\n"
     ]
    }
   ],
   "source": [
    "print(L.index(1))"
   ]
  },
  {
   "cell_type": "code",
   "execution_count": null,
   "id": "024edd05",
   "metadata": {},
   "outputs": [
    {
     "ename": "ValueError",
     "evalue": "10 is not in list",
     "output_type": "error",
     "traceback": [
      "\u001b[31m---------------------------------------------------------------------------\u001b[39m",
      "\u001b[31mValueError\u001b[39m                                Traceback (most recent call last)",
      "\u001b[36mCell\u001b[39m\u001b[36m \u001b[39m\u001b[32mIn[76]\u001b[39m\u001b[32m, line 1\u001b[39m\n\u001b[32m----> \u001b[39m\u001b[32m1\u001b[39m \u001b[38;5;28mprint\u001b[39m(\u001b[43mL\u001b[49m\u001b[43m.\u001b[49m\u001b[43mindex\u001b[49m\u001b[43m(\u001b[49m\u001b[32;43m10\u001b[39;49m\u001b[43m)\u001b[49m)\n",
      "\u001b[31mValueError\u001b[39m: 10 is not in list"
     ]
    }
   ],
   "source": [
    "print(L.index(10))"
   ]
  },
  {
   "cell_type": "markdown",
   "id": "8eb50429",
   "metadata": {},
   "source": [
    "### ``reverse()``  - it permanently reverses the list"
   ]
  },
  {
   "cell_type": "code",
   "execution_count": null,
   "id": "b2a9dc2d",
   "metadata": {},
   "outputs": [
    {
     "name": "stdout",
     "output_type": "stream",
     "text": [
      "[4, 3, 2, 1]\n"
     ]
    }
   ],
   "source": [
    "L = [1,2,3,4]\n",
    "L.reverse()\n",
    "print(L)"
   ]
  },
  {
   "cell_type": "markdown",
   "id": "d8f49e27",
   "metadata": {},
   "source": [
    "> **Note:** This is not a permanent method"
   ]
  },
  {
   "cell_type": "code",
   "execution_count": null,
   "id": "03557047",
   "metadata": {},
   "outputs": [
    {
     "name": "stdout",
     "output_type": "stream",
     "text": [
      "[4, 3, 2, 1]\n",
      "[2, 4, 3, 1]\n"
     ]
    }
   ],
   "source": [
    "L = [2,4,3,1]\n",
    "print(sorted(L,reverse=True))\n",
    "print(L)"
   ]
  },
  {
   "cell_type": "markdown",
   "id": "6064c333",
   "metadata": {},
   "source": [
    "### `sort()` vs `sorted()`\n",
    "\n",
    "> - `sort()` modifies the original list **in-place** (permanent). No return.\n",
    "> - `sorted()` returns a **new sorted list** without changing the original (not permanent).\n"
   ]
  },
  {
   "cell_type": "code",
   "execution_count": null,
   "id": "43b520a2",
   "metadata": {},
   "outputs": [
    {
     "name": "stdout",
     "output_type": "stream",
     "text": [
      "None\n",
      "[1, 2, 3, 4]\n"
     ]
    }
   ],
   "source": [
    "L1 = [2,1,4,3]\n",
    "L1.sort()\n",
    "print(L1)"
   ]
  },
  {
   "cell_type": "code",
   "execution_count": null,
   "id": "017b96cc",
   "metadata": {},
   "outputs": [
    {
     "name": "stdout",
     "output_type": "stream",
     "text": [
      "[1, 2, 3, 4]\n"
     ]
    }
   ],
   "source": [
    "L2 = [2,1,4,3]\n",
    "Lnew = sorted(L2)\n",
    "print(Lnew)"
   ]
  },
  {
   "cell_type": "markdown",
   "id": "09702fcb",
   "metadata": {},
   "source": [
    "#### **Difference between**\n",
    "- `dataStructure.method(attribute)` → e.g., `L1.sort()`, and  \n",
    "- `function(dataStructure[attribute])` → e.g., `sorted(L2)`\n",
    "\n",
    "### 1. `L1.sort()` — Method\n",
    "- `sort()` is a **method** that belongs specifically to the **list** data structure.\n",
    "- Methods are tied to a specific object type (like list, string, etc.).\n",
    "- It means method L.sort() can be used in List only, as it is tied to List data structure \n",
    "\n",
    "### 2. `sorted(L2)` — Function\n",
    "\n",
    "* `sorted()` is a **built-in function**, not tied to any one data structure.\n",
    "- It means sorted() is independent of data structure, it can be used in List, Tuples, or Strings also. \n",
    "\n",
    "**For Example:**"
   ]
  },
  {
   "cell_type": "code",
   "execution_count": null,
   "id": "43ecf5da",
   "metadata": {},
   "outputs": [
    {
     "name": "stdout",
     "output_type": "stream",
     "text": [
      "['S', 'a', 'h', 'i', 'm', 'v']\n"
     ]
    }
   ],
   "source": [
    "str = 'Shivam'\n",
    "print(sorted(str))"
   ]
  },
  {
   "cell_type": "code",
   "execution_count": null,
   "id": "02a8a5b3",
   "metadata": {},
   "outputs": [
    {
     "ename": "AttributeError",
     "evalue": "'str' object has no attribute 'sort'",
     "output_type": "error",
     "traceback": [
      "\u001b[31m---------------------------------------------------------------------------\u001b[39m",
      "\u001b[31mAttributeError\u001b[39m                            Traceback (most recent call last)",
      "\u001b[36mCell\u001b[39m\u001b[36m \u001b[39m\u001b[32mIn[92]\u001b[39m\u001b[32m, line 2\u001b[39m\n\u001b[32m      1\u001b[39m \u001b[38;5;28mstr\u001b[39m = \u001b[33m'\u001b[39m\u001b[33mShivam\u001b[39m\u001b[33m'\u001b[39m\n\u001b[32m----> \u001b[39m\u001b[32m2\u001b[39m \u001b[38;5;28;43mstr\u001b[39;49m\u001b[43m.\u001b[49m\u001b[43msort\u001b[49m()\n\u001b[32m      3\u001b[39m \u001b[38;5;28mprint\u001b[39m(\u001b[38;5;28mstr\u001b[39m)\n",
      "\u001b[31mAttributeError\u001b[39m: 'str' object has no attribute 'sort'"
     ]
    }
   ],
   "source": [
    "str = 'Shivam'\n",
    "str.sort()\n",
    "print(str)"
   ]
  },
  {
   "cell_type": "markdown",
   "id": "6f6aa97b",
   "metadata": {},
   "source": [
    "### ``copy()`` - creates a copy in memory. It makes shallow copy"
   ]
  },
  {
   "cell_type": "code",
   "execution_count": null,
   "id": "dd0e1875",
   "metadata": {},
   "outputs": [
    {
     "name": "stdout",
     "output_type": "stream",
     "text": [
      "[1, 2, 3]\n",
      "1535314368128\n",
      "[1, 2, 3]\n",
      "1535323830976\n"
     ]
    }
   ],
   "source": [
    "L1 = [1,2,3]\n",
    "print(L1)\n",
    "print(id(L1))\n",
    "\n",
    "L2 = L1.copy()\n",
    "print(L2)\n",
    "print(id(L2))"
   ]
  },
  {
   "cell_type": "markdown",
   "id": "ac9a12ad",
   "metadata": {},
   "source": [
    "## 13. List Comprehension\n",
    "List comprehension provides a concise way of creating lists.\n",
    "```py\n",
    "newList = [expression for item in iterable if condition == True]\n",
    "```\n",
    "\n",
    "### Advantages of List Comprehension\n",
    "- More time-efficient and space-efficient than loops.\n",
    "- Require fewer lines of codes.\n",
    "- Transforms iterative statement into a formula.\n",
    "\n",
    "> Python suggests to use **List Comprehension**, as it is very powerful."
   ]
  },
  {
   "cell_type": "markdown",
   "id": "07f8097f",
   "metadata": {},
   "source": [
    "#### Example 1 : Add 1 to 10, in a list"
   ]
  },
  {
   "cell_type": "code",
   "execution_count": null,
   "id": "9e492273",
   "metadata": {},
   "outputs": [
    {
     "name": "stdout",
     "output_type": "stream",
     "text": [
      "[1, 2, 3, 4, 5, 6, 7, 8, 9, 10]\n"
     ]
    }
   ],
   "source": [
    "# without using list comprehension\n",
    "\n",
    "L = []\n",
    "for i in range(1,11):\n",
    "    L.append(i)\n",
    "\n",
    "print(L)"
   ]
  },
  {
   "cell_type": "code",
   "execution_count": null,
   "id": "85780e53",
   "metadata": {},
   "outputs": [
    {
     "name": "stdout",
     "output_type": "stream",
     "text": [
      "[1, 2, 3, 4, 5, 6, 7, 8, 9, 10]\n"
     ]
    }
   ],
   "source": [
    "# using list comprehension\n",
    "\n",
    "L = [i for i in range(1,11)]\n",
    "\n",
    "print(L)"
   ]
  },
  {
   "cell_type": "markdown",
   "id": "806fc679",
   "metadata": {},
   "source": [
    "#### Example 2 : Scaler Multiplication on a Vector"
   ]
  },
  {
   "cell_type": "code",
   "execution_count": null,
   "id": "186a8b47",
   "metadata": {},
   "outputs": [
    {
     "name": "stdout",
     "output_type": "stream",
     "text": [
      "[-3, -6, -9]\n"
     ]
    }
   ],
   "source": [
    "v = [1,2,3]\n",
    "s = -3\n",
    "# output: [-3, -6, -9]\n",
    "\n",
    "x = []\n",
    "for i in v: \n",
    "    x.append(i * s)\n",
    "\n",
    "print(x)\n",
    "\n"
   ]
  },
  {
   "cell_type": "code",
   "execution_count": null,
   "id": "687e3459",
   "metadata": {},
   "outputs": [
    {
     "name": "stdout",
     "output_type": "stream",
     "text": [
      "[-3, -6, -9]\n"
     ]
    }
   ],
   "source": [
    "v = [1,2,3]\n",
    "s = -3\n",
    "# output: [-3, -6, -9]\n",
    "\n",
    "Li = [i*s for i in v]\n",
    "print(Li)\n",
    "\n"
   ]
  },
  {
   "cell_type": "markdown",
   "id": "e639b3ca",
   "metadata": {},
   "source": [
    "#### Example 3: Add squares of all items\n",
    "\n"
   ]
  },
  {
   "cell_type": "code",
   "execution_count": null,
   "id": "a70bebfb",
   "metadata": {},
   "outputs": [
    {
     "name": "stdout",
     "output_type": "stream",
     "text": [
      "[1, 4, 9, 16]\n"
     ]
    }
   ],
   "source": [
    "L = [1,2,3,4]\n",
    "\n",
    "result = [i**2 for i in L]\n",
    "print(result)"
   ]
  },
  {
   "cell_type": "markdown",
   "id": "f71f776d",
   "metadata": {},
   "source": [
    "#### Example 4: Print all numbers divisible by 5 in the range of 1 to 50"
   ]
  },
  {
   "cell_type": "code",
   "execution_count": null,
   "id": "2edb25c6",
   "metadata": {},
   "outputs": [
    {
     "name": "stdout",
     "output_type": "stream",
     "text": [
      "[5, 10, 15, 20, 25, 30, 35, 40, 45, 50]\n"
     ]
    }
   ],
   "source": [
    "result = [i for i in range(1,51) if i%5==0]\n",
    "print(result)"
   ]
  },
  {
   "cell_type": "markdown",
   "id": "c9f542c2",
   "metadata": {},
   "source": [
    "#### Example 5: Find languages which starts with letter **'p'**"
   ]
  },
  {
   "cell_type": "code",
   "execution_count": null,
   "id": "c8c966f1",
   "metadata": {},
   "outputs": [
    {
     "data": {
      "text/plain": [
       "['python', 'php']"
      ]
     },
     "execution_count": 122,
     "metadata": {},
     "output_type": "execute_result"
    }
   ],
   "source": [
    "languages = ['java' , 'python' , 'php' , 'c' , 'javascript']\n",
    "\n",
    "[lang for lang in languages if lang.startswith('p')]"
   ]
  },
  {
   "cell_type": "markdown",
   "id": "1905263f",
   "metadata": {},
   "source": [
    "### **Nested if with List Comprehension**"
   ]
  },
  {
   "cell_type": "markdown",
   "id": "21f58f2b",
   "metadata": {},
   "source": [
    "#### Example 6: Create a new list from `my_fruits` iff. item exist in `basket` and also starts with **'a'**"
   ]
  },
  {
   "cell_type": "code",
   "execution_count": null,
   "id": "de0652b4",
   "metadata": {},
   "outputs": [
    {
     "name": "stdout",
     "output_type": "stream",
     "text": [
      "['apple']\n"
     ]
    }
   ],
   "source": [
    "basket = ['apple' , 'guava' , 'cherry' , 'banana']\n",
    "my_fruits = ['apple' , 'kiwi' , 'grapes' , 'banana']\n",
    "\n",
    "result = [fruit for fruit in my_fruits if fruit in basket if fruit.startswith('a')]\n",
    "print(result)"
   ]
  },
  {
   "cell_type": "markdown",
   "id": "4b46a343",
   "metadata": {},
   "source": [
    "#### Example 7: Print a (3,3) matrix using list comprehension -> Nested list comprehension"
   ]
  },
  {
   "cell_type": "code",
   "execution_count": null,
   "id": "14e1713b",
   "metadata": {},
   "outputs": [
    {
     "data": {
      "text/plain": [
       "[[1, 2, 3], [2, 4, 6], [3, 6, 9]]"
      ]
     },
     "execution_count": 129,
     "metadata": {},
     "output_type": "execute_result"
    }
   ],
   "source": [
    "[[i*j for i in range(1,4)] for j in range(1,4)]"
   ]
  },
  {
   "cell_type": "markdown",
   "id": "1c8f4e42",
   "metadata": {},
   "source": [
    "#### Example 8: Cartesian Products -> List comprehension on 2 lists together"
   ]
  },
  {
   "cell_type": "code",
   "execution_count": null,
   "id": "56775625",
   "metadata": {},
   "outputs": [
    {
     "data": {
      "text/plain": [
       "[5, 6, 7, 8, 10, 12, 14, 16, 15, 18, 21, 24, 20, 24, 28, 32]"
      ]
     },
     "execution_count": 130,
     "metadata": {},
     "output_type": "execute_result"
    }
   ],
   "source": [
    "L1 = [1,2,3,4]\n",
    "L2 = [5,6,7,8]\n",
    "\n",
    "[i*j for i in L1 for j in L2]"
   ]
  },
  {
   "cell_type": "markdown",
   "id": "90243201",
   "metadata": {},
   "source": [
    "---\n",
    "## 14. Traverse a List (2 ways)\n",
    "- itemwise\n",
    "- indexwise"
   ]
  },
  {
   "cell_type": "code",
   "execution_count": null,
   "id": "fe9de2af",
   "metadata": {},
   "outputs": [
    {
     "name": "stdout",
     "output_type": "stream",
     "text": [
      "1\n",
      "2\n",
      "3\n",
      "4\n"
     ]
    }
   ],
   "source": [
    "# itemwise\n",
    "\n",
    "L = [1,2,3,4]\n",
    "\n",
    "for i in L:\n",
    "    print(i)"
   ]
  },
  {
   "cell_type": "code",
   "execution_count": null,
   "id": "7b9bd4f6",
   "metadata": {},
   "outputs": [
    {
     "name": "stdout",
     "output_type": "stream",
     "text": [
      "Index =  0 :: Item =  10\n",
      "Index =  1 :: Item =  20\n",
      "Index =  2 :: Item =  30\n",
      "Index =  3 :: Item =  40\n"
     ]
    }
   ],
   "source": [
    "# indexwise\n",
    "\n",
    "L = [10,20,30,40]\n",
    "\n",
    "for i in range(0,len(L)):\n",
    "    print(\"Index = \", i, end = \" :: \")\n",
    "    print(\"Item = \", L[i])"
   ]
  },
  {
   "cell_type": "markdown",
   "id": "66ed22e0",
   "metadata": {},
   "source": [
    "---\n",
    "## 15. Zip() function\n",
    "\n",
    "The ``zip()`` function returns a zip object, which is an iterator of tuples where the first item in each passed iterator is paired together. and then the second item in each passeed iterator are paired together.\n",
    "\n",
    "If the passed iterator have different lengths, the iterator with the least items decides the length of the new iterator."
   ]
  },
  {
   "cell_type": "code",
   "execution_count": null,
   "id": "ccdfabe3",
   "metadata": {},
   "outputs": [
    {
     "data": {
      "text/plain": [
       "[(1, 10), (2, 20), (3, 30), (4, 40)]"
      ]
     },
     "execution_count": 138,
     "metadata": {},
     "output_type": "execute_result"
    }
   ],
   "source": [
    "L1 = [1,2,3,4]\n",
    "L2 = [10,20,30,40]\n",
    "\n",
    "list(zip(L1,L2))"
   ]
  },
  {
   "cell_type": "markdown",
   "id": "8e94f01f",
   "metadata": {},
   "source": [
    "#### WAP to add items of 2 list indexwise"
   ]
  },
  {
   "cell_type": "code",
   "execution_count": null,
   "id": "1e8cadcc",
   "metadata": {},
   "outputs": [
    {
     "data": {
      "text/plain": [
       "[11, 22, 33, 44]"
      ]
     },
     "execution_count": 139,
     "metadata": {},
     "output_type": "execute_result"
    }
   ],
   "source": [
    "L1 = [1,2,3,4]\n",
    "L2 = [10,20,30,40]\n",
    "\n",
    "[i+j for i,j in zip(L1,L2)]"
   ]
  },
  {
   "cell_type": "markdown",
   "id": "4690136b",
   "metadata": {},
   "source": [
    "## 16. Disadvantages of Lists\n",
    "\n",
    "- Slow\n",
    "- Eats up more memory\n",
    "- Risky Usage"
   ]
  },
  {
   "cell_type": "code",
   "execution_count": null,
   "id": "b5993eb1",
   "metadata": {},
   "outputs": [
    {
     "name": "stdout",
     "output_type": "stream",
     "text": [
      "[1, 2, 3]\n",
      "[1, 2, 3]\n",
      "[1, 2, 3, 4]\n",
      "[1, 2, 3, 4]\n"
     ]
    }
   ],
   "source": [
    "# Risky Usage of List\n",
    "\n",
    "a = [1,2,3]\n",
    "b = a\n",
    "\n",
    "print(a)\n",
    "print(b)\n",
    "\n",
    "a.append(4)\n",
    "\n",
    "print(a)\n",
    "print(b)"
   ]
  },
  {
   "cell_type": "markdown",
   "id": "5881f73b",
   "metadata": {},
   "source": [
    "> **Risky Usage:**  \n",
    "- In Python, lists are mutable and store references (not copies) to their elements.  \n",
    "- When you do `b = a`, both `a` and `b` point to the **same memory location**.  \n",
    "- Therefore, changes made to `a` will also reflect in `b`.\n"
   ]
  },
  {
   "cell_type": "markdown",
   "id": "78b84734",
   "metadata": {},
   "source": [
    "> **To avoid this:**\n",
    "> Use ``.copy()`` when we create an actual copy, not just a referernce. "
   ]
  },
  {
   "cell_type": "code",
   "execution_count": null,
   "id": "e0f9a5d2",
   "metadata": {},
   "outputs": [
    {
     "name": "stdout",
     "output_type": "stream",
     "text": [
      "[1, 2, 3]\n",
      "[1, 2, 3]\n",
      "[1, 2, 3, 4]\n",
      "[1, 2, 3]\n"
     ]
    }
   ],
   "source": [
    "a = [1,2,3]\n",
    "b = a.copy()\n",
    "\n",
    "print(a)\n",
    "print(b)\n",
    "\n",
    "a.append(4)\n",
    "\n",
    "print(a)\n",
    "print(b)\n"
   ]
  },
  {
   "cell_type": "markdown",
   "id": "f0353fa1",
   "metadata": {},
   "source": [
    "---\n",
    "---"
   ]
  },
  {
   "cell_type": "markdown",
   "id": "f27e60d9",
   "metadata": {},
   "source": [
    "# **Python Tuples**\n",
    "A tuple in Python is similar to a list. The difference between the two is that we cannot change the elements of a tuple once it is assigned whereas we can change the elements of a list. \n",
    "\n",
    "In short, a tuple is an immutable list. A tuple cannot be changed way once it is created. \n",
    "\n",
    "--- \n",
    "\n",
    "## Characteristics of a tuple \n",
    "- Ordered\n",
    "- Unchangeble\n",
    "- Allows duplicates\n",
    "\n",
    "---\n",
    "\n",
    "## Creating a tuple\n",
    "\n",
    "#### 1. Empty Tuple"
   ]
  },
  {
   "cell_type": "code",
   "execution_count": null,
   "id": "d1c5796a",
   "metadata": {},
   "outputs": [
    {
     "name": "stdout",
     "output_type": "stream",
     "text": [
      "()\n"
     ]
    }
   ],
   "source": [
    "t1 = ()\n",
    "print(t1)"
   ]
  },
  {
   "cell_type": "markdown",
   "id": "a43a794b",
   "metadata": {},
   "source": [
    "#### 2. Single Item Tuple \n"
   ]
  },
  {
   "cell_type": "code",
   "execution_count": null,
   "id": "eea564c2",
   "metadata": {},
   "outputs": [
    {
     "name": "stdout",
     "output_type": "stream",
     "text": [
      "1\n",
      "<class 'int'>\n"
     ]
    }
   ],
   "source": [
    "t2 = (1)\n",
    "print(t2)\n",
    "print(type(t2))"
   ]
  },
  {
   "cell_type": "markdown",
   "id": "5413f2c3",
   "metadata": {},
   "source": [
    "> **Note:**  To create a tuple with a single item, add a ``comma`` after the element. Without the comma, Python will treat it as a regular value (e.g., integer), not a tuple."
   ]
  },
  {
   "cell_type": "code",
   "execution_count": null,
   "id": "decee0c4",
   "metadata": {},
   "outputs": [
    {
     "name": "stdout",
     "output_type": "stream",
     "text": [
      "(1,)\n",
      "<class 'tuple'>\n"
     ]
    }
   ],
   "source": [
    "t2 = (1,)\n",
    "print(t2)\n",
    "print(type(t2))"
   ]
  },
  {
   "cell_type": "markdown",
   "id": "28ed9219",
   "metadata": {},
   "source": [
    "#### 3. Homogeneous Tuple"
   ]
  },
  {
   "cell_type": "code",
   "execution_count": null,
   "id": "f5e61ce3",
   "metadata": {},
   "outputs": [
    {
     "name": "stdout",
     "output_type": "stream",
     "text": [
      "(1, 2, 3, 4)\n"
     ]
    }
   ],
   "source": [
    "t3 = (1,2,3,4)\n",
    "print(t3)"
   ]
  },
  {
   "cell_type": "markdown",
   "id": "009b6403",
   "metadata": {},
   "source": [
    "#### 4. Heterogenous Tuple"
   ]
  },
  {
   "cell_type": "code",
   "execution_count": null,
   "id": "b2f8fdb2",
   "metadata": {},
   "outputs": [
    {
     "name": "stdout",
     "output_type": "stream",
     "text": [
      "(1, 2.5, True, [1, 2, 3])\n"
     ]
    }
   ],
   "source": [
    "t4 = (1,2.5, True, [1,2,3])\n",
    "print(t4)"
   ]
  },
  {
   "cell_type": "markdown",
   "id": "1d206781",
   "metadata": {},
   "source": [
    "#### 5. Tuple inside tuple"
   ]
  },
  {
   "cell_type": "code",
   "execution_count": null,
   "id": "2372fa2a",
   "metadata": {},
   "outputs": [
    {
     "name": "stdout",
     "output_type": "stream",
     "text": [
      "(1, 2, 3, (4, 5))\n"
     ]
    }
   ],
   "source": [
    "t5 = (1,2,3,(4,5))\n",
    "print(t5)"
   ]
  },
  {
   "cell_type": "markdown",
   "id": "340bec88",
   "metadata": {},
   "source": [
    "#### 6. Using type conversion"
   ]
  },
  {
   "cell_type": "code",
   "execution_count": null,
   "id": "4274dae6",
   "metadata": {},
   "outputs": [
    {
     "name": "stdout",
     "output_type": "stream",
     "text": [
      "('S', 'h', 'i', 'v', 'a', 'm')\n"
     ]
    }
   ],
   "source": [
    "t6 = tuple('Shivam')\n",
    "print(t6)"
   ]
  },
  {
   "cell_type": "markdown",
   "id": "c6a73d5e",
   "metadata": {},
   "source": [
    "---\n",
    "## Accessing items from a tuple \n",
    "- Indexing\n",
    "- Slicing"
   ]
  },
  {
   "cell_type": "code",
   "execution_count": null,
   "id": "d273b88c",
   "metadata": {},
   "outputs": [
    {
     "name": "stdout",
     "output_type": "stream",
     "text": [
      "(1, 2, 3, 4)\n",
      "1\n",
      "4\n"
     ]
    }
   ],
   "source": [
    "print(t3)\n",
    "print(t3[0])\n",
    "print(t3[-1])"
   ]
  },
  {
   "cell_type": "code",
   "execution_count": null,
   "id": "9cdeb82c",
   "metadata": {},
   "outputs": [
    {
     "name": "stdout",
     "output_type": "stream",
     "text": [
      "(1, 3)\n",
      "(4, 3, 2, 1)\n"
     ]
    }
   ],
   "source": [
    "print(t3[0:4:2])\n",
    "print(t3[::-1])"
   ]
  },
  {
   "cell_type": "markdown",
   "id": "5a27d5ca",
   "metadata": {},
   "source": [
    "---\n",
    "## Editing items in a tuple\n",
    "- Tuple does not support item reassignment (editing)"
   ]
  },
  {
   "cell_type": "code",
   "execution_count": null,
   "id": "bc28367c",
   "metadata": {},
   "outputs": [
    {
     "name": "stdout",
     "output_type": "stream",
     "text": [
      "(1, 2, 3, 4)\n"
     ]
    },
    {
     "ename": "TypeError",
     "evalue": "'tuple' object does not support item assignment",
     "output_type": "error",
     "traceback": [
      "\u001b[31m---------------------------------------------------------------------------\u001b[39m",
      "\u001b[31mTypeError\u001b[39m                                 Traceback (most recent call last)",
      "\u001b[36mCell\u001b[39m\u001b[36m \u001b[39m\u001b[32mIn[17]\u001b[39m\u001b[32m, line 2\u001b[39m\n\u001b[32m      1\u001b[39m \u001b[38;5;28mprint\u001b[39m(t3)\n\u001b[32m----> \u001b[39m\u001b[32m2\u001b[39m \u001b[43mt3\u001b[49m\u001b[43m[\u001b[49m\u001b[32;43m0\u001b[39;49m\u001b[43m]\u001b[49m = \u001b[32m10\u001b[39m\n",
      "\u001b[31mTypeError\u001b[39m: 'tuple' object does not support item assignment"
     ]
    }
   ],
   "source": [
    "print(t3)\n",
    "t3[0] = 10"
   ]
  },
  {
   "cell_type": "markdown",
   "id": "ccdfebd1",
   "metadata": {},
   "source": [
    "---\n",
    "# Adding items in a tuple\n",
    "- Tuple are immutable, cannot add items\n",
    "\n",
    "----\n",
    "\n",
    "# Deleting items\n",
    "- Can delete whole tuple\n",
    "- Cannot delete a particular item or a particular portion"
   ]
  },
  {
   "cell_type": "code",
   "execution_count": null,
   "id": "0bd9dd1d",
   "metadata": {},
   "outputs": [],
   "source": [
    "t1 = (1,2,3)\n",
    "del(t1)"
   ]
  },
  {
   "cell_type": "code",
   "execution_count": null,
   "id": "72bbc804",
   "metadata": {},
   "outputs": [
    {
     "ename": "TypeError",
     "evalue": "'tuple' object does not support item deletion",
     "output_type": "error",
     "traceback": [
      "\u001b[31m---------------------------------------------------------------------------\u001b[39m",
      "\u001b[31mTypeError\u001b[39m                                 Traceback (most recent call last)",
      "\u001b[36mCell\u001b[39m\u001b[36m \u001b[39m\u001b[32mIn[21]\u001b[39m\u001b[32m, line 2\u001b[39m\n\u001b[32m      1\u001b[39m t2 = (\u001b[32m4\u001b[39m,\u001b[32m5\u001b[39m,\u001b[32m6\u001b[39m)\n\u001b[32m----> \u001b[39m\u001b[32m2\u001b[39m \u001b[38;5;28;01mdel\u001b[39;00m(\u001b[43mt2\u001b[49m\u001b[43m[\u001b[49m\u001b[32;43m0\u001b[39;49m\u001b[43m:\u001b[49m\u001b[32;43m1\u001b[39;49m\u001b[43m]\u001b[49m)\n",
      "\u001b[31mTypeError\u001b[39m: 'tuple' object does not support item deletion"
     ]
    }
   ],
   "source": [
    "t2 = (4,5,6)\n",
    "del(t2[0:1])"
   ]
  },
  {
   "cell_type": "markdown",
   "id": "84188fc3",
   "metadata": {},
   "source": [
    "--- \n",
    "## Operations on Tuple\n",
    "\n",
    "- Arithmetic (+ and *) \n",
    "- Membership (in, not in)\n",
    "- Iteration"
   ]
  },
  {
   "cell_type": "code",
   "execution_count": null,
   "id": "c2f52582",
   "metadata": {},
   "outputs": [
    {
     "name": "stdout",
     "output_type": "stream",
     "text": [
      "(1, 2, 3, 4, 5, 6)\n"
     ]
    }
   ],
   "source": [
    "t1 = (1,2,3)\n",
    "t2 = (4,5,6)\n",
    "print(t1+t2)"
   ]
  },
  {
   "cell_type": "code",
   "execution_count": null,
   "id": "5d415424",
   "metadata": {},
   "outputs": [
    {
     "name": "stdout",
     "output_type": "stream",
     "text": [
      "(1, 2, 3, 1, 2, 3)\n"
     ]
    }
   ],
   "source": [
    "print(t1*2)"
   ]
  },
  {
   "cell_type": "code",
   "execution_count": null,
   "id": "cd0d72b8",
   "metadata": {},
   "outputs": [
    {
     "name": "stdout",
     "output_type": "stream",
     "text": [
      "True\n"
     ]
    }
   ],
   "source": [
    "print(1 in t1)"
   ]
  },
  {
   "cell_type": "code",
   "execution_count": null,
   "id": "25ed307e",
   "metadata": {},
   "outputs": [
    {
     "name": "stdout",
     "output_type": "stream",
     "text": [
      "1\n",
      "2\n",
      "3\n"
     ]
    }
   ],
   "source": [
    "for i in t1:\n",
    "    print(i)"
   ]
  },
  {
   "cell_type": "markdown",
   "id": "b830efb5",
   "metadata": {},
   "source": [
    "--- \n",
    "## Tuple Function"
   ]
  },
  {
   "cell_type": "markdown",
   "id": "7baa5e5f",
   "metadata": {},
   "source": [
    "#### ``len(), sum(), min(), max(), sorted()``"
   ]
  },
  {
   "cell_type": "code",
   "execution_count": null,
   "id": "f52328d4",
   "metadata": {},
   "outputs": [
    {
     "name": "stdout",
     "output_type": "stream",
     "text": [
      "(1, 2, 3)\n"
     ]
    }
   ],
   "source": [
    "print(t1)"
   ]
  },
  {
   "cell_type": "code",
   "execution_count": null,
   "id": "4cee8000",
   "metadata": {},
   "outputs": [
    {
     "data": {
      "text/plain": [
       "3"
      ]
     },
     "execution_count": 26,
     "metadata": {},
     "output_type": "execute_result"
    }
   ],
   "source": [
    "len(t1)"
   ]
  },
  {
   "cell_type": "code",
   "execution_count": null,
   "id": "cd54f4fd",
   "metadata": {},
   "outputs": [
    {
     "data": {
      "text/plain": [
       "6"
      ]
     },
     "execution_count": 27,
     "metadata": {},
     "output_type": "execute_result"
    }
   ],
   "source": [
    "sum(t1)"
   ]
  },
  {
   "cell_type": "code",
   "execution_count": null,
   "id": "ba445d7a",
   "metadata": {},
   "outputs": [
    {
     "data": {
      "text/plain": [
       "1"
      ]
     },
     "execution_count": 28,
     "metadata": {},
     "output_type": "execute_result"
    }
   ],
   "source": [
    "min(t1)"
   ]
  },
  {
   "cell_type": "code",
   "execution_count": null,
   "id": "a6ad240f",
   "metadata": {},
   "outputs": [
    {
     "data": {
      "text/plain": [
       "3"
      ]
     },
     "execution_count": 29,
     "metadata": {},
     "output_type": "execute_result"
    }
   ],
   "source": [
    "max(t1)"
   ]
  },
  {
   "cell_type": "code",
   "execution_count": null,
   "id": "5761d4b9",
   "metadata": {},
   "outputs": [
    {
     "data": {
      "text/plain": [
       "[2, 3, 4, 7]"
      ]
     },
     "execution_count": 32,
     "metadata": {},
     "output_type": "execute_result"
    }
   ],
   "source": [
    "t2 = (4,2,7,3)\n",
    "sorted(t2)"
   ]
  },
  {
   "cell_type": "code",
   "execution_count": null,
   "id": "789efa13",
   "metadata": {},
   "outputs": [
    {
     "data": {
      "text/plain": [
       "[7, 4, 3, 2]"
      ]
     },
     "execution_count": 33,
     "metadata": {},
     "output_type": "execute_result"
    }
   ],
   "source": [
    "t2 = (4,2,7,3)\n",
    "sorted(t2, reverse=True)"
   ]
  },
  {
   "cell_type": "markdown",
   "id": "c0414f09",
   "metadata": {},
   "source": [
    "#### `count()`, `index()`"
   ]
  },
  {
   "cell_type": "code",
   "execution_count": null,
   "id": "38bf71ee",
   "metadata": {},
   "outputs": [
    {
     "data": {
      "text/plain": [
       "3"
      ]
     },
     "execution_count": 34,
     "metadata": {},
     "output_type": "execute_result"
    }
   ],
   "source": [
    "t = (1,1,1,2,2,3)\n",
    "t.count(1)"
   ]
  },
  {
   "cell_type": "code",
   "execution_count": null,
   "id": "cca6e21e",
   "metadata": {},
   "outputs": [
    {
     "data": {
      "text/plain": [
       "0"
      ]
     },
     "execution_count": 35,
     "metadata": {},
     "output_type": "execute_result"
    }
   ],
   "source": [
    "t.count(4)"
   ]
  },
  {
   "cell_type": "code",
   "execution_count": null,
   "id": "e49216bd",
   "metadata": {},
   "outputs": [
    {
     "data": {
      "text/plain": [
       "5"
      ]
     },
     "execution_count": 37,
     "metadata": {},
     "output_type": "execute_result"
    }
   ],
   "source": [
    "t.index(3)"
   ]
  },
  {
   "cell_type": "code",
   "execution_count": null,
   "id": "7b4f7aba",
   "metadata": {},
   "outputs": [
    {
     "ename": "ValueError",
     "evalue": "tuple.index(x): x not in tuple",
     "output_type": "error",
     "traceback": [
      "\u001b[31m---------------------------------------------------------------------------\u001b[39m",
      "\u001b[31mValueError\u001b[39m                                Traceback (most recent call last)",
      "\u001b[36mCell\u001b[39m\u001b[36m \u001b[39m\u001b[32mIn[38]\u001b[39m\u001b[32m, line 1\u001b[39m\n\u001b[32m----> \u001b[39m\u001b[32m1\u001b[39m \u001b[43mt\u001b[49m\u001b[43m.\u001b[49m\u001b[43mindex\u001b[49m\u001b[43m(\u001b[49m\u001b[32;43m4\u001b[39;49m\u001b[43m)\u001b[49m\n",
      "\u001b[31mValueError\u001b[39m: tuple.index(x): x not in tuple"
     ]
    }
   ],
   "source": [
    "t.index(4)"
   ]
  },
  {
   "cell_type": "markdown",
   "id": "71897108",
   "metadata": {},
   "source": [
    "--- \n",
    "## Difference between List and Tuple\n",
    "\n",
    "\n",
    "| Characteristics       | List                          | Tuple                         |\n",
    "|------------------------|-------------------------------|-------------------------------|\n",
    "| **Syntax**             | Square brackets `[ ]`         | Parentheses `( )`             |\n",
    "| **Mutability**         | Mutable (can be changed)      | Immutable (cannot be changed) |\n",
    "| **Speed**              | Slower (due to flexibility)   | Faster                        |\n",
    "| **Memory Usage**       | Uses more memory              | Uses less memory              |\n",
    "| **Built-in Functions** | More built-in functions       | Fewer built-in functions      |\n",
    "| **Error-Prone**        | More prone to accidental changes | Safer from unintended changes |\n",
    "| **Use Case**           | When frequent changes are needed | When data is fixed or constant |\n"
   ]
  },
  {
   "cell_type": "markdown",
   "id": "f78fcd93",
   "metadata": {},
   "source": [
    "--- \n",
    "## Special Syntax\n",
    "### Tuple Unpacking : "
   ]
  },
  {
   "cell_type": "code",
   "execution_count": null,
   "id": "8708cfd6",
   "metadata": {},
   "outputs": [
    {
     "name": "stdout",
     "output_type": "stream",
     "text": [
      "1 2 3\n"
     ]
    }
   ],
   "source": [
    "a, b, c = (1,2,3)\n",
    "print(a,b,c)"
   ]
  },
  {
   "cell_type": "code",
   "execution_count": null,
   "id": "e42fded0",
   "metadata": {},
   "outputs": [
    {
     "ename": "ValueError",
     "evalue": "too many values to unpack (expected 2)",
     "output_type": "error",
     "traceback": [
      "\u001b[31m---------------------------------------------------------------------------\u001b[39m",
      "\u001b[31mValueError\u001b[39m                                Traceback (most recent call last)",
      "\u001b[36mCell\u001b[39m\u001b[36m \u001b[39m\u001b[32mIn[42]\u001b[39m\u001b[32m, line 1\u001b[39m\n\u001b[32m----> \u001b[39m\u001b[32m1\u001b[39m a,b = (\u001b[32m1\u001b[39m,\u001b[32m2\u001b[39m,\u001b[32m3\u001b[39m)\n\u001b[32m      2\u001b[39m \u001b[38;5;28mprint\u001b[39m(a,b)\n",
      "\u001b[31mValueError\u001b[39m: too many values to unpack (expected 2)"
     ]
    }
   ],
   "source": [
    "a,b = (1,2,3)\n",
    "print(a,b)"
   ]
  },
  {
   "cell_type": "markdown",
   "id": "5baf10e7",
   "metadata": {},
   "source": [
    "> **Note:** When unpacking a tuple, the number of variables on the left must match the number of elements in the tuple.  \n",
    "> If there are too many values to unpack, Python will raise a `ValueError`.\n",
    "> To resolve this, Use an asterisk `*` to collect extra values into a list"
   ]
  },
  {
   "cell_type": "code",
   "execution_count": null,
   "id": "c8ec2418",
   "metadata": {},
   "outputs": [
    {
     "name": "stdout",
     "output_type": "stream",
     "text": [
      "1 2\n",
      "[3, 4]\n"
     ]
    }
   ],
   "source": [
    "a,b, *c = (1,2,3,4)\n",
    "print(a,b)\n",
    "print(c)"
   ]
  },
  {
   "cell_type": "markdown",
   "id": "d989aca5",
   "metadata": {},
   "source": [
    "### Tuple Unpacking to **Swap  values**"
   ]
  },
  {
   "cell_type": "code",
   "execution_count": null,
   "id": "c51c8bac",
   "metadata": {},
   "outputs": [
    {
     "name": "stdout",
     "output_type": "stream",
     "text": [
      "2 1\n"
     ]
    }
   ],
   "source": [
    "a = 1\n",
    "b = 2\n",
    "a, b = b, a\n",
    "print(a,b)"
   ]
  },
  {
   "cell_type": "markdown",
   "id": "cbd4bed8",
   "metadata": {},
   "source": [
    "### Tuple Zipping"
   ]
  },
  {
   "cell_type": "code",
   "execution_count": null,
   "id": "3be670cc",
   "metadata": {},
   "outputs": [
    {
     "data": {
      "text/plain": [
       "((1, 5), (2, 6), (3, 7), (4, 8))"
      ]
     },
     "execution_count": 47,
     "metadata": {},
     "output_type": "execute_result"
    }
   ],
   "source": [
    "a = (1,2,3,4)\n",
    "b = (5,6,7,8)\n",
    "\n",
    "tuple(zip (a,b))"
   ]
  },
  {
   "cell_type": "markdown",
   "id": "0f55941c",
   "metadata": {},
   "source": [
    "---\n",
    "---\n",
    "# **Sets in Python**\n",
    "A **set** is an **unordered collection** of  unique,immutable elements. Every set element is unique (no duplicated) and must be immutable (e.g. int, str, tuple) but set itself is **mutable** - meaning we can add, or remove elements.\n",
    "\n",
    "Sets can also be used to perform mathematical operations like Union, Intersection, Symmetric Difference etc. \n",
    "\n",
    "---\n",
    "\n",
    "## Characteristics\n",
    "- Unordered: No guaranteed order of elements\n",
    "\n",
    "- Mutable: Can add or remove elements after creation\n",
    "\n",
    "- No duplicates: All elements must be unique\n",
    "\n",
    "- Elements must be immutable:  A set can contain immutable data types only (e.g., int, str, tuple),  but **the set itself can be modified**\n",
    "\n",
    "- **Hashing** decides which element will go to which location. We will learn about hashing later. \n",
    "\n",
    "---\n",
    "\n",
    "## Creating Sets\n"
   ]
  },
  {
   "cell_type": "markdown",
   "id": "4fa8fc14",
   "metadata": {},
   "source": [
    "#### 1. Empty Sets"
   ]
  },
  {
   "cell_type": "code",
   "execution_count": null,
   "id": "c9fe87f9",
   "metadata": {},
   "outputs": [
    {
     "name": "stdout",
     "output_type": "stream",
     "text": [
      "{}\n",
      "<class 'dict'>\n"
     ]
    }
   ],
   "source": [
    "s = {}\n",
    "print(s)\n",
    "print(type(s))"
   ]
  },
  {
   "cell_type": "markdown",
   "id": "42f68195",
   "metadata": {},
   "source": [
    "> **Note:** In Python, using empty curly braces `{}` creates a dictionary, **not a set**.\n",
    "  \n",
    "> This is because both sets and dictionaries use curly brace syntax, but Python gives priority to dictionaries when the braces are empty.\n",
    "\n",
    "> To create an empty set, use `set()` instead of `{}`"
   ]
  },
  {
   "cell_type": "code",
   "execution_count": null,
   "id": "7987dc1c",
   "metadata": {},
   "outputs": [
    {
     "name": "stdout",
     "output_type": "stream",
     "text": [
      "<class 'set'>\n"
     ]
    }
   ],
   "source": [
    "s2 = set()\n",
    "print(type(s2))"
   ]
  },
  {
   "cell_type": "markdown",
   "id": "4c215adb",
   "metadata": {},
   "source": [
    "#### 2. 1D set"
   ]
  },
  {
   "cell_type": "code",
   "execution_count": null,
   "id": "bdd6b827",
   "metadata": {},
   "outputs": [
    {
     "name": "stdout",
     "output_type": "stream",
     "text": [
      "{1, 2, 3}\n"
     ]
    }
   ],
   "source": [
    "s1 = {1,2,3}\n",
    "print(s1)"
   ]
  },
  {
   "cell_type": "markdown",
   "id": "b8e7c986",
   "metadata": {},
   "source": [
    "#### 3. 2D Set : Cannot create (Will throw Error)\n"
   ]
  },
  {
   "cell_type": "code",
   "execution_count": null,
   "id": "d4fc11dd",
   "metadata": {},
   "outputs": [
    {
     "ename": "TypeError",
     "evalue": "unhashable type: 'set'",
     "output_type": "error",
     "traceback": [
      "\u001b[31m---------------------------------------------------------------------------\u001b[39m",
      "\u001b[31mTypeError\u001b[39m                                 Traceback (most recent call last)",
      "\u001b[36mCell\u001b[39m\u001b[36m \u001b[39m\u001b[32mIn[53]\u001b[39m\u001b[32m, line 1\u001b[39m\n\u001b[32m----> \u001b[39m\u001b[32m1\u001b[39m s = {\u001b[32m1\u001b[39m,\u001b[32m2\u001b[39m,\u001b[32m3\u001b[39m,{\u001b[32m4\u001b[39m,\u001b[32m5\u001b[39m}}\n\u001b[32m      2\u001b[39m \u001b[38;5;28mprint\u001b[39m(s)\n",
      "\u001b[31mTypeError\u001b[39m: unhashable type: 'set'"
     ]
    }
   ],
   "source": [
    "s = {1,2,3,{4,5}}\n",
    "print(s)"
   ]
  },
  {
   "cell_type": "markdown",
   "id": "d380e82c",
   "metadata": {},
   "source": [
    "#### 4. Heterogeneous Sets"
   ]
  },
  {
   "cell_type": "code",
   "execution_count": null,
   "id": "01e1e2d5",
   "metadata": {},
   "outputs": [
    {
     "name": "stdout",
     "output_type": "stream",
     "text": [
      "{1, (1, 2, 3), 4.5, 'hello'}\n"
     ]
    }
   ],
   "source": [
    "s = {1, 'hello', 4.5, True, (1,2,3)}\n",
    "print(s)"
   ]
  },
  {
   "cell_type": "markdown",
   "id": "89451c42",
   "metadata": {},
   "source": [
    "> **Why:** In Python, `True` is treated as `1`. \n",
    "\n",
    "> So, if both `1` and `True` are added to a set, only one of them is stored, because **sets do not allow duplicate elements**.\n",
    "\n",
    "> Also, sets are unordered, so the output will not be in the same order of the input. We cannot predict the order of output. "
   ]
  },
  {
   "cell_type": "markdown",
   "id": "33a783f2",
   "metadata": {},
   "source": [
    "#### 5. Sets type conversion"
   ]
  },
  {
   "cell_type": "code",
   "execution_count": null,
   "id": "b3634703",
   "metadata": {},
   "outputs": [
    {
     "name": "stdout",
     "output_type": "stream",
     "text": [
      "{1, 2, 3, 4}\n"
     ]
    }
   ],
   "source": [
    "s4 = set([1,2,3,4])\n",
    "print(s4)"
   ]
  },
  {
   "cell_type": "markdown",
   "id": "c42892bd",
   "metadata": {},
   "source": [
    "#### 6. Sets can't have mutable items"
   ]
  },
  {
   "cell_type": "code",
   "execution_count": null,
   "id": "ea454fdc",
   "metadata": {},
   "outputs": [
    {
     "ename": "TypeError",
     "evalue": "unhashable type: 'set'",
     "output_type": "error",
     "traceback": [
      "\u001b[31m---------------------------------------------------------------------------\u001b[39m",
      "\u001b[31mTypeError\u001b[39m                                 Traceback (most recent call last)",
      "\u001b[36mCell\u001b[39m\u001b[36m \u001b[39m\u001b[32mIn[4]\u001b[39m\u001b[32m, line 1\u001b[39m\n\u001b[32m----> \u001b[39m\u001b[32m1\u001b[39m s5 = {\u001b[32m1\u001b[39m,\u001b[32m2\u001b[39m,\u001b[32m3\u001b[39m,{\u001b[32m4\u001b[39m,\u001b[32m5\u001b[39m}} \u001b[38;5;66;03m#set inside set\u001b[39;00m\n\u001b[32m      2\u001b[39m \u001b[38;5;28mprint\u001b[39m(s5)\n",
      "\u001b[31mTypeError\u001b[39m: unhashable type: 'set'"
     ]
    }
   ],
   "source": [
    "s5 = {1,2,3,{4,5}} #set inside set\n",
    "print(s5)"
   ]
  },
  {
   "cell_type": "markdown",
   "id": "acfba7b4",
   "metadata": {},
   "source": [
    "> **Note:** Set inside set is not possible, as set is a mutable type. And a set cannot contain mutable type (or we can say 1 set cannot contain another set)"
   ]
  },
  {
   "cell_type": "markdown",
   "id": "56caa822",
   "metadata": {},
   "source": [
    "#### 7. Cannot contain duplicates\n"
   ]
  },
  {
   "cell_type": "code",
   "execution_count": null,
   "id": "140108d3",
   "metadata": {},
   "outputs": [
    {
     "name": "stdout",
     "output_type": "stream",
     "text": [
      "{1, 2}\n"
     ]
    }
   ],
   "source": [
    "s6 = {1,1,1,1,2,2}\n",
    "print(s6)"
   ]
  },
  {
   "cell_type": "markdown",
   "id": "93bdf3ac",
   "metadata": {},
   "source": [
    "#### Predict the answer of this code"
   ]
  },
  {
   "cell_type": "code",
   "execution_count": null,
   "id": "a56c9574",
   "metadata": {},
   "outputs": [
    {
     "name": "stdout",
     "output_type": "stream",
     "text": [
      "True\n"
     ]
    }
   ],
   "source": [
    "s1 = {1,2,3}\n",
    "s2 = {3,2,1}\n",
    "\n",
    "print(s1 == s2)"
   ]
  },
  {
   "cell_type": "code",
   "execution_count": null,
   "id": "a9552e0f",
   "metadata": {},
   "outputs": [
    {
     "name": "stdout",
     "output_type": "stream",
     "text": [
      "{1, 2, 3} {1, 2, 3}\n"
     ]
    }
   ],
   "source": [
    "print(s1,s2)"
   ]
  },
  {
   "cell_type": "markdown",
   "id": "5c910f06",
   "metadata": {},
   "source": [
    "---\n",
    "## Accesing Items : Not allowed"
   ]
  },
  {
   "cell_type": "code",
   "execution_count": null,
   "id": "bb9ea219",
   "metadata": {},
   "outputs": [
    {
     "ename": "TypeError",
     "evalue": "'set' object is not subscriptable",
     "output_type": "error",
     "traceback": [
      "\u001b[31m---------------------------------------------------------------------------\u001b[39m",
      "\u001b[31mTypeError\u001b[39m                                 Traceback (most recent call last)",
      "\u001b[36mCell\u001b[39m\u001b[36m \u001b[39m\u001b[32mIn[9]\u001b[39m\u001b[32m, line 2\u001b[39m\n\u001b[32m      1\u001b[39m s1 = {\u001b[32m1\u001b[39m,\u001b[32m2\u001b[39m,\u001b[32m3\u001b[39m,\u001b[32m4\u001b[39m}\n\u001b[32m----> \u001b[39m\u001b[32m2\u001b[39m \u001b[43ms1\u001b[49m\u001b[43m[\u001b[49m\u001b[32;43m0\u001b[39;49m\u001b[43m]\u001b[49m\n",
      "\u001b[31mTypeError\u001b[39m: 'set' object is not subscriptable"
     ]
    }
   ],
   "source": [
    "s1 = {1,2,3,4}\n",
    "s1[0]"
   ]
  },
  {
   "cell_type": "markdown",
   "id": "956f1abd",
   "metadata": {},
   "source": [
    "> **Note:** Error because set is unordered, we cannot access a element by index\n",
    "\n",
    "* Positive index not allowed\n",
    "*  Negative index not allowed\n",
    "*  Slicing not allowed"
   ]
  },
  {
   "cell_type": "markdown",
   "id": "90f72217",
   "metadata": {},
   "source": [
    "---\n",
    "## Editing items - Not allowed"
   ]
  },
  {
   "cell_type": "code",
   "execution_count": null,
   "id": "1aacb1c2",
   "metadata": {},
   "outputs": [
    {
     "ename": "TypeError",
     "evalue": "'set' object does not support item assignment",
     "output_type": "error",
     "traceback": [
      "\u001b[31m---------------------------------------------------------------------------\u001b[39m",
      "\u001b[31mTypeError\u001b[39m                                 Traceback (most recent call last)",
      "\u001b[36mCell\u001b[39m\u001b[36m \u001b[39m\u001b[32mIn[10]\u001b[39m\u001b[32m, line 2\u001b[39m\n\u001b[32m      1\u001b[39m s1 = {\u001b[32m1\u001b[39m,\u001b[32m2\u001b[39m,\u001b[32m3\u001b[39m,\u001b[32m4\u001b[39m}\n\u001b[32m----> \u001b[39m\u001b[32m2\u001b[39m \u001b[43ms1\u001b[49m\u001b[43m[\u001b[49m\u001b[32;43m0\u001b[39;49m\u001b[43m]\u001b[49m = \u001b[32m100\u001b[39m\n",
      "\u001b[31mTypeError\u001b[39m: 'set' object does not support item assignment"
     ]
    }
   ],
   "source": [
    "s1 = {1,2,3,4}\n",
    "s1[0] = 100"
   ]
  },
  {
   "cell_type": "markdown",
   "id": "f4d831d0",
   "metadata": {},
   "source": [
    "> **Note:** Once an item is added to a Python set, you can't access or modify it directly.\n",
    "\n",
    "> But we can add or delete items"
   ]
  },
  {
   "cell_type": "markdown",
   "id": "e7c9c4fc",
   "metadata": {},
   "source": [
    "---\n",
    "## Adding items"
   ]
  },
  {
   "cell_type": "markdown",
   "id": "8373bcaa",
   "metadata": {},
   "source": [
    "#### 1. Using ``add()`` function: add 1 item\n",
    "- We cannot predict at which position new item will be placed"
   ]
  },
  {
   "cell_type": "code",
   "execution_count": null,
   "id": "2ef86cde",
   "metadata": {},
   "outputs": [
    {
     "name": "stdout",
     "output_type": "stream",
     "text": [
      "{1, 2, 3, 4, 5}\n"
     ]
    }
   ],
   "source": [
    "s = {1,2,3,4}\n",
    "s.add(5)\n",
    "print(s)"
   ]
  },
  {
   "cell_type": "markdown",
   "id": "5704db91",
   "metadata": {},
   "source": [
    "#### 2. Using `update()` function : add multiple items"
   ]
  },
  {
   "cell_type": "code",
   "execution_count": null,
   "id": "16c21a17",
   "metadata": {},
   "outputs": [
    {
     "name": "stdout",
     "output_type": "stream",
     "text": [
      "{1, 2, 3, 4, 5, 9, 10}\n"
     ]
    }
   ],
   "source": [
    "s.update([9,10])\n",
    "print(s)"
   ]
  },
  {
   "cell_type": "markdown",
   "id": "568ea5f7",
   "metadata": {},
   "source": [
    "---\n",
    "## Deleting items\n",
    "\n",
    "#### 1. using `del()` keyword"
   ]
  },
  {
   "cell_type": "code",
   "execution_count": null,
   "id": "591a3ab9",
   "metadata": {},
   "outputs": [],
   "source": [
    "s = {1,2,3,4}\n",
    "del(s)"
   ]
  },
  {
   "cell_type": "markdown",
   "id": "75339c55",
   "metadata": {},
   "source": [
    "> **Note:** Indexwise deletion not possible, we can only delete the whole set using `del()` keyword"
   ]
  },
  {
   "cell_type": "code",
   "execution_count": null,
   "id": "e6a89aee",
   "metadata": {},
   "outputs": [
    {
     "ename": "TypeError",
     "evalue": "'set' object doesn't support item deletion",
     "output_type": "error",
     "traceback": [
      "\u001b[31m---------------------------------------------------------------------------\u001b[39m",
      "\u001b[31mTypeError\u001b[39m                                 Traceback (most recent call last)",
      "\u001b[36mCell\u001b[39m\u001b[36m \u001b[39m\u001b[32mIn[15]\u001b[39m\u001b[32m, line 2\u001b[39m\n\u001b[32m      1\u001b[39m s = {\u001b[32m1\u001b[39m,\u001b[32m2\u001b[39m,\u001b[32m3\u001b[39m,\u001b[32m4\u001b[39m}\n\u001b[32m----> \u001b[39m\u001b[32m2\u001b[39m \u001b[38;5;28;01mdel\u001b[39;00m(\u001b[43ms\u001b[49m\u001b[43m[\u001b[49m\u001b[32;43m0\u001b[39;49m\u001b[43m]\u001b[49m)\n",
      "\u001b[31mTypeError\u001b[39m: 'set' object doesn't support item deletion"
     ]
    }
   ],
   "source": [
    "s = {1,2,3,4}\n",
    "del(s[0])"
   ]
  },
  {
   "cell_type": "markdown",
   "id": "690115cb",
   "metadata": {},
   "source": [
    "#### 2. using `discard()` keyword  - delete itemwise"
   ]
  },
  {
   "cell_type": "code",
   "execution_count": null,
   "id": "851cce83",
   "metadata": {},
   "outputs": [
    {
     "name": "stdout",
     "output_type": "stream",
     "text": [
      "{20, 40, 10, 30}\n"
     ]
    }
   ],
   "source": [
    "s = {10,20,30,40,50}\n",
    "s.discard(50)\n",
    "print(s)"
   ]
  },
  {
   "cell_type": "markdown",
   "id": "91464935",
   "metadata": {},
   "source": [
    "> **Note:** If we try to discard an item that does not exist in the set, the `discard()` method will do nothing and ***will not raise an error***.\n"
   ]
  },
  {
   "cell_type": "code",
   "execution_count": null,
   "id": "47a569c5",
   "metadata": {},
   "outputs": [
    {
     "name": "stdout",
     "output_type": "stream",
     "text": [
      "{20, 40, 10, 30}\n"
     ]
    }
   ],
   "source": [
    "s.discard(55)\n",
    "print(s)"
   ]
  },
  {
   "cell_type": "markdown",
   "id": "b7d6f4d4",
   "metadata": {},
   "source": [
    "#### 3. using `remove()` keyword  - delete itemwise"
   ]
  },
  {
   "cell_type": "code",
   "execution_count": null,
   "id": "85bd29dd",
   "metadata": {},
   "outputs": [
    {
     "name": "stdout",
     "output_type": "stream",
     "text": [
      "{50, 20, 40, 30}\n"
     ]
    }
   ],
   "source": [
    "s = {10,20,30,40,50}\n",
    "s.remove(10)\n",
    "print(s)"
   ]
  },
  {
   "cell_type": "code",
   "execution_count": null,
   "id": "c0061b99",
   "metadata": {},
   "outputs": [
    {
     "ename": "KeyError",
     "evalue": "60",
     "output_type": "error",
     "traceback": [
      "\u001b[31m---------------------------------------------------------------------------\u001b[39m",
      "\u001b[31mKeyError\u001b[39m                                  Traceback (most recent call last)",
      "\u001b[36mCell\u001b[39m\u001b[36m \u001b[39m\u001b[32mIn[3]\u001b[39m\u001b[32m, line 2\u001b[39m\n\u001b[32m      1\u001b[39m s = {\u001b[32m10\u001b[39m,\u001b[32m20\u001b[39m,\u001b[32m30\u001b[39m,\u001b[32m40\u001b[39m,\u001b[32m50\u001b[39m}\n\u001b[32m----> \u001b[39m\u001b[32m2\u001b[39m \u001b[43ms\u001b[49m\u001b[43m.\u001b[49m\u001b[43mremove\u001b[49m\u001b[43m(\u001b[49m\u001b[32;43m60\u001b[39;49m\u001b[43m)\u001b[49m\n\u001b[32m      3\u001b[39m \u001b[38;5;28mprint\u001b[39m(s)\n",
      "\u001b[31mKeyError\u001b[39m: 60"
     ]
    }
   ],
   "source": [
    "s = {10,20,30,40,50}\n",
    "s.remove(60)\n",
    "print(s)"
   ]
  },
  {
   "cell_type": "markdown",
   "id": "fd625273",
   "metadata": {},
   "source": [
    "> **Note:** Both `discard()` and `remove()` perform the same task of deleting an item from a set. However, the key difference between them is: if we try to `discard()` an item that is not present in the set, it does nothing and does not raise an error. On the other hand, `remove()` will raise an error if the item is not found in the set.\n"
   ]
  },
  {
   "cell_type": "markdown",
   "id": "0bceb707",
   "metadata": {},
   "source": [
    "#### 4. using `pop()` keyword  - delete **random** item"
   ]
  },
  {
   "cell_type": "code",
   "execution_count": null,
   "id": "27963ac7",
   "metadata": {},
   "outputs": [
    {
     "name": "stdout",
     "output_type": "stream",
     "text": [
      "{20, 40, 10, 30}\n",
      "{40, 10, 30}\n",
      "{10, 30}\n",
      "{30}\n"
     ]
    }
   ],
   "source": [
    "s = {10,20,30,40,50}\n",
    "s.pop()\n",
    "print(s)\n",
    "\n",
    "s.pop()\n",
    "print(s)\n",
    "\n",
    "s.pop()\n",
    "print(s)\n",
    "\n",
    "s.pop()\n",
    "print(s)"
   ]
  },
  {
   "cell_type": "markdown",
   "id": "e0adc1e4",
   "metadata": {},
   "source": [
    "#### 4. Using `clear()` method – It does not delete the set itself, but removes all items from the set, making it empty.\n"
   ]
  },
  {
   "cell_type": "code",
   "execution_count": null,
   "id": "a165bd78",
   "metadata": {},
   "outputs": [
    {
     "name": "stdout",
     "output_type": "stream",
     "text": [
      "set()\n"
     ]
    }
   ],
   "source": [
    "s = {1,2,3,4}\n",
    "s.clear()\n",
    "print(s)"
   ]
  },
  {
   "cell_type": "markdown",
   "id": "1effd847",
   "metadata": {},
   "source": [
    "---\n",
    "## Set Operations\n",
    "\n",
    "#### 1. Union Operation `(|)`\n"
   ]
  },
  {
   "cell_type": "code",
   "execution_count": null,
   "id": "fbe8eb66",
   "metadata": {},
   "outputs": [
    {
     "data": {
      "text/plain": [
       "{1, 2, 3, 4, 5, 6, 8, 10}"
      ]
     },
     "execution_count": 17,
     "metadata": {},
     "output_type": "execute_result"
    }
   ],
   "source": [
    "s1 = {1,2,3,4,5}\n",
    "s2 = {2,4,6,8,10}\n",
    "\n",
    "s1|s2"
   ]
  },
  {
   "cell_type": "markdown",
   "id": "cbeb5cca",
   "metadata": {},
   "source": [
    "#### 2. Intersection Operation `(&)`"
   ]
  },
  {
   "cell_type": "code",
   "execution_count": null,
   "id": "9c077504",
   "metadata": {},
   "outputs": [
    {
     "data": {
      "text/plain": [
       "{2, 4}"
      ]
     },
     "execution_count": 18,
     "metadata": {},
     "output_type": "execute_result"
    }
   ],
   "source": [
    "s1 & s2"
   ]
  },
  {
   "cell_type": "markdown",
   "id": "a477f323",
   "metadata": {},
   "source": [
    "#### 3. Difference `(-)`\n",
    "\n",
    "> ``x ∈ (A - B)`` if and only if ``x ∈ A AND x ∉ B``"
   ]
  },
  {
   "cell_type": "code",
   "execution_count": null,
   "id": "8cb27e90",
   "metadata": {},
   "outputs": [
    {
     "name": "stdout",
     "output_type": "stream",
     "text": [
      "{1, 3, 5}\n",
      "{8, 10, 6}\n"
     ]
    }
   ],
   "source": [
    "print(s1-s2)\n",
    "print(s2-s1)"
   ]
  },
  {
   "cell_type": "markdown",
   "id": "c70294a4",
   "metadata": {},
   "source": [
    "#### 4. Symmetrical Difference `(^)`\n",
    "\n",
    ">  ``x ∈ (A ⊕ B)`` if and only if ``(x ∈ A AND x ∉ B)  OR (x ∈ B AND x ∉ A)``\n",
    "\n",
    "> An element belongs to the symmetric difference of A and B if it is in exactly one of the sets — either in A or in B, but not in both.\n",
    "\n",
    "In words:"
   ]
  },
  {
   "cell_type": "code",
   "execution_count": null,
   "id": "8e2a9626",
   "metadata": {},
   "outputs": [
    {
     "name": "stdout",
     "output_type": "stream",
     "text": [
      "{1, 3, 5, 6, 8, 10}\n",
      "{1, 3, 5, 6, 8, 10}\n"
     ]
    }
   ],
   "source": [
    "print(s1 ^ s2)\n",
    "print(s2 ^ s1)"
   ]
  },
  {
   "cell_type": "markdown",
   "id": "c8e517a3",
   "metadata": {},
   "source": [
    "#### 5. Membership Test"
   ]
  },
  {
   "cell_type": "code",
   "execution_count": null,
   "id": "1ea6327c",
   "metadata": {},
   "outputs": [
    {
     "data": {
      "text/plain": [
       "True"
      ]
     },
     "execution_count": 23,
     "metadata": {},
     "output_type": "execute_result"
    }
   ],
   "source": [
    "s = {1,2,3,4}\n",
    "\n",
    "1 in s"
   ]
  },
  {
   "cell_type": "markdown",
   "id": "8ea6d455",
   "metadata": {},
   "source": [
    "#### 6. Iteration"
   ]
  },
  {
   "cell_type": "code",
   "execution_count": null,
   "id": "a6d53671",
   "metadata": {},
   "outputs": [
    {
     "name": "stdout",
     "output_type": "stream",
     "text": [
      "1\n",
      "2\n",
      "3\n",
      "4\n"
     ]
    }
   ],
   "source": [
    "for i in s: \n",
    "    print(i)"
   ]
  },
  {
   "cell_type": "markdown",
   "id": "4920a43f",
   "metadata": {},
   "source": [
    "---\n",
    "## Set functions"
   ]
  },
  {
   "cell_type": "markdown",
   "id": "e25ba379",
   "metadata": {},
   "source": [
    "#### 1. `len(), sum(), min(), max(), sorted()`"
   ]
  },
  {
   "cell_type": "code",
   "execution_count": null,
   "id": "a830f806",
   "metadata": {},
   "outputs": [
    {
     "name": "stdout",
     "output_type": "stream",
     "text": [
      "4\n",
      "10\n",
      "1\n",
      "4\n",
      "[1, 2, 3, 4]\n",
      "[4, 3, 2, 1]\n"
     ]
    }
   ],
   "source": [
    "s = {2,4,1,3}\n",
    "print(len(s))\n",
    "print(sum(s))\n",
    "print(min(s))\n",
    "print(max(s))\n",
    "print(sorted(s))\n",
    "print(sorted(s, reverse = True))"
   ]
  },
  {
   "cell_type": "markdown",
   "id": "82508928",
   "metadata": {},
   "source": [
    "2. `union(), update()`"
   ]
  },
  {
   "cell_type": "code",
   "execution_count": null,
   "id": "44d49e4e",
   "metadata": {},
   "outputs": [
    {
     "data": {
      "text/plain": [
       "{1, 2, 3, 4, 6, 8}"
      ]
     },
     "execution_count": 27,
     "metadata": {},
     "output_type": "execute_result"
    }
   ],
   "source": [
    "s1 = {1,2,3,4}\n",
    "s2 = {2,4,6,8}\n",
    "\n",
    "s1.union(s2)"
   ]
  },
  {
   "cell_type": "code",
   "execution_count": null,
   "id": "7429613d",
   "metadata": {},
   "outputs": [
    {
     "name": "stdout",
     "output_type": "stream",
     "text": [
      "{1, 2, 3, 4, 6, 8}\n",
      "{8, 2, 4, 6}\n"
     ]
    }
   ],
   "source": [
    "s1.update(s2)\n",
    "print(s1)\n",
    "print(s2)"
   ]
  },
  {
   "cell_type": "markdown",
   "id": "3a98b8cf",
   "metadata": {},
   "source": [
    "> **Note:** update(), do a permanent union of first set. "
   ]
  },
  {
   "cell_type": "markdown",
   "id": "60ba9586",
   "metadata": {},
   "source": [
    "#### 3. ``intersection(), intersection_update()``"
   ]
  },
  {
   "cell_type": "code",
   "execution_count": null,
   "id": "c7a8e39e",
   "metadata": {},
   "outputs": [
    {
     "data": {
      "text/plain": [
       "{1, 2, 3, 4}"
      ]
     },
     "execution_count": 30,
     "metadata": {},
     "output_type": "execute_result"
    }
   ],
   "source": [
    "s1 = {1,2,3,4}\n",
    "s2 = {2,4,6,8}\n",
    "\n",
    "s1.intersection()"
   ]
  },
  {
   "cell_type": "code",
   "execution_count": null,
   "id": "6c8f31f1",
   "metadata": {},
   "outputs": [
    {
     "name": "stdout",
     "output_type": "stream",
     "text": [
      "{2, 4}\n",
      "{8, 2, 4, 6}\n"
     ]
    }
   ],
   "source": [
    "s1 = {1,2,3,4}\n",
    "s2 = {2,4,6,8}\n",
    "\n",
    "s1.intersection_update(s2)\n",
    "\n",
    "print(s1)\n",
    "print(s2)"
   ]
  },
  {
   "cell_type": "markdown",
   "id": "aa44d702",
   "metadata": {},
   "source": [
    "#### 4. `differemce(), difference_update()`"
   ]
  },
  {
   "cell_type": "code",
   "execution_count": null,
   "id": "5632cb00",
   "metadata": {},
   "outputs": [
    {
     "data": {
      "text/plain": [
       "{1, 3}"
      ]
     },
     "execution_count": 33,
     "metadata": {},
     "output_type": "execute_result"
    }
   ],
   "source": [
    "s1 = {1,2,3,4}\n",
    "s2 = {2,4,6,8}\n",
    "\n",
    "s1.difference(s2)\n"
   ]
  },
  {
   "cell_type": "code",
   "execution_count": null,
   "id": "1bc7245b",
   "metadata": {},
   "outputs": [
    {
     "name": "stdout",
     "output_type": "stream",
     "text": [
      "{1, 3}\n",
      "{8, 2, 4, 6}\n"
     ]
    }
   ],
   "source": [
    "s1 = {1,2,3,4}\n",
    "s2 = {2,4,6,8}\n",
    "\n",
    "s1.difference_update(s2)\n",
    "\n",
    "print(s1)\n",
    "print(s2)\n"
   ]
  },
  {
   "cell_type": "markdown",
   "id": "f50ce31e",
   "metadata": {},
   "source": [
    "#### 5. `symmetric_differemce(), symmetric_difference_update()`"
   ]
  },
  {
   "cell_type": "code",
   "execution_count": null,
   "id": "51f56b1c",
   "metadata": {},
   "outputs": [
    {
     "data": {
      "text/plain": [
       "{1, 3, 6, 8}"
      ]
     },
     "execution_count": 36,
     "metadata": {},
     "output_type": "execute_result"
    }
   ],
   "source": [
    "s1 = {1,2,3,4}\n",
    "s2 = {2,4,6,8}\n",
    "\n",
    "s1.symmetric_difference(s2)\n"
   ]
  },
  {
   "cell_type": "code",
   "execution_count": null,
   "id": "f0e2eff4",
   "metadata": {},
   "outputs": [
    {
     "name": "stdout",
     "output_type": "stream",
     "text": [
      "{1, 3, 6, 8}\n",
      "{8, 2, 4, 6}\n"
     ]
    }
   ],
   "source": [
    "s1 = {1,2,3,4}\n",
    "s2 = {2,4,6,8}\n",
    "\n",
    "s1.symmetric_difference_update(s2)\n",
    "\n",
    "print(s1)\n",
    "print(s2)\n"
   ]
  },
  {
   "cell_type": "markdown",
   "id": "a1c40caf",
   "metadata": {},
   "source": [
    "#### 6. `isdisjoint()`\n",
    "\n",
    "In **set theory**, **two sets are called *disjoint*** if they have **no elements in common**. That means their **intersection is the empty set**.\n",
    "\n",
    "Two sets $A$ and $B$ are **disjoint** if:\n",
    "\n",
    "$$\n",
    "A \\cap B = \\emptyset\n",
    "$$\n",
    "\n",
    "Where $\\cap$ denotes intersection, and $\\emptyset$ means \"empty set\" (i.e., no shared elements).\n"
   ]
  },
  {
   "cell_type": "code",
   "execution_count": null,
   "id": "496a7347",
   "metadata": {},
   "outputs": [
    {
     "data": {
      "text/plain": [
       "False"
      ]
     },
     "execution_count": 39,
     "metadata": {},
     "output_type": "execute_result"
    }
   ],
   "source": [
    "s1 = {1,2,3,4}\n",
    "s2 = {3,4,5,6}\n",
    "\n",
    "s1.isdisjoint(s2)\n"
   ]
  },
  {
   "cell_type": "code",
   "execution_count": null,
   "id": "9938a27d",
   "metadata": {},
   "outputs": [
    {
     "data": {
      "text/plain": [
       "False"
      ]
     },
     "execution_count": 44,
     "metadata": {},
     "output_type": "execute_result"
    }
   ],
   "source": [
    "s1 = {1,2,3}\n",
    "s2 = {4,5,6}\n",
    "\n",
    "s1.isdisjoint(s2)\n"
   ]
  },
  {
   "cell_type": "markdown",
   "id": "f7f712d3",
   "metadata": {},
   "source": [
    "#### 7. `subset()`\n",
    "\n",
    "\n",
    "A set $A$ is a **subset** of set $B$ if **every element of $A$ is also an element of $B$**.\n",
    "\n",
    "$$\n",
    "A \\subseteq B \\iff \\forall x (x \\in A \\Rightarrow x \\in B)\n",
    "$$"
   ]
  },
  {
   "cell_type": "code",
   "execution_count": null,
   "id": "64e7c1f8",
   "metadata": {},
   "outputs": [
    {
     "data": {
      "text/plain": [
       "False"
      ]
     },
     "execution_count": 41,
     "metadata": {},
     "output_type": "execute_result"
    }
   ],
   "source": [
    "s1 = {1,2,3,4}\n",
    "s2 = {3,4,5,6}\n",
    "\n",
    "s1.issubset(s2)\n"
   ]
  },
  {
   "cell_type": "code",
   "execution_count": null,
   "id": "4aeb59fa",
   "metadata": {},
   "outputs": [
    {
     "data": {
      "text/plain": [
       "True"
      ]
     },
     "execution_count": 42,
     "metadata": {},
     "output_type": "execute_result"
    }
   ],
   "source": [
    "s1 = {3,4}\n",
    "s2 = {3,4,5,6}\n",
    "\n",
    "s1.issubset(s2)\n"
   ]
  },
  {
   "cell_type": "markdown",
   "id": "1a96447f",
   "metadata": {},
   "source": [
    "#### 8. ``superset()``\n",
    "\n",
    "A set $A$ is a **superset** of set $B$ if **every element of $B$ is also in $A$**.\n",
    "\n",
    "\n",
    "$$\n",
    "A \\supseteq B \\iff \\forall x (x \\in B \\Rightarrow x \\in A)\n",
    "$$"
   ]
  },
  {
   "cell_type": "code",
   "execution_count": null,
   "id": "17327998",
   "metadata": {},
   "outputs": [
    {
     "data": {
      "text/plain": [
       "False"
      ]
     },
     "execution_count": 45,
     "metadata": {},
     "output_type": "execute_result"
    }
   ],
   "source": [
    "s1 = {1,2,3,4}\n",
    "s2 = {3,4,5,6}\n",
    "\n",
    "s1.issuperset(s2)\n"
   ]
  },
  {
   "cell_type": "code",
   "execution_count": null,
   "id": "c41a16c6",
   "metadata": {},
   "outputs": [
    {
     "data": {
      "text/plain": [
       "True"
      ]
     },
     "execution_count": 46,
     "metadata": {},
     "output_type": "execute_result"
    }
   ],
   "source": [
    "s1 = {1,2,3,4}\n",
    "s2 = {3,4}\n",
    "\n",
    "s1.issuperset(s2)\n"
   ]
  },
  {
   "cell_type": "markdown",
   "id": "97873adf",
   "metadata": {},
   "source": [
    "#### 9. `copy()`"
   ]
  },
  {
   "cell_type": "code",
   "execution_count": null,
   "id": "f46a2c84",
   "metadata": {},
   "outputs": [
    {
     "name": "stdout",
     "output_type": "stream",
     "text": [
      "{1, 2, 3}\n",
      "2033806290592\n",
      "2033806280064\n"
     ]
    }
   ],
   "source": [
    "s1 = {1,2,3}\n",
    "s2 = s1.copy()\n",
    "\n",
    "print(s2)\n",
    "print(id(s1))\n",
    "print(id(s2))"
   ]
  },
  {
   "cell_type": "markdown",
   "id": "f26f94a8",
   "metadata": {},
   "source": [
    "---\n",
    "\n",
    "## Frozen Set\n",
    "Frozen set is just an immutable version of a Python set obiect"
   ]
  },
  {
   "cell_type": "markdown",
   "id": "18d86f40",
   "metadata": {},
   "source": [
    "#### 1. Create Frozenset"
   ]
  },
  {
   "cell_type": "code",
   "execution_count": null,
   "id": "65a59ce8",
   "metadata": {},
   "outputs": [
    {
     "data": {
      "text/plain": [
       "frozenset({1, 2, 3})"
      ]
     },
     "execution_count": 50,
     "metadata": {},
     "output_type": "execute_result"
    }
   ],
   "source": [
    "fs = frozenset((1,2,3))\n",
    "fs"
   ]
  },
  {
   "cell_type": "code",
   "execution_count": null,
   "id": "cf23b223",
   "metadata": {},
   "outputs": [
    {
     "data": {
      "text/plain": [
       "frozenset({1, 2, 3})"
      ]
     },
     "execution_count": 52,
     "metadata": {},
     "output_type": "execute_result"
    }
   ],
   "source": [
    "fs = frozenset({1,2,3})\n",
    "fs"
   ]
  },
  {
   "cell_type": "markdown",
   "id": "4df7f482",
   "metadata": {},
   "source": [
    "> **Note:** In python **frozen set** all read function will work. And all write function will not not work"
   ]
  },
  {
   "cell_type": "markdown",
   "id": "a5957193",
   "metadata": {},
   "source": [
    "#### 2. 2D frozen fast"
   ]
  },
  {
   "cell_type": "code",
   "execution_count": null,
   "id": "7bce3345",
   "metadata": {},
   "outputs": [
    {
     "name": "stdout",
     "output_type": "stream",
     "text": [
      "frozenset({frozenset({3, 4}), 1, 2})\n"
     ]
    }
   ],
   "source": [
    "fs = frozenset([1,2, frozenset({3,4})])\n",
    "print(fs)"
   ]
  },
  {
   "cell_type": "markdown",
   "id": "3542c10e",
   "metadata": {},
   "source": [
    "---\n",
    "## Set Comprehension"
   ]
  },
  {
   "cell_type": "code",
   "execution_count": null,
   "id": "27926c60",
   "metadata": {},
   "outputs": [
    {
     "data": {
      "text/plain": [
       "{1, 2, 3, 4, 5, 6, 7, 8, 9, 10}"
      ]
     },
     "execution_count": 54,
     "metadata": {},
     "output_type": "execute_result"
    }
   ],
   "source": [
    "{i for i in range(1,11)}"
   ]
  },
  {
   "cell_type": "code",
   "execution_count": null,
   "id": "18403403",
   "metadata": {},
   "outputs": [
    {
     "data": {
      "text/plain": [
       "{1, 4, 9, 16, 25, 36, 49, 64, 81, 100}"
      ]
     },
     "execution_count": 55,
     "metadata": {},
     "output_type": "execute_result"
    }
   ],
   "source": [
    "{i**2 for i in range(1,11)}"
   ]
  },
  {
   "cell_type": "code",
   "execution_count": null,
   "id": "efe44a4c",
   "metadata": {},
   "outputs": [
    {
     "data": {
      "text/plain": [
       "{6, 7, 8, 9, 10}"
      ]
     },
     "execution_count": 56,
     "metadata": {},
     "output_type": "execute_result"
    }
   ],
   "source": [
    "{i for i in range(1,11) if i>5}"
   ]
  },
  {
   "cell_type": "markdown",
   "id": "0e9eb29f",
   "metadata": {},
   "source": [
    "---\n",
    "---\n",
    "\n",
    "# **Dictionary**\n",
    "A dictionary in Python is a collection of key-value pairs, used to store data in a structure similar to a map. Unlike other data types (like lists or tuples) that hold individual elements, a dictionary holds pairs of data, where each key is associated with a value.\n",
    "\n",
    "In some programming languages, dictionaries are known as maps or associative arrays.\n",
    "\n",
    "``dict = {'name': 'Shivam', 'age': 22, 'gender': 'male'}``\n",
    "\n",
    "\n",
    "### Characteristics:\n",
    "* **Mutable:** You can change, add or remove items after the dictionary is added.\n",
    "\n",
    "* **Unordered:** Indexin has no meaning, elements are stored in a fixed order\n",
    "\n",
    "* **Unique Kyes:** No duplicated keys are allowed.\n",
    "\n",
    "* **Immutable keys only:** Keys must be of an immutable type (e.g., strings, numbers, tuples), not lists or other dictionaries."
   ]
  },
  {
   "cell_type": "markdown",
   "id": "43c567d8",
   "metadata": {},
   "source": [
    "---\n",
    "\n",
    "## Create Dictionary"
   ]
  },
  {
   "cell_type": "markdown",
   "id": "31e22cc3",
   "metadata": {},
   "source": [
    "#### 1. Empty Dictionary"
   ]
  },
  {
   "cell_type": "code",
   "execution_count": null,
   "id": "c5ca56b9",
   "metadata": {},
   "outputs": [
    {
     "name": "stdout",
     "output_type": "stream",
     "text": [
      "{}\n"
     ]
    }
   ],
   "source": [
    "d = {}\n",
    "print(d)"
   ]
  },
  {
   "cell_type": "markdown",
   "id": "6917071a",
   "metadata": {},
   "source": [
    "#### 2. 1D Dictionary"
   ]
  },
  {
   "cell_type": "code",
   "execution_count": null,
   "id": "a68f86f3",
   "metadata": {},
   "outputs": [
    {
     "name": "stdout",
     "output_type": "stream",
     "text": [
      "{'name': 'Shivam', 'gender': 'male'}\n"
     ]
    }
   ],
   "source": [
    "d = {'name': 'Shivam', 'gender': 'male'}\n",
    "print(d)"
   ]
  },
  {
   "cell_type": "markdown",
   "id": "eca4608f",
   "metadata": {},
   "source": [
    "#### 3. Dictionary with mixed keys\n",
    "Let's use a tuple"
   ]
  },
  {
   "cell_type": "code",
   "execution_count": null,
   "id": "a5a60396",
   "metadata": {},
   "outputs": [
    {
     "name": "stdout",
     "output_type": "stream",
     "text": [
      "{(1, 2, 3): 1, 'hello': 'world'}\n"
     ]
    }
   ],
   "source": [
    "d2 = {\n",
    "    (1,2,3) : 1,\n",
    "    'hello' : 'world'\n",
    "}\n",
    "\n",
    "print(d2)"
   ]
  },
  {
   "cell_type": "markdown",
   "id": "7cd528bf",
   "metadata": {},
   "source": [
    "#### 4. 2D Dictionary"
   ]
  },
  {
   "cell_type": "code",
   "execution_count": null,
   "id": "185df5c7",
   "metadata": {},
   "outputs": [
    {
     "name": "stdout",
     "output_type": "stream",
     "text": [
      "{'name': 'shivam', 'college': 'ieju', 'sem': 1, 'subject': {'dsa': 50, 'maths': 67, 'english': 34}}\n"
     ]
    }
   ],
   "source": [
    "d3 = {\n",
    "    'name' : 'shivam',\n",
    "    'college' : 'ieju',\n",
    "    'sem' : 1,\n",
    "    'subject' : {\n",
    "        'dsa' : 50,\n",
    "        'maths' : 67,\n",
    "        'english' : 34\n",
    "    }\n",
    "}\n",
    "\n",
    "print(d3)"
   ]
  },
  {
   "cell_type": "markdown",
   "id": "b3fd04f8",
   "metadata": {},
   "source": [
    "\n",
    "#### 5. Using `sequence` and `dict()` function"
   ]
  },
  {
   "cell_type": "code",
   "execution_count": null,
   "id": "ac2e654a",
   "metadata": {},
   "outputs": [
    {
     "name": "stdout",
     "output_type": "stream",
     "text": [
      "{'name': 'shivam', 'age': 22, 'gender': 'male'}\n"
     ]
    }
   ],
   "source": [
    "d4 = dict([('name','shivam'), ('age', 22), ('gender', 'male')])\n",
    "print(d4)"
   ]
  },
  {
   "cell_type": "markdown",
   "id": "9304721e",
   "metadata": {},
   "source": [
    "#### 6. dictionary can't have duplicate keys"
   ]
  },
  {
   "cell_type": "code",
   "execution_count": null,
   "id": "5264c1b3",
   "metadata": {},
   "outputs": [
    {
     "name": "stdout",
     "output_type": "stream",
     "text": [
      "{'name': 'sinha'}\n"
     ]
    }
   ],
   "source": [
    "d5 = {'name':'shivam', 'name':'sinha'}\n",
    "print(d5)"
   ]
  },
  {
   "cell_type": "markdown",
   "id": "a741330a",
   "metadata": {},
   "source": [
    "#### 7. mutable items as keys not allowed\n"
   ]
  },
  {
   "cell_type": "code",
   "execution_count": null,
   "id": "b0c3d34b",
   "metadata": {},
   "outputs": [
    {
     "ename": "TypeError",
     "evalue": "unhashable type: 'list'",
     "output_type": "error",
     "traceback": [
      "\u001b[31m---------------------------------------------------------------------------\u001b[39m",
      "\u001b[31mTypeError\u001b[39m                                 Traceback (most recent call last)",
      "\u001b[36mCell\u001b[39m\u001b[36m \u001b[39m\u001b[32mIn[71]\u001b[39m\u001b[32m, line 1\u001b[39m\n\u001b[32m----> \u001b[39m\u001b[32m1\u001b[39m d6 = {\u001b[33m'\u001b[39m\u001b[33mname\u001b[39m\u001b[33m'\u001b[39m:\u001b[33m'\u001b[39m\u001b[33mshivam\u001b[39m\u001b[33m'\u001b[39m, [\u001b[32m1\u001b[39m,\u001b[32m2\u001b[39m,\u001b[32m3\u001b[39m]: \u001b[32m2\u001b[39m}\n\u001b[32m      2\u001b[39m \u001b[38;5;28mprint\u001b[39m(d6)\n",
      "\u001b[31mTypeError\u001b[39m: unhashable type: 'list'"
     ]
    }
   ],
   "source": [
    "d6 = {'name':'shivam', [1,2,3]: 2}\n",
    "print(d6)"
   ]
  },
  {
   "cell_type": "code",
   "execution_count": null,
   "id": "6697acf5",
   "metadata": {},
   "outputs": [
    {
     "name": "stdout",
     "output_type": "stream",
     "text": [
      "{'name': 'shivam', (1, 2, 3): 2}\n"
     ]
    }
   ],
   "source": [
    "d6 = {'name':'shivam', (1,2,3): 2}\n",
    "print(d6)"
   ]
  },
  {
   "cell_type": "markdown",
   "id": "f6db9012",
   "metadata": {},
   "source": [
    "> **Note:** List are mutable, so not allowed. Whereas, Tuple are immutable, so allowed."
   ]
  },
  {
   "cell_type": "markdown",
   "id": "61be8386",
   "metadata": {},
   "source": [
    "---\n",
    "## Accessing items from a dictionary"
   ]
  },
  {
   "cell_type": "code",
   "execution_count": null,
   "id": "8d83671b",
   "metadata": {},
   "outputs": [],
   "source": [
    "dict = {\n",
    "    'name': 'shivam',\n",
    "    'age': 22\n",
    "}"
   ]
  },
  {
   "cell_type": "markdown",
   "id": "1e9cbb7a",
   "metadata": {},
   "source": [
    "> **Note:** Indexing is not allowed"
   ]
  },
  {
   "cell_type": "code",
   "execution_count": null,
   "id": "0edf70db",
   "metadata": {},
   "outputs": [
    {
     "ename": "KeyError",
     "evalue": "0",
     "output_type": "error",
     "traceback": [
      "\u001b[31m---------------------------------------------------------------------------\u001b[39m",
      "\u001b[31mKeyError\u001b[39m                                  Traceback (most recent call last)",
      "\u001b[36mCell\u001b[39m\u001b[36m \u001b[39m\u001b[32mIn[74]\u001b[39m\u001b[32m, line 1\u001b[39m\n\u001b[32m----> \u001b[39m\u001b[32m1\u001b[39m \u001b[38;5;28;43mdict\u001b[39;49m\u001b[43m[\u001b[49m\u001b[32;43m0\u001b[39;49m\u001b[43m]\u001b[49m\n",
      "\u001b[31mKeyError\u001b[39m: 0"
     ]
    }
   ],
   "source": [
    "dict[0]"
   ]
  },
  {
   "cell_type": "markdown",
   "id": "7a5f8a79",
   "metadata": {},
   "source": [
    "#### 1. `[ ]` use `key` in square bracket"
   ]
  },
  {
   "cell_type": "code",
   "execution_count": null,
   "id": "9bac48df",
   "metadata": {},
   "outputs": [
    {
     "data": {
      "text/plain": [
       "'shivam'"
      ]
     },
     "execution_count": 75,
     "metadata": {},
     "output_type": "execute_result"
    }
   ],
   "source": [
    "dict['name']"
   ]
  },
  {
   "cell_type": "markdown",
   "id": "4890cd5d",
   "metadata": {},
   "source": [
    "#### 2. `get()`"
   ]
  },
  {
   "cell_type": "code",
   "execution_count": null,
   "id": "cfb9a0d0",
   "metadata": {},
   "outputs": [
    {
     "data": {
      "text/plain": [
       "'shivam'"
      ]
     },
     "execution_count": 76,
     "metadata": {},
     "output_type": "execute_result"
    }
   ],
   "source": [
    "dict.get('name')"
   ]
  },
  {
   "cell_type": "markdown",
   "id": "cb66f8a4",
   "metadata": {},
   "source": [
    "---\n",
    "## Accessing items from a 2d dictionary"
   ]
  },
  {
   "cell_type": "code",
   "execution_count": null,
   "id": "57d2b809",
   "metadata": {},
   "outputs": [
    {
     "name": "stdout",
     "output_type": "stream",
     "text": [
      "{'dsa': 50, 'maths': 67, 'english': 34}\n"
     ]
    }
   ],
   "source": [
    "d = {\n",
    "    'name' : 'shivam',\n",
    "    'college' : 'ieju',\n",
    "    'sem' : 1,\n",
    "    'subject' : {\n",
    "        'dsa' : 50,\n",
    "        'maths' : 67,\n",
    "        'english' : 34\n",
    "    }\n",
    "}\n",
    "\n",
    "print(d['subject'])"
   ]
  },
  {
   "cell_type": "code",
   "execution_count": null,
   "id": "aa62799b",
   "metadata": {},
   "outputs": [
    {
     "name": "stdout",
     "output_type": "stream",
     "text": [
      "67\n"
     ]
    }
   ],
   "source": [
    "print(d['subject']['maths'])"
   ]
  },
  {
   "cell_type": "code",
   "execution_count": null,
   "id": "e6141a1c",
   "metadata": {},
   "outputs": [],
   "source": []
  },
  {
   "cell_type": "markdown",
   "id": "d06fc3a1",
   "metadata": {},
   "source": [
    "---\n",
    "## Add new key-value pair to an existing dictionary"
   ]
  },
  {
   "cell_type": "code",
   "execution_count": null,
   "id": "fc97d6df",
   "metadata": {},
   "outputs": [
    {
     "name": "stdout",
     "output_type": "stream",
     "text": [
      "{'name': 'shivam', 'age': 22, 'gender': 'male'}\n"
     ]
    }
   ],
   "source": [
    "dict['gender'] = 'male'\n",
    "\n",
    "print(dict)"
   ]
  },
  {
   "cell_type": "code",
   "execution_count": null,
   "id": "f5d8bd53",
   "metadata": {},
   "outputs": [
    {
     "name": "stdout",
     "output_type": "stream",
     "text": [
      "{'name': 'shivam', 'college': 'ieju', 'sem': 1, 'subject': {'dsa': 50, 'maths': 67, 'english': 34}, 'gender': 'male'}\n"
     ]
    }
   ],
   "source": [
    "d = {\n",
    "    'name' : 'shivam',\n",
    "    'college' : 'ieju',\n",
    "    'sem' : 1,\n",
    "    'subject' : {\n",
    "        'dsa' : 50,\n",
    "        'maths' : 67,\n",
    "        'english' : 34\n",
    "    }\n",
    "}\n",
    "\n",
    "d['gender'] = 'male'\n",
    "\n",
    "print(d)"
   ]
  },
  {
   "cell_type": "markdown",
   "id": "12e7da88",
   "metadata": {},
   "source": [
    "---\n",
    "## Remove key-value pair\n"
   ]
  },
  {
   "cell_type": "markdown",
   "id": "136bc09b",
   "metadata": {},
   "source": [
    "#### 1. `pop()` - remove pair keywise. Need atleast one argument"
   ]
  },
  {
   "cell_type": "code",
   "execution_count": null,
   "id": "0852592d",
   "metadata": {},
   "outputs": [
    {
     "name": "stdout",
     "output_type": "stream",
     "text": [
      "{'name': 'shivam', 'gender': 'male'}\n"
     ]
    }
   ],
   "source": [
    "d = {'name': 'shivam', 'age': 22, 'gender': 'male'}\n",
    "d.pop('age')\n",
    "print(d)"
   ]
  },
  {
   "cell_type": "markdown",
   "id": "da231e0d",
   "metadata": {},
   "source": [
    "#### 2. `popitem()` - remove last pair. No argument needed"
   ]
  },
  {
   "cell_type": "code",
   "execution_count": null,
   "id": "5521ac6d",
   "metadata": {},
   "outputs": [
    {
     "name": "stdout",
     "output_type": "stream",
     "text": [
      "{'name': 'shivam', 'age': 22}\n"
     ]
    }
   ],
   "source": [
    "d = {'name': 'shivam', 'age': 22, 'gender': 'male'}\n",
    "d.popitem()\n",
    "print(d)"
   ]
  },
  {
   "cell_type": "markdown",
   "id": "2f48d73a",
   "metadata": {},
   "source": [
    "#### 3. `del()` - works similar to `pop()`. Remove keywise. Require one argument"
   ]
  },
  {
   "cell_type": "code",
   "execution_count": null,
   "id": "a87de0e0",
   "metadata": {},
   "outputs": [
    {
     "name": "stdout",
     "output_type": "stream",
     "text": [
      "{'age': 22, 'gender': 'male'}\n"
     ]
    }
   ],
   "source": [
    "d = {'name': 'shivam', 'age': 22, 'gender': 'male'}\n",
    "del(d['name'])\n",
    "print(d)"
   ]
  },
  {
   "cell_type": "code",
   "execution_count": null,
   "id": "e2b6b7ca",
   "metadata": {},
   "outputs": [
    {
     "name": "stdout",
     "output_type": "stream",
     "text": [
      "{'name': 'shivam', 'college': 'ieju', 'sem': 1}\n"
     ]
    }
   ],
   "source": [
    "d = {\n",
    "    'name' : 'shivam',\n",
    "    'college' : 'ieju',\n",
    "    'sem' : 1,\n",
    "    'subject' : {\n",
    "        'dsa' : 50,\n",
    "        'maths' : 67,\n",
    "        'english' : 34\n",
    "    }\n",
    "}\n",
    "\n",
    "del d['subject']\n",
    "\n",
    "print(d)"
   ]
  },
  {
   "cell_type": "markdown",
   "id": "82b90410",
   "metadata": {},
   "source": [
    "#### 4. `clear()` - Remove all items from the dictionary "
   ]
  },
  {
   "cell_type": "code",
   "execution_count": null,
   "id": "de656722",
   "metadata": {},
   "outputs": [
    {
     "name": "stdout",
     "output_type": "stream",
     "text": [
      "{}\n"
     ]
    }
   ],
   "source": [
    "d = {'name': 'shivam', 'age': 22, 'gender': 'male'}\n",
    "d.clear()\n",
    "print(d)"
   ]
  },
  {
   "cell_type": "markdown",
   "id": "d3309e11",
   "metadata": {},
   "source": [
    "---\n",
    "## Editing key-value pair"
   ]
  },
  {
   "cell_type": "code",
   "execution_count": null,
   "id": "ac2fd4e6",
   "metadata": {},
   "outputs": [
    {
     "name": "stdout",
     "output_type": "stream",
     "text": [
      "{'name': 'shivam', 'age': 23, 'gender': 'male'}\n"
     ]
    }
   ],
   "source": [
    "d = {'name': 'shivam', 'age': 22, 'gender': 'male'}\n",
    "d['age'] = 23\n",
    "print(d)"
   ]
  },
  {
   "cell_type": "code",
   "execution_count": null,
   "id": "8a6ce3c9",
   "metadata": {},
   "outputs": [
    {
     "name": "stdout",
     "output_type": "stream",
     "text": [
      "{'name': 'shivam', 'college': 'ieju', 'sem': 1, 'subject': {'dsa': 50, 'maths': 100, 'english': 34}}\n"
     ]
    }
   ],
   "source": [
    "d = {\n",
    "    'name' : 'shivam',\n",
    "    'college' : 'ieju',\n",
    "    'sem' : 1,\n",
    "    'subject' : {\n",
    "        'dsa' : 50,\n",
    "        'maths' : 67,\n",
    "        'english' : 34\n",
    "    }\n",
    "}\n",
    "\n",
    "\n",
    "d['subject']['maths'] = 100\n",
    "\n",
    "print(d)"
   ]
  },
  {
   "cell_type": "markdown",
   "id": "766be409",
   "metadata": {},
   "source": [
    "---\n",
    "## Dictionary Operations\n"
   ]
  },
  {
   "cell_type": "markdown",
   "id": "64108c62",
   "metadata": {},
   "source": [
    "#### 1. Membership"
   ]
  },
  {
   "cell_type": "code",
   "execution_count": null,
   "id": "e6ef625c",
   "metadata": {},
   "outputs": [
    {
     "data": {
      "text/plain": [
       "False"
      ]
     },
     "execution_count": 97,
     "metadata": {},
     "output_type": "execute_result"
    }
   ],
   "source": [
    "d = {\n",
    "    'name' : 'shivam',\n",
    "    'college' : 'ieju',\n",
    "    'sem' : 1,\n",
    "    'subject' : {\n",
    "        'dsa' : 50,\n",
    "        'maths' : 67,\n",
    "        'english' : 34\n",
    "    }\n",
    "}\n",
    "\n",
    "\n",
    "'shivam' in s"
   ]
  },
  {
   "cell_type": "code",
   "execution_count": null,
   "id": "156a33ec",
   "metadata": {},
   "outputs": [
    {
     "data": {
      "text/plain": [
       "True"
      ]
     },
     "execution_count": 98,
     "metadata": {},
     "output_type": "execute_result"
    }
   ],
   "source": [
    "'name' in s"
   ]
  },
  {
   "cell_type": "markdown",
   "id": "c35a920b",
   "metadata": {},
   "source": [
    "> **Why?** In a dictionary, everything revolves around the keys. So when I check if something exists in a dictionary, Python searches for that item among the **keys**, not the **value**"
   ]
  },
  {
   "cell_type": "markdown",
   "id": "4371d4b3",
   "metadata": {},
   "source": [
    "#### 2. Iteration"
   ]
  },
  {
   "cell_type": "code",
   "execution_count": null,
   "id": "33061d45",
   "metadata": {},
   "outputs": [
    {
     "name": "stdout",
     "output_type": "stream",
     "text": [
      "name\n",
      "age\n",
      "gender\n"
     ]
    }
   ],
   "source": [
    "d = {'name': 'shivam', 'age': 22, 'gender': 'male'}\n",
    "\n",
    "for i in d:\n",
    "    print(i)"
   ]
  },
  {
   "cell_type": "code",
   "execution_count": null,
   "id": "e84ee835",
   "metadata": {},
   "outputs": [
    {
     "name": "stdout",
     "output_type": "stream",
     "text": [
      "shivam\n",
      "22\n",
      "male\n"
     ]
    }
   ],
   "source": [
    "for i in d:\n",
    "    print(d[i])"
   ]
  },
  {
   "cell_type": "code",
   "execution_count": null,
   "id": "aae5a8e4",
   "metadata": {},
   "outputs": [
    {
     "name": "stdout",
     "output_type": "stream",
     "text": [
      "name : shivam\n",
      "age : 22\n",
      "gender : male\n"
     ]
    }
   ],
   "source": [
    "for i in d:\n",
    "    print(i, \":\", d[i])"
   ]
  },
  {
   "cell_type": "markdown",
   "id": "66cbb297",
   "metadata": {},
   "source": [
    "---\n",
    "## Dictionary Functions"
   ]
  },
  {
   "cell_type": "markdown",
   "id": "137eb3b0",
   "metadata": {},
   "source": [
    "#### 1. `len()`, `sorted()`, `min()`, `max()`"
   ]
  },
  {
   "cell_type": "code",
   "execution_count": null,
   "id": "14030d2c",
   "metadata": {},
   "outputs": [
    {
     "data": {
      "text/plain": [
       "{'name': 'shivam', 'age': 22, 'gender': 'male'}"
      ]
     },
     "execution_count": 103,
     "metadata": {},
     "output_type": "execute_result"
    }
   ],
   "source": [
    "d"
   ]
  },
  {
   "cell_type": "code",
   "execution_count": null,
   "id": "85eb58e6",
   "metadata": {},
   "outputs": [
    {
     "data": {
      "text/plain": [
       "3"
      ]
     },
     "execution_count": 104,
     "metadata": {},
     "output_type": "execute_result"
    }
   ],
   "source": [
    "len(d)"
   ]
  },
  {
   "cell_type": "code",
   "execution_count": null,
   "id": "d9e9a80d",
   "metadata": {},
   "outputs": [
    {
     "data": {
      "text/plain": [
       "['age', 'gender', 'name']"
      ]
     },
     "execution_count": 107,
     "metadata": {},
     "output_type": "execute_result"
    }
   ],
   "source": [
    "sorted(d)"
   ]
  },
  {
   "cell_type": "code",
   "execution_count": null,
   "id": "0c5e98ab",
   "metadata": {},
   "outputs": [
    {
     "data": {
      "text/plain": [
       "['name', 'gender', 'age']"
      ]
     },
     "execution_count": 108,
     "metadata": {},
     "output_type": "execute_result"
    }
   ],
   "source": [
    "sorted(d, reverse=True)"
   ]
  },
  {
   "cell_type": "code",
   "execution_count": null,
   "id": "f7387a1a",
   "metadata": {},
   "outputs": [
    {
     "data": {
      "text/plain": [
       "'age'"
      ]
     },
     "execution_count": 110,
     "metadata": {},
     "output_type": "execute_result"
    }
   ],
   "source": [
    "min(d)"
   ]
  },
  {
   "cell_type": "code",
   "execution_count": null,
   "id": "5603ea7c",
   "metadata": {},
   "outputs": [
    {
     "data": {
      "text/plain": [
       "'name'"
      ]
     },
     "execution_count": 111,
     "metadata": {},
     "output_type": "execute_result"
    }
   ],
   "source": [
    "max(d)"
   ]
  },
  {
   "cell_type": "markdown",
   "id": "452bb0a3",
   "metadata": {},
   "source": [
    "#### 2. `items()` - returns the key-values pair in list format"
   ]
  },
  {
   "cell_type": "code",
   "execution_count": null,
   "id": "62724f1a",
   "metadata": {},
   "outputs": [
    {
     "data": {
      "text/plain": [
       "{'name': 'shivam', 'age': 22, 'gender': 'male'}"
      ]
     },
     "execution_count": 112,
     "metadata": {},
     "output_type": "execute_result"
    }
   ],
   "source": [
    "d"
   ]
  },
  {
   "cell_type": "code",
   "execution_count": null,
   "id": "9a3d6d5e",
   "metadata": {},
   "outputs": [
    {
     "data": {
      "text/plain": [
       "dict_items([('name', 'shivam'), ('age', 22), ('gender', 'male')])"
      ]
     },
     "execution_count": 115,
     "metadata": {},
     "output_type": "execute_result"
    }
   ],
   "source": [
    "d.items()"
   ]
  },
  {
   "cell_type": "markdown",
   "id": "f898e0ae",
   "metadata": {},
   "source": [
    "d"
   ]
  },
  {
   "cell_type": "markdown",
   "id": "f74797be",
   "metadata": {},
   "source": [
    "#### 3. `keys()` - returns the key in list format"
   ]
  },
  {
   "cell_type": "code",
   "execution_count": null,
   "id": "2e084b26",
   "metadata": {},
   "outputs": [
    {
     "data": {
      "text/plain": [
       "dict_keys(['name', 'age', 'gender'])"
      ]
     },
     "execution_count": 118,
     "metadata": {},
     "output_type": "execute_result"
    }
   ],
   "source": [
    "d.keys()"
   ]
  },
  {
   "cell_type": "markdown",
   "id": "a6fe0cf3",
   "metadata": {},
   "source": [
    "#### 4. `values()` - returns the values in list format"
   ]
  },
  {
   "cell_type": "code",
   "execution_count": null,
   "id": "43a0159a",
   "metadata": {},
   "outputs": [
    {
     "data": {
      "text/plain": [
       "dict_values(['shivam', 22, 'male'])"
      ]
     },
     "execution_count": 119,
     "metadata": {},
     "output_type": "execute_result"
    }
   ],
   "source": [
    "d.values()"
   ]
  },
  {
   "cell_type": "markdown",
   "id": "3737815e",
   "metadata": {},
   "source": [
    "#### 5. `update()` - "
   ]
  },
  {
   "cell_type": "code",
   "execution_count": null,
   "id": "daab1af7",
   "metadata": {},
   "outputs": [
    {
     "name": "stdout",
     "output_type": "stream",
     "text": [
      "{'name': 'sinha', 'age': 23, 'gender': 'male'}\n"
     ]
    }
   ],
   "source": [
    "d1 = {'name': 'shivam', 'age': 22, 'gender': 'male'}\n",
    "d2 = {'name': 'sinha', 'age': 23}\n",
    "\n",
    "d1.update(d2)\n",
    "\n",
    "print(d1)"
   ]
  },
  {
   "cell_type": "markdown",
   "id": "32902b24",
   "metadata": {},
   "source": [
    "---\n",
    "## Keys Comprehension\n",
    "\n",
    "`{key : value for vars in iterable}`"
   ]
  },
  {
   "cell_type": "markdown",
   "id": "3ae47f65",
   "metadata": {},
   "source": [
    "### **Program 1:** WAP to print 1 to 10 numbers with their square, in a dictionary format"
   ]
  },
  {
   "cell_type": "code",
   "execution_count": null,
   "id": "bfcaa234",
   "metadata": {},
   "outputs": [
    {
     "data": {
      "text/plain": [
       "{1: 1, 2: 4, 3: 9, 4: 16, 5: 25, 6: 36, 7: 49, 8: 64, 9: 81, 10: 100}"
      ]
     },
     "execution_count": 1,
     "metadata": {},
     "output_type": "execute_result"
    }
   ],
   "source": [
    "{i:i**2 for i in range (1,11)}"
   ]
  },
  {
   "cell_type": "markdown",
   "id": "c8ed8e31",
   "metadata": {},
   "source": [
    "#### **Observation** : `dictionary.items()` return all the item (key,value) of the dictionary in form of list."
   ]
  },
  {
   "cell_type": "code",
   "execution_count": null,
   "id": "5f61df42",
   "metadata": {},
   "outputs": [
    {
     "name": "stdout",
     "output_type": "stream",
     "text": [
      "dict_items([('delhi', 1000), ('mumbai', 2000), ('bangalore', 3000)])\n"
     ]
    }
   ],
   "source": [
    "distance = {'delhi': 1000 , 'mumbai': 2000, 'bangalore': 3000}\n",
    "print(distance.items())"
   ]
  },
  {
   "cell_type": "markdown",
   "id": "ca7d0227",
   "metadata": {},
   "source": [
    "### **Program 2:** Multiply the distance by 0.8"
   ]
  },
  {
   "cell_type": "code",
   "execution_count": null,
   "id": "33c1616f",
   "metadata": {},
   "outputs": [
    {
     "data": {
      "text/plain": [
       "{'delhi': 800.0, 'mumbai': 1600.0, 'bangalore': 2400.0}"
      ]
     },
     "execution_count": 10,
     "metadata": {},
     "output_type": "execute_result"
    }
   ],
   "source": [
    "distance = {'delhi': 1000 , 'mumbai': 2000, 'bangalore': 3000}\n",
    "\n",
    "{k : v*0.8 for (k,v) in distance.items()}"
   ]
  },
  {
   "cell_type": "markdown",
   "id": "0c09b275",
   "metadata": {},
   "source": [
    "## Dictionary Comprehension using `ZIP`"
   ]
  },
  {
   "cell_type": "markdown",
   "id": "a9532cf0",
   "metadata": {},
   "source": [
    "### **Program 3:** Given 2 list, using `zip()` make a dictionary using elements of 1st and 2nd list."
   ]
  },
  {
   "cell_type": "code",
   "execution_count": null,
   "id": "13895c5a",
   "metadata": {},
   "outputs": [
    {
     "data": {
      "text/plain": [
       "{'sunday': 30.5,\n",
       " 'monday': 32.6,\n",
       " 'tuesday': 31.8,\n",
       " 'wednesday': 33.4,\n",
       " 'thursday': 29.8,\n",
       " 'friday': 30.2,\n",
       " 'saturday': 29.9}"
      ]
     },
     "execution_count": 11,
     "metadata": {},
     "output_type": "execute_result"
    }
   ],
   "source": [
    "days = ['sunday', 'monday', 'tuesday', 'wednesday', 'thursday', 'friday', 'saturday' ]\n",
    "temp_c = [30.5, 32.6, 31.8, 33.4, 29.8, 30.2, 29.9]\n",
    "\n",
    "{ i:j for (i,j) in zip(days,temp_c)}"
   ]
  },
  {
   "cell_type": "markdown",
   "id": "3a438e99",
   "metadata": {},
   "source": [
    "### **Program 4:** Using if condition in Dictionary Comprehension"
   ]
  },
  {
   "cell_type": "code",
   "execution_count": null,
   "id": "482c3419",
   "metadata": {},
   "outputs": [
    {
     "data": {
      "text/plain": [
       "{'phone': 10, 'charger': 32}"
      ]
     },
     "execution_count": 14,
     "metadata": {},
     "output_type": "execute_result"
    }
   ],
   "source": [
    "products = {'phone':10, 'laptop':0, 'charger':32, 'Table':0}\n",
    "\n",
    "{key:value for (key,value) in products.items() if value>0}"
   ]
  },
  {
   "cell_type": "markdown",
   "id": "e8b624ae",
   "metadata": {},
   "source": [
    "### **Program 5:** Nested Comprehension. Print table from 2 to 10 like:\n",
    "```py\n",
    "{\n",
    "    2:{1:2, 2:4, 3:6, 4:8, ...},\n",
    "    3:{1:3, 2:6, 2:9, 4:12, ...},\n",
    "    4:{1:4, 2:8, 3:12, 4:16, ...},\n",
    "    ...\n",
    "    ...\n",
    "}\n",
    "```"
   ]
  },
  {
   "cell_type": "code",
   "execution_count": null,
   "id": "5c84cca0",
   "metadata": {},
   "outputs": [
    {
     "data": {
      "text/plain": [
       "{2: {1: 2, 2: 4, 3: 6, 4: 8, 5: 10, 6: 12, 7: 14, 8: 16, 9: 18, 10: 20},\n",
       " 3: {1: 3, 2: 6, 3: 9, 4: 12, 5: 15, 6: 18, 7: 21, 8: 24, 9: 27, 10: 30},\n",
       " 4: {1: 4, 2: 8, 3: 12, 4: 16, 5: 20, 6: 24, 7: 28, 8: 32, 9: 36, 10: 40},\n",
       " 5: {1: 5, 2: 10, 3: 15, 4: 20, 5: 25, 6: 30, 7: 35, 8: 40, 9: 45, 10: 50},\n",
       " 6: {1: 6, 2: 12, 3: 18, 4: 24, 5: 30, 6: 36, 7: 42, 8: 48, 9: 54, 10: 60},\n",
       " 7: {1: 7, 2: 14, 3: 21, 4: 28, 5: 35, 6: 42, 7: 49, 8: 56, 9: 63, 10: 70},\n",
       " 8: {1: 8, 2: 16, 3: 24, 4: 32, 5: 40, 6: 48, 7: 56, 8: 64, 9: 72, 10: 80},\n",
       " 9: {1: 9, 2: 18, 3: 27, 4: 36, 5: 45, 6: 54, 7: 63, 8: 72, 9: 81, 10: 90},\n",
       " 10: {1: 10, 2: 20, 3: 30, 4: 40, 5: 50, 6: 60, 7: 70, 8: 80, 9: 90, 10: 100}}"
      ]
     },
     "execution_count": 17,
     "metadata": {},
     "output_type": "execute_result"
    }
   ],
   "source": [
    "{i:{j:i*j for j in range(1,11)} for i in range(2,11)}"
   ]
  },
  {
   "cell_type": "markdown",
   "id": "4a56140e",
   "metadata": {},
   "source": [
    "---\n",
    "---"
   ]
  },
  {
   "cell_type": "markdown",
   "id": "6e81ebe8",
   "metadata": {},
   "source": [
    "# **Python Function**\n",
    "\n",
    "## What are Functions?\n",
    "In simple terms, a **function** is a block of reusable code that performs a specific task.\n",
    "From a **mathematical perspective**, a function takes some input, processes it, and gives an output — but we don't necessarily know how the internal processing works.\n",
    "\n",
    "#### Example:\n",
    "\n",
    "When we use Python's built-in `print()` function, we pass in something, and it displays output on the screen. We use it without knowing how it is implemented internally.\n",
    "\n",
    "---\n",
    "\n",
    "### Types of Functions in Python:\n",
    "\n",
    "1. **Built-in Functions**: Already available in Python (e.g., `print()`, `len()`, `range()`)\n",
    "2. **User-defined Functions**: Created by the programmer to perform custom tasks\n",
    "\n",
    "---\n",
    "\n",
    "### Benefits of Using Functions:\n",
    "\n",
    "* **Code reusability**: Avoid repeating code\n",
    "* **Modularity**: Break down complex problems into smaller pieces\n",
    "* **Ease of testing and debugging**\n",
    "\n",
    "---\n",
    "\n",
    "###  Principles Behind Functions:\n",
    "\n",
    "1. **Abstraction**\n",
    "   Hides complex logic and shows only the necessary interface (inputs/outputs).\n",
    "\n",
    "2. **Decomposition**\n",
    "   Breaks down a large task into smaller, manageable functions.\n",
    "   *Example:* In a website, different functions may handle login, search, payment, etc.\n",
    "\n",
    "---\n",
    "\n",
    "### Function Example:\n",
    "\n",
    "```python\n",
    "def is_even(i):\n",
    "    \"\"\"\n",
    "    This function checks whether a given number is even.\n",
    "    \n",
    "    Parameters:\n",
    "    i (int): The number to check\n",
    "    \n",
    "    Returns:\n",
    "    bool: True if even, False otherwise\n",
    "    \"\"\"\n",
    "    x = i % 2 == 0\n",
    "    return x\n",
    "\n",
    "# Function call\n",
    "is_even(10)\n",
    "```\n",
    "\n",
    "---\n",
    "\n",
    "### Syntax of a Function:\n",
    "\n",
    "```python\n",
    "def function_name(parameters):\n",
    "    \"\"\"\n",
    "    Optional docstring explaining the function.\n",
    "    \"\"\"\n",
    "    # function body\n",
    "    return output\n",
    "```\n",
    "\n",
    "#### Function Call:\n",
    "\n",
    "```python\n",
    "function_name(arguments)\n",
    "```\n",
    "\n",
    "> **Note:** The value we pass to a function during a function call is called an **argument**.\n",
    "\n",
    "> When defining a function, the placeholder that receives the value is called a **parameter**.\n",
    "---"
   ]
  },
  {
   "cell_type": "markdown",
   "id": "39314943",
   "metadata": {},
   "source": [
    "## Create a function (with docstring)"
   ]
  },
  {
   "cell_type": "code",
   "execution_count": 27,
   "id": "1d71630c",
   "metadata": {},
   "outputs": [],
   "source": [
    "#Function creation\n",
    "def is_even(num):\n",
    "    \"\"\"\n",
    "    This function returns if a given number is odd or even\n",
    "    input - any valid integer\n",
    "    output - odd/even\n",
    "    created 31 july 2025\n",
    "    \"\"\"\n",
    "    if num%2 == 0:\n",
    "        return 'even'\n",
    "    else:\n",
    "        return 'odd'"
   ]
  },
  {
   "cell_type": "code",
   "execution_count": 32,
   "id": "e84f98fa",
   "metadata": {},
   "outputs": [
    {
     "data": {
      "text/plain": [
       "'odd'"
      ]
     },
     "execution_count": 32,
     "metadata": {},
     "output_type": "execute_result"
    }
   ],
   "source": [
    "# Function call\n",
    "is_even(15)"
   ]
  },
  {
   "cell_type": "code",
   "execution_count": 30,
   "id": "a973521f",
   "metadata": {},
   "outputs": [
    {
     "data": {
      "text/plain": [
       "{1: 'odd',\n",
       " 2: 'even',\n",
       " 3: 'odd',\n",
       " 4: 'even',\n",
       " 5: 'odd',\n",
       " 6: 'even',\n",
       " 7: 'odd',\n",
       " 8: 'even',\n",
       " 9: 'odd',\n",
       " 10: 'even'}"
      ]
     },
     "execution_count": 30,
     "metadata": {},
     "output_type": "execute_result"
    }
   ],
   "source": [
    "# Function call\n",
    "{i:is_even(i) for i in range(1,11)}"
   ]
  },
  {
   "cell_type": "code",
   "execution_count": 33,
   "id": "90f2d1fd",
   "metadata": {},
   "outputs": [
    {
     "ename": "TypeError",
     "evalue": "not all arguments converted during string formatting",
     "output_type": "error",
     "traceback": [
      "\u001b[31m---------------------------------------------------------------------------\u001b[39m",
      "\u001b[31mTypeError\u001b[39m                                 Traceback (most recent call last)",
      "\u001b[36mCell\u001b[39m\u001b[36m \u001b[39m\u001b[32mIn[33]\u001b[39m\u001b[32m, line 2\u001b[39m\n\u001b[32m      1\u001b[39m \u001b[38;5;66;03m# Function call\u001b[39;00m\n\u001b[32m----> \u001b[39m\u001b[32m2\u001b[39m \u001b[43mis_even\u001b[49m\u001b[43m(\u001b[49m\u001b[33;43m'\u001b[39;49m\u001b[33;43mhello\u001b[39;49m\u001b[33;43m'\u001b[39;49m\u001b[43m)\u001b[49m\n",
      "\u001b[36mCell\u001b[39m\u001b[36m \u001b[39m\u001b[32mIn[27]\u001b[39m\u001b[32m, line 9\u001b[39m, in \u001b[36mis_even\u001b[39m\u001b[34m(num)\u001b[39m\n\u001b[32m      2\u001b[39m \u001b[38;5;28;01mdef\u001b[39;00m\u001b[38;5;250m \u001b[39m\u001b[34mis_even\u001b[39m(num):\n\u001b[32m      3\u001b[39m \u001b[38;5;250m    \u001b[39m\u001b[33;03m\"\"\"\u001b[39;00m\n\u001b[32m      4\u001b[39m \u001b[33;03m    This function returns if a given number is odd or even\u001b[39;00m\n\u001b[32m      5\u001b[39m \u001b[33;03m    input - any valid integer\u001b[39;00m\n\u001b[32m      6\u001b[39m \u001b[33;03m    output - odd/even\u001b[39;00m\n\u001b[32m      7\u001b[39m \u001b[33;03m    created 31 july 2025\u001b[39;00m\n\u001b[32m      8\u001b[39m \u001b[33;03m    \"\"\"\u001b[39;00m\n\u001b[32m----> \u001b[39m\u001b[32m9\u001b[39m     \u001b[38;5;28;01mif\u001b[39;00m \u001b[43mnum\u001b[49m\u001b[43m%\u001b[49m\u001b[32;43m2\u001b[39;49m == \u001b[32m0\u001b[39m:\n\u001b[32m     10\u001b[39m         \u001b[38;5;28;01mreturn\u001b[39;00m \u001b[33m'\u001b[39m\u001b[33meven\u001b[39m\u001b[33m'\u001b[39m\n\u001b[32m     11\u001b[39m     \u001b[38;5;28;01melse\u001b[39;00m:\n",
      "\u001b[31mTypeError\u001b[39m: not all arguments converted during string formatting"
     ]
    }
   ],
   "source": [
    "# Function call\n",
    "is_even('hello')"
   ]
  },
  {
   "cell_type": "markdown",
   "id": "333e171c",
   "metadata": {},
   "source": [
    "> **Note:** To handle this type of scenario we can do something like this."
   ]
  },
  {
   "cell_type": "code",
   "execution_count": 34,
   "id": "2e2a8da3",
   "metadata": {},
   "outputs": [],
   "source": [
    "#Function creation\n",
    "def is_even(num):\n",
    "    \"\"\"\n",
    "    This function returns if a given number is odd or even\n",
    "    input - any valid integer\n",
    "    output - odd/even\n",
    "    created 31 july 2025\n",
    "    \"\"\"\n",
    "\n",
    "    if(type(num)==int):\n",
    "        if num%2 == 0:\n",
    "            return 'even'\n",
    "        else:\n",
    "            return 'odd'\n",
    "    else:\n",
    "        return \"type only valid integer values\""
   ]
  },
  {
   "cell_type": "code",
   "execution_count": 35,
   "id": "5240298f",
   "metadata": {},
   "outputs": [
    {
     "data": {
      "text/plain": [
       "'type only valid integer values'"
      ]
     },
     "execution_count": 35,
     "metadata": {},
     "output_type": "execute_result"
    }
   ],
   "source": [
    "is_even('hello')"
   ]
  },
  {
   "cell_type": "markdown",
   "id": "1dd42cc8",
   "metadata": {},
   "source": [
    "#### Display documentation\n",
    "> ``functionName.__doc__``"
   ]
  },
  {
   "cell_type": "code",
   "execution_count": 52,
   "id": "82670378",
   "metadata": {},
   "outputs": [
    {
     "name": "stdout",
     "output_type": "stream",
     "text": [
      "\n",
      "This function returns if a given number is odd or even\n",
      "input - any valid integer\n",
      "output - odd/even\n",
      "created 31 july 2025\n",
      "\n"
     ]
    }
   ],
   "source": [
    "print(is_even.__doc__)"
   ]
  },
  {
   "cell_type": "code",
   "execution_count": 53,
   "id": "569e85e0",
   "metadata": {},
   "outputs": [
    {
     "name": "stdout",
     "output_type": "stream",
     "text": [
      "Prints the values to a stream, or to sys.stdout by default.\n",
      "\n",
      "  sep\n",
      "    string inserted between values, default a space.\n",
      "  end\n",
      "    string appended after the last value, default a newline.\n",
      "  file\n",
      "    a file-like object (stream); defaults to the current sys.stdout.\n",
      "  flush\n",
      "    whether to forcibly flush the stream.\n"
     ]
    }
   ],
   "source": [
    "print(print.__doc__)"
   ]
  },
  {
   "cell_type": "markdown",
   "id": "fba790f8",
   "metadata": {},
   "source": [
    "---\n",
    "## Types of argument\n",
    "- Default Argument\n",
    "- Positional Argument\n",
    "- Keyword Argument"
   ]
  },
  {
   "cell_type": "markdown",
   "id": "b4a0e942",
   "metadata": {},
   "source": [
    "#### 1. Default argument\n",
    "**Scenario:**  \n",
    "Suppose a function requires two arguments, but we provide only one or none. In such cases, the function will not work and will raise an error due to missing arguments.\n",
    "\n",
    "**Solution:**  \n",
    "To avoid this problem, we can assign **default values** to one or more parameters in the function definition. These default values are used when the corresponding arguments are not provided during the function call.\n"
   ]
  },
  {
   "cell_type": "code",
   "execution_count": 39,
   "id": "95cdbba0",
   "metadata": {},
   "outputs": [],
   "source": [
    "def power(a=1, b=1):\n",
    "    return a**b"
   ]
  },
  {
   "cell_type": "code",
   "execution_count": 40,
   "id": "497f8660",
   "metadata": {},
   "outputs": [
    {
     "data": {
      "text/plain": [
       "1"
      ]
     },
     "execution_count": 40,
     "metadata": {},
     "output_type": "execute_result"
    }
   ],
   "source": [
    "power()"
   ]
  },
  {
   "cell_type": "code",
   "execution_count": 41,
   "id": "c0a1039d",
   "metadata": {},
   "outputs": [
    {
     "data": {
      "text/plain": [
       "10"
      ]
     },
     "execution_count": 41,
     "metadata": {},
     "output_type": "execute_result"
    }
   ],
   "source": [
    "power(10)"
   ]
  },
  {
   "cell_type": "markdown",
   "id": "98f63001",
   "metadata": {},
   "source": [
    "#### 2. Positional Argument\n",
    "\n",
    "In Python, when we pass arguments to a function, they are assigned to parameters **based on their position** (i.e., the order in which they appear).\n",
    "\n",
    "In other words, arguments are matched to parameters in the **same order** they are passed during the function call."
   ]
  },
  {
   "cell_type": "code",
   "execution_count": 42,
   "id": "fda1d6e7",
   "metadata": {},
   "outputs": [
    {
     "data": {
      "text/plain": [
       "8"
      ]
     },
     "execution_count": 42,
     "metadata": {},
     "output_type": "execute_result"
    }
   ],
   "source": [
    "power(2,3)"
   ]
  },
  {
   "cell_type": "markdown",
   "id": "f21697cd",
   "metadata": {},
   "source": [
    "#### 3. Keyword Argement\n",
    "\n",
    "In Python, **keyword arguments** are passed by explicitly specifying the parameter name along with its value during the function call.\n",
    "\n",
    "This allows you to **pass arguments in any order**, as each value is matched to its parameter by name, not by position.\n"
   ]
  },
  {
   "cell_type": "code",
   "execution_count": 43,
   "id": "092903e0",
   "metadata": {},
   "outputs": [
    {
     "data": {
      "text/plain": [
       "8"
      ]
     },
     "execution_count": 43,
     "metadata": {},
     "output_type": "execute_result"
    }
   ],
   "source": [
    "power(b=3, a=2)"
   ]
  },
  {
   "cell_type": "markdown",
   "id": "142c0aae",
   "metadata": {},
   "source": [
    "> For example, in `print()` function, we can pass the value for `end=''` and `sep=''`"
   ]
  },
  {
   "cell_type": "code",
   "execution_count": 44,
   "id": "e8bf009d",
   "metadata": {},
   "outputs": [
    {
     "name": "stdout",
     "output_type": "stream",
     "text": [
      "hello~shivam::sinha\n"
     ]
    }
   ],
   "source": [
    "print(\"hello\", \"shivam\", sep = \"~\", end = \"::\")\n",
    "print('sinha')"
   ]
  },
  {
   "cell_type": "markdown",
   "id": "a87ee5ae",
   "metadata": {},
   "source": [
    "---\n",
    "## `args` and `kwargs`\n",
    "`args` and `kwargs` are  special python keywords that are used to pass the variable length of arguments to a function. \n",
    "\n",
    "#### `args` : Allows us to pass a variable number of non-keyword arguments to a function.\n",
    "> **Note:** `args` stores all parameters in a **tuple**"
   ]
  },
  {
   "cell_type": "code",
   "execution_count": 47,
   "id": "8c6666f3",
   "metadata": {},
   "outputs": [],
   "source": [
    "# for fixed no of arguments\n",
    "def multiply(a,b):\n",
    "    return a*b"
   ]
  },
  {
   "cell_type": "code",
   "execution_count": 46,
   "id": "9ecb86c8",
   "metadata": {},
   "outputs": [
    {
     "data": {
      "text/plain": [
       "6"
      ]
     },
     "execution_count": 46,
     "metadata": {},
     "output_type": "execute_result"
    }
   ],
   "source": [
    "multiply(2,3)"
   ]
  },
  {
   "cell_type": "code",
   "execution_count": 49,
   "id": "2aab5c09",
   "metadata": {},
   "outputs": [],
   "source": [
    "# for variable no of arguments\n",
    "\n",
    "def multiply(*args):\n",
    "    product = 1\n",
    "\n",
    "    for i in args:\n",
    "        product*=i\n",
    "\n",
    "    return product"
   ]
  },
  {
   "cell_type": "code",
   "execution_count": 51,
   "id": "e10a97bb",
   "metadata": {},
   "outputs": [
    {
     "data": {
      "text/plain": [
       "144"
      ]
     },
     "execution_count": 51,
     "metadata": {},
     "output_type": "execute_result"
    }
   ],
   "source": [
    "multiply(2*3*4*2*3)"
   ]
  },
  {
   "cell_type": "markdown",
   "id": "a79b4d06",
   "metadata": {},
   "source": [
    "#### `kwargs`: allows us to pass any number of keyword arguments.\n",
    "Keyword arguments mean that they contain a key-value pair, like a pyton dictionary. "
   ]
  },
  {
   "cell_type": "code",
   "execution_count": 54,
   "id": "ce2af64a",
   "metadata": {},
   "outputs": [],
   "source": [
    "def display(**kwargs):\n",
    "    for (key,value) in kwargs.items():\n",
    "        print(key,'->',value)"
   ]
  },
  {
   "cell_type": "code",
   "execution_count": 57,
   "id": "109be624",
   "metadata": {},
   "outputs": [
    {
     "name": "stdout",
     "output_type": "stream",
     "text": [
      "india -> delhi\n",
      "srilanka -> colombo\n",
      "nepal -> kathmandu\n"
     ]
    }
   ],
   "source": [
    "display(india='delhi', srilanka = 'colombo', nepal = 'kathmandu')"
   ]
  },
  {
   "cell_type": "markdown",
   "id": "9d76bd35",
   "metadata": {},
   "source": [
    "The part india='delhi' is using a keyword argument, not a dictionary.\n",
    "\n",
    "- india, srilanka, and nepal are parameter names, not string keys.\n",
    "\n",
    "- Python automatically converts these names into string keys inside the kwargs dictionary."
   ]
  },
  {
   "cell_type": "markdown",
   "id": "a438cf20",
   "metadata": {},
   "source": [
    "#### Points to remember while using `*args` and `**kwargs`\n",
    "\n",
    "\n",
    "1. **Order of arguments matters**:   The correct order while defining a function is:  \n",
    "   `normal_argument` → `*args` → `**kwargs`\n",
    "\n",
    "   - **Normal arguments** must come first.\n",
    "   - Then comes `*args` for variable-length positional arguments.\n",
    "   - Finally, `**kwargs` for variable-length keyword arguments.\n",
    "\n",
    "2. `*args` and `**kwargs` are only conventions we can use any nam eof our choice"
   ]
  },
  {
   "cell_type": "markdown",
   "id": "4af7b131",
   "metadata": {},
   "source": []
  }
 ],
 "metadata": {
  "kernelspec": {
   "display_name": "Python 3",
   "language": "python",
   "name": "python3"
  },
  "language_info": {
   "codemirror_mode": {
    "name": "ipython",
    "version": 3
   },
   "file_extension": ".py",
   "mimetype": "text/x-python",
   "name": "python",
   "nbconvert_exporter": "python",
   "pygments_lexer": "ipython3",
   "version": "3.13.5"
  }
 },
 "nbformat": 4,
 "nbformat_minor": 5
}
