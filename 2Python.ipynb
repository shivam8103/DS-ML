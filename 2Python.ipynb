{
 "cells": [
  {
   "cell_type": "markdown",
   "id": "ea7daf94",
   "metadata": {},
   "source": [
    "# **Python Part 2 : Built-in Data Structures and Functions**\n"
   ]
  },
  {
   "cell_type": "markdown",
   "id": "3235f4db",
   "metadata": {},
   "source": [
    "# **Python List**\n",
    "- What are List\n",
    "- List vs Arrays\n",
    "- How List stored in Memory\n",
    "- Characteristics of a List\n",
    "- How to create a  List\n",
    "- Access items from a List\n",
    "- Editing items in a List\n",
    "- Deleting items from a List\n",
    "- Operations on Lists\n",
    "- Functions on Lists"
   ]
  },
  {
   "cell_type": "markdown",
   "id": "c852f78c",
   "metadata": {},
   "source": [
    "## 1. What are Lists?\n",
    "- List is a data type, where we can store multiple items under 1 name. More technically, lists act like a **dynamic arrays** which means we can add more items on the fly. \n",
    "\n",
    "```py\n",
    "L = [20, 'Jessa', 25.75, [30,60,90]]\n",
    "     🡅     🡅       🡅       🡅\n",
    "    L[0]   L[1]    L[2]     L[3] \n",
    "```\n",
    "\n",
    "## 2. List vs Array\n",
    "\n",
    "| **List**                                                                            | **Array**                                                                 |\n",
    "| ----------------------------------------------------------------------------------- | ------------------------------------------------------------------------- |\n",
    "| Lists are dynamic in nature; their size can be changed at runtime.                  | Arrays are static in nature; their size is fixed at the time of creation. |\n",
    "| Lists are heterogeneous, meaning they can contain elements of different data types. | Arrays are homogeneous; all elements must be of the same data type.       |\n",
    "| Execution speed is relatively slower.                                               | Execution speed is generally faster.                                      |\n",
    "| Lists consume more memory.                                                          | Arrays consume less memory.                                               |\n",
    "|Python have lists| Java, C++ have array|"
   ]
  },
  {
   "cell_type": "code",
   "execution_count": 4,
   "id": "e46669f9",
   "metadata": {},
   "outputs": [
    {
     "name": "stdout",
     "output_type": "stream",
     "text": [
      "(1, 2, 1.1)\n"
     ]
    },
    {
     "data": {
      "text/plain": [
       "False"
      ]
     },
     "execution_count": 4,
     "metadata": {},
     "output_type": "execute_result"
    }
   ],
   "source": [
    "arr = (1,2,1.1)\n",
    "print(arr)\n",
    "\n",
    "id(arr[0]) == id(arr[2])"
   ]
  },
  {
   "cell_type": "markdown",
   "id": "9e020e0f",
   "metadata": {},
   "source": [
    "## 3. How **Array** and **List** stored in Memory.\n",
    "\n",
    "```Java\n",
    "int arr[8] //Size = 8\n",
    "arr = {1,2,3,4} //Store 4 elements\n",
    "```\n",
    "<img src=\"img/ArrayMemory.png\" width=\"500\">\n",
    "\n"
   ]
  },
  {
   "cell_type": "code",
   "execution_count": 17,
   "id": "057b5485",
   "metadata": {},
   "outputs": [
    {
     "name": "stdout",
     "output_type": "stream",
     "text": [
      "2350109736640\n",
      "140715209737128\n",
      "140715209737160\n",
      "140715209737192\n",
      "140715209737128\n",
      "140715209737160\n",
      "140715209737192\n"
     ]
    }
   ],
   "source": [
    "list = [1,2,3]\n",
    "\n",
    "print(id(list))\n",
    "print(id(list[0]))\n",
    "print(id(list[1]))\n",
    "print(id(list[2]))\n",
    "print(id(1))\n",
    "print(id(2))\n",
    "print(id(3))"
   ]
  },
  {
   "cell_type": "markdown",
   "id": "6d0faf92",
   "metadata": {},
   "source": [
    "\n",
    "<img src=\"img/ListMemory1.png\" width=\"500\">"
   ]
  },
  {
   "cell_type": "markdown",
   "id": "1cfab0f7",
   "metadata": {},
   "source": [
    "> **Note:** - This is possible due to a **Refrential Array**, that store address of element instead of original array. (*pointer to the original element*) \n",
    "\n",
    "**Its Advantages**\n",
    "1. Supports heterogeneity: Elements of different data types can be stored in a single list.\n",
    "2. Memory efficiency: The same reference can be reused instead of reallocating memory for identical elements.\n",
    "3. Due to this, it takes extra space. Also it is slow compare to array."
   ]
  },
  {
   "cell_type": "code",
   "execution_count": 26,
   "id": "95625b3f",
   "metadata": {},
   "outputs": [
    {
     "name": "stdout",
     "output_type": "stream",
     "text": [
      "140715209737416\n",
      "140715209737736\n",
      "140715209737416\n",
      "2350115953216\n"
     ]
    }
   ],
   "source": [
    "li = [10,20,10]\n",
    "print(id(li[0]))\n",
    "print(id(li[1]))\n",
    "print(id(li[2]))\n",
    "print(id(li))"
   ]
  },
  {
   "cell_type": "markdown",
   "id": "0bffe8cd",
   "metadata": {},
   "source": [
    "<img src=\"img/ListMemory2.png\" width=\"500\">"
   ]
  },
  {
   "cell_type": "code",
   "execution_count": 23,
   "id": "d3433b6d",
   "metadata": {},
   "outputs": [
    {
     "name": "stdout",
     "output_type": "stream",
     "text": [
      "140715209737416\n",
      "140715209737416\n",
      "140715209737416\n",
      "2350116177536\n"
     ]
    }
   ],
   "source": [
    "# Lets change some value in list\n",
    "\n",
    "li[1] = 10   # [10,10,10]\n",
    "print(id(li[0]))\n",
    "print(id(li[1]))\n",
    "print(id(li[2]))\n",
    "print(id(li))"
   ]
  },
  {
   "cell_type": "markdown",
   "id": "13f5dd4f",
   "metadata": {},
   "source": [
    "<img src=\"img/ListMemory3.png\" width=\"500\">"
   ]
  },
  {
   "cell_type": "code",
   "execution_count": 20,
   "id": "cafedc78",
   "metadata": {},
   "outputs": [
    {
     "name": "stdout",
     "output_type": "stream",
     "text": [
      "140715209737416\n",
      "140715209801696\n",
      "140715209801696\n",
      "140715209800160\n",
      "2350116183744\n"
     ]
    }
   ],
   "source": [
    "li2 = [10,'a','a','A']\n",
    "print(id(li2[0]))\n",
    "print(id(li2[1]))\n",
    "print(id(li2[2]))\n",
    "print(id(li2[3]))\n",
    "print(id(li2))"
   ]
  },
  {
   "cell_type": "markdown",
   "id": "a1471ad7",
   "metadata": {},
   "source": [
    "<img src=\"img/ListMemory4.png\" width=\"500\">"
   ]
  },
  {
   "cell_type": "markdown",
   "id": "f23c12de",
   "metadata": {},
   "source": [
    "## 4. Characteristics of List\n",
    "- Ordered\n",
    "- Mutable\n",
    "- heterogeneous\n",
    "- Can have duplicates\n",
    "- Dynamic\n",
    "- Can be Nested\n",
    "- Items can be accessed\n",
    "- Can contain any kind of objects"
   ]
  },
  {
   "cell_type": "markdown",
   "id": "641b8078",
   "metadata": {},
   "source": []
  }
 ],
 "metadata": {
  "kernelspec": {
   "display_name": "Python 3",
   "language": "python",
   "name": "python3"
  },
  "language_info": {
   "codemirror_mode": {
    "name": "ipython",
    "version": 3
   },
   "file_extension": ".py",
   "mimetype": "text/x-python",
   "name": "python",
   "nbconvert_exporter": "python",
   "pygments_lexer": "ipython3",
   "version": "3.13.5"
  }
 },
 "nbformat": 4,
 "nbformat_minor": 5
}
